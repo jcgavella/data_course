{
 "cells": [
  {
   "cell_type": "markdown",
   "metadata": {
    "id": "5uPreti7Orl7"
   },
   "source": [
    "# Repaso Pyhton\n",
    "\n",
    "## Listas"
   ]
  },
  {
   "cell_type": "code",
   "execution_count": 1,
   "metadata": {
    "colab": {
     "base_uri": "https://localhost:8080/"
    },
    "executionInfo": {
     "elapsed": 82,
     "status": "ok",
     "timestamp": 1655980417747,
     "user": {
      "displayName": "Juan Carlos González-Avella",
      "userId": "02617303093978364603"
     },
     "user_tz": -120
    },
    "id": "q1EEF1dH-1ZP",
    "outputId": "bc9a4fe3-047e-4d20-f2c7-2b7b3ae3b33f"
   },
   "outputs": [
    {
     "name": "stdout",
     "output_type": "stream",
     "text": [
      "['Manuel', 'Ana']\n",
      "\n",
      "Juan\n",
      "Pedro\n",
      "Manuel\n",
      "Ana\n",
      "Rocio\n",
      "Andrea\n",
      "\n",
      "Juan\n",
      "Pedro\n",
      "Manuel\n",
      "Ana\n",
      "Rocio\n",
      "Andrea\n",
      "\n",
      "(0, 'Juan')\n",
      "(1, 'Pedro')\n",
      "(2, 'Manuel')\n",
      "(3, 'Ana')\n",
      "(4, 'Rocio')\n",
      "(5, 'Andrea')\n",
      "\n"
     ]
    },
    {
     "data": {
      "text/plain": [
       "(0, 'Juan')"
      ]
     },
     "execution_count": 1,
     "metadata": {},
     "output_type": "execute_result"
    }
   ],
   "source": [
    "#listas\n",
    "\n",
    "l = [\"Juan\",'Pedro', \"Manuel\",\"Ana\",\"Rocio\",\"Andrea\"]\n",
    "\n",
    "print(l[2:4])\n",
    "print()\n",
    "\n",
    "for i in iter(l):\n",
    "    print(i)\n",
    "print()\n",
    "\n",
    "for j in range(len(l)):\n",
    "    print(l[j])\n",
    "print()\n",
    "\n",
    "for x in enumerate(l):\n",
    "    print(x)\n",
    "\n",
    "\n",
    "print()\n",
    "r=[j for j in enumerate(l)]\n",
    "r[0]"
   ]
  },
  {
   "cell_type": "markdown",
   "metadata": {
    "id": "R1_hkBtbEqBd"
   },
   "source": [
    "## Listas de comprensión:\n",
    "\n",
    "La listas de comprensión, del inglés list comprehensions, es una funcionalidad que le permite crear listas avanzadas en una misma línea de código.\n",
    "\n",
    "La forma general de la definición de una lista por comprensión es:\n",
    "\n",
    "```\n",
    "[expresion for item in iterable]\n",
    "```\n",
    "Opcionalmente, se puede incluir un condicional en la expresión:\n",
    "\n",
    "```\n",
    "[expresion for item in iterable if condicion]\n",
    "```\n",
    "\n",
    "expresion puede ser cualquier expresión computable en Python, generalmente involucrando un item del iterable llamado iterable puede ser cualquier objeto iterable, como una secuencia (lista o cadena de caracteres), la función la función range(), etc.\n",
    "\n",
    "La salida siempre es un tipo de lista Python.\n",
    "\n",
    "**Ejemplo 01**\n",
    "\n",
    "Si requiere crear una lista de 4 elementos y cada elemento calcularle la potencia de 2, usando el método tradicional, eso seria así:\n"
   ]
  },
  {
   "cell_type": "code",
   "execution_count": 2,
   "metadata": {
    "colab": {
     "base_uri": "https://localhost:8080/"
    },
    "executionInfo": {
     "elapsed": 71,
     "status": "ok",
     "timestamp": 1655980417750,
     "user": {
      "displayName": "Juan Carlos González-Avella",
      "userId": "02617303093978364603"
     },
     "user_tz": -120
    },
    "id": "4Ig6XHBZEnLF",
    "outputId": "c60c728b-d299-4098-f6cd-8009e6e0c5b6"
   },
   "outputs": [
    {
     "name": "stdout",
     "output_type": "stream",
     "text": [
      "Tradicional\n",
      "[0, 1, 4, 9]\n",
      "\n",
      "Compresive list\n",
      "[0, 1, 4, 9]\n",
      "\n",
      "new lista\n",
      "[0.0, 0.5, 2.0, 4.5]\n"
     ]
    }
   ],
   "source": [
    "lista = []\n",
    "for i in range(4):\n",
    "    lista.append(i**2)\n",
    "\n",
    "print(\"Tradicional\")\n",
    "print(lista)\n",
    "#####################################\n",
    "\n",
    "\n",
    "print()\n",
    "print(\"Compresive list\")\n",
    "lista = [i**2 for i in range (4)]\n",
    "print(lista)\n",
    "print()\n",
    "\n",
    "########################################\n",
    "\n",
    "# A partir de otras listas..... \n",
    "\n",
    "new_lista = [i/2 for i in lista]\n",
    "print(\"new lista\")\n",
    "print(new_lista)"
   ]
  },
  {
   "cell_type": "markdown",
   "metadata": {
    "id": "74xNnkwfHp7I"
   },
   "source": [
    "**Ejemplo**\n",
    "\n",
    "A continuación se crear una lista con las potencias de 2 de los primeros 10 números"
   ]
  },
  {
   "cell_type": "code",
   "execution_count": 3,
   "metadata": {
    "colab": {
     "base_uri": "https://localhost:8080/"
    },
    "executionInfo": {
     "elapsed": 63,
     "status": "ok",
     "timestamp": 1655980417752,
     "user": {
      "displayName": "Juan Carlos González-Avella",
      "userId": "02617303093978364603"
     },
     "user_tz": -120
    },
    "id": "aUENH_Q7HsAY",
    "outputId": "43cf32ac-b817-4a19-d036-e9374fe074ac"
   },
   "outputs": [
    {
     "data": {
      "text/plain": [
       "[0, 1, 4, 9, 16, 25, 36, 49, 64, 81, 100]"
      ]
     },
     "execution_count": 3,
     "metadata": {},
     "output_type": "execute_result"
    }
   ],
   "source": [
    "potencia = [i**2 for i in range(0,11)]\n",
    "potencia"
   ]
  },
  {
   "cell_type": "markdown",
   "metadata": {
    "id": "dNtS97f_ICDQ"
   },
   "source": [
    "A continuación se crear una lista con los todos los múltiples de 2 de la lista potencia:"
   ]
  },
  {
   "cell_type": "code",
   "execution_count": 4,
   "metadata": {
    "colab": {
     "base_uri": "https://localhost:8080/"
    },
    "executionInfo": {
     "elapsed": 55,
     "status": "ok",
     "timestamp": 1655980417753,
     "user": {
      "displayName": "Juan Carlos González-Avella",
      "userId": "02617303093978364603"
     },
     "user_tz": -120
    },
    "id": "BX_GAwwpIL-R",
    "outputId": "ffd5f177-29a6-440a-8537-2fcee122d5be"
   },
   "outputs": [
    {
     "data": {
      "text/plain": [
       "[0, 4, 16, 36, 64, 100]"
      ]
     },
     "execution_count": 4,
     "metadata": {},
     "output_type": "execute_result"
    }
   ],
   "source": [
    "potencia_pares = [numero for numero in potencia if numero % 2 == 0 ]\n",
    "potencia_pares"
   ]
  },
  {
   "cell_type": "markdown",
   "metadata": {
    "id": "KMkpO8CdLGdK"
   },
   "source": [
    "Lo podemos hacer todo junto"
   ]
  },
  {
   "cell_type": "code",
   "execution_count": 5,
   "metadata": {
    "colab": {
     "base_uri": "https://localhost:8080/"
    },
    "executionInfo": {
     "elapsed": 39,
     "status": "ok",
     "timestamp": 1655980417755,
     "user": {
      "displayName": "Juan Carlos González-Avella",
      "userId": "02617303093978364603"
     },
     "user_tz": -120
    },
    "id": "dQpSk5qeLT6q",
    "outputId": "343651b2-117f-454d-c734-230282445db5"
   },
   "outputs": [
    {
     "data": {
      "text/plain": [
       "[0, 4, 16, 36, 64, 100]"
      ]
     },
     "execution_count": 5,
     "metadata": {},
     "output_type": "execute_result"
    }
   ],
   "source": [
    "L2 = [numero for numero in [numero**2 for numero in range(0,11) if numero %2 ==0]]\n",
    "\n",
    "L2"
   ]
  },
  {
   "cell_type": "code",
   "execution_count": 6,
   "metadata": {
    "colab": {
     "base_uri": "https://localhost:8080/"
    },
    "executionInfo": {
     "elapsed": 740,
     "status": "ok",
     "timestamp": 1655980418461,
     "user": {
      "displayName": "Juan Carlos González-Avella",
      "userId": "02617303093978364603"
     },
     "user_tz": -120
    },
    "id": "HNSHxawaJmMC",
    "outputId": "392be2e2-6c99-4f6c-941b-04d290d86004"
   },
   "outputs": [
    {
     "name": "stdout",
     "output_type": "stream",
     "text": [
      "\n",
      "(0, 'Juan')\n",
      "(1, 'Pedro')\n",
      "(2, 'Manuel')\n",
      "(3, 'Ana')\n",
      "(4, 'Rocio')\n",
      "(5, 'Andrea')\n",
      "\n"
     ]
    },
    {
     "data": {
      "text/plain": [
       "[(0, 'Juan'),\n",
       " (1, 'Pedro'),\n",
       " (2, 'Manuel'),\n",
       " (3, 'Ana'),\n",
       " (4, 'Rocio'),\n",
       " (5, 'Andrea')]"
      ]
     },
     "execution_count": 6,
     "metadata": {},
     "output_type": "execute_result"
    }
   ],
   "source": [
    "potencia_pares_2 = [numero/2 for numero in potencia if numero % 2 == 0 ]\n",
    "potencia_pares_2\n",
    "\n",
    "\n",
    "print()\n",
    "l = [\"Juan\",'Pedro', \"Manuel\",\"Ana\",\"Rocio\",\"Andrea\"]\n",
    "for j in enumerate(l):\n",
    "    print(j)\n",
    "\n",
    "\n",
    "print()\n",
    "\n",
    "r=[j for j in enumerate(l)]\n",
    "r"
   ]
  },
  {
   "cell_type": "markdown",
   "metadata": {
    "id": "Q7z12_dfPOIC"
   },
   "source": [
    "## Definición de Lambda\n",
    "\n",
    "En Python, una función Lambda se refiere a una pequeña función anónima. Las llamamos “funciones anónimas” porque técnicamente carecen de nombre.\n",
    "Al contrario que una función normal, no la definimos con la palabra clave estándar def que utilizamos en Python. En su lugar, las funciones Lambda se definen como una línea que ejecuta una sola expresión. Este tipo de funciones pueden tomar cualquier número de argumentos, pero solo pueden tener una expresión.\n",
    "\n",
    "Sintaxis básica\n",
    "\n",
    "Todas las funciones Lambda en Python tienen exactamente la misma sintaxis:\n",
    "\n",
    "```\n",
    "#Escribo p1 y p2 como parámetros 1 y 2 de la función.\n",
    "lambda p1, p2: expresión \n",
    "```\n",
    "\n",
    "Como mejor te lo puedo explicar es enseñándote un ejemplo básico, vamos a ver una función normal y un ejemplo de Lambda:"
   ]
  },
  {
   "cell_type": "code",
   "execution_count": 7,
   "metadata": {
    "colab": {
     "base_uri": "https://localhost:8080/"
    },
    "executionInfo": {
     "elapsed": 400,
     "status": "ok",
     "timestamp": 1655981287181,
     "user": {
      "displayName": "Juan Carlos González-Avella",
      "userId": "02617303093978364603"
     },
     "user_tz": -120
    },
    "id": "xl7zTsE8PcxA",
    "outputId": "44b2efa2-7d5f-4473-bfda-385051715985"
   },
   "outputs": [
    {
     "name": "stdout",
     "output_type": "stream",
     "text": [
      "función suma................. 4\n",
      "función suma lambda.......... 4\n"
     ]
    }
   ],
   "source": [
    "#Aquí tenemos una función creada para sumar.\n",
    "def suma(x,y):\n",
    "    return(x + y)\n",
    "\n",
    "#Aquí tenemos una función Lambda que también suma.\n",
    "lambda x,y : x + y\n",
    "\n",
    "#Para poder utilizarla necesitamos guardarla en una variable.\n",
    "suma_dos = lambda x,y : x + y\n",
    "\n",
    "\n",
    "print(\"función suma.................\",suma(2,2))\n",
    "print(\"función suma lambda..........\",suma_dos(2,2))\n",
    "\n"
   ]
  },
  {
   "cell_type": "markdown",
   "metadata": {
    "id": "2T5ZazJaQPIu"
   },
   "source": [
    "Al igual que ocurre en las list comprehensions, lo que hemos hecho es escribir el código en una sola línea y limpiar la sintaxis innecesaria.\n",
    "\n",
    "En lugar de usar def para definir nuestra función, hemos utilizado la palabra clave lambda; a continuación escribimos x, y como argumentos de la función, y x + y como expresión. Además, se omite la palabra clave return, condensando aún más la sintaxis.\n",
    "\n",
    "Por último, y aunque la definición es anónima, la almacenamos en la variable suma_dos para poder llamarla desde cualquier parte del código, de no ser así tan solo podríamos hacer uso de ella en la línea donde la definamos\n",
    "\n",
    "Otro ejemplos\n",
    "\n"
   ]
  },
  {
   "cell_type": "code",
   "execution_count": 8,
   "metadata": {
    "colab": {
     "base_uri": "https://localhost:8080/"
    },
    "executionInfo": {
     "elapsed": 7260,
     "status": "ok",
     "timestamp": 1655980425716,
     "user": {
      "displayName": "Juan Carlos González-Avella",
      "userId": "02617303093978364603"
     },
     "user_tz": -120
    },
    "id": "kFpcaIRwTjmV",
    "outputId": "bf583aa0-981e-4231-df0d-fa6511e8aa5a"
   },
   "outputs": [
    {
     "name": "stdin",
     "output_type": "stream",
     "text": [
      " 1011\n"
     ]
    },
    {
     "name": "stdout",
     "output_type": "stream",
     "text": [
      "es impar.... True\n"
     ]
    }
   ],
   "source": [
    "impar = lambda numero: numero%2 != 0\n",
    "num = input()\n",
    "print(\"es impar....\",impar(int(num)))"
   ]
  },
  {
   "cell_type": "markdown",
   "metadata": {
    "id": "Rul57q-AWR3u"
   },
   "source": [
    "## Lambda en listas con el método filter()\n",
    "\n",
    "La función filter() es capaz de devolver una nueva colección con los elementos filtrados que cumplan una condición.\n",
    "\n",
    "Podemos comprobar, por ejemplo, cuales son los números pares de una lista dada. Para ello le pasaremos una lista a una Lambda de la siguiente forma:"
   ]
  },
  {
   "cell_type": "code",
   "execution_count": 9,
   "metadata": {
    "colab": {
     "base_uri": "https://localhost:8080/"
    },
    "executionInfo": {
     "elapsed": 18,
     "status": "ok",
     "timestamp": 1655980425718,
     "user": {
      "displayName": "Juan Carlos González-Avella",
      "userId": "02617303093978364603"
     },
     "user_tz": -120
    },
    "id": "BeGySNDSWSMv",
    "outputId": "c9f1de13-7a2d-45d3-c644-297a4d756ecd"
   },
   "outputs": [
    {
     "name": "stdout",
     "output_type": "stream",
     "text": [
      "[38, 24, 42, 2, 12, 34, 92, 122, 1008, 26, 1203578]\n"
     ]
    }
   ],
   "source": [
    "#Tengo una lista con muchos números\n",
    "comprobar = [38,24,99,42,2,3,11,23,53,21,3,53,77,12,34,92,122,1008,26,1023,1203578]\n",
    "\n",
    "#Creo una variable y le aplico filter() y la lambda\n",
    "filt = filter(lambda x: x % 2 == 0, comprobar)\n",
    "\n",
    "#Creo una variable para convertir el resultado de 'filt' en una lista \n",
    "pares = list(filt)\n",
    "\n",
    "#Finalmente obtengo la lista con los resultados que han devuelto True al pasar el filtro\n",
    "print(pares)"
   ]
  },
  {
   "cell_type": "markdown",
   "metadata": {
    "id": "bZldujnV4Yi2"
   },
   "source": [
    "# Crear un Data Frame desde un Diccionario de Pandas"
   ]
  },
  {
   "cell_type": "code",
   "execution_count": 10,
   "metadata": {
    "colab": {
     "base_uri": "https://localhost:8080/",
     "height": 211
    },
    "executionInfo": {
     "elapsed": 1428,
     "status": "ok",
     "timestamp": 1655980427134,
     "user": {
      "displayName": "Juan Carlos González-Avella",
      "userId": "02617303093978364603"
     },
     "user_tz": -120
    },
    "id": "XzKHiWJ64Mhl",
    "outputId": "18d7f1fc-be90-45a8-a2c7-2b58f2e50031"
   },
   "outputs": [
    {
     "name": "stdout",
     "output_type": "stream",
     "text": [
      "{'Numero atómico': [1, 6, 47, 88], 'Masa atómica': [1.008, 12.011, 107.87, 226], 'Familia': ['No metal', 'No metal', 'Metal', 'Metal']}\n",
      "\n"
     ]
    },
    {
     "data": {
      "text/html": [
       "<div>\n",
       "<style scoped>\n",
       "    .dataframe tbody tr th:only-of-type {\n",
       "        vertical-align: middle;\n",
       "    }\n",
       "\n",
       "    .dataframe tbody tr th {\n",
       "        vertical-align: top;\n",
       "    }\n",
       "\n",
       "    .dataframe thead th {\n",
       "        text-align: right;\n",
       "    }\n",
       "</style>\n",
       "<table border=\"1\" class=\"dataframe\">\n",
       "  <thead>\n",
       "    <tr style=\"text-align: right;\">\n",
       "      <th></th>\n",
       "      <th>Numero atómico</th>\n",
       "      <th>Masa atómica</th>\n",
       "      <th>Familia</th>\n",
       "    </tr>\n",
       "  </thead>\n",
       "  <tbody>\n",
       "    <tr>\n",
       "      <th>0</th>\n",
       "      <td>1</td>\n",
       "      <td>1.008</td>\n",
       "      <td>No metal</td>\n",
       "    </tr>\n",
       "    <tr>\n",
       "      <th>1</th>\n",
       "      <td>6</td>\n",
       "      <td>12.011</td>\n",
       "      <td>No metal</td>\n",
       "    </tr>\n",
       "    <tr>\n",
       "      <th>2</th>\n",
       "      <td>47</td>\n",
       "      <td>107.870</td>\n",
       "      <td>Metal</td>\n",
       "    </tr>\n",
       "    <tr>\n",
       "      <th>3</th>\n",
       "      <td>88</td>\n",
       "      <td>226.000</td>\n",
       "      <td>Metal</td>\n",
       "    </tr>\n",
       "  </tbody>\n",
       "</table>\n",
       "</div>"
      ],
      "text/plain": [
       "   Numero atómico  Masa atómica   Familia\n",
       "0               1         1.008  No metal\n",
       "1               6        12.011  No metal\n",
       "2              47       107.870     Metal\n",
       "3              88       226.000     Metal"
      ]
     },
     "execution_count": 10,
     "metadata": {},
     "output_type": "execute_result"
    }
   ],
   "source": [
    "import pandas as pd\n",
    "import numpy as np\n",
    "\n",
    "# Creamos el Diccionario\n",
    "elementos = {\n",
    "    \"Numero atómico\" : [1, 6, 47, 88],\n",
    "    \"Masa atómica\"  : [1.008,12.011,107.87, 226],\n",
    "    \"Familia\"        : [\"No metal\",'No metal', \"Metal\",\"Metal\"]\n",
    "}\n",
    "print(elementos)\n",
    "print()\n",
    "# Creamos el Data Frame\n",
    "\n",
    "tabla_periodica = pd.DataFrame(elementos)\n",
    "tabla_periodica"
   ]
  },
  {
   "cell_type": "markdown",
   "metadata": {
    "id": "WIGHScP_-Au0"
   },
   "source": [
    "## También"
   ]
  },
  {
   "cell_type": "code",
   "execution_count": 11,
   "metadata": {
    "colab": {
     "base_uri": "https://localhost:8080/",
     "height": 175
    },
    "executionInfo": {
     "elapsed": 46,
     "status": "ok",
     "timestamp": 1655980427136,
     "user": {
      "displayName": "Juan Carlos González-Avella",
      "userId": "02617303093978364603"
     },
     "user_tz": -120
    },
    "id": "5jf6whmk9_mm",
    "outputId": "0e5ba442-dc61-4987-f6b5-5ffe531864d6"
   },
   "outputs": [
    {
     "data": {
      "text/html": [
       "<div>\n",
       "<style scoped>\n",
       "    .dataframe tbody tr th:only-of-type {\n",
       "        vertical-align: middle;\n",
       "    }\n",
       "\n",
       "    .dataframe tbody tr th {\n",
       "        vertical-align: top;\n",
       "    }\n",
       "\n",
       "    .dataframe thead th {\n",
       "        text-align: right;\n",
       "    }\n",
       "</style>\n",
       "<table border=\"1\" class=\"dataframe\">\n",
       "  <thead>\n",
       "    <tr style=\"text-align: right;\">\n",
       "      <th></th>\n",
       "      <th>Familia</th>\n",
       "      <th>Numero atómico</th>\n",
       "      <th>Masa atómica</th>\n",
       "    </tr>\n",
       "  </thead>\n",
       "  <tbody>\n",
       "    <tr>\n",
       "      <th>H</th>\n",
       "      <td>No metal</td>\n",
       "      <td>1</td>\n",
       "      <td>1.008</td>\n",
       "    </tr>\n",
       "    <tr>\n",
       "      <th>C</th>\n",
       "      <td>No metal</td>\n",
       "      <td>6</td>\n",
       "      <td>12.011</td>\n",
       "    </tr>\n",
       "    <tr>\n",
       "      <th>Ag</th>\n",
       "      <td>Metal</td>\n",
       "      <td>47</td>\n",
       "      <td>107.870</td>\n",
       "    </tr>\n",
       "    <tr>\n",
       "      <th>Ra</th>\n",
       "      <td>Metal</td>\n",
       "      <td>88</td>\n",
       "      <td>226.000</td>\n",
       "    </tr>\n",
       "  </tbody>\n",
       "</table>\n",
       "</div>"
      ],
      "text/plain": [
       "     Familia  Numero atómico  Masa atómica\n",
       "H   No metal               1         1.008\n",
       "C   No metal               6        12.011\n",
       "Ag     Metal              47       107.870\n",
       "Ra     Metal              88       226.000"
      ]
     },
     "execution_count": 11,
     "metadata": {},
     "output_type": "execute_result"
    }
   ],
   "source": [
    "tabla_periodica = pd.DataFrame(\n",
    "    elementos,\n",
    "    index = ['H','C','Ag','Ra'],\n",
    "    columns = ['Familia',\"Numero atómico\",\"Masa atómica\"]\n",
    ")\n",
    "\n",
    "tabla_periodica"
   ]
  },
  {
   "cell_type": "markdown",
   "metadata": {
    "id": "cKWajZMz_eLP"
   },
   "source": [
    "## Creación de un dataframe a partir de una lista de diccionarios"
   ]
  },
  {
   "cell_type": "code",
   "execution_count": 12,
   "metadata": {
    "colab": {
     "base_uri": "https://localhost:8080/",
     "height": 143
    },
    "executionInfo": {
     "elapsed": 694,
     "status": "ok",
     "timestamp": 1655980443807,
     "user": {
      "displayName": "Juan Carlos González-Avella",
      "userId": "02617303093978364603"
     },
     "user_tz": -120
    },
    "id": "XFNKtytf_c9x",
    "outputId": "163b35ff-6d6a-4da4-e002-48e2d8ed3e16"
   },
   "outputs": [
    {
     "data": {
      "text/html": [
       "<div>\n",
       "<style scoped>\n",
       "    .dataframe tbody tr th:only-of-type {\n",
       "        vertical-align: middle;\n",
       "    }\n",
       "\n",
       "    .dataframe tbody tr th {\n",
       "        vertical-align: top;\n",
       "    }\n",
       "\n",
       "    .dataframe thead th {\n",
       "        text-align: right;\n",
       "    }\n",
       "</style>\n",
       "<table border=\"1\" class=\"dataframe\">\n",
       "  <thead>\n",
       "    <tr style=\"text-align: right;\">\n",
       "      <th></th>\n",
       "      <th>Ag</th>\n",
       "      <th>Au</th>\n",
       "      <th>Cu</th>\n",
       "      <th>Pt</th>\n",
       "    </tr>\n",
       "  </thead>\n",
       "  <tbody>\n",
       "    <tr>\n",
       "      <th>2015</th>\n",
       "      <td>2</td>\n",
       "      <td>5</td>\n",
       "      <td>3</td>\n",
       "      <td>2</td>\n",
       "    </tr>\n",
       "    <tr>\n",
       "      <th>2016</th>\n",
       "      <td>4</td>\n",
       "      <td>6</td>\n",
       "      <td>7</td>\n",
       "      <td>2</td>\n",
       "    </tr>\n",
       "    <tr>\n",
       "      <th>2017</th>\n",
       "      <td>3</td>\n",
       "      <td>2</td>\n",
       "      <td>4</td>\n",
       "      <td>1</td>\n",
       "    </tr>\n",
       "  </tbody>\n",
       "</table>\n",
       "</div>"
      ],
      "text/plain": [
       "      Ag  Au  Cu  Pt\n",
       "2015   2   5   3   2\n",
       "2016   4   6   7   2\n",
       "2017   3   2   4   1"
      ]
     },
     "execution_count": 12,
     "metadata": {},
     "output_type": "execute_result"
    }
   ],
   "source": [
    "unidades_2015 = {\"Ag\":2, \"Au\":5, \"Cu\":3, \"Pt\":2}\n",
    "unidades_2016 = {\"Ag\":4, \"Au\":6, \"Cu\":7, \"Pt\":2}\n",
    "unidades_2017 = {\"Ag\":3, \"Au\":2, \"Cu\":4, \"Pt\":1}\n",
    "\n",
    "\n",
    "UNIDADES = [unidades_2015,unidades_2016,unidades_2017]\n",
    "INDICES   = [2015,2016,2017]\n",
    "\n",
    "unid = pd.DataFrame(UNIDADES,\n",
    "                        index=INDICES)\n",
    "\n",
    "unid\n"
   ]
  },
  {
   "cell_type": "markdown",
   "metadata": {
    "id": "qZzVOZ2QBD1t"
   },
   "source": [
    "Los diccionarios deberán compartir el mismo conjunto de claves que se interpretarán como etiquetas de columnas. Si las etiquetas no coinciden, se crearán todas las columnas pero se asignarán NaN a los valores desconocidos:"
   ]
  },
  {
   "cell_type": "code",
   "execution_count": 13,
   "metadata": {
    "colab": {
     "base_uri": "https://localhost:8080/",
     "height": 143
    },
    "executionInfo": {
     "elapsed": 19,
     "status": "ok",
     "timestamp": 1655980444184,
     "user": {
      "displayName": "Juan Carlos González-Avella",
      "userId": "02617303093978364603"
     },
     "user_tz": -120
    },
    "id": "OmRUrcOhBBf6",
    "outputId": "5fac9eea-6327-4adc-d2d2-1a9cee62166b"
   },
   "outputs": [
    {
     "data": {
      "text/html": [
       "<div>\n",
       "<style scoped>\n",
       "    .dataframe tbody tr th:only-of-type {\n",
       "        vertical-align: middle;\n",
       "    }\n",
       "\n",
       "    .dataframe tbody tr th {\n",
       "        vertical-align: top;\n",
       "    }\n",
       "\n",
       "    .dataframe thead th {\n",
       "        text-align: right;\n",
       "    }\n",
       "</style>\n",
       "<table border=\"1\" class=\"dataframe\">\n",
       "  <thead>\n",
       "    <tr style=\"text-align: right;\">\n",
       "      <th></th>\n",
       "      <th>Ag</th>\n",
       "      <th>Au</th>\n",
       "      <th>Cu</th>\n",
       "      <th>Pt</th>\n",
       "      <th>Pb</th>\n",
       "    </tr>\n",
       "  </thead>\n",
       "  <tbody>\n",
       "    <tr>\n",
       "      <th>2015</th>\n",
       "      <td>2</td>\n",
       "      <td>5.0</td>\n",
       "      <td>3</td>\n",
       "      <td>2</td>\n",
       "      <td>NaN</td>\n",
       "    </tr>\n",
       "    <tr>\n",
       "      <th>2016</th>\n",
       "      <td>4</td>\n",
       "      <td>6.0</td>\n",
       "      <td>7</td>\n",
       "      <td>2</td>\n",
       "      <td>NaN</td>\n",
       "    </tr>\n",
       "    <tr>\n",
       "      <th>2017</th>\n",
       "      <td>3</td>\n",
       "      <td>NaN</td>\n",
       "      <td>4</td>\n",
       "      <td>1</td>\n",
       "      <td>2.0</td>\n",
       "    </tr>\n",
       "  </tbody>\n",
       "</table>\n",
       "</div>"
      ],
      "text/plain": [
       "      Ag   Au  Cu  Pt   Pb\n",
       "2015   2  5.0   3   2  NaN\n",
       "2016   4  6.0   7   2  NaN\n",
       "2017   3  NaN   4   1  2.0"
      ]
     },
     "execution_count": 13,
     "metadata": {},
     "output_type": "execute_result"
    }
   ],
   "source": [
    "unidades_2015 = {\"Ag\":2, \"Au\":5, \"Cu\":3, \"Pt\":2}\n",
    "unidades_2016 = {\"Ag\":4, \"Au\":6, \"Cu\":7, \"Pt\":2}\n",
    "unidades_2017 = {\"Ag\":3, \"Pb\":2, \"Cu\":4, \"Pt\":1}\n",
    "\n",
    "UNIDADES = [unidades_2015,unidades_2016,unidades_2017]\n",
    "INDICES   = [2015,2016,2017]\n",
    "\n",
    "unid = pd.DataFrame(UNIDADES,\n",
    "                        index=INDICES)\n",
    "\n",
    "unid"
   ]
  },
  {
   "cell_type": "markdown",
   "metadata": {
    "id": "KrCfHIYbDG9X"
   },
   "source": [
    "## También: Convertir un diccionario básico en un DataFrame"
   ]
  },
  {
   "cell_type": "code",
   "execution_count": 14,
   "metadata": {
    "colab": {
     "base_uri": "https://localhost:8080/",
     "height": 363
    },
    "executionInfo": {
     "elapsed": 27,
     "status": "ok",
     "timestamp": 1655980427138,
     "user": {
      "displayName": "Juan Carlos González-Avella",
      "userId": "02617303093978364603"
     },
     "user_tz": -120
    },
    "id": "HbOYSxdwDNUC",
    "outputId": "13b7887a-94e1-4848-a1f0-7bb09e3f181e"
   },
   "outputs": [
    {
     "data": {
      "text/html": [
       "<div>\n",
       "<style scoped>\n",
       "    .dataframe tbody tr th:only-of-type {\n",
       "        vertical-align: middle;\n",
       "    }\n",
       "\n",
       "    .dataframe tbody tr th {\n",
       "        vertical-align: top;\n",
       "    }\n",
       "\n",
       "    .dataframe thead th {\n",
       "        text-align: right;\n",
       "    }\n",
       "</style>\n",
       "<table border=\"1\" class=\"dataframe\">\n",
       "  <thead>\n",
       "    <tr style=\"text-align: right;\">\n",
       "      <th></th>\n",
       "      <th>Name</th>\n",
       "      <th>Amount</th>\n",
       "    </tr>\n",
       "  </thead>\n",
       "  <tbody>\n",
       "    <tr>\n",
       "      <th>0</th>\n",
       "      <td>Waldon Astling</td>\n",
       "      <td>1.83</td>\n",
       "    </tr>\n",
       "    <tr>\n",
       "      <th>1</th>\n",
       "      <td>Catherine MacTerlagh</td>\n",
       "      <td>0.15</td>\n",
       "    </tr>\n",
       "    <tr>\n",
       "      <th>2</th>\n",
       "      <td>Gusty Wondraschek</td>\n",
       "      <td>9.19</td>\n",
       "    </tr>\n",
       "    <tr>\n",
       "      <th>3</th>\n",
       "      <td>Lois Vaan</td>\n",
       "      <td>1.28</td>\n",
       "    </tr>\n",
       "    <tr>\n",
       "      <th>4</th>\n",
       "      <td>Baird Eberts</td>\n",
       "      <td>0.82</td>\n",
       "    </tr>\n",
       "    <tr>\n",
       "      <th>5</th>\n",
       "      <td>Amalia Flieg</td>\n",
       "      <td>2.88</td>\n",
       "    </tr>\n",
       "    <tr>\n",
       "      <th>6</th>\n",
       "      <td>Leontine Wildbore</td>\n",
       "      <td>9.44</td>\n",
       "    </tr>\n",
       "    <tr>\n",
       "      <th>7</th>\n",
       "      <td>Rikki Chasteney</td>\n",
       "      <td>7.01</td>\n",
       "    </tr>\n",
       "    <tr>\n",
       "      <th>8</th>\n",
       "      <td>Augustine Papierz</td>\n",
       "      <td>0.22</td>\n",
       "    </tr>\n",
       "    <tr>\n",
       "      <th>9</th>\n",
       "      <td>Maynord Lawrance</td>\n",
       "      <td>0.33</td>\n",
       "    </tr>\n",
       "  </tbody>\n",
       "</table>\n",
       "</div>"
      ],
      "text/plain": [
       "                   Name  Amount\n",
       "0        Waldon Astling    1.83\n",
       "1  Catherine MacTerlagh    0.15\n",
       "2     Gusty Wondraschek    9.19\n",
       "3             Lois Vaan    1.28\n",
       "4          Baird Eberts    0.82\n",
       "5          Amalia Flieg    2.88\n",
       "6     Leontine Wildbore    9.44\n",
       "7       Rikki Chasteney    7.01\n",
       "8     Augustine Papierz    0.22\n",
       "9      Maynord Lawrance    0.33"
      ]
     },
     "execution_count": 14,
     "metadata": {},
     "output_type": "execute_result"
    }
   ],
   "source": [
    "clients = {\n",
    "    \"Waldon Astling\": 1.83,\n",
    "    \"Catherine MacTerlagh\": 0.15,\n",
    "    \"Gusty Wondraschek\": 9.19,\n",
    "    \"Lois Vaan\": 1.28,\n",
    "    \"Baird Eberts\": 0.82,\n",
    "    \"Amalia Flieg\": 2.88,\n",
    "    \"Leontine Wildbore\": 9.44,\n",
    "    \"Rikki Chasteney\": 7.01,\n",
    "    \"Augustine Papierz\": 0.22,\n",
    "    \"Maynord Lawrance\": 0.33\n",
    "}\n",
    "\n",
    "tabla_lista = [ [key, clients[key]] for key in clients.keys()]\n",
    "\n",
    "\n",
    "df = pd.DataFrame(tabla_lista, columns=['Name', 'Amount'])\n",
    "#df=df.set_index([\"Name\"])\n",
    "\n",
    "df"
   ]
  },
  {
   "cell_type": "code",
   "execution_count": 15,
   "metadata": {
    "colab": {
     "base_uri": "https://localhost:8080/"
    },
    "executionInfo": {
     "elapsed": 25,
     "status": "ok",
     "timestamp": 1655980427139,
     "user": {
      "displayName": "Juan Carlos González-Avella",
      "userId": "02617303093978364603"
     },
     "user_tz": -120
    },
    "id": "Wtg29Ac5KPLE",
    "outputId": "16b9fbb3-98f9-4f4a-9819-cf9ba155b0ce"
   },
   "outputs": [
    {
     "data": {
      "text/plain": [
       "[['Waldon Astling', 1.83],\n",
       " ['Catherine MacTerlagh', 0.15],\n",
       " ['Gusty Wondraschek', 9.19],\n",
       " ['Lois Vaan', 1.28],\n",
       " ['Baird Eberts', 0.82],\n",
       " ['Amalia Flieg', 2.88],\n",
       " ['Leontine Wildbore', 9.44],\n",
       " ['Rikki Chasteney', 7.01],\n",
       " ['Augustine Papierz', 0.22],\n",
       " ['Maynord Lawrance', 0.33]]"
      ]
     },
     "execution_count": 15,
     "metadata": {},
     "output_type": "execute_result"
    }
   ],
   "source": [
    "[ [key, clients[key]] for key in clients.keys()]"
   ]
  },
  {
   "cell_type": "code",
   "execution_count": 16,
   "metadata": {
    "colab": {
     "base_uri": "https://localhost:8080/"
    },
    "executionInfo": {
     "elapsed": 571,
     "status": "ok",
     "timestamp": 1655980427689,
     "user": {
      "displayName": "Juan Carlos González-Avella",
      "userId": "02617303093978364603"
     },
     "user_tz": -120
    },
    "id": "ylQqjvF_Km9T",
    "outputId": "2f6cc838-13d4-44c1-dd38-e31d077e7518"
   },
   "outputs": [
    {
     "name": "stdout",
     "output_type": "stream",
     "text": [
      "dict_keys(['Waldon Astling', 'Catherine MacTerlagh', 'Gusty Wondraschek', 'Lois Vaan', 'Baird Eberts', 'Amalia Flieg', 'Leontine Wildbore', 'Rikki Chasteney', 'Augustine Papierz', 'Maynord Lawrance'])\n",
      "dict_values([1.83, 0.15, 9.19, 1.28, 0.82, 2.88, 9.44, 7.01, 0.22, 0.33])\n",
      "1.83\n",
      "\n",
      "Waldon Astling 1.83\n",
      "Catherine MacTerlagh 0.15\n",
      "Gusty Wondraschek 9.19\n",
      "Lois Vaan 1.28\n",
      "Baird Eberts 0.82\n",
      "Amalia Flieg 2.88\n",
      "Leontine Wildbore 9.44\n",
      "Rikki Chasteney 7.01\n",
      "Augustine Papierz 0.22\n",
      "Maynord Lawrance 0.33\n"
     ]
    }
   ],
   "source": [
    "print(clients.keys())\n",
    "print(clients.values())\n",
    "print(clients['Waldon Astling'])\n",
    "print()\n",
    "\n",
    "for key in clients.keys():\n",
    "    print(key,clients[key])"
   ]
  },
  {
   "cell_type": "markdown",
   "metadata": {
    "id": "0S2XkG_rD4BA"
   },
   "source": [
    "## Convertir un diccionario cuyo valor es otro diccionario.\n",
    "\n",
    "Ahora se puede aumentar la apuesta, el valor del diccionario es otro diccionario. Por ejemplo, convertir el siguiente diccionario."
   ]
  },
  {
   "cell_type": "code",
   "execution_count": 17,
   "metadata": {
    "executionInfo": {
     "elapsed": 27,
     "status": "ok",
     "timestamp": 1655980427690,
     "user": {
      "displayName": "Juan Carlos González-Avella",
      "userId": "02617303093978364603"
     },
     "user_tz": -120
    },
    "id": "X_LXm2RcD8Jp"
   },
   "outputs": [],
   "source": [
    "clients = {\n",
    "    \"Waldon Astling\": {\n",
    "        \"id\": 1,\n",
    "        \"email\": \"wastling0@dailymail.co.uk\",\n",
    "        \"gender\": \"Male\",\n",
    "        \"ip_address\": \"188.125.74.119\",\n",
    "        \"money\": 1.83\n",
    "    },\n",
    "    \"Catherine MacTerlagh\": {\n",
    "        \"id\": 2,\n",
    "        \"email\": \"cmacterlagh1@wired.com\",\n",
    "        \"gender\": \"Female\",\n",
    "        \"ip_address\": \"142.102.151.95\",\n",
    "        \"money\": 0.15\n",
    "    },\n",
    "    \"Gusty Wondraschek\": {\n",
    "        \"id\": 3,\n",
    "        \"email\": \"gwondraschek2@posterous.com\",\n",
    "        \"gender\": \"Female\",\n",
    "        \"ip_address\": \"25.253.221.98\",\n",
    "        \"money\": 9.19\n",
    "    },\n",
    "    \"Lois Vaan\": {\n",
    "        \"id\": 4,\n",
    "        \"email\": \"lvaan3@imdb.com\",\n",
    "        \"gender\": \"Female\",\n",
    "        \"ip_address\": \"1.196.39.50\",\n",
    "        \"money\": 1.28\n",
    "    },\n",
    "    \"Baird Eberts\": {\n",
    "        \"id\": 5,\n",
    "        \"email\": \"beberts4@irs.gov\",\n",
    "        \"gender\": \"Male\",\n",
    "        \"ip_address\": \"88.230.140.148\",\n",
    "        \"money\": 0.82\n",
    "    },\n",
    "    \"Amalia Flieg\": {\n",
    "        \"id\": 6,\n",
    "        \"email\": \"aflieg5@mapy.cz\",\n",
    "        \"gender\": \"Female\",\n",
    "        \"ip_address\": \"203.219.142.196\",\n",
    "        \"money\": 2.88\n",
    "    },\n",
    "    \"Leontine Wildbore\": {\n",
    "        \"id\": 7,\n",
    "        \"email\": \"lwildbore6@nps.gov\",\n",
    "        \"gender\": \"Female\",\n",
    "        \"ip_address\": \"255.74.26.131\",\n",
    "        \"money\": 9.44\n",
    "    },\n",
    "    \"Rikki Chasteney\": {\n",
    "        \"id\": 8,\n",
    "        \"email\": \"rchasteney7@diigo.com\",\n",
    "        \"gender\": \"Female\",\n",
    "        \"ip_address\": \"90.29.53.76\",\n",
    "        \"money\": 7.01\n",
    "    },\n",
    "    \"Augustine Papierz\": {\n",
    "        \"id\": 9,\n",
    "        \"email\": \"apapierz8@people.com.cn\",\n",
    "        \"gender\": \"Female\",\n",
    "        \"ip_address\": \"43.165.166.247\",\n",
    "        \"money\": 0.22\n",
    "    },\n",
    "    \"Maynord Lawrance\": {\n",
    "        \"id\": 10,\n",
    "        \"email\": \"mlawrance9@redcross.org\",\n",
    "        \"gender\": \"Male\",\n",
    "        \"ip_address\": \"174.230.82.205\",\n",
    "        \"money\": 0.33\n",
    "    }\n",
    "}"
   ]
  },
  {
   "cell_type": "code",
   "execution_count": 18,
   "metadata": {
    "colab": {
     "base_uri": "https://localhost:8080/",
     "height": 363
    },
    "executionInfo": {
     "elapsed": 26,
     "status": "ok",
     "timestamp": 1655980427691,
     "user": {
      "displayName": "Juan Carlos González-Avella",
      "userId": "02617303093978364603"
     },
     "user_tz": -120
    },
    "id": "KGFxvDkYEJ40",
    "outputId": "057f411b-b66b-4897-ca22-785d37d8fa00"
   },
   "outputs": [
    {
     "data": {
      "text/html": [
       "<div>\n",
       "<style scoped>\n",
       "    .dataframe tbody tr th:only-of-type {\n",
       "        vertical-align: middle;\n",
       "    }\n",
       "\n",
       "    .dataframe tbody tr th {\n",
       "        vertical-align: top;\n",
       "    }\n",
       "\n",
       "    .dataframe thead th {\n",
       "        text-align: right;\n",
       "    }\n",
       "</style>\n",
       "<table border=\"1\" class=\"dataframe\">\n",
       "  <thead>\n",
       "    <tr style=\"text-align: right;\">\n",
       "      <th></th>\n",
       "      <th>Name</th>\n",
       "      <th>id</th>\n",
       "      <th>email</th>\n",
       "      <th>gender</th>\n",
       "      <th>ip_address</th>\n",
       "      <th>money</th>\n",
       "    </tr>\n",
       "  </thead>\n",
       "  <tbody>\n",
       "    <tr>\n",
       "      <th>0</th>\n",
       "      <td>Waldon Astling</td>\n",
       "      <td>1</td>\n",
       "      <td>wastling0@dailymail.co.uk</td>\n",
       "      <td>Male</td>\n",
       "      <td>188.125.74.119</td>\n",
       "      <td>1.83</td>\n",
       "    </tr>\n",
       "    <tr>\n",
       "      <th>1</th>\n",
       "      <td>Catherine MacTerlagh</td>\n",
       "      <td>2</td>\n",
       "      <td>cmacterlagh1@wired.com</td>\n",
       "      <td>Female</td>\n",
       "      <td>142.102.151.95</td>\n",
       "      <td>0.15</td>\n",
       "    </tr>\n",
       "    <tr>\n",
       "      <th>2</th>\n",
       "      <td>Gusty Wondraschek</td>\n",
       "      <td>3</td>\n",
       "      <td>gwondraschek2@posterous.com</td>\n",
       "      <td>Female</td>\n",
       "      <td>25.253.221.98</td>\n",
       "      <td>9.19</td>\n",
       "    </tr>\n",
       "    <tr>\n",
       "      <th>3</th>\n",
       "      <td>Lois Vaan</td>\n",
       "      <td>4</td>\n",
       "      <td>lvaan3@imdb.com</td>\n",
       "      <td>Female</td>\n",
       "      <td>1.196.39.50</td>\n",
       "      <td>1.28</td>\n",
       "    </tr>\n",
       "    <tr>\n",
       "      <th>4</th>\n",
       "      <td>Baird Eberts</td>\n",
       "      <td>5</td>\n",
       "      <td>beberts4@irs.gov</td>\n",
       "      <td>Male</td>\n",
       "      <td>88.230.140.148</td>\n",
       "      <td>0.82</td>\n",
       "    </tr>\n",
       "    <tr>\n",
       "      <th>5</th>\n",
       "      <td>Amalia Flieg</td>\n",
       "      <td>6</td>\n",
       "      <td>aflieg5@mapy.cz</td>\n",
       "      <td>Female</td>\n",
       "      <td>203.219.142.196</td>\n",
       "      <td>2.88</td>\n",
       "    </tr>\n",
       "    <tr>\n",
       "      <th>6</th>\n",
       "      <td>Leontine Wildbore</td>\n",
       "      <td>7</td>\n",
       "      <td>lwildbore6@nps.gov</td>\n",
       "      <td>Female</td>\n",
       "      <td>255.74.26.131</td>\n",
       "      <td>9.44</td>\n",
       "    </tr>\n",
       "    <tr>\n",
       "      <th>7</th>\n",
       "      <td>Rikki Chasteney</td>\n",
       "      <td>8</td>\n",
       "      <td>rchasteney7@diigo.com</td>\n",
       "      <td>Female</td>\n",
       "      <td>90.29.53.76</td>\n",
       "      <td>7.01</td>\n",
       "    </tr>\n",
       "    <tr>\n",
       "      <th>8</th>\n",
       "      <td>Augustine Papierz</td>\n",
       "      <td>9</td>\n",
       "      <td>apapierz8@people.com.cn</td>\n",
       "      <td>Female</td>\n",
       "      <td>43.165.166.247</td>\n",
       "      <td>0.22</td>\n",
       "    </tr>\n",
       "    <tr>\n",
       "      <th>9</th>\n",
       "      <td>Maynord Lawrance</td>\n",
       "      <td>10</td>\n",
       "      <td>mlawrance9@redcross.org</td>\n",
       "      <td>Male</td>\n",
       "      <td>174.230.82.205</td>\n",
       "      <td>0.33</td>\n",
       "    </tr>\n",
       "  </tbody>\n",
       "</table>\n",
       "</div>"
      ],
      "text/plain": [
       "                   Name  id                        email  gender  \\\n",
       "0        Waldon Astling   1    wastling0@dailymail.co.uk    Male   \n",
       "1  Catherine MacTerlagh   2       cmacterlagh1@wired.com  Female   \n",
       "2     Gusty Wondraschek   3  gwondraschek2@posterous.com  Female   \n",
       "3             Lois Vaan   4              lvaan3@imdb.com  Female   \n",
       "4          Baird Eberts   5             beberts4@irs.gov    Male   \n",
       "5          Amalia Flieg   6              aflieg5@mapy.cz  Female   \n",
       "6     Leontine Wildbore   7           lwildbore6@nps.gov  Female   \n",
       "7       Rikki Chasteney   8        rchasteney7@diigo.com  Female   \n",
       "8     Augustine Papierz   9      apapierz8@people.com.cn  Female   \n",
       "9      Maynord Lawrance  10      mlawrance9@redcross.org    Male   \n",
       "\n",
       "        ip_address  money  \n",
       "0   188.125.74.119   1.83  \n",
       "1   142.102.151.95   0.15  \n",
       "2    25.253.221.98   9.19  \n",
       "3      1.196.39.50   1.28  \n",
       "4   88.230.140.148   0.82  \n",
       "5  203.219.142.196   2.88  \n",
       "6    255.74.26.131   9.44  \n",
       "7      90.29.53.76   7.01  \n",
       "8   43.165.166.247   0.22  \n",
       "9   174.230.82.205   0.33  "
      ]
     },
     "execution_count": 18,
     "metadata": {},
     "output_type": "execute_result"
    }
   ],
   "source": [
    "df = pd.DataFrame([key for key in clients.keys()], columns=['Name'])\n",
    "\n",
    "df['id']         = [value['id'] for value in clients.values()]\n",
    "df['email']      = [value['email'] for value in clients.values()]\n",
    "df['gender']     = [value['gender'] for value in clients.values()]\n",
    "df['ip_address'] = [value['ip_address'] for value in clients.values()]\n",
    "df['money']      = [value['money'] for value in clients.values()]\n",
    "df"
   ]
  },
  {
   "cell_type": "code",
   "execution_count": 19,
   "metadata": {
    "colab": {
     "base_uri": "https://localhost:8080/"
    },
    "executionInfo": {
     "elapsed": 23,
     "status": "ok",
     "timestamp": 1655980427691,
     "user": {
      "displayName": "Juan Carlos González-Avella",
      "userId": "02617303093978364603"
     },
     "user_tz": -120
    },
    "id": "bxxOOH7NFK0O",
    "outputId": "381219bb-d8fc-4132-ebe3-44c828bb147f"
   },
   "outputs": [
    {
     "data": {
      "text/plain": [
       "[1, 2, 3, 4, 5, 6, 7, 8, 9, 10]"
      ]
     },
     "execution_count": 19,
     "metadata": {},
     "output_type": "execute_result"
    }
   ],
   "source": [
    "[value['id'] for value in clients.values()]"
   ]
  },
  {
   "cell_type": "code",
   "execution_count": 20,
   "metadata": {
    "colab": {
     "base_uri": "https://localhost:8080/"
    },
    "executionInfo": {
     "elapsed": 22,
     "status": "ok",
     "timestamp": 1655980427692,
     "user": {
      "displayName": "Juan Carlos González-Avella",
      "userId": "02617303093978364603"
     },
     "user_tz": -120
    },
    "id": "fJoSpb9zF0L4",
    "outputId": "943417d2-3827-437a-8fcf-26ec0525295c"
   },
   "outputs": [
    {
     "name": "stdout",
     "output_type": "stream",
     "text": [
      "dict_keys(['Waldon Astling', 'Catherine MacTerlagh', 'Gusty Wondraschek', 'Lois Vaan', 'Baird Eberts', 'Amalia Flieg', 'Leontine Wildbore', 'Rikki Chasteney', 'Augustine Papierz', 'Maynord Lawrance'])\n",
      "\n",
      "dict_values([{'id': 1, 'email': 'wastling0@dailymail.co.uk', 'gender': 'Male', 'ip_address': '188.125.74.119', 'money': 1.83}, {'id': 2, 'email': 'cmacterlagh1@wired.com', 'gender': 'Female', 'ip_address': '142.102.151.95', 'money': 0.15}, {'id': 3, 'email': 'gwondraschek2@posterous.com', 'gender': 'Female', 'ip_address': '25.253.221.98', 'money': 9.19}, {'id': 4, 'email': 'lvaan3@imdb.com', 'gender': 'Female', 'ip_address': '1.196.39.50', 'money': 1.28}, {'id': 5, 'email': 'beberts4@irs.gov', 'gender': 'Male', 'ip_address': '88.230.140.148', 'money': 0.82}, {'id': 6, 'email': 'aflieg5@mapy.cz', 'gender': 'Female', 'ip_address': '203.219.142.196', 'money': 2.88}, {'id': 7, 'email': 'lwildbore6@nps.gov', 'gender': 'Female', 'ip_address': '255.74.26.131', 'money': 9.44}, {'id': 8, 'email': 'rchasteney7@diigo.com', 'gender': 'Female', 'ip_address': '90.29.53.76', 'money': 7.01}, {'id': 9, 'email': 'apapierz8@people.com.cn', 'gender': 'Female', 'ip_address': '43.165.166.247', 'money': 0.22}, {'id': 10, 'email': 'mlawrance9@redcross.org', 'gender': 'Male', 'ip_address': '174.230.82.205', 'money': 0.33}])\n",
      "\n",
      "1\n",
      "2\n",
      "3\n",
      "4\n",
      "5\n",
      "6\n",
      "7\n",
      "8\n",
      "9\n",
      "10\n"
     ]
    }
   ],
   "source": [
    "print(clients.keys())\n",
    "print()\n",
    "print(clients.values())\n",
    "print()\n",
    "for values in clients.values():\n",
    "    print(values['id'])"
   ]
  },
  {
   "cell_type": "markdown",
   "metadata": {
    "id": "iLVJGpcNsAU0"
   },
   "source": [
    "# Reindex"
   ]
  },
  {
   "cell_type": "code",
   "execution_count": 21,
   "metadata": {
    "colab": {
     "base_uri": "https://localhost:8080/",
     "height": 394
    },
    "executionInfo": {
     "elapsed": 20,
     "status": "ok",
     "timestamp": 1655980427693,
     "user": {
      "displayName": "Juan Carlos González-Avella",
      "userId": "02617303093978364603"
     },
     "user_tz": -120
    },
    "id": "TARphZ4Rr_Rg",
    "outputId": "d6f7ad72-fd49-4cba-cca6-1325a935fa25"
   },
   "outputs": [
    {
     "data": {
      "text/html": [
       "<div>\n",
       "<style scoped>\n",
       "    .dataframe tbody tr th:only-of-type {\n",
       "        vertical-align: middle;\n",
       "    }\n",
       "\n",
       "    .dataframe tbody tr th {\n",
       "        vertical-align: top;\n",
       "    }\n",
       "\n",
       "    .dataframe thead th {\n",
       "        text-align: right;\n",
       "    }\n",
       "</style>\n",
       "<table border=\"1\" class=\"dataframe\">\n",
       "  <thead>\n",
       "    <tr style=\"text-align: right;\">\n",
       "      <th></th>\n",
       "      <th>id</th>\n",
       "      <th>email</th>\n",
       "      <th>gender</th>\n",
       "      <th>ip_address</th>\n",
       "      <th>money</th>\n",
       "    </tr>\n",
       "    <tr>\n",
       "      <th>Name</th>\n",
       "      <th></th>\n",
       "      <th></th>\n",
       "      <th></th>\n",
       "      <th></th>\n",
       "      <th></th>\n",
       "    </tr>\n",
       "  </thead>\n",
       "  <tbody>\n",
       "    <tr>\n",
       "      <th>Waldon Astling</th>\n",
       "      <td>1</td>\n",
       "      <td>wastling0@dailymail.co.uk</td>\n",
       "      <td>Male</td>\n",
       "      <td>188.125.74.119</td>\n",
       "      <td>1.83</td>\n",
       "    </tr>\n",
       "    <tr>\n",
       "      <th>Catherine MacTerlagh</th>\n",
       "      <td>2</td>\n",
       "      <td>cmacterlagh1@wired.com</td>\n",
       "      <td>Female</td>\n",
       "      <td>142.102.151.95</td>\n",
       "      <td>0.15</td>\n",
       "    </tr>\n",
       "    <tr>\n",
       "      <th>Gusty Wondraschek</th>\n",
       "      <td>3</td>\n",
       "      <td>gwondraschek2@posterous.com</td>\n",
       "      <td>Female</td>\n",
       "      <td>25.253.221.98</td>\n",
       "      <td>9.19</td>\n",
       "    </tr>\n",
       "    <tr>\n",
       "      <th>Lois Vaan</th>\n",
       "      <td>4</td>\n",
       "      <td>lvaan3@imdb.com</td>\n",
       "      <td>Female</td>\n",
       "      <td>1.196.39.50</td>\n",
       "      <td>1.28</td>\n",
       "    </tr>\n",
       "    <tr>\n",
       "      <th>Baird Eberts</th>\n",
       "      <td>5</td>\n",
       "      <td>beberts4@irs.gov</td>\n",
       "      <td>Male</td>\n",
       "      <td>88.230.140.148</td>\n",
       "      <td>0.82</td>\n",
       "    </tr>\n",
       "    <tr>\n",
       "      <th>Amalia Flieg</th>\n",
       "      <td>6</td>\n",
       "      <td>aflieg5@mapy.cz</td>\n",
       "      <td>Female</td>\n",
       "      <td>203.219.142.196</td>\n",
       "      <td>2.88</td>\n",
       "    </tr>\n",
       "    <tr>\n",
       "      <th>Leontine Wildbore</th>\n",
       "      <td>7</td>\n",
       "      <td>lwildbore6@nps.gov</td>\n",
       "      <td>Female</td>\n",
       "      <td>255.74.26.131</td>\n",
       "      <td>9.44</td>\n",
       "    </tr>\n",
       "    <tr>\n",
       "      <th>Rikki Chasteney</th>\n",
       "      <td>8</td>\n",
       "      <td>rchasteney7@diigo.com</td>\n",
       "      <td>Female</td>\n",
       "      <td>90.29.53.76</td>\n",
       "      <td>7.01</td>\n",
       "    </tr>\n",
       "    <tr>\n",
       "      <th>Augustine Papierz</th>\n",
       "      <td>9</td>\n",
       "      <td>apapierz8@people.com.cn</td>\n",
       "      <td>Female</td>\n",
       "      <td>43.165.166.247</td>\n",
       "      <td>0.22</td>\n",
       "    </tr>\n",
       "    <tr>\n",
       "      <th>Maynord Lawrance</th>\n",
       "      <td>10</td>\n",
       "      <td>mlawrance9@redcross.org</td>\n",
       "      <td>Male</td>\n",
       "      <td>174.230.82.205</td>\n",
       "      <td>0.33</td>\n",
       "    </tr>\n",
       "  </tbody>\n",
       "</table>\n",
       "</div>"
      ],
      "text/plain": [
       "                      id                        email  gender  \\\n",
       "Name                                                            \n",
       "Waldon Astling         1    wastling0@dailymail.co.uk    Male   \n",
       "Catherine MacTerlagh   2       cmacterlagh1@wired.com  Female   \n",
       "Gusty Wondraschek      3  gwondraschek2@posterous.com  Female   \n",
       "Lois Vaan              4              lvaan3@imdb.com  Female   \n",
       "Baird Eberts           5             beberts4@irs.gov    Male   \n",
       "Amalia Flieg           6              aflieg5@mapy.cz  Female   \n",
       "Leontine Wildbore      7           lwildbore6@nps.gov  Female   \n",
       "Rikki Chasteney        8        rchasteney7@diigo.com  Female   \n",
       "Augustine Papierz      9      apapierz8@people.com.cn  Female   \n",
       "Maynord Lawrance      10      mlawrance9@redcross.org    Male   \n",
       "\n",
       "                           ip_address  money  \n",
       "Name                                          \n",
       "Waldon Astling         188.125.74.119   1.83  \n",
       "Catherine MacTerlagh   142.102.151.95   0.15  \n",
       "Gusty Wondraschek       25.253.221.98   9.19  \n",
       "Lois Vaan                 1.196.39.50   1.28  \n",
       "Baird Eberts           88.230.140.148   0.82  \n",
       "Amalia Flieg          203.219.142.196   2.88  \n",
       "Leontine Wildbore       255.74.26.131   9.44  \n",
       "Rikki Chasteney           90.29.53.76   7.01  \n",
       "Augustine Papierz      43.165.166.247   0.22  \n",
       "Maynord Lawrance       174.230.82.205   0.33  "
      ]
     },
     "execution_count": 21,
     "metadata": {},
     "output_type": "execute_result"
    }
   ],
   "source": [
    "df2 = df.set_index(\"Name\")\n",
    "df2"
   ]
  },
  {
   "cell_type": "markdown",
   "metadata": {
    "id": "d_r2oJqHs5V8"
   },
   "source": [
    "## Multi-indexación\n",
    "Hasta ahora hemos visto series y dataframes pandas con índices sencillos, pero pueden tener también índices jerárquicos o multi-índices, lo que abre la puerta a sofisticados procesos de manipulación y análisis de datos.\n",
    "\n",
    "Podemos imaginarnos un multi-índice como un índice en el que cada valor es una tupla única de elementos. Es posible crear estos multi-índices y extraerlos posteriormente de varias formas."
   ]
  },
  {
   "cell_type": "markdown",
   "metadata": {
    "id": "0pde7w-JtETD"
   },
   "source": [
    "**Creación de multi-índices**\n",
    "\n",
    "\n",
    "**Podemos crear un multi-índice de cuatro formas distintas:**\n",
    "\n",
    "* A partir de una lista de arrays, usando el método pd.MultiIndex.from_arrays()\n",
    "* A partir de un array de tuplas, usando el método pd.MultiIndex.from_tuples()\n",
    "* A partir del producto cartesiano de los valores de dos iterables, usando el método pd.MultiIndex.from_product()\n",
    "* A partir de un DataFrame, usando el método pd.MultiIndex.from_frame()\n",
    "\n",
    "Veamos un ejemplo de cada tipo."
   ]
  },
  {
   "cell_type": "code",
   "execution_count": 22,
   "metadata": {
    "colab": {
     "base_uri": "https://localhost:8080/"
    },
    "executionInfo": {
     "elapsed": 491,
     "status": "ok",
     "timestamp": 1655980428167,
     "user": {
      "displayName": "Juan Carlos González-Avella",
      "userId": "02617303093978364603"
     },
     "user_tz": -120
    },
    "id": "T_bWqrsPtfWv",
    "outputId": "8cabf1cb-62c8-482f-dad7-6af7ca718fa0"
   },
   "outputs": [
    {
     "data": {
      "text/plain": [
       "MultiIndex([(2018,    'Spain'),\n",
       "            (2018, 'Portugal'),\n",
       "            (2018,   'France'),\n",
       "            (2019,    'Spain'),\n",
       "            (2019, 'Portugal'),\n",
       "            (2019,   'France')],\n",
       "           names=['Year', 'Country'])"
      ]
     },
     "execution_count": 22,
     "metadata": {},
     "output_type": "execute_result"
    }
   ],
   "source": [
    "index = pd.MultiIndex.from_arrays(\n",
    "    [\n",
    "        [2018, 2018, 2018, 2019, 2019, 2019],\n",
    "        [\"Spain\", \"Portugal\", \"France\", \"Spain\", \"Portugal\", \"France\"]\n",
    "    ],\n",
    "    names = [\"Year\", \"Country\"]\n",
    ")\n",
    "index"
   ]
  },
  {
   "cell_type": "code",
   "execution_count": 23,
   "metadata": {
    "colab": {
     "base_uri": "https://localhost:8080/",
     "height": 269
    },
    "executionInfo": {
     "elapsed": 67,
     "status": "ok",
     "timestamp": 1655980428169,
     "user": {
      "displayName": "Juan Carlos González-Avella",
      "userId": "02617303093978364603"
     },
     "user_tz": -120
    },
    "id": "orKZsNVPtsm5",
    "outputId": "2a2b9779-b16d-4f78-915d-96e47956c385"
   },
   "outputs": [
    {
     "data": {
      "text/html": [
       "<div>\n",
       "<style scoped>\n",
       "    .dataframe tbody tr th:only-of-type {\n",
       "        vertical-align: middle;\n",
       "    }\n",
       "\n",
       "    .dataframe tbody tr th {\n",
       "        vertical-align: top;\n",
       "    }\n",
       "\n",
       "    .dataframe thead th {\n",
       "        text-align: right;\n",
       "    }\n",
       "</style>\n",
       "<table border=\"1\" class=\"dataframe\">\n",
       "  <thead>\n",
       "    <tr style=\"text-align: right;\">\n",
       "      <th></th>\n",
       "      <th></th>\n",
       "      <th>Sales</th>\n",
       "    </tr>\n",
       "    <tr>\n",
       "      <th>Year</th>\n",
       "      <th>Country</th>\n",
       "      <th></th>\n",
       "    </tr>\n",
       "  </thead>\n",
       "  <tbody>\n",
       "    <tr>\n",
       "      <th rowspan=\"3\" valign=\"top\">2018</th>\n",
       "      <th>Spain</th>\n",
       "      <td>18</td>\n",
       "    </tr>\n",
       "    <tr>\n",
       "      <th>Portugal</th>\n",
       "      <td>20</td>\n",
       "    </tr>\n",
       "    <tr>\n",
       "      <th>France</th>\n",
       "      <td>10</td>\n",
       "    </tr>\n",
       "    <tr>\n",
       "      <th rowspan=\"3\" valign=\"top\">2019</th>\n",
       "      <th>Spain</th>\n",
       "      <td>15</td>\n",
       "    </tr>\n",
       "    <tr>\n",
       "      <th>Portugal</th>\n",
       "      <td>12</td>\n",
       "    </tr>\n",
       "    <tr>\n",
       "      <th>France</th>\n",
       "      <td>18</td>\n",
       "    </tr>\n",
       "  </tbody>\n",
       "</table>\n",
       "</div>"
      ],
      "text/plain": [
       "               Sales\n",
       "Year Country        \n",
       "2018 Spain        18\n",
       "     Portugal     20\n",
       "     France       10\n",
       "2019 Spain        15\n",
       "     Portugal     12\n",
       "     France       18"
      ]
     },
     "execution_count": 23,
     "metadata": {},
     "output_type": "execute_result"
    }
   ],
   "source": [
    "valores =[18, 20, 10, 15, 12, 18]\n",
    "data = pd.DataFrame(valores, index = index, columns = [\"Sales\"])\n",
    "data"
   ]
  },
  {
   "cell_type": "code",
   "execution_count": 24,
   "metadata": {
    "colab": {
     "base_uri": "https://localhost:8080/",
     "height": 175
    },
    "executionInfo": {
     "elapsed": 61,
     "status": "ok",
     "timestamp": 1655980428170,
     "user": {
      "displayName": "Juan Carlos González-Avella",
      "userId": "02617303093978364603"
     },
     "user_tz": -120
    },
    "id": "1FywQJ59uRDI",
    "outputId": "f3cb5fe7-112a-43a7-acbc-75a44d4c7b2c"
   },
   "outputs": [
    {
     "data": {
      "text/html": [
       "<div>\n",
       "<style scoped>\n",
       "    .dataframe tbody tr th:only-of-type {\n",
       "        vertical-align: middle;\n",
       "    }\n",
       "\n",
       "    .dataframe tbody tr th {\n",
       "        vertical-align: top;\n",
       "    }\n",
       "\n",
       "    .dataframe thead th {\n",
       "        text-align: right;\n",
       "    }\n",
       "</style>\n",
       "<table border=\"1\" class=\"dataframe\">\n",
       "  <thead>\n",
       "    <tr style=\"text-align: right;\">\n",
       "      <th></th>\n",
       "      <th></th>\n",
       "      <th>Sales</th>\n",
       "    </tr>\n",
       "    <tr>\n",
       "      <th>Year</th>\n",
       "      <th>Country</th>\n",
       "      <th></th>\n",
       "    </tr>\n",
       "  </thead>\n",
       "  <tbody>\n",
       "    <tr>\n",
       "      <th rowspan=\"3\" valign=\"top\">2019</th>\n",
       "      <th>Spain</th>\n",
       "      <td>15</td>\n",
       "    </tr>\n",
       "    <tr>\n",
       "      <th>Portugal</th>\n",
       "      <td>12</td>\n",
       "    </tr>\n",
       "    <tr>\n",
       "      <th>France</th>\n",
       "      <td>18</td>\n",
       "    </tr>\n",
       "  </tbody>\n",
       "</table>\n",
       "</div>"
      ],
      "text/plain": [
       "               Sales\n",
       "Year Country        \n",
       "2019 Spain        15\n",
       "     Portugal     12\n",
       "     France       18"
      ]
     },
     "execution_count": 24,
     "metadata": {},
     "output_type": "execute_result"
    }
   ],
   "source": [
    "indice = [2019]\n",
    "\n",
    "\n",
    "data.loc[indice]"
   ]
  },
  {
   "cell_type": "markdown",
   "metadata": {
    "id": "XuzZxb0xvHbq"
   },
   "source": [
    "## Multi-índices a partir de un array de tuplas\n",
    "\n",
    "En este segundo método indicamos los valores del multi-índice valor por valor, siendo éstos tuplas:"
   ]
  },
  {
   "cell_type": "code",
   "execution_count": 25,
   "metadata": {
    "colab": {
     "base_uri": "https://localhost:8080/"
    },
    "executionInfo": {
     "elapsed": 59,
     "status": "ok",
     "timestamp": 1655980428171,
     "user": {
      "displayName": "Juan Carlos González-Avella",
      "userId": "02617303093978364603"
     },
     "user_tz": -120
    },
    "id": "nV5vGizGvNqw",
    "outputId": "411256cb-530a-4f6a-f74b-019478ff52f1"
   },
   "outputs": [
    {
     "data": {
      "text/plain": [
       "MultiIndex([(2018,    'Spain'),\n",
       "            (2018, 'Portugal'),\n",
       "            (2018,   'France'),\n",
       "            (2019,    'Spain'),\n",
       "            (2019, 'Portugal'),\n",
       "            (2019,   'France')],\n",
       "           names=['Year', 'Country'])"
      ]
     },
     "execution_count": 25,
     "metadata": {},
     "output_type": "execute_result"
    }
   ],
   "source": [
    "index = pd.MultiIndex.from_tuples(\n",
    "    [\n",
    "    (2018, \"Spain\"),\n",
    "    (2018, \"Portugal\"),\n",
    "    (2018, \"France\"),\n",
    "    (2019, \"Spain\"),\n",
    "    (2019, \"Portugal\"),\n",
    "    (2019, \"France\")\n",
    "    ],\n",
    "    names = [\"Year\", \"Country\"])\n",
    "index"
   ]
  },
  {
   "cell_type": "code",
   "execution_count": 26,
   "metadata": {
    "colab": {
     "base_uri": "https://localhost:8080/",
     "height": 269
    },
    "executionInfo": {
     "elapsed": 54,
     "status": "ok",
     "timestamp": 1655980428172,
     "user": {
      "displayName": "Juan Carlos González-Avella",
      "userId": "02617303093978364603"
     },
     "user_tz": -120
    },
    "id": "qqZMkXb_vWDt",
    "outputId": "26e7dfcc-7f73-4e7d-fbd2-88b5b144bdad"
   },
   "outputs": [
    {
     "data": {
      "text/html": [
       "<div>\n",
       "<style scoped>\n",
       "    .dataframe tbody tr th:only-of-type {\n",
       "        vertical-align: middle;\n",
       "    }\n",
       "\n",
       "    .dataframe tbody tr th {\n",
       "        vertical-align: top;\n",
       "    }\n",
       "\n",
       "    .dataframe thead th {\n",
       "        text-align: right;\n",
       "    }\n",
       "</style>\n",
       "<table border=\"1\" class=\"dataframe\">\n",
       "  <thead>\n",
       "    <tr style=\"text-align: right;\">\n",
       "      <th></th>\n",
       "      <th></th>\n",
       "      <th>Sales</th>\n",
       "    </tr>\n",
       "    <tr>\n",
       "      <th>Year</th>\n",
       "      <th>Country</th>\n",
       "      <th></th>\n",
       "    </tr>\n",
       "  </thead>\n",
       "  <tbody>\n",
       "    <tr>\n",
       "      <th rowspan=\"3\" valign=\"top\">2018</th>\n",
       "      <th>Spain</th>\n",
       "      <td>18</td>\n",
       "    </tr>\n",
       "    <tr>\n",
       "      <th>Portugal</th>\n",
       "      <td>20</td>\n",
       "    </tr>\n",
       "    <tr>\n",
       "      <th>France</th>\n",
       "      <td>10</td>\n",
       "    </tr>\n",
       "    <tr>\n",
       "      <th rowspan=\"3\" valign=\"top\">2019</th>\n",
       "      <th>Spain</th>\n",
       "      <td>15</td>\n",
       "    </tr>\n",
       "    <tr>\n",
       "      <th>Portugal</th>\n",
       "      <td>12</td>\n",
       "    </tr>\n",
       "    <tr>\n",
       "      <th>France</th>\n",
       "      <td>18</td>\n",
       "    </tr>\n",
       "  </tbody>\n",
       "</table>\n",
       "</div>"
      ],
      "text/plain": [
       "               Sales\n",
       "Year Country        \n",
       "2018 Spain        18\n",
       "     Portugal     20\n",
       "     France       10\n",
       "2019 Spain        15\n",
       "     Portugal     12\n",
       "     France       18"
      ]
     },
     "execution_count": 26,
     "metadata": {},
     "output_type": "execute_result"
    }
   ],
   "source": [
    "data = pd.DataFrame(valores, index = index, columns = [\"Sales\"])\n",
    "data"
   ]
  },
  {
   "cell_type": "markdown",
   "metadata": {
    "id": "7Xu8k8PJvveY"
   },
   "source": [
    "## Multi-índices por producto cartesiano de arrays\n",
    "\n",
    "El tercer método nos permite especificar los valores (únicos) de los diferentes niveles, creándose el índice jerárquico como resultado del producto escalar de los valores. Por ejemplo:"
   ]
  },
  {
   "cell_type": "code",
   "execution_count": 27,
   "metadata": {
    "colab": {
     "base_uri": "https://localhost:8080/"
    },
    "executionInfo": {
     "elapsed": 50,
     "status": "ok",
     "timestamp": 1655980428173,
     "user": {
      "displayName": "Juan Carlos González-Avella",
      "userId": "02617303093978364603"
     },
     "user_tz": -120
    },
    "id": "xr7ZhNDav6V7",
    "outputId": "4d79f29f-2bab-4628-8ae3-ebff214681cc"
   },
   "outputs": [
    {
     "data": {
      "text/plain": [
       "MultiIndex([(2018,    'Spain'),\n",
       "            (2018, 'Portugal'),\n",
       "            (2018,   'France'),\n",
       "            (2019,    'Spain'),\n",
       "            (2019, 'Portugal'),\n",
       "            (2019,   'France')],\n",
       "           names=['Year', 'Country'])"
      ]
     },
     "execution_count": 27,
     "metadata": {},
     "output_type": "execute_result"
    }
   ],
   "source": [
    "index = pd.MultiIndex.from_product(\n",
    "    [\n",
    "        [2018, 2019],\n",
    "        [\"Spain\", \"Portugal\", \"France\"]\n",
    "    ],\n",
    "    names = [\"Year\", \"Country\"]\n",
    ")\n",
    "index"
   ]
  },
  {
   "cell_type": "code",
   "execution_count": 28,
   "metadata": {
    "colab": {
     "base_uri": "https://localhost:8080/",
     "height": 269
    },
    "executionInfo": {
     "elapsed": 50,
     "status": "ok",
     "timestamp": 1655980428176,
     "user": {
      "displayName": "Juan Carlos González-Avella",
      "userId": "02617303093978364603"
     },
     "user_tz": -120
    },
    "id": "ceBXb-siwJIG",
    "outputId": "54b9980d-d8d1-441e-ce7a-0be4680382ed"
   },
   "outputs": [
    {
     "data": {
      "text/html": [
       "<div>\n",
       "<style scoped>\n",
       "    .dataframe tbody tr th:only-of-type {\n",
       "        vertical-align: middle;\n",
       "    }\n",
       "\n",
       "    .dataframe tbody tr th {\n",
       "        vertical-align: top;\n",
       "    }\n",
       "\n",
       "    .dataframe thead th {\n",
       "        text-align: right;\n",
       "    }\n",
       "</style>\n",
       "<table border=\"1\" class=\"dataframe\">\n",
       "  <thead>\n",
       "    <tr style=\"text-align: right;\">\n",
       "      <th></th>\n",
       "      <th></th>\n",
       "      <th>Sales</th>\n",
       "    </tr>\n",
       "    <tr>\n",
       "      <th>Year</th>\n",
       "      <th>Country</th>\n",
       "      <th></th>\n",
       "    </tr>\n",
       "  </thead>\n",
       "  <tbody>\n",
       "    <tr>\n",
       "      <th rowspan=\"3\" valign=\"top\">2018</th>\n",
       "      <th>Spain</th>\n",
       "      <td>18</td>\n",
       "    </tr>\n",
       "    <tr>\n",
       "      <th>Portugal</th>\n",
       "      <td>20</td>\n",
       "    </tr>\n",
       "    <tr>\n",
       "      <th>France</th>\n",
       "      <td>10</td>\n",
       "    </tr>\n",
       "    <tr>\n",
       "      <th rowspan=\"3\" valign=\"top\">2019</th>\n",
       "      <th>Spain</th>\n",
       "      <td>15</td>\n",
       "    </tr>\n",
       "    <tr>\n",
       "      <th>Portugal</th>\n",
       "      <td>12</td>\n",
       "    </tr>\n",
       "    <tr>\n",
       "      <th>France</th>\n",
       "      <td>18</td>\n",
       "    </tr>\n",
       "  </tbody>\n",
       "</table>\n",
       "</div>"
      ],
      "text/plain": [
       "               Sales\n",
       "Year Country        \n",
       "2018 Spain        18\n",
       "     Portugal     20\n",
       "     France       10\n",
       "2019 Spain        15\n",
       "     Portugal     12\n",
       "     France       18"
      ]
     },
     "execution_count": 28,
     "metadata": {},
     "output_type": "execute_result"
    }
   ],
   "source": [
    "data = pd.DataFrame(valores, index = index, columns = [\"Sales\"])\n",
    "data"
   ]
  },
  {
   "cell_type": "markdown",
   "metadata": {
    "id": "GAlnpGtXwV4A"
   },
   "source": [
    "## Multi-índices a partir de un DataFrame\n",
    "\n",
    "Por último, podemos crear el multi-índice a partir de un DataFrame en el que cada columna coincide con una columna del multi-índice. Comencemos creando el DataFrame:"
   ]
  },
  {
   "cell_type": "code",
   "execution_count": 29,
   "metadata": {
    "colab": {
     "base_uri": "https://localhost:8080/",
     "height": 237
    },
    "executionInfo": {
     "elapsed": 47,
     "status": "ok",
     "timestamp": 1655980428180,
     "user": {
      "displayName": "Juan Carlos González-Avella",
      "userId": "02617303093978364603"
     },
     "user_tz": -120
    },
    "id": "cNBKp_MZwZZM",
    "outputId": "aabcfeeb-2fa7-4d4e-9b86-c93d2a250b69"
   },
   "outputs": [
    {
     "data": {
      "text/html": [
       "<div>\n",
       "<style scoped>\n",
       "    .dataframe tbody tr th:only-of-type {\n",
       "        vertical-align: middle;\n",
       "    }\n",
       "\n",
       "    .dataframe tbody tr th {\n",
       "        vertical-align: top;\n",
       "    }\n",
       "\n",
       "    .dataframe thead th {\n",
       "        text-align: right;\n",
       "    }\n",
       "</style>\n",
       "<table border=\"1\" class=\"dataframe\">\n",
       "  <thead>\n",
       "    <tr style=\"text-align: right;\">\n",
       "      <th></th>\n",
       "      <th>Year</th>\n",
       "      <th>Country</th>\n",
       "    </tr>\n",
       "  </thead>\n",
       "  <tbody>\n",
       "    <tr>\n",
       "      <th>0</th>\n",
       "      <td>2018</td>\n",
       "      <td>Spain</td>\n",
       "    </tr>\n",
       "    <tr>\n",
       "      <th>1</th>\n",
       "      <td>2018</td>\n",
       "      <td>Portugal</td>\n",
       "    </tr>\n",
       "    <tr>\n",
       "      <th>2</th>\n",
       "      <td>2018</td>\n",
       "      <td>France</td>\n",
       "    </tr>\n",
       "    <tr>\n",
       "      <th>3</th>\n",
       "      <td>2019</td>\n",
       "      <td>Spain</td>\n",
       "    </tr>\n",
       "    <tr>\n",
       "      <th>4</th>\n",
       "      <td>2019</td>\n",
       "      <td>Portugal</td>\n",
       "    </tr>\n",
       "    <tr>\n",
       "      <th>5</th>\n",
       "      <td>2019</td>\n",
       "      <td>France</td>\n",
       "    </tr>\n",
       "  </tbody>\n",
       "</table>\n",
       "</div>"
      ],
      "text/plain": [
       "   Year   Country\n",
       "0  2018     Spain\n",
       "1  2018  Portugal\n",
       "2  2018    France\n",
       "3  2019     Spain\n",
       "4  2019  Portugal\n",
       "5  2019    France"
      ]
     },
     "execution_count": 29,
     "metadata": {},
     "output_type": "execute_result"
    }
   ],
   "source": [
    "df = pd.DataFrame({\n",
    "    \"Year\":[2018, 2018, 2018, 2019, 2019, 2019],\n",
    "    \"Country\": [\"Spain\", \"Portugal\", \"France\", \"Spain\", \"Portugal\", \"France\"]\n",
    "    })\n",
    "df"
   ]
  },
  {
   "cell_type": "code",
   "execution_count": 30,
   "metadata": {
    "colab": {
     "base_uri": "https://localhost:8080/"
    },
    "executionInfo": {
     "elapsed": 47,
     "status": "ok",
     "timestamp": 1655980428183,
     "user": {
      "displayName": "Juan Carlos González-Avella",
      "userId": "02617303093978364603"
     },
     "user_tz": -120
    },
    "id": "vXRkQrzZwkiJ",
    "outputId": "3f919963-2c27-47fb-a90a-92bb09dca2b3"
   },
   "outputs": [
    {
     "data": {
      "text/plain": [
       "MultiIndex([(2018,    'Spain'),\n",
       "            (2018, 'Portugal'),\n",
       "            (2018,   'France'),\n",
       "            (2019,    'Spain'),\n",
       "            (2019, 'Portugal'),\n",
       "            (2019,   'France')],\n",
       "           names=['Year', 'Country'])"
      ]
     },
     "execution_count": 30,
     "metadata": {},
     "output_type": "execute_result"
    }
   ],
   "source": [
    "#creamos el indice \n",
    "index = pd.MultiIndex.from_frame(df)\n",
    "index"
   ]
  },
  {
   "cell_type": "code",
   "execution_count": 31,
   "metadata": {
    "colab": {
     "base_uri": "https://localhost:8080/",
     "height": 269
    },
    "executionInfo": {
     "elapsed": 459,
     "status": "ok",
     "timestamp": 1655980428598,
     "user": {
      "displayName": "Juan Carlos González-Avella",
      "userId": "02617303093978364603"
     },
     "user_tz": -120
    },
    "id": "Jcc3jwXmwrFh",
    "outputId": "3b07366b-eea6-484a-9baf-5f75ec6e2f46"
   },
   "outputs": [
    {
     "data": {
      "text/html": [
       "<div>\n",
       "<style scoped>\n",
       "    .dataframe tbody tr th:only-of-type {\n",
       "        vertical-align: middle;\n",
       "    }\n",
       "\n",
       "    .dataframe tbody tr th {\n",
       "        vertical-align: top;\n",
       "    }\n",
       "\n",
       "    .dataframe thead th {\n",
       "        text-align: right;\n",
       "    }\n",
       "</style>\n",
       "<table border=\"1\" class=\"dataframe\">\n",
       "  <thead>\n",
       "    <tr style=\"text-align: right;\">\n",
       "      <th></th>\n",
       "      <th></th>\n",
       "      <th>Sales</th>\n",
       "    </tr>\n",
       "    <tr>\n",
       "      <th>Year</th>\n",
       "      <th>Country</th>\n",
       "      <th></th>\n",
       "    </tr>\n",
       "  </thead>\n",
       "  <tbody>\n",
       "    <tr>\n",
       "      <th rowspan=\"3\" valign=\"top\">2018</th>\n",
       "      <th>Spain</th>\n",
       "      <td>18</td>\n",
       "    </tr>\n",
       "    <tr>\n",
       "      <th>Portugal</th>\n",
       "      <td>20</td>\n",
       "    </tr>\n",
       "    <tr>\n",
       "      <th>France</th>\n",
       "      <td>10</td>\n",
       "    </tr>\n",
       "    <tr>\n",
       "      <th rowspan=\"3\" valign=\"top\">2019</th>\n",
       "      <th>Spain</th>\n",
       "      <td>15</td>\n",
       "    </tr>\n",
       "    <tr>\n",
       "      <th>Portugal</th>\n",
       "      <td>12</td>\n",
       "    </tr>\n",
       "    <tr>\n",
       "      <th>France</th>\n",
       "      <td>18</td>\n",
       "    </tr>\n",
       "  </tbody>\n",
       "</table>\n",
       "</div>"
      ],
      "text/plain": [
       "               Sales\n",
       "Year Country        \n",
       "2018 Spain        18\n",
       "     Portugal     20\n",
       "     France       10\n",
       "2019 Spain        15\n",
       "     Portugal     12\n",
       "     France       18"
      ]
     },
     "execution_count": 31,
     "metadata": {},
     "output_type": "execute_result"
    }
   ],
   "source": [
    "data = pd.DataFrame(valores, index = index, columns = [\"Sales\"])\n",
    "data"
   ]
  },
  {
   "cell_type": "markdown",
   "metadata": {
    "id": "qCBfcCOzxAPJ"
   },
   "source": [
    "## Extracción de un nivel del índice\n",
    "\n",
    "Trabajando con un DataFrame o una Serie pandas con multi-índice, es posible extraer los valores de un nivel del índice con el método .get_level_values(). El parámetro que deberemos pasar a este método será o el número del nivel o su nombre -si es que el índice ha recibido nombres-. Por ejemplo, partimos del DataFrame que hemos creado en las secciones anteriores:"
   ]
  },
  {
   "cell_type": "code",
   "execution_count": 32,
   "metadata": {
    "colab": {
     "base_uri": "https://localhost:8080/",
     "height": 269
    },
    "executionInfo": {
     "elapsed": 31,
     "status": "ok",
     "timestamp": 1655980428599,
     "user": {
      "displayName": "Juan Carlos González-Avella",
      "userId": "02617303093978364603"
     },
     "user_tz": -120
    },
    "id": "TgU9brHtxEz7",
    "outputId": "5bc41bb0-fd55-4050-f985-1d25cc71cd90"
   },
   "outputs": [
    {
     "data": {
      "text/html": [
       "<div>\n",
       "<style scoped>\n",
       "    .dataframe tbody tr th:only-of-type {\n",
       "        vertical-align: middle;\n",
       "    }\n",
       "\n",
       "    .dataframe tbody tr th {\n",
       "        vertical-align: top;\n",
       "    }\n",
       "\n",
       "    .dataframe thead th {\n",
       "        text-align: right;\n",
       "    }\n",
       "</style>\n",
       "<table border=\"1\" class=\"dataframe\">\n",
       "  <thead>\n",
       "    <tr style=\"text-align: right;\">\n",
       "      <th></th>\n",
       "      <th></th>\n",
       "      <th>Sales</th>\n",
       "    </tr>\n",
       "    <tr>\n",
       "      <th>Year</th>\n",
       "      <th>Country</th>\n",
       "      <th></th>\n",
       "    </tr>\n",
       "  </thead>\n",
       "  <tbody>\n",
       "    <tr>\n",
       "      <th rowspan=\"3\" valign=\"top\">2018</th>\n",
       "      <th>Spain</th>\n",
       "      <td>18</td>\n",
       "    </tr>\n",
       "    <tr>\n",
       "      <th>Portugal</th>\n",
       "      <td>20</td>\n",
       "    </tr>\n",
       "    <tr>\n",
       "      <th>France</th>\n",
       "      <td>10</td>\n",
       "    </tr>\n",
       "    <tr>\n",
       "      <th rowspan=\"3\" valign=\"top\">2019</th>\n",
       "      <th>Spain</th>\n",
       "      <td>15</td>\n",
       "    </tr>\n",
       "    <tr>\n",
       "      <th>Portugal</th>\n",
       "      <td>12</td>\n",
       "    </tr>\n",
       "    <tr>\n",
       "      <th>France</th>\n",
       "      <td>18</td>\n",
       "    </tr>\n",
       "  </tbody>\n",
       "</table>\n",
       "</div>"
      ],
      "text/plain": [
       "               Sales\n",
       "Year Country        \n",
       "2018 Spain        18\n",
       "     Portugal     20\n",
       "     France       10\n",
       "2019 Spain        15\n",
       "     Portugal     12\n",
       "     France       18"
      ]
     },
     "execution_count": 32,
     "metadata": {},
     "output_type": "execute_result"
    }
   ],
   "source": [
    "index = pd.MultiIndex.from_product(\n",
    "    [[2018, 2019],[\"Spain\", \"Portugal\", \"France\"]],\n",
    "    names = [\"Year\", \"Country\"]\n",
    ")\n",
    "data = pd.DataFrame(valores, index = index, columns = [\"Sales\"])\n",
    "data"
   ]
  },
  {
   "cell_type": "code",
   "execution_count": 33,
   "metadata": {
    "colab": {
     "base_uri": "https://localhost:8080/"
    },
    "executionInfo": {
     "elapsed": 30,
     "status": "ok",
     "timestamp": 1655980428600,
     "user": {
      "displayName": "Juan Carlos González-Avella",
      "userId": "02617303093978364603"
     },
     "user_tz": -120
    },
    "id": "B5jGu1GLxN0Q",
    "outputId": "f544b8e0-9bf4-411a-9cff-a60845cb7e5e"
   },
   "outputs": [
    {
     "name": "stdout",
     "output_type": "stream",
     "text": [
      "Int64Index([2018, 2018, 2018, 2019, 2019, 2019], dtype='int64', name='Year')\n",
      "\n",
      "Index(['Spain', 'Portugal', 'France', 'Spain', 'Portugal', 'France'], dtype='object', name='Country')\n",
      "\n"
     ]
    }
   ],
   "source": [
    "# La columna de etiquetas del multi-índice situada en el extremo izquierdo es la que recibe el número (el índice) 0. Por lo tanto:\n",
    "\n",
    "print(data.index.get_level_values(0))\n",
    "print()\n",
    "print(data.index.get_level_values(1))\n",
    "print()"
   ]
  },
  {
   "cell_type": "code",
   "execution_count": 34,
   "metadata": {
    "colab": {
     "base_uri": "https://localhost:8080/"
    },
    "executionInfo": {
     "elapsed": 29,
     "status": "ok",
     "timestamp": 1655980428601,
     "user": {
      "displayName": "Juan Carlos González-Avella",
      "userId": "02617303093978364603"
     },
     "user_tz": -120
    },
    "id": "6hivbBGTynu5",
    "outputId": "5073e5f3-5e6d-4daa-cab6-75557aaa655d"
   },
   "outputs": [
    {
     "name": "stdout",
     "output_type": "stream",
     "text": [
      "Int64Index([2018, 2018, 2018, 2019, 2019, 2019], dtype='int64', name='Year')\n",
      "\n",
      "Index(['Spain', 'Portugal', 'France', 'Spain', 'Portugal', 'France'], dtype='object', name='Country')\n"
     ]
    }
   ],
   "source": [
    "# Si pasamos como argumento el nombre de la columna del índice obtenemos resultados semejantes:\n",
    "print(data.index.get_level_values(\"Year\"))\n",
    "print()\n",
    "print(data.index.get_level_values(\"Country\"))"
   ]
  },
  {
   "cell_type": "markdown",
   "metadata": {},
   "source": [
    "Aplicación de funciones estadísticas¶\n",
    "Usando multi-índices, también es posible aplicar funciones estadísticas al DataFrame o a la Serie especificando el nivel de la jerarquía al que aplicarlas. Por ejemplo, si seguimos trabajando con el mismo DataFrame que hemos visto:\n",
    "\n",
    "ver https://interactivechaos.com/es/manual/tutorial-de-pandas/aplicacion-de-funciones-estadisticas"
   ]
  },
  {
   "cell_type": "code",
   "execution_count": 35,
   "metadata": {},
   "outputs": [
    {
     "data": {
      "text/plain": [
       "Sales    15.5\n",
       "dtype: float64"
      ]
     },
     "execution_count": 35,
     "metadata": {},
     "output_type": "execute_result"
    }
   ],
   "source": [
    "data.mean()"
   ]
  },
  {
   "cell_type": "markdown",
   "metadata": {},
   "source": [
    "Pero si especificamos el nivel al que queremos aplicarlo, el DataFrame se agrega según los valores de dicho nivel antes de realizar la operación. Por ejemplo:"
   ]
  },
  {
   "cell_type": "code",
   "execution_count": 36,
   "metadata": {},
   "outputs": [
    {
     "name": "stderr",
     "output_type": "stream",
     "text": [
      "/tmp/ipykernel_11297/326155344.py:1: FutureWarning: Using the level keyword in DataFrame and Series aggregations is deprecated and will be removed in a future version. Use groupby instead. df.median(level=1) should use df.groupby(level=1).median().\n",
      "  data.mean(level = \"Year\")\n"
     ]
    },
    {
     "data": {
      "text/html": [
       "<div>\n",
       "<style scoped>\n",
       "    .dataframe tbody tr th:only-of-type {\n",
       "        vertical-align: middle;\n",
       "    }\n",
       "\n",
       "    .dataframe tbody tr th {\n",
       "        vertical-align: top;\n",
       "    }\n",
       "\n",
       "    .dataframe thead th {\n",
       "        text-align: right;\n",
       "    }\n",
       "</style>\n",
       "<table border=\"1\" class=\"dataframe\">\n",
       "  <thead>\n",
       "    <tr style=\"text-align: right;\">\n",
       "      <th></th>\n",
       "      <th>Sales</th>\n",
       "    </tr>\n",
       "    <tr>\n",
       "      <th>Year</th>\n",
       "      <th></th>\n",
       "    </tr>\n",
       "  </thead>\n",
       "  <tbody>\n",
       "    <tr>\n",
       "      <th>2018</th>\n",
       "      <td>16.0</td>\n",
       "    </tr>\n",
       "    <tr>\n",
       "      <th>2019</th>\n",
       "      <td>15.0</td>\n",
       "    </tr>\n",
       "  </tbody>\n",
       "</table>\n",
       "</div>"
      ],
      "text/plain": [
       "      Sales\n",
       "Year       \n",
       "2018   16.0\n",
       "2019   15.0"
      ]
     },
     "execution_count": 36,
     "metadata": {},
     "output_type": "execute_result"
    }
   ],
   "source": [
    "data.mean(level = \"Year\")"
   ]
  },
  {
   "cell_type": "markdown",
   "metadata": {},
   "source": [
    "## Importante Actualización "
   ]
  },
  {
   "cell_type": "code",
   "execution_count": 37,
   "metadata": {},
   "outputs": [
    {
     "data": {
      "text/html": [
       "<div>\n",
       "<style scoped>\n",
       "    .dataframe tbody tr th:only-of-type {\n",
       "        vertical-align: middle;\n",
       "    }\n",
       "\n",
       "    .dataframe tbody tr th {\n",
       "        vertical-align: top;\n",
       "    }\n",
       "\n",
       "    .dataframe thead th {\n",
       "        text-align: right;\n",
       "    }\n",
       "</style>\n",
       "<table border=\"1\" class=\"dataframe\">\n",
       "  <thead>\n",
       "    <tr style=\"text-align: right;\">\n",
       "      <th></th>\n",
       "      <th>Sales</th>\n",
       "    </tr>\n",
       "    <tr>\n",
       "      <th>Year</th>\n",
       "      <th></th>\n",
       "    </tr>\n",
       "  </thead>\n",
       "  <tbody>\n",
       "    <tr>\n",
       "      <th>2018</th>\n",
       "      <td>16.0</td>\n",
       "    </tr>\n",
       "    <tr>\n",
       "      <th>2019</th>\n",
       "      <td>15.0</td>\n",
       "    </tr>\n",
       "  </tbody>\n",
       "</table>\n",
       "</div>"
      ],
      "text/plain": [
       "      Sales\n",
       "Year       \n",
       "2018   16.0\n",
       "2019   15.0"
      ]
     },
     "execution_count": 37,
     "metadata": {},
     "output_type": "execute_result"
    }
   ],
   "source": [
    "data.groupby(level=[\"Year\"]).mean()"
   ]
  },
  {
   "cell_type": "code",
   "execution_count": 38,
   "metadata": {},
   "outputs": [
    {
     "data": {
      "text/html": [
       "<div>\n",
       "<style scoped>\n",
       "    .dataframe tbody tr th:only-of-type {\n",
       "        vertical-align: middle;\n",
       "    }\n",
       "\n",
       "    .dataframe tbody tr th {\n",
       "        vertical-align: top;\n",
       "    }\n",
       "\n",
       "    .dataframe thead th {\n",
       "        text-align: right;\n",
       "    }\n",
       "</style>\n",
       "<table border=\"1\" class=\"dataframe\">\n",
       "  <thead>\n",
       "    <tr style=\"text-align: right;\">\n",
       "      <th></th>\n",
       "      <th>Sales</th>\n",
       "    </tr>\n",
       "    <tr>\n",
       "      <th>Country</th>\n",
       "      <th></th>\n",
       "    </tr>\n",
       "  </thead>\n",
       "  <tbody>\n",
       "    <tr>\n",
       "      <th>France</th>\n",
       "      <td>14.0</td>\n",
       "    </tr>\n",
       "    <tr>\n",
       "      <th>Portugal</th>\n",
       "      <td>16.0</td>\n",
       "    </tr>\n",
       "    <tr>\n",
       "      <th>Spain</th>\n",
       "      <td>16.5</td>\n",
       "    </tr>\n",
       "  </tbody>\n",
       "</table>\n",
       "</div>"
      ],
      "text/plain": [
       "          Sales\n",
       "Country        \n",
       "France     14.0\n",
       "Portugal   16.0\n",
       "Spain      16.5"
      ]
     },
     "execution_count": 38,
     "metadata": {},
     "output_type": "execute_result"
    }
   ],
   "source": [
    "data.groupby(level=[\"Country\"]).mean()"
   ]
  },
  {
   "cell_type": "markdown",
   "metadata": {
    "id": "xmcw0r1_siqa"
   },
   "source": [
    "# LOC"
   ]
  },
  {
   "cell_type": "markdown",
   "metadata": {
    "id": "ZISgr2Tc1L2w"
   },
   "source": [
    "## Con un solo inidce"
   ]
  },
  {
   "cell_type": "code",
   "execution_count": 39,
   "metadata": {
    "colab": {
     "base_uri": "https://localhost:8080/",
     "height": 175
    },
    "executionInfo": {
     "elapsed": 28,
     "status": "ok",
     "timestamp": 1655980428601,
     "user": {
      "displayName": "Juan Carlos González-Avella",
      "userId": "02617303093978364603"
     },
     "user_tz": -120
    },
    "id": "JE2wf4pnr_mU",
    "outputId": "764b1b4d-8efd-4a97-8158-91b43484237c"
   },
   "outputs": [
    {
     "data": {
      "text/html": [
       "<div>\n",
       "<style scoped>\n",
       "    .dataframe tbody tr th:only-of-type {\n",
       "        vertical-align: middle;\n",
       "    }\n",
       "\n",
       "    .dataframe tbody tr th {\n",
       "        vertical-align: top;\n",
       "    }\n",
       "\n",
       "    .dataframe thead th {\n",
       "        text-align: right;\n",
       "    }\n",
       "</style>\n",
       "<table border=\"1\" class=\"dataframe\">\n",
       "  <thead>\n",
       "    <tr style=\"text-align: right;\">\n",
       "      <th></th>\n",
       "      <th>money</th>\n",
       "      <th>email</th>\n",
       "      <th>id</th>\n",
       "    </tr>\n",
       "    <tr>\n",
       "      <th>Name</th>\n",
       "      <th></th>\n",
       "      <th></th>\n",
       "      <th></th>\n",
       "    </tr>\n",
       "  </thead>\n",
       "  <tbody>\n",
       "    <tr>\n",
       "      <th>Waldon Astling</th>\n",
       "      <td>1.83</td>\n",
       "      <td>wastling0@dailymail.co.uk</td>\n",
       "      <td>1</td>\n",
       "    </tr>\n",
       "    <tr>\n",
       "      <th>Augustine Papierz</th>\n",
       "      <td>0.22</td>\n",
       "      <td>apapierz8@people.com.cn</td>\n",
       "      <td>9</td>\n",
       "    </tr>\n",
       "    <tr>\n",
       "      <th>Lois Vaan</th>\n",
       "      <td>1.28</td>\n",
       "      <td>lvaan3@imdb.com</td>\n",
       "      <td>4</td>\n",
       "    </tr>\n",
       "  </tbody>\n",
       "</table>\n",
       "</div>"
      ],
      "text/plain": [
       "                   money                      email  id\n",
       "Name                                                   \n",
       "Waldon Astling      1.83  wastling0@dailymail.co.uk   1\n",
       "Augustine Papierz   0.22    apapierz8@people.com.cn   9\n",
       "Lois Vaan           1.28            lvaan3@imdb.com   4"
      ]
     },
     "execution_count": 39,
     "metadata": {},
     "output_type": "execute_result"
    }
   ],
   "source": [
    "colum_index = ['Waldon Astling','Augustine Papierz','Lois Vaan']\n",
    "colum_elemn = ['money','email','id']           \n",
    "\n",
    "df2.loc[(colum_index,colum_elemn)]"
   ]
  },
  {
   "cell_type": "code",
   "execution_count": 40,
   "metadata": {
    "colab": {
     "base_uri": "https://localhost:8080/",
     "height": 175
    },
    "executionInfo": {
     "elapsed": 28,
     "status": "ok",
     "timestamp": 1655980428602,
     "user": {
      "displayName": "Juan Carlos González-Avella",
      "userId": "02617303093978364603"
     },
     "user_tz": -120
    },
    "id": "57tk3KNGzgtL",
    "outputId": "54c56e79-5184-41d1-e7cc-3598970afb6d"
   },
   "outputs": [
    {
     "data": {
      "text/html": [
       "<div>\n",
       "<style scoped>\n",
       "    .dataframe tbody tr th:only-of-type {\n",
       "        vertical-align: middle;\n",
       "    }\n",
       "\n",
       "    .dataframe tbody tr th {\n",
       "        vertical-align: top;\n",
       "    }\n",
       "\n",
       "    .dataframe thead th {\n",
       "        text-align: right;\n",
       "    }\n",
       "</style>\n",
       "<table border=\"1\" class=\"dataframe\">\n",
       "  <thead>\n",
       "    <tr style=\"text-align: right;\">\n",
       "      <th></th>\n",
       "      <th>id</th>\n",
       "      <th>email</th>\n",
       "      <th>gender</th>\n",
       "      <th>ip_address</th>\n",
       "      <th>money</th>\n",
       "    </tr>\n",
       "    <tr>\n",
       "      <th>Name</th>\n",
       "      <th></th>\n",
       "      <th></th>\n",
       "      <th></th>\n",
       "      <th></th>\n",
       "      <th></th>\n",
       "    </tr>\n",
       "  </thead>\n",
       "  <tbody>\n",
       "    <tr>\n",
       "      <th>Waldon Astling</th>\n",
       "      <td>1</td>\n",
       "      <td>wastling0@dailymail.co.uk</td>\n",
       "      <td>Male</td>\n",
       "      <td>188.125.74.119</td>\n",
       "      <td>1.83</td>\n",
       "    </tr>\n",
       "    <tr>\n",
       "      <th>Augustine Papierz</th>\n",
       "      <td>9</td>\n",
       "      <td>apapierz8@people.com.cn</td>\n",
       "      <td>Female</td>\n",
       "      <td>43.165.166.247</td>\n",
       "      <td>0.22</td>\n",
       "    </tr>\n",
       "    <tr>\n",
       "      <th>Lois Vaan</th>\n",
       "      <td>4</td>\n",
       "      <td>lvaan3@imdb.com</td>\n",
       "      <td>Female</td>\n",
       "      <td>1.196.39.50</td>\n",
       "      <td>1.28</td>\n",
       "    </tr>\n",
       "  </tbody>\n",
       "</table>\n",
       "</div>"
      ],
      "text/plain": [
       "                   id                      email  gender      ip_address  \\\n",
       "Name                                                                       \n",
       "Waldon Astling      1  wastling0@dailymail.co.uk    Male  188.125.74.119   \n",
       "Augustine Papierz   9    apapierz8@people.com.cn  Female  43.165.166.247   \n",
       "Lois Vaan           4            lvaan3@imdb.com  Female     1.196.39.50   \n",
       "\n",
       "                   money  \n",
       "Name                      \n",
       "Waldon Astling      1.83  \n",
       "Augustine Papierz   0.22  \n",
       "Lois Vaan           1.28  "
      ]
     },
     "execution_count": 40,
     "metadata": {},
     "output_type": "execute_result"
    }
   ],
   "source": [
    "df2.loc[colum_index]"
   ]
  },
  {
   "cell_type": "markdown",
   "metadata": {
    "id": "VioPqewB1ST_"
   },
   "source": [
    "## Multi Index"
   ]
  },
  {
   "cell_type": "code",
   "execution_count": 41,
   "metadata": {
    "colab": {
     "base_uri": "https://localhost:8080/",
     "height": 175
    },
    "executionInfo": {
     "elapsed": 26,
     "status": "ok",
     "timestamp": 1655980428602,
     "user": {
      "displayName": "Juan Carlos González-Avella",
      "userId": "02617303093978364603"
     },
     "user_tz": -120
    },
    "id": "k_PN-06r1oLL",
    "outputId": "0e637fd1-8872-4b69-ad7b-df5a742e1021"
   },
   "outputs": [
    {
     "data": {
      "text/html": [
       "<div>\n",
       "<style scoped>\n",
       "    .dataframe tbody tr th:only-of-type {\n",
       "        vertical-align: middle;\n",
       "    }\n",
       "\n",
       "    .dataframe tbody tr th {\n",
       "        vertical-align: top;\n",
       "    }\n",
       "\n",
       "    .dataframe thead th {\n",
       "        text-align: right;\n",
       "    }\n",
       "</style>\n",
       "<table border=\"1\" class=\"dataframe\">\n",
       "  <thead>\n",
       "    <tr style=\"text-align: right;\">\n",
       "      <th></th>\n",
       "      <th>Sales</th>\n",
       "    </tr>\n",
       "    <tr>\n",
       "      <th>Country</th>\n",
       "      <th></th>\n",
       "    </tr>\n",
       "  </thead>\n",
       "  <tbody>\n",
       "    <tr>\n",
       "      <th>Spain</th>\n",
       "      <td>18</td>\n",
       "    </tr>\n",
       "    <tr>\n",
       "      <th>Portugal</th>\n",
       "      <td>20</td>\n",
       "    </tr>\n",
       "    <tr>\n",
       "      <th>France</th>\n",
       "      <td>10</td>\n",
       "    </tr>\n",
       "  </tbody>\n",
       "</table>\n",
       "</div>"
      ],
      "text/plain": [
       "          Sales\n",
       "Country        \n",
       "Spain        18\n",
       "Portugal     20\n",
       "France       10"
      ]
     },
     "execution_count": 41,
     "metadata": {},
     "output_type": "execute_result"
    }
   ],
   "source": [
    "data.loc[2018]"
   ]
  },
  {
   "cell_type": "code",
   "execution_count": 42,
   "metadata": {
    "colab": {
     "base_uri": "https://localhost:8080/"
    },
    "executionInfo": {
     "elapsed": 26,
     "status": "ok",
     "timestamp": 1655980428603,
     "user": {
      "displayName": "Juan Carlos González-Avella",
      "userId": "02617303093978364603"
     },
     "user_tz": -120
    },
    "id": "XOvzZDElzzya",
    "outputId": "7edee70e-a2dd-4516-81f6-28fc82d5c95e"
   },
   "outputs": [
    {
     "data": {
      "text/plain": [
       "Sales    18\n",
       "Name: (2018, Spain), dtype: int64"
      ]
     },
     "execution_count": 42,
     "metadata": {},
     "output_type": "execute_result"
    }
   ],
   "source": [
    "data.loc[(2018,'Spain')]"
   ]
  },
  {
   "cell_type": "markdown",
   "metadata": {},
   "source": [
    "## CASO 2x2\n",
    "\n",
    "### Multiplex Index Caso de Uso"
   ]
  },
  {
   "cell_type": "code",
   "execution_count": 43,
   "metadata": {},
   "outputs": [
    {
     "data": {
      "text/html": [
       "<div>\n",
       "<style scoped>\n",
       "    .dataframe tbody tr th:only-of-type {\n",
       "        vertical-align: middle;\n",
       "    }\n",
       "\n",
       "    .dataframe tbody tr th {\n",
       "        vertical-align: top;\n",
       "    }\n",
       "\n",
       "    .dataframe thead th {\n",
       "        text-align: right;\n",
       "    }\n",
       "</style>\n",
       "<table border=\"1\" class=\"dataframe\">\n",
       "  <thead>\n",
       "    <tr style=\"text-align: right;\">\n",
       "      <th></th>\n",
       "      <th></th>\n",
       "      <th>data1</th>\n",
       "      <th>data2</th>\n",
       "    </tr>\n",
       "  </thead>\n",
       "  <tbody>\n",
       "    <tr>\n",
       "      <th rowspan=\"2\" valign=\"top\">KAM</th>\n",
       "      <th>1</th>\n",
       "      <td>0.437400</td>\n",
       "      <td>0.357846</td>\n",
       "    </tr>\n",
       "    <tr>\n",
       "      <th>2</th>\n",
       "      <td>0.726400</td>\n",
       "      <td>0.875968</td>\n",
       "    </tr>\n",
       "    <tr>\n",
       "      <th>CC</th>\n",
       "      <th>1</th>\n",
       "      <td>0.208352</td>\n",
       "      <td>0.356216</td>\n",
       "    </tr>\n",
       "    <tr>\n",
       "      <th>RR</th>\n",
       "      <th>2</th>\n",
       "      <td>0.258216</td>\n",
       "      <td>0.853937</td>\n",
       "    </tr>\n",
       "  </tbody>\n",
       "</table>\n",
       "</div>"
      ],
      "text/plain": [
       "          data1     data2\n",
       "KAM 1  0.437400  0.357846\n",
       "    2  0.726400  0.875968\n",
       "CC  1  0.208352  0.356216\n",
       "RR  2  0.258216  0.853937"
      ]
     },
     "execution_count": 43,
     "metadata": {},
     "output_type": "execute_result"
    }
   ],
   "source": [
    "df = pd.DataFrame(np.random.rand(4, 2),\n",
    "                  index=[['KAM', 'KAM', 'CC', 'RR'], [1, 2, 1, 2]],\n",
    "                  columns=['data1', 'data2'])\n",
    "df\n"
   ]
  },
  {
   "cell_type": "code",
   "execution_count": 44,
   "metadata": {},
   "outputs": [
    {
     "data": {
      "text/plain": [
       "MultiIndex([('KAM', 1),\n",
       "            ('KAM', 2),\n",
       "            ( 'CC', 1),\n",
       "            ( 'RR', 2)],\n",
       "           )"
      ]
     },
     "execution_count": 44,
     "metadata": {},
     "output_type": "execute_result"
    }
   ],
   "source": [
    "df.index"
   ]
  },
  {
   "cell_type": "code",
   "execution_count": 45,
   "metadata": {},
   "outputs": [
    {
     "data": {
      "text/html": [
       "<div>\n",
       "<style scoped>\n",
       "    .dataframe tbody tr th:only-of-type {\n",
       "        vertical-align: middle;\n",
       "    }\n",
       "\n",
       "    .dataframe tbody tr th {\n",
       "        vertical-align: top;\n",
       "    }\n",
       "\n",
       "    .dataframe thead tr th {\n",
       "        text-align: left;\n",
       "    }\n",
       "</style>\n",
       "<table border=\"1\" class=\"dataframe\">\n",
       "  <thead>\n",
       "    <tr>\n",
       "      <th></th>\n",
       "      <th></th>\n",
       "      <th></th>\n",
       "      <th></th>\n",
       "      <th colspan=\"2\" halign=\"left\">Bob</th>\n",
       "      <th colspan=\"2\" halign=\"left\">Guido</th>\n",
       "      <th colspan=\"2\" halign=\"left\">Sue</th>\n",
       "    </tr>\n",
       "    <tr>\n",
       "      <th></th>\n",
       "      <th></th>\n",
       "      <th></th>\n",
       "      <th></th>\n",
       "      <th>HR</th>\n",
       "      <th>Temp</th>\n",
       "      <th>HR</th>\n",
       "      <th>Temp</th>\n",
       "      <th>HR</th>\n",
       "      <th>Temp</th>\n",
       "    </tr>\n",
       "  </thead>\n",
       "  <tbody>\n",
       "    <tr>\n",
       "      <th rowspan=\"4\" valign=\"top\">KAM</th>\n",
       "      <th rowspan=\"2\" valign=\"top\">1</th>\n",
       "      <th rowspan=\"2\" valign=\"top\">3</th>\n",
       "      <th>4</th>\n",
       "      <td>36.0</td>\n",
       "      <td>37.2</td>\n",
       "      <td>34.0</td>\n",
       "      <td>35.9</td>\n",
       "      <td>9.0</td>\n",
       "      <td>35.7</td>\n",
       "    </tr>\n",
       "    <tr>\n",
       "      <th>5</th>\n",
       "      <td>14.0</td>\n",
       "      <td>36.4</td>\n",
       "      <td>46.0</td>\n",
       "      <td>36.6</td>\n",
       "      <td>31.0</td>\n",
       "      <td>37.8</td>\n",
       "    </tr>\n",
       "    <tr>\n",
       "      <th rowspan=\"2\" valign=\"top\">2</th>\n",
       "      <th rowspan=\"2\" valign=\"top\">3</th>\n",
       "      <th>4</th>\n",
       "      <td>28.0</td>\n",
       "      <td>37.3</td>\n",
       "      <td>50.0</td>\n",
       "      <td>38.1</td>\n",
       "      <td>30.0</td>\n",
       "      <td>37.6</td>\n",
       "    </tr>\n",
       "    <tr>\n",
       "      <th>5</th>\n",
       "      <td>56.0</td>\n",
       "      <td>37.1</td>\n",
       "      <td>30.0</td>\n",
       "      <td>35.9</td>\n",
       "      <td>46.0</td>\n",
       "      <td>38.5</td>\n",
       "    </tr>\n",
       "    <tr>\n",
       "      <th rowspan=\"4\" valign=\"top\">CC</th>\n",
       "      <th rowspan=\"2\" valign=\"top\">1</th>\n",
       "      <th rowspan=\"2\" valign=\"top\">3</th>\n",
       "      <th>4</th>\n",
       "      <td>26.0</td>\n",
       "      <td>36.3</td>\n",
       "      <td>40.0</td>\n",
       "      <td>38.1</td>\n",
       "      <td>50.0</td>\n",
       "      <td>36.7</td>\n",
       "    </tr>\n",
       "    <tr>\n",
       "      <th>5</th>\n",
       "      <td>35.0</td>\n",
       "      <td>36.3</td>\n",
       "      <td>32.0</td>\n",
       "      <td>38.4</td>\n",
       "      <td>33.0</td>\n",
       "      <td>37.5</td>\n",
       "    </tr>\n",
       "    <tr>\n",
       "      <th rowspan=\"2\" valign=\"top\">2</th>\n",
       "      <th rowspan=\"2\" valign=\"top\">3</th>\n",
       "      <th>4</th>\n",
       "      <td>45.0</td>\n",
       "      <td>37.1</td>\n",
       "      <td>50.0</td>\n",
       "      <td>38.9</td>\n",
       "      <td>46.0</td>\n",
       "      <td>36.9</td>\n",
       "    </tr>\n",
       "    <tr>\n",
       "      <th>5</th>\n",
       "      <td>30.0</td>\n",
       "      <td>38.2</td>\n",
       "      <td>43.0</td>\n",
       "      <td>38.6</td>\n",
       "      <td>45.0</td>\n",
       "      <td>36.9</td>\n",
       "    </tr>\n",
       "    <tr>\n",
       "      <th rowspan=\"4\" valign=\"top\">DDD</th>\n",
       "      <th rowspan=\"2\" valign=\"top\">1</th>\n",
       "      <th rowspan=\"2\" valign=\"top\">3</th>\n",
       "      <th>4</th>\n",
       "      <td>39.0</td>\n",
       "      <td>37.7</td>\n",
       "      <td>18.0</td>\n",
       "      <td>36.8</td>\n",
       "      <td>46.0</td>\n",
       "      <td>36.3</td>\n",
       "    </tr>\n",
       "    <tr>\n",
       "      <th>5</th>\n",
       "      <td>27.0</td>\n",
       "      <td>37.4</td>\n",
       "      <td>20.0</td>\n",
       "      <td>37.2</td>\n",
       "      <td>46.0</td>\n",
       "      <td>38.5</td>\n",
       "    </tr>\n",
       "    <tr>\n",
       "      <th rowspan=\"2\" valign=\"top\">2</th>\n",
       "      <th rowspan=\"2\" valign=\"top\">3</th>\n",
       "      <th>4</th>\n",
       "      <td>38.0</td>\n",
       "      <td>35.0</td>\n",
       "      <td>52.0</td>\n",
       "      <td>37.6</td>\n",
       "      <td>23.0</td>\n",
       "      <td>38.0</td>\n",
       "    </tr>\n",
       "    <tr>\n",
       "      <th>5</th>\n",
       "      <td>41.0</td>\n",
       "      <td>38.2</td>\n",
       "      <td>46.0</td>\n",
       "      <td>36.9</td>\n",
       "      <td>51.0</td>\n",
       "      <td>35.8</td>\n",
       "    </tr>\n",
       "  </tbody>\n",
       "</table>\n",
       "</div>"
      ],
      "text/plain": [
       "            Bob       Guido         Sue      \n",
       "             HR  Temp    HR  Temp    HR  Temp\n",
       "KAM 1 3 4  36.0  37.2  34.0  35.9   9.0  35.7\n",
       "        5  14.0  36.4  46.0  36.6  31.0  37.8\n",
       "    2 3 4  28.0  37.3  50.0  38.1  30.0  37.6\n",
       "        5  56.0  37.1  30.0  35.9  46.0  38.5\n",
       "CC  1 3 4  26.0  36.3  40.0  38.1  50.0  36.7\n",
       "        5  35.0  36.3  32.0  38.4  33.0  37.5\n",
       "    2 3 4  45.0  37.1  50.0  38.9  46.0  36.9\n",
       "        5  30.0  38.2  43.0  38.6  45.0  36.9\n",
       "DDD 1 3 4  39.0  37.7  18.0  36.8  46.0  36.3\n",
       "        5  27.0  37.4  20.0  37.2  46.0  38.5\n",
       "    2 3 4  38.0  35.0  52.0  37.6  23.0  38.0\n",
       "        5  41.0  38.2  46.0  36.9  51.0  35.8"
      ]
     },
     "execution_count": 45,
     "metadata": {},
     "output_type": "execute_result"
    }
   ],
   "source": [
    "# hierarchical indices and columns\n",
    "#index = pd.MultiIndex.from_product([['KAM','CC','DDD'], [1, 2]],\n",
    "#                                   names=['year', 'visit'])\n",
    "\n",
    "index = pd.MultiIndex.from_product([['KAM','CC','DDD'], [1, 2],[3],[4,5]])\n",
    "\n",
    "\n",
    "#columns = pd.MultiIndex.from_product([['Bob', 'Guido', 'Sue'], ['HR', 'Temp']],\n",
    "#                                     names=['subject', 'type'])\n",
    "\n",
    "columns = pd.MultiIndex.from_product([['Bob', 'Guido', 'Sue'], ['HR', 'Temp']],\n",
    "                                     )\n",
    "\n",
    "# mock some data\n",
    "data = np.round(np.random.randn(12, 6), 1)\n",
    "data[:, ::2] *= 10\n",
    "data += 37\n",
    "\n",
    "# create the DataFrame\n",
    "health_data = pd.DataFrame(data, index=index, columns=columns)\n",
    "health_data"
   ]
  },
  {
   "cell_type": "code",
   "execution_count": 46,
   "metadata": {},
   "outputs": [
    {
     "data": {
      "text/plain": [
       "MultiIndex([('KAM', 1, 3, 4),\n",
       "            ('KAM', 1, 3, 5),\n",
       "            ('KAM', 2, 3, 4),\n",
       "            ('KAM', 2, 3, 5),\n",
       "            ( 'CC', 1, 3, 4),\n",
       "            ( 'CC', 1, 3, 5),\n",
       "            ( 'CC', 2, 3, 4),\n",
       "            ( 'CC', 2, 3, 5),\n",
       "            ('DDD', 1, 3, 4),\n",
       "            ('DDD', 1, 3, 5),\n",
       "            ('DDD', 2, 3, 4),\n",
       "            ('DDD', 2, 3, 5)],\n",
       "           )"
      ]
     },
     "execution_count": 46,
     "metadata": {},
     "output_type": "execute_result"
    }
   ],
   "source": [
    "health_data.index"
   ]
  },
  {
   "cell_type": "code",
   "execution_count": 47,
   "metadata": {},
   "outputs": [
    {
     "data": {
      "text/html": [
       "<div>\n",
       "<style scoped>\n",
       "    .dataframe tbody tr th:only-of-type {\n",
       "        vertical-align: middle;\n",
       "    }\n",
       "\n",
       "    .dataframe tbody tr th {\n",
       "        vertical-align: top;\n",
       "    }\n",
       "\n",
       "    .dataframe thead tr th {\n",
       "        text-align: left;\n",
       "    }\n",
       "</style>\n",
       "<table border=\"1\" class=\"dataframe\">\n",
       "  <thead>\n",
       "    <tr>\n",
       "      <th></th>\n",
       "      <th></th>\n",
       "      <th></th>\n",
       "      <th></th>\n",
       "      <th colspan=\"2\" halign=\"left\">Guido</th>\n",
       "    </tr>\n",
       "    <tr>\n",
       "      <th></th>\n",
       "      <th></th>\n",
       "      <th></th>\n",
       "      <th></th>\n",
       "      <th>HR</th>\n",
       "      <th>Temp</th>\n",
       "    </tr>\n",
       "  </thead>\n",
       "  <tbody>\n",
       "    <tr>\n",
       "      <th rowspan=\"2\" valign=\"top\">KAM</th>\n",
       "      <th>1</th>\n",
       "      <th>3</th>\n",
       "      <th>5</th>\n",
       "      <td>46.0</td>\n",
       "      <td>36.6</td>\n",
       "    </tr>\n",
       "    <tr>\n",
       "      <th>2</th>\n",
       "      <th>3</th>\n",
       "      <th>5</th>\n",
       "      <td>30.0</td>\n",
       "      <td>35.9</td>\n",
       "    </tr>\n",
       "  </tbody>\n",
       "</table>\n",
       "</div>"
      ],
      "text/plain": [
       "          Guido      \n",
       "             HR  Temp\n",
       "KAM 1 3 5  46.0  36.6\n",
       "    2 3 5  30.0  35.9"
      ]
     },
     "execution_count": 47,
     "metadata": {},
     "output_type": "execute_result"
    }
   ],
   "source": [
    "# uso loc para multi niveles del indice\n",
    "\n",
    "health_data.loc[('KAM',(1,2),3,(5)),['Guido']][:]"
   ]
  },
  {
   "cell_type": "code",
   "execution_count": 48,
   "metadata": {},
   "outputs": [
    {
     "data": {
      "text/plain": [
       "MultiIndex([(  'Bob',   'HR'),\n",
       "            (  'Bob', 'Temp'),\n",
       "            ('Guido',   'HR'),\n",
       "            ('Guido', 'Temp'),\n",
       "            (  'Sue',   'HR'),\n",
       "            (  'Sue', 'Temp')],\n",
       "           )"
      ]
     },
     "execution_count": 48,
     "metadata": {},
     "output_type": "execute_result"
    }
   ],
   "source": [
    "health_data.columns"
   ]
  },
  {
   "cell_type": "code",
   "execution_count": 49,
   "metadata": {},
   "outputs": [
    {
     "data": {
      "text/html": [
       "<div>\n",
       "<style scoped>\n",
       "    .dataframe tbody tr th:only-of-type {\n",
       "        vertical-align: middle;\n",
       "    }\n",
       "\n",
       "    .dataframe tbody tr th {\n",
       "        vertical-align: top;\n",
       "    }\n",
       "\n",
       "    .dataframe thead tr th {\n",
       "        text-align: left;\n",
       "    }\n",
       "</style>\n",
       "<table border=\"1\" class=\"dataframe\">\n",
       "  <thead>\n",
       "    <tr>\n",
       "      <th></th>\n",
       "      <th></th>\n",
       "      <th></th>\n",
       "      <th></th>\n",
       "      <th></th>\n",
       "      <th></th>\n",
       "      <th colspan=\"2\" halign=\"left\">a</th>\n",
       "      <th colspan=\"2\" halign=\"left\">b</th>\n",
       "      <th colspan=\"2\" halign=\"left\">c</th>\n",
       "    </tr>\n",
       "    <tr>\n",
       "      <th></th>\n",
       "      <th></th>\n",
       "      <th></th>\n",
       "      <th></th>\n",
       "      <th></th>\n",
       "      <th></th>\n",
       "      <th>aa</th>\n",
       "      <th>bb</th>\n",
       "      <th>aa</th>\n",
       "      <th>bb</th>\n",
       "      <th>aa</th>\n",
       "      <th>bb</th>\n",
       "    </tr>\n",
       "  </thead>\n",
       "  <tbody>\n",
       "    <tr>\n",
       "      <th rowspan=\"12\" valign=\"top\">KAM</th>\n",
       "      <th rowspan=\"6\" valign=\"top\">1</th>\n",
       "      <th rowspan=\"6\" valign=\"top\">3</th>\n",
       "      <th rowspan=\"3\" valign=\"top\">4</th>\n",
       "      <th>6</th>\n",
       "      <th>9</th>\n",
       "      <td>41.0</td>\n",
       "      <td>37.2</td>\n",
       "      <td>37.0</td>\n",
       "      <td>36.0</td>\n",
       "      <td>39.0</td>\n",
       "      <td>38.1</td>\n",
       "    </tr>\n",
       "    <tr>\n",
       "      <th>7</th>\n",
       "      <th>9</th>\n",
       "      <td>35.0</td>\n",
       "      <td>37.0</td>\n",
       "      <td>49.0</td>\n",
       "      <td>36.6</td>\n",
       "      <td>54.0</td>\n",
       "      <td>37.0</td>\n",
       "    </tr>\n",
       "    <tr>\n",
       "      <th>8</th>\n",
       "      <th>9</th>\n",
       "      <td>44.0</td>\n",
       "      <td>36.0</td>\n",
       "      <td>57.0</td>\n",
       "      <td>38.5</td>\n",
       "      <td>25.0</td>\n",
       "      <td>37.2</td>\n",
       "    </tr>\n",
       "    <tr>\n",
       "      <th rowspan=\"3\" valign=\"top\">5</th>\n",
       "      <th>6</th>\n",
       "      <th>9</th>\n",
       "      <td>36.0</td>\n",
       "      <td>35.9</td>\n",
       "      <td>29.0</td>\n",
       "      <td>37.5</td>\n",
       "      <td>30.0</td>\n",
       "      <td>38.2</td>\n",
       "    </tr>\n",
       "    <tr>\n",
       "      <th>7</th>\n",
       "      <th>9</th>\n",
       "      <td>36.0</td>\n",
       "      <td>36.0</td>\n",
       "      <td>50.0</td>\n",
       "      <td>36.6</td>\n",
       "      <td>43.0</td>\n",
       "      <td>36.8</td>\n",
       "    </tr>\n",
       "    <tr>\n",
       "      <th>8</th>\n",
       "      <th>9</th>\n",
       "      <td>18.0</td>\n",
       "      <td>36.5</td>\n",
       "      <td>50.0</td>\n",
       "      <td>37.3</td>\n",
       "      <td>42.0</td>\n",
       "      <td>36.1</td>\n",
       "    </tr>\n",
       "    <tr>\n",
       "      <th rowspan=\"6\" valign=\"top\">2</th>\n",
       "      <th rowspan=\"6\" valign=\"top\">3</th>\n",
       "      <th rowspan=\"3\" valign=\"top\">4</th>\n",
       "      <th>6</th>\n",
       "      <th>9</th>\n",
       "      <td>28.0</td>\n",
       "      <td>38.9</td>\n",
       "      <td>32.0</td>\n",
       "      <td>36.3</td>\n",
       "      <td>34.0</td>\n",
       "      <td>36.9</td>\n",
       "    </tr>\n",
       "    <tr>\n",
       "      <th>7</th>\n",
       "      <th>9</th>\n",
       "      <td>20.0</td>\n",
       "      <td>37.9</td>\n",
       "      <td>13.0</td>\n",
       "      <td>38.4</td>\n",
       "      <td>26.0</td>\n",
       "      <td>38.1</td>\n",
       "    </tr>\n",
       "    <tr>\n",
       "      <th>8</th>\n",
       "      <th>9</th>\n",
       "      <td>37.0</td>\n",
       "      <td>36.7</td>\n",
       "      <td>30.0</td>\n",
       "      <td>36.2</td>\n",
       "      <td>32.0</td>\n",
       "      <td>36.9</td>\n",
       "    </tr>\n",
       "    <tr>\n",
       "      <th rowspan=\"3\" valign=\"top\">5</th>\n",
       "      <th>6</th>\n",
       "      <th>9</th>\n",
       "      <td>27.0</td>\n",
       "      <td>38.2</td>\n",
       "      <td>31.0</td>\n",
       "      <td>35.9</td>\n",
       "      <td>26.0</td>\n",
       "      <td>36.9</td>\n",
       "    </tr>\n",
       "    <tr>\n",
       "      <th>7</th>\n",
       "      <th>9</th>\n",
       "      <td>46.0</td>\n",
       "      <td>37.0</td>\n",
       "      <td>33.0</td>\n",
       "      <td>37.6</td>\n",
       "      <td>30.0</td>\n",
       "      <td>36.1</td>\n",
       "    </tr>\n",
       "    <tr>\n",
       "      <th>8</th>\n",
       "      <th>9</th>\n",
       "      <td>30.0</td>\n",
       "      <td>36.7</td>\n",
       "      <td>22.0</td>\n",
       "      <td>37.4</td>\n",
       "      <td>46.0</td>\n",
       "      <td>36.6</td>\n",
       "    </tr>\n",
       "    <tr>\n",
       "      <th rowspan=\"12\" valign=\"top\">CC</th>\n",
       "      <th rowspan=\"6\" valign=\"top\">1</th>\n",
       "      <th rowspan=\"6\" valign=\"top\">3</th>\n",
       "      <th rowspan=\"3\" valign=\"top\">4</th>\n",
       "      <th>6</th>\n",
       "      <th>9</th>\n",
       "      <td>19.0</td>\n",
       "      <td>37.5</td>\n",
       "      <td>37.0</td>\n",
       "      <td>38.9</td>\n",
       "      <td>36.0</td>\n",
       "      <td>36.3</td>\n",
       "    </tr>\n",
       "    <tr>\n",
       "      <th>7</th>\n",
       "      <th>9</th>\n",
       "      <td>42.0</td>\n",
       "      <td>35.4</td>\n",
       "      <td>48.0</td>\n",
       "      <td>37.4</td>\n",
       "      <td>40.0</td>\n",
       "      <td>37.1</td>\n",
       "    </tr>\n",
       "    <tr>\n",
       "      <th>8</th>\n",
       "      <th>9</th>\n",
       "      <td>32.0</td>\n",
       "      <td>36.8</td>\n",
       "      <td>29.0</td>\n",
       "      <td>37.5</td>\n",
       "      <td>34.0</td>\n",
       "      <td>36.9</td>\n",
       "    </tr>\n",
       "    <tr>\n",
       "      <th rowspan=\"3\" valign=\"top\">5</th>\n",
       "      <th>6</th>\n",
       "      <th>9</th>\n",
       "      <td>27.0</td>\n",
       "      <td>37.9</td>\n",
       "      <td>54.0</td>\n",
       "      <td>35.7</td>\n",
       "      <td>44.0</td>\n",
       "      <td>36.9</td>\n",
       "    </tr>\n",
       "    <tr>\n",
       "      <th>7</th>\n",
       "      <th>9</th>\n",
       "      <td>32.0</td>\n",
       "      <td>35.7</td>\n",
       "      <td>54.0</td>\n",
       "      <td>37.7</td>\n",
       "      <td>43.0</td>\n",
       "      <td>36.7</td>\n",
       "    </tr>\n",
       "    <tr>\n",
       "      <th>8</th>\n",
       "      <th>9</th>\n",
       "      <td>35.0</td>\n",
       "      <td>35.9</td>\n",
       "      <td>15.0</td>\n",
       "      <td>38.2</td>\n",
       "      <td>41.0</td>\n",
       "      <td>36.7</td>\n",
       "    </tr>\n",
       "    <tr>\n",
       "      <th rowspan=\"6\" valign=\"top\">2</th>\n",
       "      <th rowspan=\"6\" valign=\"top\">3</th>\n",
       "      <th rowspan=\"3\" valign=\"top\">4</th>\n",
       "      <th>6</th>\n",
       "      <th>9</th>\n",
       "      <td>46.0</td>\n",
       "      <td>38.9</td>\n",
       "      <td>41.0</td>\n",
       "      <td>36.3</td>\n",
       "      <td>52.0</td>\n",
       "      <td>38.6</td>\n",
       "    </tr>\n",
       "    <tr>\n",
       "      <th>7</th>\n",
       "      <th>9</th>\n",
       "      <td>42.0</td>\n",
       "      <td>36.8</td>\n",
       "      <td>36.0</td>\n",
       "      <td>37.6</td>\n",
       "      <td>30.0</td>\n",
       "      <td>37.8</td>\n",
       "    </tr>\n",
       "    <tr>\n",
       "      <th>8</th>\n",
       "      <th>9</th>\n",
       "      <td>36.0</td>\n",
       "      <td>35.1</td>\n",
       "      <td>38.0</td>\n",
       "      <td>36.1</td>\n",
       "      <td>45.0</td>\n",
       "      <td>37.5</td>\n",
       "    </tr>\n",
       "    <tr>\n",
       "      <th rowspan=\"3\" valign=\"top\">5</th>\n",
       "      <th>6</th>\n",
       "      <th>9</th>\n",
       "      <td>44.0</td>\n",
       "      <td>36.6</td>\n",
       "      <td>46.0</td>\n",
       "      <td>37.1</td>\n",
       "      <td>43.0</td>\n",
       "      <td>36.1</td>\n",
       "    </tr>\n",
       "    <tr>\n",
       "      <th>7</th>\n",
       "      <th>9</th>\n",
       "      <td>36.0</td>\n",
       "      <td>36.0</td>\n",
       "      <td>48.0</td>\n",
       "      <td>37.9</td>\n",
       "      <td>51.0</td>\n",
       "      <td>37.8</td>\n",
       "    </tr>\n",
       "    <tr>\n",
       "      <th>8</th>\n",
       "      <th>9</th>\n",
       "      <td>32.0</td>\n",
       "      <td>35.8</td>\n",
       "      <td>31.0</td>\n",
       "      <td>36.1</td>\n",
       "      <td>38.0</td>\n",
       "      <td>37.6</td>\n",
       "    </tr>\n",
       "    <tr>\n",
       "      <th rowspan=\"12\" valign=\"top\">DDD</th>\n",
       "      <th rowspan=\"6\" valign=\"top\">1</th>\n",
       "      <th rowspan=\"6\" valign=\"top\">3</th>\n",
       "      <th rowspan=\"3\" valign=\"top\">4</th>\n",
       "      <th>6</th>\n",
       "      <th>9</th>\n",
       "      <td>45.0</td>\n",
       "      <td>36.2</td>\n",
       "      <td>43.0</td>\n",
       "      <td>36.8</td>\n",
       "      <td>56.0</td>\n",
       "      <td>39.3</td>\n",
       "    </tr>\n",
       "    <tr>\n",
       "      <th>7</th>\n",
       "      <th>9</th>\n",
       "      <td>33.0</td>\n",
       "      <td>36.3</td>\n",
       "      <td>42.0</td>\n",
       "      <td>35.7</td>\n",
       "      <td>31.0</td>\n",
       "      <td>38.9</td>\n",
       "    </tr>\n",
       "    <tr>\n",
       "      <th>8</th>\n",
       "      <th>9</th>\n",
       "      <td>22.0</td>\n",
       "      <td>39.1</td>\n",
       "      <td>32.0</td>\n",
       "      <td>35.5</td>\n",
       "      <td>33.0</td>\n",
       "      <td>37.4</td>\n",
       "    </tr>\n",
       "    <tr>\n",
       "      <th rowspan=\"3\" valign=\"top\">5</th>\n",
       "      <th>6</th>\n",
       "      <th>9</th>\n",
       "      <td>36.0</td>\n",
       "      <td>36.5</td>\n",
       "      <td>50.0</td>\n",
       "      <td>36.3</td>\n",
       "      <td>35.0</td>\n",
       "      <td>37.2</td>\n",
       "    </tr>\n",
       "    <tr>\n",
       "      <th>7</th>\n",
       "      <th>9</th>\n",
       "      <td>37.0</td>\n",
       "      <td>36.0</td>\n",
       "      <td>36.0</td>\n",
       "      <td>36.8</td>\n",
       "      <td>23.0</td>\n",
       "      <td>35.2</td>\n",
       "    </tr>\n",
       "    <tr>\n",
       "      <th>8</th>\n",
       "      <th>9</th>\n",
       "      <td>36.0</td>\n",
       "      <td>37.9</td>\n",
       "      <td>25.0</td>\n",
       "      <td>35.9</td>\n",
       "      <td>52.0</td>\n",
       "      <td>36.2</td>\n",
       "    </tr>\n",
       "    <tr>\n",
       "      <th rowspan=\"6\" valign=\"top\">2</th>\n",
       "      <th rowspan=\"6\" valign=\"top\">3</th>\n",
       "      <th rowspan=\"3\" valign=\"top\">4</th>\n",
       "      <th>6</th>\n",
       "      <th>9</th>\n",
       "      <td>28.0</td>\n",
       "      <td>38.0</td>\n",
       "      <td>27.0</td>\n",
       "      <td>36.9</td>\n",
       "      <td>37.0</td>\n",
       "      <td>37.2</td>\n",
       "    </tr>\n",
       "    <tr>\n",
       "      <th>7</th>\n",
       "      <th>9</th>\n",
       "      <td>37.0</td>\n",
       "      <td>37.1</td>\n",
       "      <td>40.0</td>\n",
       "      <td>38.3</td>\n",
       "      <td>33.0</td>\n",
       "      <td>37.4</td>\n",
       "    </tr>\n",
       "    <tr>\n",
       "      <th>8</th>\n",
       "      <th>9</th>\n",
       "      <td>18.0</td>\n",
       "      <td>38.4</td>\n",
       "      <td>23.0</td>\n",
       "      <td>38.3</td>\n",
       "      <td>59.0</td>\n",
       "      <td>37.7</td>\n",
       "    </tr>\n",
       "    <tr>\n",
       "      <th rowspan=\"3\" valign=\"top\">5</th>\n",
       "      <th>6</th>\n",
       "      <th>9</th>\n",
       "      <td>35.0</td>\n",
       "      <td>37.0</td>\n",
       "      <td>28.0</td>\n",
       "      <td>38.2</td>\n",
       "      <td>50.0</td>\n",
       "      <td>37.5</td>\n",
       "    </tr>\n",
       "    <tr>\n",
       "      <th>7</th>\n",
       "      <th>9</th>\n",
       "      <td>32.0</td>\n",
       "      <td>38.2</td>\n",
       "      <td>28.0</td>\n",
       "      <td>36.6</td>\n",
       "      <td>53.0</td>\n",
       "      <td>36.6</td>\n",
       "    </tr>\n",
       "    <tr>\n",
       "      <th>8</th>\n",
       "      <th>9</th>\n",
       "      <td>32.0</td>\n",
       "      <td>36.4</td>\n",
       "      <td>29.0</td>\n",
       "      <td>37.1</td>\n",
       "      <td>48.0</td>\n",
       "      <td>38.2</td>\n",
       "    </tr>\n",
       "  </tbody>\n",
       "</table>\n",
       "</div>"
      ],
      "text/plain": [
       "                  a           b           c      \n",
       "                 aa    bb    aa    bb    aa    bb\n",
       "KAM 1 3 4 6 9  41.0  37.2  37.0  36.0  39.0  38.1\n",
       "          7 9  35.0  37.0  49.0  36.6  54.0  37.0\n",
       "          8 9  44.0  36.0  57.0  38.5  25.0  37.2\n",
       "        5 6 9  36.0  35.9  29.0  37.5  30.0  38.2\n",
       "          7 9  36.0  36.0  50.0  36.6  43.0  36.8\n",
       "          8 9  18.0  36.5  50.0  37.3  42.0  36.1\n",
       "    2 3 4 6 9  28.0  38.9  32.0  36.3  34.0  36.9\n",
       "          7 9  20.0  37.9  13.0  38.4  26.0  38.1\n",
       "          8 9  37.0  36.7  30.0  36.2  32.0  36.9\n",
       "        5 6 9  27.0  38.2  31.0  35.9  26.0  36.9\n",
       "          7 9  46.0  37.0  33.0  37.6  30.0  36.1\n",
       "          8 9  30.0  36.7  22.0  37.4  46.0  36.6\n",
       "CC  1 3 4 6 9  19.0  37.5  37.0  38.9  36.0  36.3\n",
       "          7 9  42.0  35.4  48.0  37.4  40.0  37.1\n",
       "          8 9  32.0  36.8  29.0  37.5  34.0  36.9\n",
       "        5 6 9  27.0  37.9  54.0  35.7  44.0  36.9\n",
       "          7 9  32.0  35.7  54.0  37.7  43.0  36.7\n",
       "          8 9  35.0  35.9  15.0  38.2  41.0  36.7\n",
       "    2 3 4 6 9  46.0  38.9  41.0  36.3  52.0  38.6\n",
       "          7 9  42.0  36.8  36.0  37.6  30.0  37.8\n",
       "          8 9  36.0  35.1  38.0  36.1  45.0  37.5\n",
       "        5 6 9  44.0  36.6  46.0  37.1  43.0  36.1\n",
       "          7 9  36.0  36.0  48.0  37.9  51.0  37.8\n",
       "          8 9  32.0  35.8  31.0  36.1  38.0  37.6\n",
       "DDD 1 3 4 6 9  45.0  36.2  43.0  36.8  56.0  39.3\n",
       "          7 9  33.0  36.3  42.0  35.7  31.0  38.9\n",
       "          8 9  22.0  39.1  32.0  35.5  33.0  37.4\n",
       "        5 6 9  36.0  36.5  50.0  36.3  35.0  37.2\n",
       "          7 9  37.0  36.0  36.0  36.8  23.0  35.2\n",
       "          8 9  36.0  37.9  25.0  35.9  52.0  36.2\n",
       "    2 3 4 6 9  28.0  38.0  27.0  36.9  37.0  37.2\n",
       "          7 9  37.0  37.1  40.0  38.3  33.0  37.4\n",
       "          8 9  18.0  38.4  23.0  38.3  59.0  37.7\n",
       "        5 6 9  35.0  37.0  28.0  38.2  50.0  37.5\n",
       "          7 9  32.0  38.2  28.0  36.6  53.0  36.6\n",
       "          8 9  32.0  36.4  29.0  37.1  48.0  38.2"
      ]
     },
     "execution_count": 49,
     "metadata": {},
     "output_type": "execute_result"
    }
   ],
   "source": [
    "# hierarchical indices and columns\n",
    "\n",
    "import pandas as pd\n",
    "import numpy as np\n",
    "\n",
    "\n",
    "# index = pd.MultiIndex.from_product([ [lista para los levels] ])\n",
    "\n",
    "index = pd.MultiIndex.from_product([\n",
    "                                    ['KAM','CC','DDD'], #level 0\n",
    "                                    [1, 2], #level 1\n",
    "                                    [3],    #level 2 \n",
    "                                    [4,5],   #level 3\n",
    "                                    [6,7,8]  #level 4\n",
    "                                    ,[9]      #level 5\n",
    "                                    ])\n",
    "\n",
    "\n",
    "columns = pd.MultiIndex.from_product([\n",
    "                                      ['a', 'b', 'c'],    #lavel 0\n",
    "                                      ['aa', 'bb'],       #level 1\n",
    "                                      ])\n",
    "\n",
    "# mock some data\n",
    "data = np.round(np.random.randn(36,6), 1)\n",
    "data[:, ::2] *= 10\n",
    "data += 37\n",
    "\n",
    "# create the DataFrame\n",
    "health_data = pd.DataFrame(data, index=index, columns=columns)\n",
    "health_data"
   ]
  },
  {
   "cell_type": "code",
   "execution_count": 50,
   "metadata": {},
   "outputs": [
    {
     "data": {
      "text/plain": [
       "a  bb    36.4\n",
       "c  bb    38.2\n",
       "Name: (DDD, 2, 3, 5, 8, 9), dtype: float64"
      ]
     },
     "execution_count": 50,
     "metadata": {},
     "output_type": "execute_result"
    }
   ],
   "source": [
    "# posición usando loc para multiplex index\n",
    "health_data.loc[('DDD',(2),3,(5),8,9),[('a','bb'),('c','bb')]]"
   ]
  },
  {
   "cell_type": "code",
   "execution_count": 51,
   "metadata": {},
   "outputs": [
    {
     "data": {
      "text/plain": [
       "Int64Index([9, 9, 9, 9, 9, 9, 9, 9, 9, 9, 9, 9, 9, 9, 9, 9, 9, 9, 9, 9, 9, 9,\n",
       "            9, 9, 9, 9, 9, 9, 9, 9, 9, 9, 9, 9, 9, 9],\n",
       "           dtype='int64')"
      ]
     },
     "execution_count": 51,
     "metadata": {},
     "output_type": "execute_result"
    }
   ],
   "source": [
    "health_data.index.get_level_values(5)"
   ]
  },
  {
   "cell_type": "code",
   "execution_count": 52,
   "metadata": {},
   "outputs": [
    {
     "data": {
      "text/html": [
       "<div>\n",
       "<style scoped>\n",
       "    .dataframe tbody tr th:only-of-type {\n",
       "        vertical-align: middle;\n",
       "    }\n",
       "\n",
       "    .dataframe tbody tr th {\n",
       "        vertical-align: top;\n",
       "    }\n",
       "\n",
       "    .dataframe thead tr th {\n",
       "        text-align: left;\n",
       "    }\n",
       "</style>\n",
       "<table border=\"1\" class=\"dataframe\">\n",
       "  <thead>\n",
       "    <tr>\n",
       "      <th></th>\n",
       "      <th>level_0</th>\n",
       "      <th>level_1</th>\n",
       "      <th>level_2</th>\n",
       "      <th>level_3</th>\n",
       "      <th>level_4</th>\n",
       "      <th>level_5</th>\n",
       "      <th colspan=\"2\" halign=\"left\">a</th>\n",
       "      <th colspan=\"2\" halign=\"left\">b</th>\n",
       "      <th colspan=\"2\" halign=\"left\">c</th>\n",
       "    </tr>\n",
       "    <tr>\n",
       "      <th></th>\n",
       "      <th></th>\n",
       "      <th></th>\n",
       "      <th></th>\n",
       "      <th></th>\n",
       "      <th></th>\n",
       "      <th></th>\n",
       "      <th>aa</th>\n",
       "      <th>bb</th>\n",
       "      <th>aa</th>\n",
       "      <th>bb</th>\n",
       "      <th>aa</th>\n",
       "      <th>bb</th>\n",
       "    </tr>\n",
       "  </thead>\n",
       "  <tbody>\n",
       "    <tr>\n",
       "      <th>0</th>\n",
       "      <td>KAM</td>\n",
       "      <td>1</td>\n",
       "      <td>3</td>\n",
       "      <td>4</td>\n",
       "      <td>6</td>\n",
       "      <td>9</td>\n",
       "      <td>41.0</td>\n",
       "      <td>37.2</td>\n",
       "      <td>37.0</td>\n",
       "      <td>36.0</td>\n",
       "      <td>39.0</td>\n",
       "      <td>38.1</td>\n",
       "    </tr>\n",
       "    <tr>\n",
       "      <th>1</th>\n",
       "      <td>KAM</td>\n",
       "      <td>1</td>\n",
       "      <td>3</td>\n",
       "      <td>4</td>\n",
       "      <td>7</td>\n",
       "      <td>9</td>\n",
       "      <td>35.0</td>\n",
       "      <td>37.0</td>\n",
       "      <td>49.0</td>\n",
       "      <td>36.6</td>\n",
       "      <td>54.0</td>\n",
       "      <td>37.0</td>\n",
       "    </tr>\n",
       "    <tr>\n",
       "      <th>2</th>\n",
       "      <td>KAM</td>\n",
       "      <td>1</td>\n",
       "      <td>3</td>\n",
       "      <td>4</td>\n",
       "      <td>8</td>\n",
       "      <td>9</td>\n",
       "      <td>44.0</td>\n",
       "      <td>36.0</td>\n",
       "      <td>57.0</td>\n",
       "      <td>38.5</td>\n",
       "      <td>25.0</td>\n",
       "      <td>37.2</td>\n",
       "    </tr>\n",
       "    <tr>\n",
       "      <th>3</th>\n",
       "      <td>KAM</td>\n",
       "      <td>1</td>\n",
       "      <td>3</td>\n",
       "      <td>5</td>\n",
       "      <td>6</td>\n",
       "      <td>9</td>\n",
       "      <td>36.0</td>\n",
       "      <td>35.9</td>\n",
       "      <td>29.0</td>\n",
       "      <td>37.5</td>\n",
       "      <td>30.0</td>\n",
       "      <td>38.2</td>\n",
       "    </tr>\n",
       "    <tr>\n",
       "      <th>4</th>\n",
       "      <td>KAM</td>\n",
       "      <td>1</td>\n",
       "      <td>3</td>\n",
       "      <td>5</td>\n",
       "      <td>7</td>\n",
       "      <td>9</td>\n",
       "      <td>36.0</td>\n",
       "      <td>36.0</td>\n",
       "      <td>50.0</td>\n",
       "      <td>36.6</td>\n",
       "      <td>43.0</td>\n",
       "      <td>36.8</td>\n",
       "    </tr>\n",
       "    <tr>\n",
       "      <th>5</th>\n",
       "      <td>KAM</td>\n",
       "      <td>1</td>\n",
       "      <td>3</td>\n",
       "      <td>5</td>\n",
       "      <td>8</td>\n",
       "      <td>9</td>\n",
       "      <td>18.0</td>\n",
       "      <td>36.5</td>\n",
       "      <td>50.0</td>\n",
       "      <td>37.3</td>\n",
       "      <td>42.0</td>\n",
       "      <td>36.1</td>\n",
       "    </tr>\n",
       "    <tr>\n",
       "      <th>6</th>\n",
       "      <td>KAM</td>\n",
       "      <td>2</td>\n",
       "      <td>3</td>\n",
       "      <td>4</td>\n",
       "      <td>6</td>\n",
       "      <td>9</td>\n",
       "      <td>28.0</td>\n",
       "      <td>38.9</td>\n",
       "      <td>32.0</td>\n",
       "      <td>36.3</td>\n",
       "      <td>34.0</td>\n",
       "      <td>36.9</td>\n",
       "    </tr>\n",
       "    <tr>\n",
       "      <th>7</th>\n",
       "      <td>KAM</td>\n",
       "      <td>2</td>\n",
       "      <td>3</td>\n",
       "      <td>4</td>\n",
       "      <td>7</td>\n",
       "      <td>9</td>\n",
       "      <td>20.0</td>\n",
       "      <td>37.9</td>\n",
       "      <td>13.0</td>\n",
       "      <td>38.4</td>\n",
       "      <td>26.0</td>\n",
       "      <td>38.1</td>\n",
       "    </tr>\n",
       "    <tr>\n",
       "      <th>8</th>\n",
       "      <td>KAM</td>\n",
       "      <td>2</td>\n",
       "      <td>3</td>\n",
       "      <td>4</td>\n",
       "      <td>8</td>\n",
       "      <td>9</td>\n",
       "      <td>37.0</td>\n",
       "      <td>36.7</td>\n",
       "      <td>30.0</td>\n",
       "      <td>36.2</td>\n",
       "      <td>32.0</td>\n",
       "      <td>36.9</td>\n",
       "    </tr>\n",
       "    <tr>\n",
       "      <th>9</th>\n",
       "      <td>KAM</td>\n",
       "      <td>2</td>\n",
       "      <td>3</td>\n",
       "      <td>5</td>\n",
       "      <td>6</td>\n",
       "      <td>9</td>\n",
       "      <td>27.0</td>\n",
       "      <td>38.2</td>\n",
       "      <td>31.0</td>\n",
       "      <td>35.9</td>\n",
       "      <td>26.0</td>\n",
       "      <td>36.9</td>\n",
       "    </tr>\n",
       "    <tr>\n",
       "      <th>10</th>\n",
       "      <td>KAM</td>\n",
       "      <td>2</td>\n",
       "      <td>3</td>\n",
       "      <td>5</td>\n",
       "      <td>7</td>\n",
       "      <td>9</td>\n",
       "      <td>46.0</td>\n",
       "      <td>37.0</td>\n",
       "      <td>33.0</td>\n",
       "      <td>37.6</td>\n",
       "      <td>30.0</td>\n",
       "      <td>36.1</td>\n",
       "    </tr>\n",
       "    <tr>\n",
       "      <th>11</th>\n",
       "      <td>KAM</td>\n",
       "      <td>2</td>\n",
       "      <td>3</td>\n",
       "      <td>5</td>\n",
       "      <td>8</td>\n",
       "      <td>9</td>\n",
       "      <td>30.0</td>\n",
       "      <td>36.7</td>\n",
       "      <td>22.0</td>\n",
       "      <td>37.4</td>\n",
       "      <td>46.0</td>\n",
       "      <td>36.6</td>\n",
       "    </tr>\n",
       "    <tr>\n",
       "      <th>12</th>\n",
       "      <td>CC</td>\n",
       "      <td>1</td>\n",
       "      <td>3</td>\n",
       "      <td>4</td>\n",
       "      <td>6</td>\n",
       "      <td>9</td>\n",
       "      <td>19.0</td>\n",
       "      <td>37.5</td>\n",
       "      <td>37.0</td>\n",
       "      <td>38.9</td>\n",
       "      <td>36.0</td>\n",
       "      <td>36.3</td>\n",
       "    </tr>\n",
       "    <tr>\n",
       "      <th>13</th>\n",
       "      <td>CC</td>\n",
       "      <td>1</td>\n",
       "      <td>3</td>\n",
       "      <td>4</td>\n",
       "      <td>7</td>\n",
       "      <td>9</td>\n",
       "      <td>42.0</td>\n",
       "      <td>35.4</td>\n",
       "      <td>48.0</td>\n",
       "      <td>37.4</td>\n",
       "      <td>40.0</td>\n",
       "      <td>37.1</td>\n",
       "    </tr>\n",
       "    <tr>\n",
       "      <th>14</th>\n",
       "      <td>CC</td>\n",
       "      <td>1</td>\n",
       "      <td>3</td>\n",
       "      <td>4</td>\n",
       "      <td>8</td>\n",
       "      <td>9</td>\n",
       "      <td>32.0</td>\n",
       "      <td>36.8</td>\n",
       "      <td>29.0</td>\n",
       "      <td>37.5</td>\n",
       "      <td>34.0</td>\n",
       "      <td>36.9</td>\n",
       "    </tr>\n",
       "    <tr>\n",
       "      <th>15</th>\n",
       "      <td>CC</td>\n",
       "      <td>1</td>\n",
       "      <td>3</td>\n",
       "      <td>5</td>\n",
       "      <td>6</td>\n",
       "      <td>9</td>\n",
       "      <td>27.0</td>\n",
       "      <td>37.9</td>\n",
       "      <td>54.0</td>\n",
       "      <td>35.7</td>\n",
       "      <td>44.0</td>\n",
       "      <td>36.9</td>\n",
       "    </tr>\n",
       "    <tr>\n",
       "      <th>16</th>\n",
       "      <td>CC</td>\n",
       "      <td>1</td>\n",
       "      <td>3</td>\n",
       "      <td>5</td>\n",
       "      <td>7</td>\n",
       "      <td>9</td>\n",
       "      <td>32.0</td>\n",
       "      <td>35.7</td>\n",
       "      <td>54.0</td>\n",
       "      <td>37.7</td>\n",
       "      <td>43.0</td>\n",
       "      <td>36.7</td>\n",
       "    </tr>\n",
       "    <tr>\n",
       "      <th>17</th>\n",
       "      <td>CC</td>\n",
       "      <td>1</td>\n",
       "      <td>3</td>\n",
       "      <td>5</td>\n",
       "      <td>8</td>\n",
       "      <td>9</td>\n",
       "      <td>35.0</td>\n",
       "      <td>35.9</td>\n",
       "      <td>15.0</td>\n",
       "      <td>38.2</td>\n",
       "      <td>41.0</td>\n",
       "      <td>36.7</td>\n",
       "    </tr>\n",
       "    <tr>\n",
       "      <th>18</th>\n",
       "      <td>CC</td>\n",
       "      <td>2</td>\n",
       "      <td>3</td>\n",
       "      <td>4</td>\n",
       "      <td>6</td>\n",
       "      <td>9</td>\n",
       "      <td>46.0</td>\n",
       "      <td>38.9</td>\n",
       "      <td>41.0</td>\n",
       "      <td>36.3</td>\n",
       "      <td>52.0</td>\n",
       "      <td>38.6</td>\n",
       "    </tr>\n",
       "    <tr>\n",
       "      <th>19</th>\n",
       "      <td>CC</td>\n",
       "      <td>2</td>\n",
       "      <td>3</td>\n",
       "      <td>4</td>\n",
       "      <td>7</td>\n",
       "      <td>9</td>\n",
       "      <td>42.0</td>\n",
       "      <td>36.8</td>\n",
       "      <td>36.0</td>\n",
       "      <td>37.6</td>\n",
       "      <td>30.0</td>\n",
       "      <td>37.8</td>\n",
       "    </tr>\n",
       "    <tr>\n",
       "      <th>20</th>\n",
       "      <td>CC</td>\n",
       "      <td>2</td>\n",
       "      <td>3</td>\n",
       "      <td>4</td>\n",
       "      <td>8</td>\n",
       "      <td>9</td>\n",
       "      <td>36.0</td>\n",
       "      <td>35.1</td>\n",
       "      <td>38.0</td>\n",
       "      <td>36.1</td>\n",
       "      <td>45.0</td>\n",
       "      <td>37.5</td>\n",
       "    </tr>\n",
       "    <tr>\n",
       "      <th>21</th>\n",
       "      <td>CC</td>\n",
       "      <td>2</td>\n",
       "      <td>3</td>\n",
       "      <td>5</td>\n",
       "      <td>6</td>\n",
       "      <td>9</td>\n",
       "      <td>44.0</td>\n",
       "      <td>36.6</td>\n",
       "      <td>46.0</td>\n",
       "      <td>37.1</td>\n",
       "      <td>43.0</td>\n",
       "      <td>36.1</td>\n",
       "    </tr>\n",
       "    <tr>\n",
       "      <th>22</th>\n",
       "      <td>CC</td>\n",
       "      <td>2</td>\n",
       "      <td>3</td>\n",
       "      <td>5</td>\n",
       "      <td>7</td>\n",
       "      <td>9</td>\n",
       "      <td>36.0</td>\n",
       "      <td>36.0</td>\n",
       "      <td>48.0</td>\n",
       "      <td>37.9</td>\n",
       "      <td>51.0</td>\n",
       "      <td>37.8</td>\n",
       "    </tr>\n",
       "    <tr>\n",
       "      <th>23</th>\n",
       "      <td>CC</td>\n",
       "      <td>2</td>\n",
       "      <td>3</td>\n",
       "      <td>5</td>\n",
       "      <td>8</td>\n",
       "      <td>9</td>\n",
       "      <td>32.0</td>\n",
       "      <td>35.8</td>\n",
       "      <td>31.0</td>\n",
       "      <td>36.1</td>\n",
       "      <td>38.0</td>\n",
       "      <td>37.6</td>\n",
       "    </tr>\n",
       "    <tr>\n",
       "      <th>24</th>\n",
       "      <td>DDD</td>\n",
       "      <td>1</td>\n",
       "      <td>3</td>\n",
       "      <td>4</td>\n",
       "      <td>6</td>\n",
       "      <td>9</td>\n",
       "      <td>45.0</td>\n",
       "      <td>36.2</td>\n",
       "      <td>43.0</td>\n",
       "      <td>36.8</td>\n",
       "      <td>56.0</td>\n",
       "      <td>39.3</td>\n",
       "    </tr>\n",
       "    <tr>\n",
       "      <th>25</th>\n",
       "      <td>DDD</td>\n",
       "      <td>1</td>\n",
       "      <td>3</td>\n",
       "      <td>4</td>\n",
       "      <td>7</td>\n",
       "      <td>9</td>\n",
       "      <td>33.0</td>\n",
       "      <td>36.3</td>\n",
       "      <td>42.0</td>\n",
       "      <td>35.7</td>\n",
       "      <td>31.0</td>\n",
       "      <td>38.9</td>\n",
       "    </tr>\n",
       "    <tr>\n",
       "      <th>26</th>\n",
       "      <td>DDD</td>\n",
       "      <td>1</td>\n",
       "      <td>3</td>\n",
       "      <td>4</td>\n",
       "      <td>8</td>\n",
       "      <td>9</td>\n",
       "      <td>22.0</td>\n",
       "      <td>39.1</td>\n",
       "      <td>32.0</td>\n",
       "      <td>35.5</td>\n",
       "      <td>33.0</td>\n",
       "      <td>37.4</td>\n",
       "    </tr>\n",
       "    <tr>\n",
       "      <th>27</th>\n",
       "      <td>DDD</td>\n",
       "      <td>1</td>\n",
       "      <td>3</td>\n",
       "      <td>5</td>\n",
       "      <td>6</td>\n",
       "      <td>9</td>\n",
       "      <td>36.0</td>\n",
       "      <td>36.5</td>\n",
       "      <td>50.0</td>\n",
       "      <td>36.3</td>\n",
       "      <td>35.0</td>\n",
       "      <td>37.2</td>\n",
       "    </tr>\n",
       "    <tr>\n",
       "      <th>28</th>\n",
       "      <td>DDD</td>\n",
       "      <td>1</td>\n",
       "      <td>3</td>\n",
       "      <td>5</td>\n",
       "      <td>7</td>\n",
       "      <td>9</td>\n",
       "      <td>37.0</td>\n",
       "      <td>36.0</td>\n",
       "      <td>36.0</td>\n",
       "      <td>36.8</td>\n",
       "      <td>23.0</td>\n",
       "      <td>35.2</td>\n",
       "    </tr>\n",
       "    <tr>\n",
       "      <th>29</th>\n",
       "      <td>DDD</td>\n",
       "      <td>1</td>\n",
       "      <td>3</td>\n",
       "      <td>5</td>\n",
       "      <td>8</td>\n",
       "      <td>9</td>\n",
       "      <td>36.0</td>\n",
       "      <td>37.9</td>\n",
       "      <td>25.0</td>\n",
       "      <td>35.9</td>\n",
       "      <td>52.0</td>\n",
       "      <td>36.2</td>\n",
       "    </tr>\n",
       "    <tr>\n",
       "      <th>30</th>\n",
       "      <td>DDD</td>\n",
       "      <td>2</td>\n",
       "      <td>3</td>\n",
       "      <td>4</td>\n",
       "      <td>6</td>\n",
       "      <td>9</td>\n",
       "      <td>28.0</td>\n",
       "      <td>38.0</td>\n",
       "      <td>27.0</td>\n",
       "      <td>36.9</td>\n",
       "      <td>37.0</td>\n",
       "      <td>37.2</td>\n",
       "    </tr>\n",
       "    <tr>\n",
       "      <th>31</th>\n",
       "      <td>DDD</td>\n",
       "      <td>2</td>\n",
       "      <td>3</td>\n",
       "      <td>4</td>\n",
       "      <td>7</td>\n",
       "      <td>9</td>\n",
       "      <td>37.0</td>\n",
       "      <td>37.1</td>\n",
       "      <td>40.0</td>\n",
       "      <td>38.3</td>\n",
       "      <td>33.0</td>\n",
       "      <td>37.4</td>\n",
       "    </tr>\n",
       "    <tr>\n",
       "      <th>32</th>\n",
       "      <td>DDD</td>\n",
       "      <td>2</td>\n",
       "      <td>3</td>\n",
       "      <td>4</td>\n",
       "      <td>8</td>\n",
       "      <td>9</td>\n",
       "      <td>18.0</td>\n",
       "      <td>38.4</td>\n",
       "      <td>23.0</td>\n",
       "      <td>38.3</td>\n",
       "      <td>59.0</td>\n",
       "      <td>37.7</td>\n",
       "    </tr>\n",
       "    <tr>\n",
       "      <th>33</th>\n",
       "      <td>DDD</td>\n",
       "      <td>2</td>\n",
       "      <td>3</td>\n",
       "      <td>5</td>\n",
       "      <td>6</td>\n",
       "      <td>9</td>\n",
       "      <td>35.0</td>\n",
       "      <td>37.0</td>\n",
       "      <td>28.0</td>\n",
       "      <td>38.2</td>\n",
       "      <td>50.0</td>\n",
       "      <td>37.5</td>\n",
       "    </tr>\n",
       "    <tr>\n",
       "      <th>34</th>\n",
       "      <td>DDD</td>\n",
       "      <td>2</td>\n",
       "      <td>3</td>\n",
       "      <td>5</td>\n",
       "      <td>7</td>\n",
       "      <td>9</td>\n",
       "      <td>32.0</td>\n",
       "      <td>38.2</td>\n",
       "      <td>28.0</td>\n",
       "      <td>36.6</td>\n",
       "      <td>53.0</td>\n",
       "      <td>36.6</td>\n",
       "    </tr>\n",
       "    <tr>\n",
       "      <th>35</th>\n",
       "      <td>DDD</td>\n",
       "      <td>2</td>\n",
       "      <td>3</td>\n",
       "      <td>5</td>\n",
       "      <td>8</td>\n",
       "      <td>9</td>\n",
       "      <td>32.0</td>\n",
       "      <td>36.4</td>\n",
       "      <td>29.0</td>\n",
       "      <td>37.1</td>\n",
       "      <td>48.0</td>\n",
       "      <td>38.2</td>\n",
       "    </tr>\n",
       "  </tbody>\n",
       "</table>\n",
       "</div>"
      ],
      "text/plain": [
       "   level_0 level_1 level_2 level_3 level_4 level_5     a           b        \\\n",
       "                                                      aa    bb    aa    bb   \n",
       "0      KAM       1       3       4       6       9  41.0  37.2  37.0  36.0   \n",
       "1      KAM       1       3       4       7       9  35.0  37.0  49.0  36.6   \n",
       "2      KAM       1       3       4       8       9  44.0  36.0  57.0  38.5   \n",
       "3      KAM       1       3       5       6       9  36.0  35.9  29.0  37.5   \n",
       "4      KAM       1       3       5       7       9  36.0  36.0  50.0  36.6   \n",
       "5      KAM       1       3       5       8       9  18.0  36.5  50.0  37.3   \n",
       "6      KAM       2       3       4       6       9  28.0  38.9  32.0  36.3   \n",
       "7      KAM       2       3       4       7       9  20.0  37.9  13.0  38.4   \n",
       "8      KAM       2       3       4       8       9  37.0  36.7  30.0  36.2   \n",
       "9      KAM       2       3       5       6       9  27.0  38.2  31.0  35.9   \n",
       "10     KAM       2       3       5       7       9  46.0  37.0  33.0  37.6   \n",
       "11     KAM       2       3       5       8       9  30.0  36.7  22.0  37.4   \n",
       "12      CC       1       3       4       6       9  19.0  37.5  37.0  38.9   \n",
       "13      CC       1       3       4       7       9  42.0  35.4  48.0  37.4   \n",
       "14      CC       1       3       4       8       9  32.0  36.8  29.0  37.5   \n",
       "15      CC       1       3       5       6       9  27.0  37.9  54.0  35.7   \n",
       "16      CC       1       3       5       7       9  32.0  35.7  54.0  37.7   \n",
       "17      CC       1       3       5       8       9  35.0  35.9  15.0  38.2   \n",
       "18      CC       2       3       4       6       9  46.0  38.9  41.0  36.3   \n",
       "19      CC       2       3       4       7       9  42.0  36.8  36.0  37.6   \n",
       "20      CC       2       3       4       8       9  36.0  35.1  38.0  36.1   \n",
       "21      CC       2       3       5       6       9  44.0  36.6  46.0  37.1   \n",
       "22      CC       2       3       5       7       9  36.0  36.0  48.0  37.9   \n",
       "23      CC       2       3       5       8       9  32.0  35.8  31.0  36.1   \n",
       "24     DDD       1       3       4       6       9  45.0  36.2  43.0  36.8   \n",
       "25     DDD       1       3       4       7       9  33.0  36.3  42.0  35.7   \n",
       "26     DDD       1       3       4       8       9  22.0  39.1  32.0  35.5   \n",
       "27     DDD       1       3       5       6       9  36.0  36.5  50.0  36.3   \n",
       "28     DDD       1       3       5       7       9  37.0  36.0  36.0  36.8   \n",
       "29     DDD       1       3       5       8       9  36.0  37.9  25.0  35.9   \n",
       "30     DDD       2       3       4       6       9  28.0  38.0  27.0  36.9   \n",
       "31     DDD       2       3       4       7       9  37.0  37.1  40.0  38.3   \n",
       "32     DDD       2       3       4       8       9  18.0  38.4  23.0  38.3   \n",
       "33     DDD       2       3       5       6       9  35.0  37.0  28.0  38.2   \n",
       "34     DDD       2       3       5       7       9  32.0  38.2  28.0  36.6   \n",
       "35     DDD       2       3       5       8       9  32.0  36.4  29.0  37.1   \n",
       "\n",
       "       c        \n",
       "      aa    bb  \n",
       "0   39.0  38.1  \n",
       "1   54.0  37.0  \n",
       "2   25.0  37.2  \n",
       "3   30.0  38.2  \n",
       "4   43.0  36.8  \n",
       "5   42.0  36.1  \n",
       "6   34.0  36.9  \n",
       "7   26.0  38.1  \n",
       "8   32.0  36.9  \n",
       "9   26.0  36.9  \n",
       "10  30.0  36.1  \n",
       "11  46.0  36.6  \n",
       "12  36.0  36.3  \n",
       "13  40.0  37.1  \n",
       "14  34.0  36.9  \n",
       "15  44.0  36.9  \n",
       "16  43.0  36.7  \n",
       "17  41.0  36.7  \n",
       "18  52.0  38.6  \n",
       "19  30.0  37.8  \n",
       "20  45.0  37.5  \n",
       "21  43.0  36.1  \n",
       "22  51.0  37.8  \n",
       "23  38.0  37.6  \n",
       "24  56.0  39.3  \n",
       "25  31.0  38.9  \n",
       "26  33.0  37.4  \n",
       "27  35.0  37.2  \n",
       "28  23.0  35.2  \n",
       "29  52.0  36.2  \n",
       "30  37.0  37.2  \n",
       "31  33.0  37.4  \n",
       "32  59.0  37.7  \n",
       "33  50.0  37.5  \n",
       "34  53.0  36.6  \n",
       "35  48.0  38.2  "
      ]
     },
     "execution_count": 52,
     "metadata": {},
     "output_type": "execute_result"
    }
   ],
   "source": [
    "health_data.reset_index()"
   ]
  },
  {
   "cell_type": "markdown",
   "metadata": {
    "id": "NlYzQe5u1ApI"
   },
   "source": [
    "## Aplicación de funciones estadísticas\n",
    "\n",
    "Usando multi-índices, también es posible aplicar funciones estadísticas al DataFrame o a la Serie especificando el nivel de la jerarquía al que aplicarlas. Por ejemplo, si seguimos trabajando con el mismo DataFrame que hemos visto:\n",
    "\n",
    "ver https://interactivechaos.com/es/manual/tutorial-de-pandas/aplicacion-de-funciones-estadisticas"
   ]
  },
  {
   "cell_type": "markdown",
   "metadata": {
    "id": "A0P36PeJ2ycG"
   },
   "source": [
    "# Aplicación de funciones y mapeado\n",
    "\n",
    "pandas ofrece varios métodos para aplicar funciones a los valores de una serie o de un dataframe, o para sustituir dichos valores por otros aplicando un cierto \"mapeado\". Más concretamente nos encontramos con los siguientes métodos:\n",
    "\n",
    "* **pandas.Series.apply:** aplica una función a cada uno de los elementos de la serie cuyo resultado, por lo tanto, tendrá el mismo tamaño que la serie original.\n",
    "\n",
    "* **pandas.Series.map:** devuelve una serie del mismo tamaño que la original en la que cada valor ha sido sustituido por otro valor resultante de aplicar una \"función de mapeado\".\n",
    "\n",
    "* **pandas.Series.agg:** devuelve el resultado de aplicar una o más funciones de agregación a los valores de la serie.\n",
    "\n",
    "\n",
    "* **pandas.DataFrame.applymap:** aplica una función a cada uno de los elementos del dataframe que, por lo tanto, tendrá el mismo tamaño que el dataframe original.\n",
    "\n",
    "* **pandas.DataFrame.apply:** aplica una función a las filas o a las columnas de un dataframe. Si, por ejemplo, se aplica a las filas, el resultado será una serie con tantos valores como filas tuviese el dataframe original.\n",
    "\n",
    "\n",
    "Los nombres pueden parecer un tanto confusos: uno podría esperar que el método apply tuviese el mismo comportamiento en series y en dataframes y, en realidad, el método equivalente al método apply de las series es el applymap de los dataframes."
   ]
  },
  {
   "cell_type": "markdown",
   "metadata": {
    "id": "7SAc5yPk3GAc"
   },
   "source": [
    "## El método Series.apply\n",
    "\n",
    "El método ***pandas.Series.apply*** permite aplicar a cada uno de los elementos de la serie una función. \n",
    "\n",
    "Ésta deberá aceptar un único valor como argumento y devolver también un único valor. \n",
    "\n",
    "Por ejemplo, si tenemos la siguiente serie:"
   ]
  },
  {
   "cell_type": "code",
   "execution_count": 53,
   "metadata": {
    "colab": {
     "base_uri": "https://localhost:8080/",
     "height": 143
    },
    "executionInfo": {
     "elapsed": 570,
     "status": "ok",
     "timestamp": 1655980429151,
     "user": {
      "displayName": "Juan Carlos González-Avella",
      "userId": "02617303093978364603"
     },
     "user_tz": -120
    },
    "id": "4KLyyplr35wJ",
    "outputId": "94f52a56-8bfa-4210-912d-8da7e642d8e7"
   },
   "outputs": [
    {
     "data": {
      "text/html": [
       "<div>\n",
       "<style scoped>\n",
       "    .dataframe tbody tr th:only-of-type {\n",
       "        vertical-align: middle;\n",
       "    }\n",
       "\n",
       "    .dataframe tbody tr th {\n",
       "        vertical-align: top;\n",
       "    }\n",
       "\n",
       "    .dataframe thead th {\n",
       "        text-align: right;\n",
       "    }\n",
       "</style>\n",
       "<table border=\"1\" class=\"dataframe\">\n",
       "  <thead>\n",
       "    <tr style=\"text-align: right;\">\n",
       "      <th></th>\n",
       "      <th>Valor</th>\n",
       "    </tr>\n",
       "  </thead>\n",
       "  <tbody>\n",
       "    <tr>\n",
       "      <th>0</th>\n",
       "      <td>2</td>\n",
       "    </tr>\n",
       "    <tr>\n",
       "      <th>1</th>\n",
       "      <td>5</td>\n",
       "    </tr>\n",
       "    <tr>\n",
       "      <th>2</th>\n",
       "      <td>4</td>\n",
       "    </tr>\n",
       "  </tbody>\n",
       "</table>\n",
       "</div>"
      ],
      "text/plain": [
       "   Valor\n",
       "0      2\n",
       "1      5\n",
       "2      4"
      ]
     },
     "execution_count": 53,
     "metadata": {},
     "output_type": "execute_result"
    }
   ],
   "source": [
    "s = pd.DataFrame(pd.Series([2,5,4]),columns=['Valor'])\n",
    "s"
   ]
  },
  {
   "cell_type": "code",
   "execution_count": 54,
   "metadata": {
    "executionInfo": {
     "elapsed": 42,
     "status": "ok",
     "timestamp": 1655980429166,
     "user": {
      "displayName": "Juan Carlos González-Avella",
      "userId": "02617303093978364603"
     },
     "user_tz": -120
    },
    "id": "HMGzmdvF4EO5"
   },
   "outputs": [],
   "source": [
    "def cubo(n):\n",
    "    return n**3\n",
    "\n"
   ]
  },
  {
   "cell_type": "code",
   "execution_count": 55,
   "metadata": {
    "executionInfo": {
     "elapsed": 42,
     "status": "ok",
     "timestamp": 1655980429167,
     "user": {
      "displayName": "Juan Carlos González-Avella",
      "userId": "02617303093978364603"
     },
     "user_tz": -120
    },
    "id": "ZbtpLaKE0iGj"
   },
   "outputs": [],
   "source": [
    "cube = lambda x: x**3"
   ]
  },
  {
   "cell_type": "code",
   "execution_count": 56,
   "metadata": {
    "colab": {
     "base_uri": "https://localhost:8080/",
     "height": 143
    },
    "executionInfo": {
     "elapsed": 42,
     "status": "ok",
     "timestamp": 1655980429168,
     "user": {
      "displayName": "Juan Carlos González-Avella",
      "userId": "02617303093978364603"
     },
     "user_tz": -120
    },
    "id": "d539uc3k4UQc",
    "outputId": "8796c1ad-a163-4591-b7ef-7a35f86be019"
   },
   "outputs": [
    {
     "data": {
      "text/html": [
       "<div>\n",
       "<style scoped>\n",
       "    .dataframe tbody tr th:only-of-type {\n",
       "        vertical-align: middle;\n",
       "    }\n",
       "\n",
       "    .dataframe tbody tr th {\n",
       "        vertical-align: top;\n",
       "    }\n",
       "\n",
       "    .dataframe thead th {\n",
       "        text-align: right;\n",
       "    }\n",
       "</style>\n",
       "<table border=\"1\" class=\"dataframe\">\n",
       "  <thead>\n",
       "    <tr style=\"text-align: right;\">\n",
       "      <th></th>\n",
       "      <th>Valor</th>\n",
       "      <th>Cubo</th>\n",
       "      <th>Cube</th>\n",
       "    </tr>\n",
       "  </thead>\n",
       "  <tbody>\n",
       "    <tr>\n",
       "      <th>0</th>\n",
       "      <td>2</td>\n",
       "      <td>8</td>\n",
       "      <td>8</td>\n",
       "    </tr>\n",
       "    <tr>\n",
       "      <th>1</th>\n",
       "      <td>5</td>\n",
       "      <td>125</td>\n",
       "      <td>125</td>\n",
       "    </tr>\n",
       "    <tr>\n",
       "      <th>2</th>\n",
       "      <td>4</td>\n",
       "      <td>64</td>\n",
       "      <td>64</td>\n",
       "    </tr>\n",
       "  </tbody>\n",
       "</table>\n",
       "</div>"
      ],
      "text/plain": [
       "   Valor  Cubo  Cube\n",
       "0      2     8     8\n",
       "1      5   125   125\n",
       "2      4    64    64"
      ]
     },
     "execution_count": 56,
     "metadata": {},
     "output_type": "execute_result"
    }
   ],
   "source": [
    "s['Cubo']=s.apply(cubo)\n",
    "s['Cube']=s.Valor.apply(cube)\n",
    "s"
   ]
  },
  {
   "cell_type": "markdown",
   "metadata": {
    "id": "QImhsp4D6N0G"
   },
   "source": [
    "## El método Series.map\n",
    "\n",
    "El método ***pandas.Series.map*** aplicado a una serie s acepta un argumento que indica el tipo de mapeo a realizar y devuelve una serie equivalente a s con sus valores una vez mapeados. Por ejemplo, supongamos que tenemos una serie cuyos valores representan el mes en el que se ha realizado una venta. Por ejemplo:"
   ]
  },
  {
   "cell_type": "code",
   "execution_count": 57,
   "metadata": {
    "colab": {
     "base_uri": "https://localhost:8080/",
     "height": 237
    },
    "executionInfo": {
     "elapsed": 41,
     "status": "ok",
     "timestamp": 1655980429168,
     "user": {
      "displayName": "Juan Carlos González-Avella",
      "userId": "02617303093978364603"
     },
     "user_tz": -120
    },
    "id": "SYKR21Kh6SxW",
    "outputId": "b0b707f4-9416-4a8f-bccd-74402248285e"
   },
   "outputs": [
    {
     "data": {
      "text/html": [
       "<div>\n",
       "<style scoped>\n",
       "    .dataframe tbody tr th:only-of-type {\n",
       "        vertical-align: middle;\n",
       "    }\n",
       "\n",
       "    .dataframe tbody tr th {\n",
       "        vertical-align: top;\n",
       "    }\n",
       "\n",
       "    .dataframe thead th {\n",
       "        text-align: right;\n",
       "    }\n",
       "</style>\n",
       "<table border=\"1\" class=\"dataframe\">\n",
       "  <thead>\n",
       "    <tr style=\"text-align: right;\">\n",
       "      <th></th>\n",
       "      <th>Numeric_mes</th>\n",
       "    </tr>\n",
       "  </thead>\n",
       "  <tbody>\n",
       "    <tr>\n",
       "      <th>0</th>\n",
       "      <td>1</td>\n",
       "    </tr>\n",
       "    <tr>\n",
       "      <th>1</th>\n",
       "      <td>2</td>\n",
       "    </tr>\n",
       "    <tr>\n",
       "      <th>2</th>\n",
       "      <td>1</td>\n",
       "    </tr>\n",
       "    <tr>\n",
       "      <th>3</th>\n",
       "      <td>1</td>\n",
       "    </tr>\n",
       "    <tr>\n",
       "      <th>4</th>\n",
       "      <td>3</td>\n",
       "    </tr>\n",
       "    <tr>\n",
       "      <th>5</th>\n",
       "      <td>1</td>\n",
       "    </tr>\n",
       "  </tbody>\n",
       "</table>\n",
       "</div>"
      ],
      "text/plain": [
       "   Numeric_mes\n",
       "0            1\n",
       "1            2\n",
       "2            1\n",
       "3            1\n",
       "4            3\n",
       "5            1"
      ]
     },
     "execution_count": 57,
     "metadata": {},
     "output_type": "execute_result"
    }
   ],
   "source": [
    "ventas = pd.DataFrame(pd.Series([1,2,1,1,3,1]), columns=['Numeric_mes'])\n",
    "ventas"
   ]
  },
  {
   "cell_type": "markdown",
   "metadata": {
    "id": "9wGYvSsu6r5o"
   },
   "source": [
    "Y supongamos que queremos generar una serie equivalente a ésta en la que cada mes aparezca representado por su nombre, y no por un número. Veamos por separado las opciones de las que disponemos."
   ]
  },
  {
   "cell_type": "code",
   "execution_count": 58,
   "metadata": {
    "colab": {
     "base_uri": "https://localhost:8080/"
    },
    "executionInfo": {
     "elapsed": 41,
     "status": "ok",
     "timestamp": 1655980429169,
     "user": {
      "displayName": "Juan Carlos González-Avella",
      "userId": "02617303093978364603"
     },
     "user_tz": -120
    },
    "id": "DqHkxRcX6u9W",
    "outputId": "6f821bb3-6010-4c04-90f3-c9b8ab162e8e"
   },
   "outputs": [
    {
     "name": "stdout",
     "output_type": "stream",
     "text": [
      "{1: 'Enero', 2: 'Febrero', 3: 'Marzo'}\n"
     ]
    }
   ],
   "source": [
    "meses = {1:\"Enero\", 2:\"Febrero\", 3:\"Marzo\"}\n",
    "print(meses)"
   ]
  },
  {
   "cell_type": "code",
   "execution_count": 59,
   "metadata": {
    "colab": {
     "base_uri": "https://localhost:8080/",
     "height": 237
    },
    "executionInfo": {
     "elapsed": 39,
     "status": "ok",
     "timestamp": 1655980429169,
     "user": {
      "displayName": "Juan Carlos González-Avella",
      "userId": "02617303093978364603"
     },
     "user_tz": -120
    },
    "id": "zKJFvRg6ue_b",
    "outputId": "111033bd-965b-456f-a38c-8b19ce5e9315"
   },
   "outputs": [
    {
     "data": {
      "text/html": [
       "<div>\n",
       "<style scoped>\n",
       "    .dataframe tbody tr th:only-of-type {\n",
       "        vertical-align: middle;\n",
       "    }\n",
       "\n",
       "    .dataframe tbody tr th {\n",
       "        vertical-align: top;\n",
       "    }\n",
       "\n",
       "    .dataframe thead th {\n",
       "        text-align: right;\n",
       "    }\n",
       "</style>\n",
       "<table border=\"1\" class=\"dataframe\">\n",
       "  <thead>\n",
       "    <tr style=\"text-align: right;\">\n",
       "      <th></th>\n",
       "      <th>Numeric_mes</th>\n",
       "      <th>Name_Mes</th>\n",
       "    </tr>\n",
       "  </thead>\n",
       "  <tbody>\n",
       "    <tr>\n",
       "      <th>0</th>\n",
       "      <td>1</td>\n",
       "      <td>Enero</td>\n",
       "    </tr>\n",
       "    <tr>\n",
       "      <th>1</th>\n",
       "      <td>2</td>\n",
       "      <td>Febrero</td>\n",
       "    </tr>\n",
       "    <tr>\n",
       "      <th>2</th>\n",
       "      <td>1</td>\n",
       "      <td>Enero</td>\n",
       "    </tr>\n",
       "    <tr>\n",
       "      <th>3</th>\n",
       "      <td>1</td>\n",
       "      <td>Enero</td>\n",
       "    </tr>\n",
       "    <tr>\n",
       "      <th>4</th>\n",
       "      <td>3</td>\n",
       "      <td>Marzo</td>\n",
       "    </tr>\n",
       "    <tr>\n",
       "      <th>5</th>\n",
       "      <td>1</td>\n",
       "      <td>Enero</td>\n",
       "    </tr>\n",
       "  </tbody>\n",
       "</table>\n",
       "</div>"
      ],
      "text/plain": [
       "   Numeric_mes Name_Mes\n",
       "0            1    Enero\n",
       "1            2  Febrero\n",
       "2            1    Enero\n",
       "3            1    Enero\n",
       "4            3    Marzo\n",
       "5            1    Enero"
      ]
     },
     "execution_count": 59,
     "metadata": {},
     "output_type": "execute_result"
    }
   ],
   "source": [
    "ventas['Name_Mes'] = ventas.Numeric_mes.map(meses)\n",
    "ventas"
   ]
  },
  {
   "cell_type": "markdown",
   "metadata": {
    "id": "MlA7NYumwU8t"
   },
   "source": [
    "## Uso de una serie como función de mapeo\n",
    "\n",
    "El método también admite como \"función de mapeo\" una serie:"
   ]
  },
  {
   "cell_type": "code",
   "execution_count": 60,
   "metadata": {
    "colab": {
     "base_uri": "https://localhost:8080/"
    },
    "executionInfo": {
     "elapsed": 37,
     "status": "ok",
     "timestamp": 1655980429170,
     "user": {
      "displayName": "Juan Carlos González-Avella",
      "userId": "02617303093978364603"
     },
     "user_tz": -120
    },
    "id": "FPN-ld6OwObG",
    "outputId": "d684b888-fff8-4084-fe70-bea4555a2ead"
   },
   "outputs": [
    {
     "data": {
      "text/plain": [
       "1    Ene\n",
       "2    Feb\n",
       "3    Mar\n",
       "dtype: object"
      ]
     },
     "execution_count": 60,
     "metadata": {},
     "output_type": "execute_result"
    }
   ],
   "source": [
    "meses = pd.Series([\"Ene\",\"Feb\",\"Mar\"],index=[1,2,3])\n",
    "meses"
   ]
  },
  {
   "cell_type": "code",
   "execution_count": 61,
   "metadata": {
    "colab": {
     "base_uri": "https://localhost:8080/",
     "height": 237
    },
    "executionInfo": {
     "elapsed": 36,
     "status": "ok",
     "timestamp": 1655980429170,
     "user": {
      "displayName": "Juan Carlos González-Avella",
      "userId": "02617303093978364603"
     },
     "user_tz": -120
    },
    "id": "b5-9si7Lw3g2",
    "outputId": "a0d12d7b-6a7c-43af-dfb6-5b18126d9b55"
   },
   "outputs": [
    {
     "data": {
      "text/html": [
       "<div>\n",
       "<style scoped>\n",
       "    .dataframe tbody tr th:only-of-type {\n",
       "        vertical-align: middle;\n",
       "    }\n",
       "\n",
       "    .dataframe tbody tr th {\n",
       "        vertical-align: top;\n",
       "    }\n",
       "\n",
       "    .dataframe thead th {\n",
       "        text-align: right;\n",
       "    }\n",
       "</style>\n",
       "<table border=\"1\" class=\"dataframe\">\n",
       "  <thead>\n",
       "    <tr style=\"text-align: right;\">\n",
       "      <th></th>\n",
       "      <th>Numeric_mes</th>\n",
       "      <th>Name_Mes</th>\n",
       "      <th>Mes_2da_Forma</th>\n",
       "    </tr>\n",
       "  </thead>\n",
       "  <tbody>\n",
       "    <tr>\n",
       "      <th>0</th>\n",
       "      <td>1</td>\n",
       "      <td>Enero</td>\n",
       "      <td>Ene</td>\n",
       "    </tr>\n",
       "    <tr>\n",
       "      <th>1</th>\n",
       "      <td>2</td>\n",
       "      <td>Febrero</td>\n",
       "      <td>Feb</td>\n",
       "    </tr>\n",
       "    <tr>\n",
       "      <th>2</th>\n",
       "      <td>1</td>\n",
       "      <td>Enero</td>\n",
       "      <td>Ene</td>\n",
       "    </tr>\n",
       "    <tr>\n",
       "      <th>3</th>\n",
       "      <td>1</td>\n",
       "      <td>Enero</td>\n",
       "      <td>Ene</td>\n",
       "    </tr>\n",
       "    <tr>\n",
       "      <th>4</th>\n",
       "      <td>3</td>\n",
       "      <td>Marzo</td>\n",
       "      <td>Mar</td>\n",
       "    </tr>\n",
       "    <tr>\n",
       "      <th>5</th>\n",
       "      <td>1</td>\n",
       "      <td>Enero</td>\n",
       "      <td>Ene</td>\n",
       "    </tr>\n",
       "  </tbody>\n",
       "</table>\n",
       "</div>"
      ],
      "text/plain": [
       "   Numeric_mes Name_Mes Mes_2da_Forma\n",
       "0            1    Enero           Ene\n",
       "1            2  Febrero           Feb\n",
       "2            1    Enero           Ene\n",
       "3            1    Enero           Ene\n",
       "4            3    Marzo           Mar\n",
       "5            1    Enero           Ene"
      ]
     },
     "execution_count": 61,
     "metadata": {},
     "output_type": "execute_result"
    }
   ],
   "source": [
    "ventas[\"Mes_2da_Forma\"] = ventas.Numeric_mes.map(meses)\n",
    "ventas"
   ]
  },
  {
   "cell_type": "markdown",
   "metadata": {
    "id": "m9JKNpTXxjYj"
   },
   "source": [
    "## Uso de una función como función de mapeo\n",
    "\n",
    "El tercer método al que podemos recurrir es utilizar una función que acepte como entradas los valores que se encuentren en la serie original y devuelva el resultado del mapeo. Por ejemplo:"
   ]
  },
  {
   "cell_type": "code",
   "execution_count": 62,
   "metadata": {
    "executionInfo": {
     "elapsed": 35,
     "status": "ok",
     "timestamp": 1655980429171,
     "user": {
      "displayName": "Juan Carlos González-Avella",
      "userId": "02617303093978364603"
     },
     "user_tz": -120
    },
    "id": "VJlki7ooxnpS"
   },
   "outputs": [],
   "source": [
    "def mes_str(n):\n",
    "  if n == 1:\n",
    "    return \"ENERO\"\n",
    "  elif n == 2:\n",
    "    return \"FEBREO\"\n",
    "  elif n ==3:\n",
    "    return \"MARZO\""
   ]
  },
  {
   "cell_type": "code",
   "execution_count": 63,
   "metadata": {
    "colab": {
     "base_uri": "https://localhost:8080/",
     "height": 237
    },
    "executionInfo": {
     "elapsed": 36,
     "status": "ok",
     "timestamp": 1655980429172,
     "user": {
      "displayName": "Juan Carlos González-Avella",
      "userId": "02617303093978364603"
     },
     "user_tz": -120
    },
    "id": "W0XPruRvyBOg",
    "outputId": "31cfda92-392b-4785-fcdd-676d38e4681e"
   },
   "outputs": [
    {
     "data": {
      "text/html": [
       "<div>\n",
       "<style scoped>\n",
       "    .dataframe tbody tr th:only-of-type {\n",
       "        vertical-align: middle;\n",
       "    }\n",
       "\n",
       "    .dataframe tbody tr th {\n",
       "        vertical-align: top;\n",
       "    }\n",
       "\n",
       "    .dataframe thead th {\n",
       "        text-align: right;\n",
       "    }\n",
       "</style>\n",
       "<table border=\"1\" class=\"dataframe\">\n",
       "  <thead>\n",
       "    <tr style=\"text-align: right;\">\n",
       "      <th></th>\n",
       "      <th>Numeric_mes</th>\n",
       "      <th>Name_Mes</th>\n",
       "      <th>Mes_2da_Forma</th>\n",
       "      <th>Mes_3ra_Forma</th>\n",
       "    </tr>\n",
       "  </thead>\n",
       "  <tbody>\n",
       "    <tr>\n",
       "      <th>0</th>\n",
       "      <td>1</td>\n",
       "      <td>Enero</td>\n",
       "      <td>Ene</td>\n",
       "      <td>ENERO</td>\n",
       "    </tr>\n",
       "    <tr>\n",
       "      <th>1</th>\n",
       "      <td>2</td>\n",
       "      <td>Febrero</td>\n",
       "      <td>Feb</td>\n",
       "      <td>FEBREO</td>\n",
       "    </tr>\n",
       "    <tr>\n",
       "      <th>2</th>\n",
       "      <td>1</td>\n",
       "      <td>Enero</td>\n",
       "      <td>Ene</td>\n",
       "      <td>ENERO</td>\n",
       "    </tr>\n",
       "    <tr>\n",
       "      <th>3</th>\n",
       "      <td>1</td>\n",
       "      <td>Enero</td>\n",
       "      <td>Ene</td>\n",
       "      <td>ENERO</td>\n",
       "    </tr>\n",
       "    <tr>\n",
       "      <th>4</th>\n",
       "      <td>3</td>\n",
       "      <td>Marzo</td>\n",
       "      <td>Mar</td>\n",
       "      <td>MARZO</td>\n",
       "    </tr>\n",
       "    <tr>\n",
       "      <th>5</th>\n",
       "      <td>1</td>\n",
       "      <td>Enero</td>\n",
       "      <td>Ene</td>\n",
       "      <td>ENERO</td>\n",
       "    </tr>\n",
       "  </tbody>\n",
       "</table>\n",
       "</div>"
      ],
      "text/plain": [
       "   Numeric_mes Name_Mes Mes_2da_Forma Mes_3ra_Forma\n",
       "0            1    Enero           Ene         ENERO\n",
       "1            2  Febrero           Feb        FEBREO\n",
       "2            1    Enero           Ene         ENERO\n",
       "3            1    Enero           Ene         ENERO\n",
       "4            3    Marzo           Mar         MARZO\n",
       "5            1    Enero           Ene         ENERO"
      ]
     },
     "execution_count": 63,
     "metadata": {},
     "output_type": "execute_result"
    }
   ],
   "source": [
    "ventas['Mes_3ra_Forma']=ventas.Numeric_mes.map(mes_str)\n",
    "ventas"
   ]
  },
  {
   "cell_type": "markdown",
   "metadata": {
    "id": "tyXOoOIHzHsG"
   },
   "source": [
    "## El método Series.agg\n",
    "\n",
    "\n",
    "El método de las series pandas ***pandas.Series.agg*** aplica una o más funciones de agregación a los valores de la serie. La función a aplicar deberá pasarse como primer argumento y tendrá que ser el nombre de una función Python, una cadena de texto representando una función válida o un diccionario. En el caso de querer aplicar más de una función de agregación, éstas deberán pasarse como una lista.\n",
    "\n",
    "Por ejemplo, consideremos la siguiente serie conteniendo información sobre las ventas realizadas en diferentes meses:"
   ]
  },
  {
   "cell_type": "code",
   "execution_count": 64,
   "metadata": {
    "colab": {
     "base_uri": "https://localhost:8080/",
     "height": 237
    },
    "executionInfo": {
     "elapsed": 34,
     "status": "ok",
     "timestamp": 1655980429172,
     "user": {
      "displayName": "Juan Carlos González-Avella",
      "userId": "02617303093978364603"
     },
     "user_tz": -120
    },
    "id": "kBVs5UIr2WrL",
    "outputId": "354390b9-1b68-4957-b18c-92ed7c514d30"
   },
   "outputs": [
    {
     "data": {
      "text/html": [
       "<div>\n",
       "<style scoped>\n",
       "    .dataframe tbody tr th:only-of-type {\n",
       "        vertical-align: middle;\n",
       "    }\n",
       "\n",
       "    .dataframe tbody tr th {\n",
       "        vertical-align: top;\n",
       "    }\n",
       "\n",
       "    .dataframe thead th {\n",
       "        text-align: right;\n",
       "    }\n",
       "</style>\n",
       "<table border=\"1\" class=\"dataframe\">\n",
       "  <thead>\n",
       "    <tr style=\"text-align: right;\">\n",
       "      <th></th>\n",
       "      <th>Numeric_mes</th>\n",
       "      <th>Name_Mes</th>\n",
       "      <th>Mes_2da_Forma</th>\n",
       "      <th>Mes_3ra_Forma</th>\n",
       "      <th>Ventas</th>\n",
       "    </tr>\n",
       "  </thead>\n",
       "  <tbody>\n",
       "    <tr>\n",
       "      <th>0</th>\n",
       "      <td>1</td>\n",
       "      <td>Enero</td>\n",
       "      <td>Ene</td>\n",
       "      <td>ENERO</td>\n",
       "      <td>1</td>\n",
       "    </tr>\n",
       "    <tr>\n",
       "      <th>1</th>\n",
       "      <td>2</td>\n",
       "      <td>Febrero</td>\n",
       "      <td>Feb</td>\n",
       "      <td>FEBREO</td>\n",
       "      <td>3</td>\n",
       "    </tr>\n",
       "    <tr>\n",
       "      <th>2</th>\n",
       "      <td>1</td>\n",
       "      <td>Enero</td>\n",
       "      <td>Ene</td>\n",
       "      <td>ENERO</td>\n",
       "      <td>0</td>\n",
       "    </tr>\n",
       "    <tr>\n",
       "      <th>3</th>\n",
       "      <td>1</td>\n",
       "      <td>Enero</td>\n",
       "      <td>Ene</td>\n",
       "      <td>ENERO</td>\n",
       "      <td>2</td>\n",
       "    </tr>\n",
       "    <tr>\n",
       "      <th>4</th>\n",
       "      <td>3</td>\n",
       "      <td>Marzo</td>\n",
       "      <td>Mar</td>\n",
       "      <td>MARZO</td>\n",
       "      <td>5</td>\n",
       "    </tr>\n",
       "    <tr>\n",
       "      <th>5</th>\n",
       "      <td>1</td>\n",
       "      <td>Enero</td>\n",
       "      <td>Ene</td>\n",
       "      <td>ENERO</td>\n",
       "      <td>4</td>\n",
       "    </tr>\n",
       "  </tbody>\n",
       "</table>\n",
       "</div>"
      ],
      "text/plain": [
       "   Numeric_mes Name_Mes Mes_2da_Forma Mes_3ra_Forma  Ventas\n",
       "0            1    Enero           Ene         ENERO       1\n",
       "1            2  Febrero           Feb        FEBREO       3\n",
       "2            1    Enero           Ene         ENERO       0\n",
       "3            1    Enero           Ene         ENERO       2\n",
       "4            3    Marzo           Mar         MARZO       5\n",
       "5            1    Enero           Ene         ENERO       4"
      ]
     },
     "execution_count": 64,
     "metadata": {},
     "output_type": "execute_result"
    }
   ],
   "source": [
    "ventas['Ventas'] = [1,3,0,2,5,4]\n",
    "ventas"
   ]
  },
  {
   "cell_type": "code",
   "execution_count": 65,
   "metadata": {
    "colab": {
     "base_uri": "https://localhost:8080/"
    },
    "executionInfo": {
     "elapsed": 34,
     "status": "ok",
     "timestamp": 1655980429173,
     "user": {
      "displayName": "Juan Carlos González-Avella",
      "userId": "02617303093978364603"
     },
     "user_tz": -120
    },
    "id": "M8FbpPKQ22Da",
    "outputId": "72c94a59-1501-4360-986e-e4b93a9fc638"
   },
   "outputs": [
    {
     "data": {
      "text/plain": [
       "mean      2.500000\n",
       "max       5.000000\n",
       "min       0.000000\n",
       "median    2.500000\n",
       "std       1.870829\n",
       "Name: Ventas, dtype: float64"
      ]
     },
     "execution_count": 65,
     "metadata": {},
     "output_type": "execute_result"
    }
   ],
   "source": [
    "l = ventas['Ventas'].agg([\"mean\",\"max\",\"min\",\"median\",\"std\"])\n",
    "l"
   ]
  },
  {
   "cell_type": "markdown",
   "metadata": {
    "id": "MfRwh59g3uqk"
   },
   "source": [
    "## El método DataFrame.apply\n",
    "\n",
    "Los dataframes tienen un método con el mismo nombre que el método apply de las series, ***pandas.DataFrame.apply***, pero con funcionalidad diferente pues, en el caso de los dataframes, se aplica a lo largo de un eje del dataframe. Esto quiere decir que el argumento de entrada de la función a utilizar no va a ser un simple escalar, sino una serie cuyo índice va a ser el índice de filas del dataframe (si la función se aplica al eje 0) o el índice de columnas del dataframe (si la función se aplica al eje 1). El resultado del método también será una serie que estará formada por los valores calculados.\n",
    "\n",
    "Por ejemplo, si tenemos el siguiente dataframe con las ventas de los productos A, B, C y D a lo largo de los meses de enero, febrero y marzo:"
   ]
  },
  {
   "cell_type": "code",
   "execution_count": 66,
   "metadata": {
    "colab": {
     "base_uri": "https://localhost:8080/",
     "height": 143
    },
    "executionInfo": {
     "elapsed": 33,
     "status": "ok",
     "timestamp": 1655980429173,
     "user": {
      "displayName": "Juan Carlos González-Avella",
      "userId": "02617303093978364603"
     },
     "user_tz": -120
    },
    "id": "FkU_EiZ1lJen",
    "outputId": "3f2a8d7b-3e08-4ad7-f508-cbcbfccea5f1"
   },
   "outputs": [
    {
     "data": {
      "text/html": [
       "<div>\n",
       "<style scoped>\n",
       "    .dataframe tbody tr th:only-of-type {\n",
       "        vertical-align: middle;\n",
       "    }\n",
       "\n",
       "    .dataframe tbody tr th {\n",
       "        vertical-align: top;\n",
       "    }\n",
       "\n",
       "    .dataframe thead th {\n",
       "        text-align: right;\n",
       "    }\n",
       "</style>\n",
       "<table border=\"1\" class=\"dataframe\">\n",
       "  <thead>\n",
       "    <tr style=\"text-align: right;\">\n",
       "      <th></th>\n",
       "      <th>A</th>\n",
       "      <th>B</th>\n",
       "      <th>C</th>\n",
       "      <th>D</th>\n",
       "    </tr>\n",
       "  </thead>\n",
       "  <tbody>\n",
       "    <tr>\n",
       "      <th>Ene</th>\n",
       "      <td>3</td>\n",
       "      <td>1</td>\n",
       "      <td>3</td>\n",
       "      <td>7</td>\n",
       "    </tr>\n",
       "    <tr>\n",
       "      <th>Feb</th>\n",
       "      <td>3</td>\n",
       "      <td>5</td>\n",
       "      <td>7</td>\n",
       "      <td>2</td>\n",
       "    </tr>\n",
       "    <tr>\n",
       "      <th>Mar</th>\n",
       "      <td>1</td>\n",
       "      <td>2</td>\n",
       "      <td>2</td>\n",
       "      <td>3</td>\n",
       "    </tr>\n",
       "  </tbody>\n",
       "</table>\n",
       "</div>"
      ],
      "text/plain": [
       "     A  B  C  D\n",
       "Ene  3  1  3  7\n",
       "Feb  3  5  7  2\n",
       "Mar  1  2  2  3"
      ]
     },
     "execution_count": 66,
     "metadata": {},
     "output_type": "execute_result"
    }
   ],
   "source": [
    "ventas = pd.DataFrame({\"A\": [3,3,1],\n",
    "                       \"B\": [1,5,2],\n",
    "                       \"C\": [3,7,2],\n",
    "                       \"D\": [7,2,3]},\n",
    "                       index = [\"Ene\",\"Feb\",\"Mar\"]\n",
    "                      )\n",
    "ventas"
   ]
  },
  {
   "cell_type": "markdown",
   "metadata": {
    "id": "IKYUbFPll3te"
   },
   "source": [
    "...podríamos estar interesados en calcular el rango en el que se mueven las ventas, es decir, la diferencia entre el mayor y el menor valor de ventas. Para ello, sabiendo que dicho rango se va a aplicar a una fila o a una columna -es decir, a una serie-, definimos la siguiente función:"
   ]
  },
  {
   "cell_type": "code",
   "execution_count": 67,
   "metadata": {
    "executionInfo": {
     "elapsed": 33,
     "status": "ok",
     "timestamp": 1655980429174,
     "user": {
      "displayName": "Juan Carlos González-Avella",
      "userId": "02617303093978364603"
     },
     "user_tz": -120
    },
    "id": "9nA-yX8wl2pi"
   },
   "outputs": [],
   "source": [
    "def rango(s):\n",
    "    return max(s) - min(s)"
   ]
  },
  {
   "cell_type": "markdown",
   "metadata": {
    "id": "JLyiYS5smFXO"
   },
   "source": [
    "Esta función acepta un iterable y devuelve la diferencia entre el valor máximo y el mínimo.\n",
    "\n",
    "Ahora podemos aplicar esta función a nuestro dataframe de ventas. Por defecto se va a aplicar al eje 0 (eje vertical):"
   ]
  },
  {
   "cell_type": "code",
   "execution_count": 68,
   "metadata": {
    "colab": {
     "base_uri": "https://localhost:8080/"
    },
    "executionInfo": {
     "elapsed": 372,
     "status": "ok",
     "timestamp": 1655980612083,
     "user": {
      "displayName": "Juan Carlos González-Avella",
      "userId": "02617303093978364603"
     },
     "user_tz": -120
    },
    "id": "ckRxmZoLmI_m",
    "outputId": "74074269-2eb4-458c-e76f-ab456fdf5ce8"
   },
   "outputs": [
    {
     "data": {
      "text/plain": [
       "A    2\n",
       "B    4\n",
       "C    5\n",
       "D    5\n",
       "dtype: int64"
      ]
     },
     "execution_count": 68,
     "metadata": {},
     "output_type": "execute_result"
    }
   ],
   "source": [
    "ventas.apply(rango)"
   ]
  },
  {
   "cell_type": "markdown",
   "metadata": {
    "id": "wMbMm6tWnN3z"
   },
   "source": [
    "Si nos fijamos en la columna A, el valor máximo es 3 y el mínimo es 1, de forma que su diferencia es 2, tal y como se muestra en el resultado del método apply.\n",
    "\n",
    "Si aplicamos el método a lo largo del eje 1 (eje horizontal), obtendremos la diferencia entre el mayor y el menor valor de cada fila:\n",
    "\n"
   ]
  },
  {
   "cell_type": "code",
   "execution_count": 69,
   "metadata": {
    "colab": {
     "base_uri": "https://localhost:8080/"
    },
    "executionInfo": {
     "elapsed": 495,
     "status": "ok",
     "timestamp": 1655980614442,
     "user": {
      "displayName": "Juan Carlos González-Avella",
      "userId": "02617303093978364603"
     },
     "user_tz": -120
    },
    "id": "W-NmVsq3nnvU",
    "outputId": "d7b76602-ed70-420d-9ffc-f4cf7bf7e85c"
   },
   "outputs": [
    {
     "data": {
      "text/plain": [
       "A    2\n",
       "B    4\n",
       "C    5\n",
       "D    5\n",
       "dtype: int64"
      ]
     },
     "execution_count": 69,
     "metadata": {},
     "output_type": "execute_result"
    }
   ],
   "source": [
    "ventas.apply(rango, axis = 0)"
   ]
  },
  {
   "cell_type": "markdown",
   "metadata": {
    "id": "8K0t7bNTotIR"
   },
   "source": [
    "## El método DataFrame.applymap\n",
    "\n",
    "Al contrario de lo que ocurría con el método apply de los dataframes, el método pandas.***DataFrame.applymap*** aplica una función que acepta y devuelve un único escalar, función que se va a aplicar a todos los elementos del dataframe.\n",
    "\n",
    "Para ver un ejemplo partimos del siguiente dataframe:"
   ]
  },
  {
   "cell_type": "code",
   "execution_count": 70,
   "metadata": {
    "colab": {
     "base_uri": "https://localhost:8080/",
     "height": 143
    },
    "executionInfo": {
     "elapsed": 47,
     "status": "ok",
     "timestamp": 1655980429695,
     "user": {
      "displayName": "Juan Carlos González-Avella",
      "userId": "02617303093978364603"
     },
     "user_tz": -120
    },
    "id": "9pvvTAG5oz-V",
    "outputId": "ccdb0876-ac1a-460a-86e0-9f199ad0d2a4"
   },
   "outputs": [
    {
     "data": {
      "text/html": [
       "<div>\n",
       "<style scoped>\n",
       "    .dataframe tbody tr th:only-of-type {\n",
       "        vertical-align: middle;\n",
       "    }\n",
       "\n",
       "    .dataframe tbody tr th {\n",
       "        vertical-align: top;\n",
       "    }\n",
       "\n",
       "    .dataframe thead th {\n",
       "        text-align: right;\n",
       "    }\n",
       "</style>\n",
       "<table border=\"1\" class=\"dataframe\">\n",
       "  <thead>\n",
       "    <tr style=\"text-align: right;\">\n",
       "      <th></th>\n",
       "      <th>A</th>\n",
       "      <th>B</th>\n",
       "      <th>C</th>\n",
       "      <th>D</th>\n",
       "    </tr>\n",
       "  </thead>\n",
       "  <tbody>\n",
       "    <tr>\n",
       "      <th>Ene</th>\n",
       "      <td>3</td>\n",
       "      <td>1</td>\n",
       "      <td>3</td>\n",
       "      <td>7</td>\n",
       "    </tr>\n",
       "    <tr>\n",
       "      <th>Feb</th>\n",
       "      <td>3</td>\n",
       "      <td>5</td>\n",
       "      <td>7</td>\n",
       "      <td>2</td>\n",
       "    </tr>\n",
       "    <tr>\n",
       "      <th>Mar</th>\n",
       "      <td>1</td>\n",
       "      <td>2</td>\n",
       "      <td>2</td>\n",
       "      <td>3</td>\n",
       "    </tr>\n",
       "  </tbody>\n",
       "</table>\n",
       "</div>"
      ],
      "text/plain": [
       "     A  B  C  D\n",
       "Ene  3  1  3  7\n",
       "Feb  3  5  7  2\n",
       "Mar  1  2  2  3"
      ]
     },
     "execution_count": 70,
     "metadata": {},
     "output_type": "execute_result"
    }
   ],
   "source": [
    "ventas"
   ]
  },
  {
   "cell_type": "markdown",
   "metadata": {
    "id": "VTBidoG6pfVC"
   },
   "source": [
    "Supongamos que queremos saber si los valores son pares o no. Para ello definimos una función que acepta un valor de entrada y devuelve el booleano True si el valor es par y False en caso contrario:"
   ]
  },
  {
   "cell_type": "code",
   "execution_count": 71,
   "metadata": {
    "executionInfo": {
     "elapsed": 46,
     "status": "ok",
     "timestamp": 1655980429697,
     "user": {
      "displayName": "Juan Carlos González-Avella",
      "userId": "02617303093978364603"
     },
     "user_tz": -120
    },
    "id": "_iE6qQ_Wpghh"
   },
   "outputs": [],
   "source": [
    "def par(n):\n",
    "    if n/2 == n//2:\n",
    "        return True\n",
    "    else:\n",
    "        return False"
   ]
  },
  {
   "cell_type": "markdown",
   "metadata": {
    "id": "QDGaJYFIpxA7"
   },
   "source": [
    "Ahora podemos aplicar el método añadiendo como argumento esta función:"
   ]
  },
  {
   "cell_type": "code",
   "execution_count": 72,
   "metadata": {
    "colab": {
     "base_uri": "https://localhost:8080/",
     "height": 143
    },
    "executionInfo": {
     "elapsed": 395,
     "status": "ok",
     "timestamp": 1655980619092,
     "user": {
      "displayName": "Juan Carlos González-Avella",
      "userId": "02617303093978364603"
     },
     "user_tz": -120
    },
    "id": "onGfp9X0pyFH",
    "outputId": "5d219902-2413-404d-fa95-17e5317600e7"
   },
   "outputs": [
    {
     "data": {
      "text/html": [
       "<div>\n",
       "<style scoped>\n",
       "    .dataframe tbody tr th:only-of-type {\n",
       "        vertical-align: middle;\n",
       "    }\n",
       "\n",
       "    .dataframe tbody tr th {\n",
       "        vertical-align: top;\n",
       "    }\n",
       "\n",
       "    .dataframe thead th {\n",
       "        text-align: right;\n",
       "    }\n",
       "</style>\n",
       "<table border=\"1\" class=\"dataframe\">\n",
       "  <thead>\n",
       "    <tr style=\"text-align: right;\">\n",
       "      <th></th>\n",
       "      <th>A</th>\n",
       "      <th>B</th>\n",
       "      <th>C</th>\n",
       "      <th>D</th>\n",
       "    </tr>\n",
       "  </thead>\n",
       "  <tbody>\n",
       "    <tr>\n",
       "      <th>Ene</th>\n",
       "      <td>False</td>\n",
       "      <td>False</td>\n",
       "      <td>False</td>\n",
       "      <td>False</td>\n",
       "    </tr>\n",
       "    <tr>\n",
       "      <th>Feb</th>\n",
       "      <td>False</td>\n",
       "      <td>False</td>\n",
       "      <td>False</td>\n",
       "      <td>True</td>\n",
       "    </tr>\n",
       "    <tr>\n",
       "      <th>Mar</th>\n",
       "      <td>False</td>\n",
       "      <td>True</td>\n",
       "      <td>True</td>\n",
       "      <td>False</td>\n",
       "    </tr>\n",
       "  </tbody>\n",
       "</table>\n",
       "</div>"
      ],
      "text/plain": [
       "         A      B      C      D\n",
       "Ene  False  False  False  False\n",
       "Feb  False  False  False   True\n",
       "Mar  False   True   True  False"
      ]
     },
     "execution_count": 72,
     "metadata": {},
     "output_type": "execute_result"
    }
   ],
   "source": [
    "ventas.applymap(par)"
   ]
  },
  {
   "cell_type": "markdown",
   "metadata": {
    "id": "dPembUxdp_3Q"
   },
   "source": [
    "Comprobamos que el resultado es un dataframe del mismo tamaño que el dataframe original en el que cada valor se ha sustituido por el resultado de aplicar la función indicada.\n",
    "\n",
    "\n",
    "\n",
    "**Nota Importante**\n",
    "\n",
    "La función asociada con ***applymap()*** se aplica a todos los elementos del DataFrame dado y, por lo tanto, el método ***applymap()*** se define solo para DataFrames. De manera similar, la función asociada con el método **apply()** se puede aplicar a todos los elementos de DataFrame o Series, y por lo tanto, el método ***apply()*** se define para los objetos Series y DataFrame. El método ***map()*** solo se puede definir para objetos Series en Pandas."
   ]
  },
  {
   "cell_type": "markdown",
   "metadata": {
    "id": "iBlbe7jFUWJt"
   },
   "source": [
    "## Lambda en Pandas DataFrame con el método apply()\n",
    "\n",
    "Se me ocurre que podemos aplicar una función Lambda a data cleaning en Pandas con el método apply(), algo que creo nos puede ser de utilidad para evitar crear un bucle que vaya recorriendo todo el DataFrame:"
   ]
  },
  {
   "cell_type": "code",
   "execution_count": 73,
   "metadata": {
    "colab": {
     "base_uri": "https://localhost:8080/",
     "height": 237
    },
    "executionInfo": {
     "elapsed": 45,
     "status": "ok",
     "timestamp": 1655980429699,
     "user": {
      "displayName": "Juan Carlos González-Avella",
      "userId": "02617303093978364603"
     },
     "user_tz": -120
    },
    "id": "fW2gzLmWUaLe",
    "outputId": "57943447-c2eb-4e2b-ef46-82af8b2ccb23"
   },
   "outputs": [
    {
     "data": {
      "text/html": [
       "<div>\n",
       "<style scoped>\n",
       "    .dataframe tbody tr th:only-of-type {\n",
       "        vertical-align: middle;\n",
       "    }\n",
       "\n",
       "    .dataframe tbody tr th {\n",
       "        vertical-align: top;\n",
       "    }\n",
       "\n",
       "    .dataframe thead th {\n",
       "        text-align: right;\n",
       "    }\n",
       "</style>\n",
       "<table border=\"1\" class=\"dataframe\">\n",
       "  <thead>\n",
       "    <tr style=\"text-align: right;\">\n",
       "      <th></th>\n",
       "      <th>Celsius</th>\n",
       "    </tr>\n",
       "  </thead>\n",
       "  <tbody>\n",
       "    <tr>\n",
       "      <th>Londres</th>\n",
       "      <td>22</td>\n",
       "    </tr>\n",
       "    <tr>\n",
       "      <th>Madrid</th>\n",
       "      <td>36</td>\n",
       "    </tr>\n",
       "    <tr>\n",
       "      <th>Barcelona</th>\n",
       "      <td>20</td>\n",
       "    </tr>\n",
       "    <tr>\n",
       "      <th>Sevilla</th>\n",
       "      <td>26</td>\n",
       "    </tr>\n",
       "    <tr>\n",
       "      <th>Cádiz</th>\n",
       "      <td>30</td>\n",
       "    </tr>\n",
       "    <tr>\n",
       "      <th>Lima</th>\n",
       "      <td>38</td>\n",
       "    </tr>\n",
       "  </tbody>\n",
       "</table>\n",
       "</div>"
      ],
      "text/plain": [
       "           Celsius\n",
       "Londres         22\n",
       "Madrid          36\n",
       "Barcelona       20\n",
       "Sevilla         26\n",
       "Cádiz           30\n",
       "Lima            38"
      ]
     },
     "execution_count": 73,
     "metadata": {},
     "output_type": "execute_result"
    }
   ],
   "source": [
    "#Importo pandas y numpy para crear un DataFrame\n",
    "import pandas as pd\n",
    "import numpy as np\n",
    "\n",
    "#Creo un DataFrame con dos columnas, Celsius y Kelvin, ambas con datos iguales\n",
    "data = {'Celsius':[22, 36, 20, 26, 30, 38]}\n",
    "\n",
    "#Creo el DataFrame con el su index y las columnas Celsius y Kelvin\n",
    "df = pd.DataFrame(data, index = ['Londres','Madrid','Barcelona','Sevilla','Cádiz','Lima'])\n",
    "\n",
    "\n",
    "df"
   ]
  },
  {
   "cell_type": "code",
   "execution_count": 74,
   "metadata": {
    "colab": {
     "base_uri": "https://localhost:8080/",
     "height": 237
    },
    "executionInfo": {
     "elapsed": 45,
     "status": "ok",
     "timestamp": 1655980429700,
     "user": {
      "displayName": "Juan Carlos González-Avella",
      "userId": "02617303093978364603"
     },
     "user_tz": -120
    },
    "id": "5Cdb97PQUrIs",
    "outputId": "af81993b-f686-45cc-ae0a-0c1558236182"
   },
   "outputs": [
    {
     "data": {
      "text/html": [
       "<div>\n",
       "<style scoped>\n",
       "    .dataframe tbody tr th:only-of-type {\n",
       "        vertical-align: middle;\n",
       "    }\n",
       "\n",
       "    .dataframe tbody tr th {\n",
       "        vertical-align: top;\n",
       "    }\n",
       "\n",
       "    .dataframe thead th {\n",
       "        text-align: right;\n",
       "    }\n",
       "</style>\n",
       "<table border=\"1\" class=\"dataframe\">\n",
       "  <thead>\n",
       "    <tr style=\"text-align: right;\">\n",
       "      <th></th>\n",
       "      <th>Celsius</th>\n",
       "      <th>Kelvin</th>\n",
       "    </tr>\n",
       "  </thead>\n",
       "  <tbody>\n",
       "    <tr>\n",
       "      <th>Londres</th>\n",
       "      <td>22</td>\n",
       "      <td>295</td>\n",
       "    </tr>\n",
       "    <tr>\n",
       "      <th>Madrid</th>\n",
       "      <td>36</td>\n",
       "      <td>309</td>\n",
       "    </tr>\n",
       "    <tr>\n",
       "      <th>Barcelona</th>\n",
       "      <td>20</td>\n",
       "      <td>293</td>\n",
       "    </tr>\n",
       "    <tr>\n",
       "      <th>Sevilla</th>\n",
       "      <td>26</td>\n",
       "      <td>299</td>\n",
       "    </tr>\n",
       "    <tr>\n",
       "      <th>Cádiz</th>\n",
       "      <td>30</td>\n",
       "      <td>303</td>\n",
       "    </tr>\n",
       "    <tr>\n",
       "      <th>Lima</th>\n",
       "      <td>38</td>\n",
       "      <td>311</td>\n",
       "    </tr>\n",
       "  </tbody>\n",
       "</table>\n",
       "</div>"
      ],
      "text/plain": [
       "           Celsius  Kelvin\n",
       "Londres         22     295\n",
       "Madrid          36     309\n",
       "Barcelona       20     293\n",
       "Sevilla         26     299\n",
       "Cádiz           30     303\n",
       "Lima            38     311"
      ]
     },
     "execution_count": 74,
     "metadata": {},
     "output_type": "execute_result"
    }
   ],
   "source": [
    "#Aplico la Lambda a la columna [Celcius] con el método apply()\n",
    "df['Kelvin'] = df.Celsius.apply(lambda x: x + 273,15)\n",
    "df"
   ]
  }
 ],
 "metadata": {
  "colab": {
   "collapsed_sections": [
    "cKWajZMz_eLP",
    "KrCfHIYbDG9X",
    "0S2XkG_rD4BA",
    "d_r2oJqHs5V8",
    "XuzZxb0xvHbq",
    "7Xu8k8PJvveY",
    "GAlnpGtXwV4A",
    "qCBfcCOzxAPJ",
    "ZISgr2Tc1L2w",
    "VioPqewB1ST_",
    "NlYzQe5u1ApI",
    "7SAc5yPk3GAc",
    "QImhsp4D6N0G",
    "MlA7NYumwU8t",
    "m9JKNpTXxjYj",
    "tyXOoOIHzHsG",
    "MfRwh59g3uqk",
    "8K0t7bNTotIR",
    "iBlbe7jFUWJt"
   ],
   "name": "Básico_Pandas.ipynb",
   "provenance": [],
   "toc_visible": true
  },
  "kernelspec": {
   "display_name": "Python 3 (ipykernel)",
   "language": "python",
   "name": "python3"
  },
  "language_info": {
   "codemirror_mode": {
    "name": "ipython",
    "version": 3
   },
   "file_extension": ".py",
   "mimetype": "text/x-python",
   "name": "python",
   "nbconvert_exporter": "python",
   "pygments_lexer": "ipython3",
   "version": "3.8.0"
  }
 },
 "nbformat": 4,
 "nbformat_minor": 4
}
