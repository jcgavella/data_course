{
 "cells": [
  {
   "cell_type": "markdown",
   "metadata": {
    "colab_type": "text",
    "id": "1FHqVcFeIwTo"
   },
   "source": [
    "# Analizando Datos con PyData \n",
    "\n",
    " * PyData\n",
    " * Relación entre Bibliotecas\n",
    " * Objetivos de la Lección\n",
    "\n",
    "## Pandas\n",
    "\n",
    " * Relación Numpy y Pandas\n",
    " * DataFrame y Series\n",
    " * Entorno y bibliotecas Auxiliares\n",
    " * Una vista las funcionalidades en Pandas (api)\n",
    " \n",
    "## Básico 1: Carga de Datos y Exploración \n",
    " \n",
    " * Carga de Datos\n",
    " * Mínimas funciones para explorar los datos\n",
    " * Mínima manipulación de datos.\n",
    "\n",
    "\n"
   ]
  },
  {
   "cell_type": "markdown",
   "metadata": {
    "colab_type": "text",
    "id": "iXJ-wPp4CVnA"
   },
   "source": [
    "## PyData\n",
    "\n",
    "Se usa el nombre **PyData** para referirce a las bibliotecas de Python que se usan para cómputo científico. Pero no es la definición en si; eso es el \"stack\", PyData es un programa respaldado por una organización sin fines de lucro que lo que busca a apoyar el uso y desarrollo del open source y en especial el uso e implementación del stack de Python para cómputo científico. \n",
    "\n",
    "La organización [NumFocus](https://numfocus.org/), dentro de sus programas [PyData](https://numfocus.org/programs) le da nombre a los eventos relacionados con la enseñanza y divulgación del uso de tecnologías en Python.\n",
    "\n",
    "En nuestro caso, siguiendo las corrientes diremos PyData para referirnos al conjunto de bibliotecas que conforman el ecosistema de Python para computo científico. \n",
    "\n",
    "La evolución y estado actual se pueden ver en la siguiente presentación de [Travis Oliphant](https://en.wikipedia.org/wiki/Travis_Oliphant)\n",
    "\n",
    "[Presentación](https://drive.google.com/file/d/1mHzSIefPnM8O3j85B0hoxTme-qYmKJJ1/view)\n",
    "\n",
    "\n"
   ]
  },
  {
   "cell_type": "markdown",
   "metadata": {
    "colab_type": "text",
    "id": "5rZSS0AdK18q"
   },
   "source": [
    "## Relación entre bibliotecas\n",
    "\n",
    "Para tener una idea de la relación entre proyectos resulta ilustrativo explorar la lista de proyectos relacionados entre 4 bibliotecas:\n",
    "\n",
    "* [ Numpy](https://www.scipy.org/install.html)\n",
    "* [Pandas](http://pandas.pydata.org/pandas-docs/stable/ecosystem.html)\n",
    "* [Scikit-Learn](https://scikit-learn.org/stable/related_projects.html)\n",
    "* [Tensorflow](https://www.tensorflow.org/resources/)\n",
    "\n",
    "*¿Cuál es la relación entre las bibliotecas?*"
   ]
  },
  {
   "cell_type": "markdown",
   "metadata": {
    "colab_type": "text",
    "id": "x3zBafKcKlwL"
   },
   "source": [
    "## Objetivo \n",
    "\n",
    "* Conocer el entorno de trabajo.\n",
    "* Conocer un mímino del ecosistema de trabajo.\n",
    "* Un primer análisis."
   ]
  },
  {
   "cell_type": "markdown",
   "metadata": {
    "colab_type": "text",
    "id": "dMtcJlzBKVNf"
   },
   "source": [
    "# Pandas\n",
    "\n",
    "[`pandas`](https://pandas.pydata.org) es una librería que nos permite consultar y modificar datos estructurados y etiquetados, que funciona como una capa de abstracción sobre `NumPy`."
   ]
  },
  {
   "cell_type": "markdown",
   "metadata": {
    "colab_type": "text",
    "id": "zZVuXaa4-LE_"
   },
   "source": [
    "## Entorno\n"
   ]
  },
  {
   "cell_type": "code",
   "execution_count": 1,
   "metadata": {
    "colab": {
     "base_uri": "https://localhost:8080/",
     "height": 51
    },
    "colab_type": "code",
    "id": "zDgb7dFyCUqh",
    "outputId": "b4bf02b0-7353-4385-d682-341bbcc959dd"
   },
   "outputs": [
    {
     "name": "stdout",
     "output_type": "stream",
     "text": [
      "Version de Pandas: 0.25.1\n",
      "Version de Numpy: 1.15.4\n"
     ]
    }
   ],
   "source": [
    "#Se cargan Pandas y Numpy\n",
    "import pandas as pd\n",
    "import numpy as np\n",
    "\n",
    "print(\"Version de Pandas:\",pd.__version__)\n",
    "print(\"Version de Numpy:\",np.__version__)\n"
   ]
  },
  {
   "cell_type": "code",
   "execution_count": 2,
   "metadata": {
    "colab": {
     "base_uri": "https://localhost:8080/",
     "height": 703
    },
    "colab_type": "code",
    "id": "37dN4FVnO31f",
    "outputId": "e4a10110-aa00-437e-f565-b0782ad0abb4"
   },
   "outputs": [
    {
     "name": "stdout",
     "output_type": "stream",
     "text": [
      "\n",
      "pandas - a powerful data analysis and manipulation library for Python\n",
      "=====================================================================\n",
      "\n",
      "**pandas** is a Python package providing fast, flexible, and expressive data\n",
      "structures designed to make working with \"relational\" or \"labeled\" data both\n",
      "easy and intuitive. It aims to be the fundamental high-level building block for\n",
      "doing practical, **real world** data analysis in Python. Additionally, it has\n",
      "the broader goal of becoming **the most powerful and flexible open source data\n",
      "analysis / manipulation tool available in any language**. It is already well on\n",
      "its way toward this goal.\n",
      "\n",
      "Main Features\n",
      "-------------\n",
      "Here are just a few of the things that pandas does well:\n",
      "\n",
      "  - Easy handling of missing data in floating point as well as non-floating\n",
      "    point data.\n",
      "  - Size mutability: columns can be inserted and deleted from DataFrame and\n",
      "    higher dimensional objects\n",
      "  - Automatic and explicit data alignment: objects can be explicitly aligned\n",
      "    to a set of labels, or the user can simply ignore the labels and let\n",
      "    `Series`, `DataFrame`, etc. automatically align the data for you in\n",
      "    computations.\n",
      "  - Powerful, flexible group by functionality to perform split-apply-combine\n",
      "    operations on data sets, for both aggregating and transforming data.\n",
      "  - Make it easy to convert ragged, differently-indexed data in other Python\n",
      "    and NumPy data structures into DataFrame objects.\n",
      "  - Intelligent label-based slicing, fancy indexing, and subsetting of large\n",
      "    data sets.\n",
      "  - Intuitive merging and joining data sets.\n",
      "  - Flexible reshaping and pivoting of data sets.\n",
      "  - Hierarchical labeling of axes (possible to have multiple labels per tick).\n",
      "  - Robust IO tools for loading data from flat files (CSV and delimited),\n",
      "    Excel files, databases, and saving/loading data from the ultrafast HDF5\n",
      "    format.\n",
      "  - Time series-specific functionality: date range generation and frequency\n",
      "    conversion, moving window statistics, moving window linear regressions,\n",
      "    date shifting and lagging, etc.\n",
      "\n"
     ]
    }
   ],
   "source": [
    "#Se imprime la documentación de Pandas\n",
    "print(pd.__doc__)\n"
   ]
  },
  {
   "cell_type": "code",
   "execution_count": 3,
   "metadata": {
    "colab": {
     "base_uri": "https://localhost:8080/",
     "height": 1834
    },
    "colab_type": "code",
    "id": "DZwoBopaPQRq",
    "outputId": "6bc40610-40bb-4efb-df30-36fb336901e6"
   },
   "outputs": [
    {
     "name": "stdout",
     "output_type": "stream",
     "text": [
      "\n",
      "NumPy\n",
      "=====\n",
      "\n",
      "Provides\n",
      "  1. An array object of arbitrary homogeneous items\n",
      "  2. Fast mathematical operations over arrays\n",
      "  3. Linear Algebra, Fourier Transforms, Random Number Generation\n",
      "\n",
      "How to use the documentation\n",
      "----------------------------\n",
      "Documentation is available in two forms: docstrings provided\n",
      "with the code, and a loose standing reference guide, available from\n",
      "`the NumPy homepage <http://www.scipy.org>`_.\n",
      "\n",
      "We recommend exploring the docstrings using\n",
      "`IPython <http://ipython.scipy.org>`_, an advanced Python shell with\n",
      "TAB-completion and introspection capabilities.  See below for further\n",
      "instructions.\n",
      "\n",
      "The docstring examples assume that `numpy` has been imported as `np`::\n",
      "\n",
      "  >>> import numpy as np\n",
      "\n",
      "Code snippets are indicated by three greater-than signs::\n",
      "\n",
      "  >>> x = 42\n",
      "  >>> x = x + 1\n",
      "\n",
      "Use the built-in ``help`` function to view a function's docstring::\n",
      "\n",
      "  >>> help(np.sort)\n",
      "  ... # doctest: +SKIP\n",
      "\n",
      "For some objects, ``np.info(obj)`` may provide additional help.  This is\n",
      "particularly true if you see the line \"Help on ufunc object:\" at the top\n",
      "of the help() page.  Ufuncs are implemented in C, not Python, for speed.\n",
      "The native Python help() does not know how to view their help, but our\n",
      "np.info() function does.\n",
      "\n",
      "To search for documents containing a keyword, do::\n",
      "\n",
      "  >>> np.lookfor('keyword')\n",
      "  ... # doctest: +SKIP\n",
      "\n",
      "General-purpose documents like a glossary and help on the basic concepts\n",
      "of numpy are available under the ``doc`` sub-module::\n",
      "\n",
      "  >>> from numpy import doc\n",
      "  >>> help(doc)\n",
      "  ... # doctest: +SKIP\n",
      "\n",
      "Available subpackages\n",
      "---------------------\n",
      "doc\n",
      "    Topical documentation on broadcasting, indexing, etc.\n",
      "lib\n",
      "    Basic functions used by several sub-packages.\n",
      "random\n",
      "    Core Random Tools\n",
      "linalg\n",
      "    Core Linear Algebra Tools\n",
      "fft\n",
      "    Core FFT routines\n",
      "polynomial\n",
      "    Polynomial tools\n",
      "testing\n",
      "    NumPy testing tools\n",
      "f2py\n",
      "    Fortran to Python Interface Generator.\n",
      "distutils\n",
      "    Enhancements to distutils with support for\n",
      "    Fortran compilers support and more.\n",
      "\n",
      "Utilities\n",
      "---------\n",
      "test\n",
      "    Run numpy unittests\n",
      "show_config\n",
      "    Show numpy build configuration\n",
      "dual\n",
      "    Overwrite certain functions with high-performance Scipy tools\n",
      "matlib\n",
      "    Make everything matrices.\n",
      "__version__\n",
      "    NumPy version string\n",
      "\n",
      "Viewing documentation using IPython\n",
      "-----------------------------------\n",
      "Start IPython with the NumPy profile (``ipython -p numpy``), which will\n",
      "import `numpy` under the alias `np`.  Then, use the ``cpaste`` command to\n",
      "paste examples into the shell.  To see which functions are available in\n",
      "`numpy`, type ``np.<TAB>`` (where ``<TAB>`` refers to the TAB key), or use\n",
      "``np.*cos*?<ENTER>`` (where ``<ENTER>`` refers to the ENTER key) to narrow\n",
      "down the list.  To view the docstring for a function, use\n",
      "``np.cos?<ENTER>`` (to view the docstring) and ``np.cos??<ENTER>`` (to view\n",
      "the source code).\n",
      "\n",
      "Copies vs. in-place operation\n",
      "-----------------------------\n",
      "Most of the functions in `numpy` return a copy of the array argument\n",
      "(e.g., `np.sort`).  In-place versions of these functions are often\n",
      "available as array methods, i.e. ``x = np.array([1,2,3]); x.sort()``.\n",
      "Exceptions to this rule are documented.\n",
      "\n",
      "\n"
     ]
    }
   ],
   "source": [
    "#Se imprime la documentación de Numpy\n",
    "print(np.__doc__)"
   ]
  },
  {
   "cell_type": "markdown",
   "metadata": {
    "colab_type": "text",
    "id": "1ESjhXuWZp2R"
   },
   "source": [
    "## Pandas en 10 minutos (... y alta velocidad)\n",
    "\n",
    "Pandas es una biblioteca de alto performance para la manipulación y procesamiento de datos estructurados.\n",
    "\n",
    "Consiste en general de los siguientes elementos:\n",
    "\n",
    "* Dos tipos de objetos principales: `Series y DataFrames`.\n",
    "\n",
    "* Indexación de los ejes simples como la  multi - nivel y jerárquica.\n",
    "\n",
    "*  Operaciones optimizadas para crear agrupaciones y transformaciones en los datos.\n",
    "\n",
    "* Capacidad para generar rangos de fechas con total facilidad para ser modificadas a conveniencia.\n",
    "\n",
    "*  Herramientas para Input/Output de archivos con diversos formatos y tecnologías.\n",
    "    * `pandas.read_csv`\n",
    "    * `pandas.read_excel`\n",
    "    * `pandas.read_html`\n",
    "    * `pandas.read_sql`\n",
    "    * `pandas.read_hdf5`\n",
    "\n",
    "* Eficiente administración de memoria. Capacidad para generar estructuras \"sparse\" para hacer más eficiente el procesamiento de los datos.\n",
    "\n",
    "* Funciones y herramientas para hacer estadistica sobre los datos.\n",
    "\n",
    "Las dos estructuras de datos fundamentales en Pandas son:\n",
    "\n",
    "* Series: arrays de 1D  con tipos de datos homogeneos.\n",
    "* DataFrame: \tarrays 2D, objetos con estructura tabular de tamaño mutable y con la capacidad de tener columnas de tipos heterogenios.\n",
    "\n",
    "\n",
    "\n",
    "` Nota Avanzada:  Todos los objetos en Pandas son mutables ( los valores que contienen pueden ser alterados). Pero todos los métodos o funciones producen nuevos objetos y dejan los objetos iniciales sin cambios.`\n",
    "\n"
   ]
  },
  {
   "cell_type": "markdown",
   "metadata": {
    "colab_type": "text",
    "id": "zDN_M-Raf_xd"
   },
   "source": [
    "El siguiente \"tour\" en Pandas es una versión de la que se puede encontrar en la página oficial:\n",
    "\n",
    "* [10 minutes to pandas](http://pandas.pydata.org/pandas-docs/stable/10min.html)"
   ]
  },
  {
   "cell_type": "code",
   "execution_count": 4,
   "metadata": {
    "colab": {},
    "colab_type": "code",
    "id": "dVGRwvBfYL3i"
   },
   "outputs": [],
   "source": [
    "# Se modifica el entorno para hacer más \n",
    "# rápida la revisión\n",
    "\n",
    "from IPython.core.interactiveshell import InteractiveShell\n",
    "InteractiveShell.ast_node_interactivity = \"all\"\n",
    "%matplotlib inline\n",
    "import matplotlib.pyplot as plt"
   ]
  },
  {
   "cell_type": "markdown",
   "metadata": {
    "colab_type": "text",
    "id": "CRda0FpPgkNf"
   },
   "source": [
    "### Series y DataFrames\n",
    "\n",
    "Se define una Serie y un DataFrame"
   ]
  },
  {
   "cell_type": "code",
   "execution_count": 5,
   "metadata": {
    "colab": {
     "base_uri": "https://localhost:8080/",
     "height": 354
    },
    "colab_type": "code",
    "id": "-GBO1xUUgi03",
    "outputId": "e795404d-06e8-4e54-95ed-b0445f2b6a06"
   },
   "outputs": [
    {
     "data": {
      "text/plain": [
       "0    1.0\n",
       "1    3.0\n",
       "2    5.0\n",
       "3    NaN\n",
       "4    6.0\n",
       "5    8.0\n",
       "dtype: float64"
      ]
     },
     "execution_count": 5,
     "metadata": {},
     "output_type": "execute_result"
    },
    {
     "data": {
      "text/html": [
       "<div>\n",
       "<style scoped>\n",
       "    .dataframe tbody tr th:only-of-type {\n",
       "        vertical-align: middle;\n",
       "    }\n",
       "\n",
       "    .dataframe tbody tr th {\n",
       "        vertical-align: top;\n",
       "    }\n",
       "\n",
       "    .dataframe thead th {\n",
       "        text-align: right;\n",
       "    }\n",
       "</style>\n",
       "<table border=\"1\" class=\"dataframe\">\n",
       "  <thead>\n",
       "    <tr style=\"text-align: right;\">\n",
       "      <th></th>\n",
       "      <th>A</th>\n",
       "      <th>B</th>\n",
       "      <th>C</th>\n",
       "      <th>D</th>\n",
       "    </tr>\n",
       "  </thead>\n",
       "  <tbody>\n",
       "    <tr>\n",
       "      <td>2019-01-01</td>\n",
       "      <td>-0.493781</td>\n",
       "      <td>-0.914162</td>\n",
       "      <td>0.283641</td>\n",
       "      <td>1.165503</td>\n",
       "    </tr>\n",
       "    <tr>\n",
       "      <td>2019-01-02</td>\n",
       "      <td>-1.006058</td>\n",
       "      <td>-0.861208</td>\n",
       "      <td>0.984806</td>\n",
       "      <td>-0.633118</td>\n",
       "    </tr>\n",
       "    <tr>\n",
       "      <td>2019-01-03</td>\n",
       "      <td>-1.033363</td>\n",
       "      <td>-0.803094</td>\n",
       "      <td>0.251282</td>\n",
       "      <td>0.735513</td>\n",
       "    </tr>\n",
       "    <tr>\n",
       "      <td>2019-01-04</td>\n",
       "      <td>1.356996</td>\n",
       "      <td>-0.211609</td>\n",
       "      <td>-0.088295</td>\n",
       "      <td>-2.660629</td>\n",
       "    </tr>\n",
       "    <tr>\n",
       "      <td>2019-01-05</td>\n",
       "      <td>0.683312</td>\n",
       "      <td>-0.229390</td>\n",
       "      <td>0.739911</td>\n",
       "      <td>-0.679550</td>\n",
       "    </tr>\n",
       "    <tr>\n",
       "      <td>2019-01-06</td>\n",
       "      <td>-0.120131</td>\n",
       "      <td>-0.613903</td>\n",
       "      <td>0.176497</td>\n",
       "      <td>0.813215</td>\n",
       "    </tr>\n",
       "  </tbody>\n",
       "</table>\n",
       "</div>"
      ],
      "text/plain": [
       "                   A         B         C         D\n",
       "2019-01-01 -0.493781 -0.914162  0.283641  1.165503\n",
       "2019-01-02 -1.006058 -0.861208  0.984806 -0.633118\n",
       "2019-01-03 -1.033363 -0.803094  0.251282  0.735513\n",
       "2019-01-04  1.356996 -0.211609 -0.088295 -2.660629\n",
       "2019-01-05  0.683312 -0.229390  0.739911 -0.679550\n",
       "2019-01-06 -0.120131 -0.613903  0.176497  0.813215"
      ]
     },
     "execution_count": 5,
     "metadata": {},
     "output_type": "execute_result"
    }
   ],
   "source": [
    "#Se define la serie s\n",
    "s = pd.Series([1,3,5,np.nan,6,8])\n",
    "dates = pd.date_range('20190101', periods=6)\n",
    "\n",
    "#Se define un DataFrame\n",
    "df = pd.DataFrame(np.random.randn(6,4), index=dates, columns=list('ABCD'))\n",
    "\n",
    "#Se visualizan\n",
    "s\n",
    "df\n"
   ]
  },
  {
   "cell_type": "markdown",
   "metadata": {
    "colab_type": "text",
    "id": "4peBgG2qxMt6"
   },
   "source": [
    "Se crea otro DataFrame, pero como ejemplo se muestra como crearlo con diferentes tipos de datos."
   ]
  },
  {
   "cell_type": "code",
   "execution_count": 6,
   "metadata": {
    "colab": {
     "base_uri": "https://localhost:8080/",
     "height": 566
    },
    "colab_type": "code",
    "id": "YM5-Vv6Sg3Xi",
    "outputId": "ad3746b8-4eaf-4474-bb2b-b98554faebe0"
   },
   "outputs": [
    {
     "name": "stdout",
     "output_type": "stream",
     "text": [
      "Se visualiza el DF\n"
     ]
    },
    {
     "data": {
      "text/html": [
       "<div>\n",
       "<style scoped>\n",
       "    .dataframe tbody tr th:only-of-type {\n",
       "        vertical-align: middle;\n",
       "    }\n",
       "\n",
       "    .dataframe tbody tr th {\n",
       "        vertical-align: top;\n",
       "    }\n",
       "\n",
       "    .dataframe thead th {\n",
       "        text-align: right;\n",
       "    }\n",
       "</style>\n",
       "<table border=\"1\" class=\"dataframe\">\n",
       "  <thead>\n",
       "    <tr style=\"text-align: right;\">\n",
       "      <th></th>\n",
       "      <th>A</th>\n",
       "      <th>B</th>\n",
       "      <th>C</th>\n",
       "      <th>D</th>\n",
       "      <th>E</th>\n",
       "      <th>F</th>\n",
       "    </tr>\n",
       "  </thead>\n",
       "  <tbody>\n",
       "    <tr>\n",
       "      <td>0</td>\n",
       "      <td>1.0</td>\n",
       "      <td>2013-01-02</td>\n",
       "      <td>1.0</td>\n",
       "      <td>3</td>\n",
       "      <td>test</td>\n",
       "      <td>foo</td>\n",
       "    </tr>\n",
       "    <tr>\n",
       "      <td>1</td>\n",
       "      <td>1.0</td>\n",
       "      <td>2013-01-02</td>\n",
       "      <td>1.0</td>\n",
       "      <td>3</td>\n",
       "      <td>train</td>\n",
       "      <td>foo</td>\n",
       "    </tr>\n",
       "    <tr>\n",
       "      <td>2</td>\n",
       "      <td>1.0</td>\n",
       "      <td>2013-01-02</td>\n",
       "      <td>1.0</td>\n",
       "      <td>3</td>\n",
       "      <td>test</td>\n",
       "      <td>foo</td>\n",
       "    </tr>\n",
       "    <tr>\n",
       "      <td>3</td>\n",
       "      <td>1.0</td>\n",
       "      <td>2013-01-02</td>\n",
       "      <td>1.0</td>\n",
       "      <td>3</td>\n",
       "      <td>train</td>\n",
       "      <td>foo</td>\n",
       "    </tr>\n",
       "  </tbody>\n",
       "</table>\n",
       "</div>"
      ],
      "text/plain": [
       "     A          B    C  D      E    F\n",
       "0  1.0 2013-01-02  1.0  3   test  foo\n",
       "1  1.0 2013-01-02  1.0  3  train  foo\n",
       "2  1.0 2013-01-02  1.0  3   test  foo\n",
       "3  1.0 2013-01-02  1.0  3  train  foo"
      ]
     },
     "execution_count": 6,
     "metadata": {},
     "output_type": "execute_result"
    },
    {
     "name": "stdout",
     "output_type": "stream",
     "text": [
      "\n",
      "==================================================\n",
      "\n",
      "¿Qué tipo de datos tiene?\n",
      "\n",
      "==================================================\n"
     ]
    },
    {
     "data": {
      "text/plain": [
       "A           float64\n",
       "B    datetime64[ns]\n",
       "C           float32\n",
       "D             int64\n",
       "E          category\n",
       "F            object\n",
       "dtype: object"
      ]
     },
     "execution_count": 6,
     "metadata": {},
     "output_type": "execute_result"
    },
    {
     "name": "stdout",
     "output_type": "stream",
     "text": [
      "\n",
      "==================================================\n",
      "Resumen\n",
      "<class 'pandas.core.frame.DataFrame'>\n",
      "Int64Index: 4 entries, 0 to 3\n",
      "Data columns (total 6 columns):\n",
      "A    4 non-null float64\n",
      "B    4 non-null datetime64[ns]\n",
      "C    4 non-null float32\n",
      "D    4 non-null int64\n",
      "E    4 non-null category\n",
      "F    4 non-null object\n",
      "dtypes: category(1), datetime64[ns](1), float32(1), float64(1), int64(1), object(1)\n",
      "memory usage: 276.0+ bytes\n"
     ]
    }
   ],
   "source": [
    "#Se crea el DF con diferentes tipos de Series\n",
    "df2 = pd.DataFrame({ 'A' : 1.,\n",
    "                     'B' : pd.Timestamp('20130102'),\n",
    "                     'C' : pd.Series(1,index=list(range(4)),dtype='float32'),\n",
    "                     'D' : np.array([3] * 4,dtype='int64'),\n",
    "                     'E' : pd.Categorical([\"test\",\"train\",\"test\",\"train\"]),\n",
    "                     'F' : 'foo' })\n",
    "\n",
    "print(\"Se visualiza el DF\")\n",
    "\n",
    "df2\n",
    "\n",
    "print()\n",
    "print(\"=\"*50)\n",
    "print()\n",
    "print(\"¿Qué tipo de datos tiene?\")\n",
    "print()\n",
    "print(\"=\"*50)\n",
    "df2.dtypes\n",
    "#Para tener un resumen completo del DF\n",
    "print()\n",
    "print(\"=\"*50)\n",
    "print(\"Resumen\")\n",
    "df2.info()"
   ]
  },
  {
   "cell_type": "markdown",
   "metadata": {
    "colab_type": "text",
    "id": "syXsxppyyWAy"
   },
   "source": [
    "Para un DataFrame largo, es recomendable visualizar solo algunas filas."
   ]
  },
  {
   "cell_type": "code",
   "execution_count": 7,
   "metadata": {
    "colab": {
     "base_uri": "https://localhost:8080/",
     "height": 265
    },
    "colab_type": "code",
    "id": "BsCalx_FhUH-",
    "outputId": "93a5ffeb-b02f-4320-868f-fb3d93485d75"
   },
   "outputs": [
    {
     "data": {
      "text/html": [
       "<div>\n",
       "<style scoped>\n",
       "    .dataframe tbody tr th:only-of-type {\n",
       "        vertical-align: middle;\n",
       "    }\n",
       "\n",
       "    .dataframe tbody tr th {\n",
       "        vertical-align: top;\n",
       "    }\n",
       "\n",
       "    .dataframe thead th {\n",
       "        text-align: right;\n",
       "    }\n",
       "</style>\n",
       "<table border=\"1\" class=\"dataframe\">\n",
       "  <thead>\n",
       "    <tr style=\"text-align: right;\">\n",
       "      <th></th>\n",
       "      <th>A</th>\n",
       "      <th>B</th>\n",
       "      <th>C</th>\n",
       "      <th>D</th>\n",
       "    </tr>\n",
       "  </thead>\n",
       "  <tbody>\n",
       "    <tr>\n",
       "      <td>2019-01-01</td>\n",
       "      <td>-0.493781</td>\n",
       "      <td>-0.914162</td>\n",
       "      <td>0.283641</td>\n",
       "      <td>1.165503</td>\n",
       "    </tr>\n",
       "    <tr>\n",
       "      <td>2019-01-02</td>\n",
       "      <td>-1.006058</td>\n",
       "      <td>-0.861208</td>\n",
       "      <td>0.984806</td>\n",
       "      <td>-0.633118</td>\n",
       "    </tr>\n",
       "    <tr>\n",
       "      <td>2019-01-03</td>\n",
       "      <td>-1.033363</td>\n",
       "      <td>-0.803094</td>\n",
       "      <td>0.251282</td>\n",
       "      <td>0.735513</td>\n",
       "    </tr>\n",
       "  </tbody>\n",
       "</table>\n",
       "</div>"
      ],
      "text/plain": [
       "                   A         B         C         D\n",
       "2019-01-01 -0.493781 -0.914162  0.283641  1.165503\n",
       "2019-01-02 -1.006058 -0.861208  0.984806 -0.633118\n",
       "2019-01-03 -1.033363 -0.803094  0.251282  0.735513"
      ]
     },
     "execution_count": 7,
     "metadata": {},
     "output_type": "execute_result"
    },
    {
     "data": {
      "text/html": [
       "<div>\n",
       "<style scoped>\n",
       "    .dataframe tbody tr th:only-of-type {\n",
       "        vertical-align: middle;\n",
       "    }\n",
       "\n",
       "    .dataframe tbody tr th {\n",
       "        vertical-align: top;\n",
       "    }\n",
       "\n",
       "    .dataframe thead th {\n",
       "        text-align: right;\n",
       "    }\n",
       "</style>\n",
       "<table border=\"1\" class=\"dataframe\">\n",
       "  <thead>\n",
       "    <tr style=\"text-align: right;\">\n",
       "      <th></th>\n",
       "      <th>A</th>\n",
       "      <th>B</th>\n",
       "      <th>C</th>\n",
       "      <th>D</th>\n",
       "    </tr>\n",
       "  </thead>\n",
       "  <tbody>\n",
       "    <tr>\n",
       "      <td>2019-01-04</td>\n",
       "      <td>1.356996</td>\n",
       "      <td>-0.211609</td>\n",
       "      <td>-0.088295</td>\n",
       "      <td>-2.660629</td>\n",
       "    </tr>\n",
       "    <tr>\n",
       "      <td>2019-01-05</td>\n",
       "      <td>0.683312</td>\n",
       "      <td>-0.229390</td>\n",
       "      <td>0.739911</td>\n",
       "      <td>-0.679550</td>\n",
       "    </tr>\n",
       "    <tr>\n",
       "      <td>2019-01-06</td>\n",
       "      <td>-0.120131</td>\n",
       "      <td>-0.613903</td>\n",
       "      <td>0.176497</td>\n",
       "      <td>0.813215</td>\n",
       "    </tr>\n",
       "  </tbody>\n",
       "</table>\n",
       "</div>"
      ],
      "text/plain": [
       "                   A         B         C         D\n",
       "2019-01-04  1.356996 -0.211609 -0.088295 -2.660629\n",
       "2019-01-05  0.683312 -0.229390  0.739911 -0.679550\n",
       "2019-01-06 -0.120131 -0.613903  0.176497  0.813215"
      ]
     },
     "execution_count": 7,
     "metadata": {},
     "output_type": "execute_result"
    },
    {
     "data": {
      "text/html": [
       "<div>\n",
       "<style scoped>\n",
       "    .dataframe tbody tr th:only-of-type {\n",
       "        vertical-align: middle;\n",
       "    }\n",
       "\n",
       "    .dataframe tbody tr th {\n",
       "        vertical-align: top;\n",
       "    }\n",
       "\n",
       "    .dataframe thead th {\n",
       "        text-align: right;\n",
       "    }\n",
       "</style>\n",
       "<table border=\"1\" class=\"dataframe\">\n",
       "  <thead>\n",
       "    <tr style=\"text-align: right;\">\n",
       "      <th></th>\n",
       "      <th>A</th>\n",
       "      <th>B</th>\n",
       "      <th>C</th>\n",
       "      <th>D</th>\n",
       "    </tr>\n",
       "  </thead>\n",
       "  <tbody>\n",
       "    <tr>\n",
       "      <td>2019-01-01</td>\n",
       "      <td>-0.493781</td>\n",
       "      <td>-0.914162</td>\n",
       "      <td>0.283641</td>\n",
       "      <td>1.165503</td>\n",
       "    </tr>\n",
       "    <tr>\n",
       "      <td>2019-01-02</td>\n",
       "      <td>-1.006058</td>\n",
       "      <td>-0.861208</td>\n",
       "      <td>0.984806</td>\n",
       "      <td>-0.633118</td>\n",
       "    </tr>\n",
       "    <tr>\n",
       "      <td>2019-01-03</td>\n",
       "      <td>-1.033363</td>\n",
       "      <td>-0.803094</td>\n",
       "      <td>0.251282</td>\n",
       "      <td>0.735513</td>\n",
       "    </tr>\n",
       "    <tr>\n",
       "      <td>2019-01-04</td>\n",
       "      <td>1.356996</td>\n",
       "      <td>-0.211609</td>\n",
       "      <td>-0.088295</td>\n",
       "      <td>-2.660629</td>\n",
       "    </tr>\n",
       "    <tr>\n",
       "      <td>2019-01-05</td>\n",
       "      <td>0.683312</td>\n",
       "      <td>-0.229390</td>\n",
       "      <td>0.739911</td>\n",
       "      <td>-0.679550</td>\n",
       "    </tr>\n",
       "    <tr>\n",
       "      <td>2019-01-06</td>\n",
       "      <td>-0.120131</td>\n",
       "      <td>-0.613903</td>\n",
       "      <td>0.176497</td>\n",
       "      <td>0.813215</td>\n",
       "    </tr>\n",
       "  </tbody>\n",
       "</table>\n",
       "</div>"
      ],
      "text/plain": [
       "                   A         B         C         D\n",
       "2019-01-01 -0.493781 -0.914162  0.283641  1.165503\n",
       "2019-01-02 -1.006058 -0.861208  0.984806 -0.633118\n",
       "2019-01-03 -1.033363 -0.803094  0.251282  0.735513\n",
       "2019-01-04  1.356996 -0.211609 -0.088295 -2.660629\n",
       "2019-01-05  0.683312 -0.229390  0.739911 -0.679550\n",
       "2019-01-06 -0.120131 -0.613903  0.176497  0.813215"
      ]
     },
     "execution_count": 7,
     "metadata": {},
     "output_type": "execute_result"
    }
   ],
   "source": [
    "#Se muestran las 3 primeras filas\n",
    "df.head(3)\n",
    "#Se muestran las 3 últimas filas\n",
    "df.tail(3)\n",
    "\n",
    "# Todo el Data Frame\n",
    "df"
   ]
  },
  {
   "cell_type": "markdown",
   "metadata": {
    "colab_type": "text",
    "id": "EC5CQEk-yxEb"
   },
   "source": [
    "### Relación Pandas y NumPy\n",
    "\n",
    "De manera general, todo DataFrame tiene 3 elementos: index, columnas y valores."
   ]
  },
  {
   "cell_type": "code",
   "execution_count": 8,
   "metadata": {
    "colab": {
     "base_uri": "https://localhost:8080/",
     "height": 257
    },
    "colab_type": "code",
    "id": "dbnvZnSshl2E",
    "outputId": "f05eac68-894a-4055-d35c-18f13261bbe3"
   },
   "outputs": [
    {
     "data": {
      "text/plain": [
       "DatetimeIndex(['2019-01-01', '2019-01-02', '2019-01-03', '2019-01-04',\n",
       "               '2019-01-05', '2019-01-06'],\n",
       "              dtype='datetime64[ns]', freq='D')"
      ]
     },
     "execution_count": 8,
     "metadata": {},
     "output_type": "execute_result"
    },
    {
     "name": "stdout",
     "output_type": "stream",
     "text": [
      "\n",
      "\n",
      "Columndas\n",
      "\n"
     ]
    },
    {
     "data": {
      "text/plain": [
       "Index(['A', 'B', 'C', 'D'], dtype='object')"
      ]
     },
     "execution_count": 8,
     "metadata": {},
     "output_type": "execute_result"
    },
    {
     "name": "stdout",
     "output_type": "stream",
     "text": [
      "\n",
      "\n"
     ]
    },
    {
     "data": {
      "text/plain": [
       "array([[-0.49378108, -0.91416244,  0.28364092,  1.16550287],\n",
       "       [-1.00605823, -0.86120752,  0.98480619, -0.6331178 ],\n",
       "       [-1.03336317, -0.8030939 ,  0.25128152,  0.73551279],\n",
       "       [ 1.35699569, -0.21160904, -0.08829517, -2.6606292 ],\n",
       "       [ 0.68331198, -0.22938952,  0.73991117, -0.67954993],\n",
       "       [-0.12013124, -0.61390271,  0.17649716,  0.81321455]])"
      ]
     },
     "execution_count": 8,
     "metadata": {},
     "output_type": "execute_result"
    }
   ],
   "source": [
    "#Se visualizan los índices\n",
    "df.index\n",
    "print(\"\\n\")\n",
    "#Se revisan las columnas\n",
    "print(\"Columndas\\n\")\n",
    "df.columns\n",
    "\n",
    "#Se visualizan los valores\n",
    "print(\"\\n\")\n",
    "df.values"
   ]
  },
  {
   "cell_type": "markdown",
   "metadata": {
    "colab_type": "text",
    "id": "-S8u8vTVzgJb"
   },
   "source": [
    "Los comandos anteriores muestran la relación que existe entre Numpy y Pandas.  "
   ]
  },
  {
   "cell_type": "code",
   "execution_count": 9,
   "metadata": {
    "colab": {
     "base_uri": "https://localhost:8080/",
     "height": 68
    },
    "colab_type": "code",
    "id": "TlqWPQj-z0_9",
    "outputId": "fd5bbebf-5ebb-4059-d331-7faf5b50bd9f"
   },
   "outputs": [
    {
     "data": {
      "text/plain": [
       "pandas.core.indexes.datetimes.DatetimeIndex"
      ]
     },
     "execution_count": 9,
     "metadata": {},
     "output_type": "execute_result"
    },
    {
     "name": "stdout",
     "output_type": "stream",
     "text": [
      "\n"
     ]
    },
    {
     "data": {
      "text/plain": [
       "pandas.core.indexes.base.Index"
      ]
     },
     "execution_count": 9,
     "metadata": {},
     "output_type": "execute_result"
    },
    {
     "name": "stdout",
     "output_type": "stream",
     "text": [
      "\n"
     ]
    },
    {
     "data": {
      "text/plain": [
       "numpy.ndarray"
      ]
     },
     "execution_count": 9,
     "metadata": {},
     "output_type": "execute_result"
    }
   ],
   "source": [
    "type(df.index)\n",
    "print()\n",
    "type(df.columns)\n",
    "print()\n",
    "type(df.values)"
   ]
  },
  {
   "cell_type": "markdown",
   "metadata": {
    "colab_type": "text",
    "id": "QTHYq3sY0Mkq"
   },
   "source": [
    "Se observa que el tipo de dato que para los valores de un DataFrame es un arreglo o array de Numpy. Entonces, eso implica que toda función que tiene un arreglo en Numpy la hereda un DataFrame."
   ]
  },
  {
   "cell_type": "code",
   "execution_count": 10,
   "metadata": {
    "colab": {
     "base_uri": "https://localhost:8080/",
     "height": 51
    },
    "colab_type": "code",
    "id": "HFT91F760gj3",
    "outputId": "5e69f228-05e2-4b82-b382-9cb0a1f27a21"
   },
   "outputs": [
    {
     "data": {
      "text/plain": [
       "-3.1576161185746288"
      ]
     },
     "execution_count": 10,
     "metadata": {},
     "output_type": "execute_result"
    },
    {
     "name": "stdout",
     "output_type": "stream",
     "text": [
      "\n"
     ]
    },
    {
     "data": {
      "text/plain": [
       "array([-0.49378108, -0.86120752,  0.25128152, -2.6606292 ])"
      ]
     },
     "execution_count": 10,
     "metadata": {},
     "output_type": "execute_result"
    }
   ],
   "source": [
    "df.values.sum()\n",
    "print()\n",
    "df.values.diagonal()\n"
   ]
  },
  {
   "cell_type": "markdown",
   "metadata": {
    "colab_type": "text",
    "id": "56goVFeB06mg"
   },
   "source": [
    "Lo mismo ocurre con las series."
   ]
  },
  {
   "cell_type": "code",
   "execution_count": 11,
   "metadata": {
    "colab": {
     "base_uri": "https://localhost:8080/",
     "height": 51
    },
    "colab_type": "code",
    "id": "pFzDNCr707sA",
    "outputId": "35ece473-94d4-4e3e-e85d-6f4300b9afcf"
   },
   "outputs": [
    {
     "data": {
      "text/plain": [
       "pandas.core.series.Series"
      ]
     },
     "execution_count": 11,
     "metadata": {},
     "output_type": "execute_result"
    },
    {
     "name": "stdout",
     "output_type": "stream",
     "text": [
      "\n"
     ]
    },
    {
     "data": {
      "text/plain": [
       "numpy.ndarray"
      ]
     },
     "execution_count": 11,
     "metadata": {},
     "output_type": "execute_result"
    }
   ],
   "source": [
    "type(s)\n",
    "print()\n",
    "type(s.values)"
   ]
  },
  {
   "cell_type": "markdown",
   "metadata": {
    "colab_type": "text",
    "id": "3Ajx_9Y41K1c"
   },
   "source": [
    "### Exploración\n",
    "\n",
    "Algunas funciones útiles para explora los datos del DataFrame son las siguientes:"
   ]
  },
  {
   "cell_type": "code",
   "execution_count": 12,
   "metadata": {
    "colab": {
     "base_uri": "https://localhost:8080/",
     "height": 295
    },
    "colab_type": "code",
    "id": "cnYrg8ENhby8",
    "outputId": "5c93e9cb-9d12-408e-da09-88be230f2343"
   },
   "outputs": [
    {
     "data": {
      "text/html": [
       "<div>\n",
       "<style scoped>\n",
       "    .dataframe tbody tr th:only-of-type {\n",
       "        vertical-align: middle;\n",
       "    }\n",
       "\n",
       "    .dataframe tbody tr th {\n",
       "        vertical-align: top;\n",
       "    }\n",
       "\n",
       "    .dataframe thead th {\n",
       "        text-align: right;\n",
       "    }\n",
       "</style>\n",
       "<table border=\"1\" class=\"dataframe\">\n",
       "  <thead>\n",
       "    <tr style=\"text-align: right;\">\n",
       "      <th></th>\n",
       "      <th>A</th>\n",
       "      <th>B</th>\n",
       "      <th>C</th>\n",
       "      <th>D</th>\n",
       "    </tr>\n",
       "  </thead>\n",
       "  <tbody>\n",
       "    <tr>\n",
       "      <td>count</td>\n",
       "      <td>6.000000</td>\n",
       "      <td>6.000000</td>\n",
       "      <td>6.000000</td>\n",
       "      <td>6.000000</td>\n",
       "    </tr>\n",
       "    <tr>\n",
       "      <td>mean</td>\n",
       "      <td>-0.102171</td>\n",
       "      <td>-0.605561</td>\n",
       "      <td>0.391307</td>\n",
       "      <td>-0.209844</td>\n",
       "    </tr>\n",
       "    <tr>\n",
       "      <td>std</td>\n",
       "      <td>0.957493</td>\n",
       "      <td>0.315082</td>\n",
       "      <td>0.395254</td>\n",
       "      <td>1.430948</td>\n",
       "    </tr>\n",
       "    <tr>\n",
       "      <td>min</td>\n",
       "      <td>-1.033363</td>\n",
       "      <td>-0.914162</td>\n",
       "      <td>-0.088295</td>\n",
       "      <td>-2.660629</td>\n",
       "    </tr>\n",
       "    <tr>\n",
       "      <td>25%</td>\n",
       "      <td>-0.877989</td>\n",
       "      <td>-0.846679</td>\n",
       "      <td>0.195193</td>\n",
       "      <td>-0.667942</td>\n",
       "    </tr>\n",
       "    <tr>\n",
       "      <td>50%</td>\n",
       "      <td>-0.306956</td>\n",
       "      <td>-0.708498</td>\n",
       "      <td>0.267461</td>\n",
       "      <td>0.051197</td>\n",
       "    </tr>\n",
       "    <tr>\n",
       "      <td>75%</td>\n",
       "      <td>0.482451</td>\n",
       "      <td>-0.325518</td>\n",
       "      <td>0.625844</td>\n",
       "      <td>0.793789</td>\n",
       "    </tr>\n",
       "    <tr>\n",
       "      <td>max</td>\n",
       "      <td>1.356996</td>\n",
       "      <td>-0.211609</td>\n",
       "      <td>0.984806</td>\n",
       "      <td>1.165503</td>\n",
       "    </tr>\n",
       "  </tbody>\n",
       "</table>\n",
       "</div>"
      ],
      "text/plain": [
       "              A         B         C         D\n",
       "count  6.000000  6.000000  6.000000  6.000000\n",
       "mean  -0.102171 -0.605561  0.391307 -0.209844\n",
       "std    0.957493  0.315082  0.395254  1.430948\n",
       "min   -1.033363 -0.914162 -0.088295 -2.660629\n",
       "25%   -0.877989 -0.846679  0.195193 -0.667942\n",
       "50%   -0.306956 -0.708498  0.267461  0.051197\n",
       "75%    0.482451 -0.325518  0.625844  0.793789\n",
       "max    1.356996 -0.211609  0.984806  1.165503"
      ]
     },
     "execution_count": 12,
     "metadata": {},
     "output_type": "execute_result"
    }
   ],
   "source": [
    "#Se pide la estádistica básica\n",
    "df.describe()"
   ]
  },
  {
   "cell_type": "code",
   "execution_count": 13,
   "metadata": {
    "colab": {
     "base_uri": "https://localhost:8080/",
     "height": 450
    },
    "colab_type": "code",
    "id": "DTF6lVyihzHx",
    "outputId": "76e53e7c-19ba-42fe-e17c-11b161e94ac0"
   },
   "outputs": [
    {
     "data": {
      "text/html": [
       "<div>\n",
       "<style scoped>\n",
       "    .dataframe tbody tr th:only-of-type {\n",
       "        vertical-align: middle;\n",
       "    }\n",
       "\n",
       "    .dataframe tbody tr th {\n",
       "        vertical-align: top;\n",
       "    }\n",
       "\n",
       "    .dataframe thead th {\n",
       "        text-align: right;\n",
       "    }\n",
       "</style>\n",
       "<table border=\"1\" class=\"dataframe\">\n",
       "  <thead>\n",
       "    <tr style=\"text-align: right;\">\n",
       "      <th></th>\n",
       "      <th>D</th>\n",
       "      <th>C</th>\n",
       "      <th>B</th>\n",
       "      <th>A</th>\n",
       "    </tr>\n",
       "  </thead>\n",
       "  <tbody>\n",
       "    <tr>\n",
       "      <td>2019-01-01</td>\n",
       "      <td>1.165503</td>\n",
       "      <td>0.283641</td>\n",
       "      <td>-0.914162</td>\n",
       "      <td>-0.493781</td>\n",
       "    </tr>\n",
       "    <tr>\n",
       "      <td>2019-01-02</td>\n",
       "      <td>-0.633118</td>\n",
       "      <td>0.984806</td>\n",
       "      <td>-0.861208</td>\n",
       "      <td>-1.006058</td>\n",
       "    </tr>\n",
       "    <tr>\n",
       "      <td>2019-01-03</td>\n",
       "      <td>0.735513</td>\n",
       "      <td>0.251282</td>\n",
       "      <td>-0.803094</td>\n",
       "      <td>-1.033363</td>\n",
       "    </tr>\n",
       "    <tr>\n",
       "      <td>2019-01-04</td>\n",
       "      <td>-2.660629</td>\n",
       "      <td>-0.088295</td>\n",
       "      <td>-0.211609</td>\n",
       "      <td>1.356996</td>\n",
       "    </tr>\n",
       "    <tr>\n",
       "      <td>2019-01-05</td>\n",
       "      <td>-0.679550</td>\n",
       "      <td>0.739911</td>\n",
       "      <td>-0.229390</td>\n",
       "      <td>0.683312</td>\n",
       "    </tr>\n",
       "    <tr>\n",
       "      <td>2019-01-06</td>\n",
       "      <td>0.813215</td>\n",
       "      <td>0.176497</td>\n",
       "      <td>-0.613903</td>\n",
       "      <td>-0.120131</td>\n",
       "    </tr>\n",
       "  </tbody>\n",
       "</table>\n",
       "</div>"
      ],
      "text/plain": [
       "                   D         C         B         A\n",
       "2019-01-01  1.165503  0.283641 -0.914162 -0.493781\n",
       "2019-01-02 -0.633118  0.984806 -0.861208 -1.006058\n",
       "2019-01-03  0.735513  0.251282 -0.803094 -1.033363\n",
       "2019-01-04 -2.660629 -0.088295 -0.211609  1.356996\n",
       "2019-01-05 -0.679550  0.739911 -0.229390  0.683312\n",
       "2019-01-06  0.813215  0.176497 -0.613903 -0.120131"
      ]
     },
     "execution_count": 13,
     "metadata": {},
     "output_type": "execute_result"
    },
    {
     "data": {
      "text/html": [
       "<div>\n",
       "<style scoped>\n",
       "    .dataframe tbody tr th:only-of-type {\n",
       "        vertical-align: middle;\n",
       "    }\n",
       "\n",
       "    .dataframe tbody tr th {\n",
       "        vertical-align: top;\n",
       "    }\n",
       "\n",
       "    .dataframe thead th {\n",
       "        text-align: right;\n",
       "    }\n",
       "</style>\n",
       "<table border=\"1\" class=\"dataframe\">\n",
       "  <thead>\n",
       "    <tr style=\"text-align: right;\">\n",
       "      <th></th>\n",
       "      <th>A</th>\n",
       "      <th>B</th>\n",
       "      <th>C</th>\n",
       "      <th>D</th>\n",
       "    </tr>\n",
       "  </thead>\n",
       "  <tbody>\n",
       "    <tr>\n",
       "      <td>2019-01-01</td>\n",
       "      <td>-0.493781</td>\n",
       "      <td>-0.914162</td>\n",
       "      <td>0.283641</td>\n",
       "      <td>1.165503</td>\n",
       "    </tr>\n",
       "    <tr>\n",
       "      <td>2019-01-02</td>\n",
       "      <td>-1.006058</td>\n",
       "      <td>-0.861208</td>\n",
       "      <td>0.984806</td>\n",
       "      <td>-0.633118</td>\n",
       "    </tr>\n",
       "    <tr>\n",
       "      <td>2019-01-03</td>\n",
       "      <td>-1.033363</td>\n",
       "      <td>-0.803094</td>\n",
       "      <td>0.251282</td>\n",
       "      <td>0.735513</td>\n",
       "    </tr>\n",
       "    <tr>\n",
       "      <td>2019-01-06</td>\n",
       "      <td>-0.120131</td>\n",
       "      <td>-0.613903</td>\n",
       "      <td>0.176497</td>\n",
       "      <td>0.813215</td>\n",
       "    </tr>\n",
       "    <tr>\n",
       "      <td>2019-01-05</td>\n",
       "      <td>0.683312</td>\n",
       "      <td>-0.229390</td>\n",
       "      <td>0.739911</td>\n",
       "      <td>-0.679550</td>\n",
       "    </tr>\n",
       "    <tr>\n",
       "      <td>2019-01-04</td>\n",
       "      <td>1.356996</td>\n",
       "      <td>-0.211609</td>\n",
       "      <td>-0.088295</td>\n",
       "      <td>-2.660629</td>\n",
       "    </tr>\n",
       "  </tbody>\n",
       "</table>\n",
       "</div>"
      ],
      "text/plain": [
       "                   A         B         C         D\n",
       "2019-01-01 -0.493781 -0.914162  0.283641  1.165503\n",
       "2019-01-02 -1.006058 -0.861208  0.984806 -0.633118\n",
       "2019-01-03 -1.033363 -0.803094  0.251282  0.735513\n",
       "2019-01-06 -0.120131 -0.613903  0.176497  0.813215\n",
       "2019-01-05  0.683312 -0.229390  0.739911 -0.679550\n",
       "2019-01-04  1.356996 -0.211609 -0.088295 -2.660629"
      ]
     },
     "execution_count": 13,
     "metadata": {},
     "output_type": "execute_result"
    }
   ],
   "source": [
    "#Quizás se necesita ordenar los datos\n",
    "# de algun modo. \n",
    "df.sort_index(axis=1, ascending=False)\n",
    "df.sort_values(by='B')"
   ]
  },
  {
   "cell_type": "markdown",
   "metadata": {
    "colab_type": "text",
    "id": "luC3UaJj1tB8"
   },
   "source": [
    "### Álgebra Lineal\n",
    "\n",
    "Si bien los DataFrame son arreglos de dos dimensiones y su valores son un array de Numpy. Por consecuencia las operaciones de matrices pueden ser aplicables."
   ]
  },
  {
   "cell_type": "code",
   "execution_count": 14,
   "metadata": {
    "colab": {
     "base_uri": "https://localhost:8080/",
     "height": 240
    },
    "colab_type": "code",
    "id": "E9uY6xRS17Rb",
    "outputId": "6d11b198-1e40-4778-ba31-df69ad790c95"
   },
   "outputs": [
    {
     "data": {
      "text/html": [
       "<div>\n",
       "<style scoped>\n",
       "    .dataframe tbody tr th:only-of-type {\n",
       "        vertical-align: middle;\n",
       "    }\n",
       "\n",
       "    .dataframe tbody tr th {\n",
       "        vertical-align: top;\n",
       "    }\n",
       "\n",
       "    .dataframe thead th {\n",
       "        text-align: right;\n",
       "    }\n",
       "</style>\n",
       "<table border=\"1\" class=\"dataframe\">\n",
       "  <thead>\n",
       "    <tr style=\"text-align: right;\">\n",
       "      <th></th>\n",
       "      <th>2019-01-01</th>\n",
       "      <th>2019-01-02</th>\n",
       "      <th>2019-01-03</th>\n",
       "      <th>2019-01-04</th>\n",
       "      <th>2019-01-05</th>\n",
       "      <th>2019-01-06</th>\n",
       "    </tr>\n",
       "  </thead>\n",
       "  <tbody>\n",
       "    <tr>\n",
       "      <td>A</td>\n",
       "      <td>-0.493781</td>\n",
       "      <td>-1.006058</td>\n",
       "      <td>-1.033363</td>\n",
       "      <td>1.356996</td>\n",
       "      <td>0.683312</td>\n",
       "      <td>-0.120131</td>\n",
       "    </tr>\n",
       "    <tr>\n",
       "      <td>B</td>\n",
       "      <td>-0.914162</td>\n",
       "      <td>-0.861208</td>\n",
       "      <td>-0.803094</td>\n",
       "      <td>-0.211609</td>\n",
       "      <td>-0.229390</td>\n",
       "      <td>-0.613903</td>\n",
       "    </tr>\n",
       "    <tr>\n",
       "      <td>C</td>\n",
       "      <td>0.283641</td>\n",
       "      <td>0.984806</td>\n",
       "      <td>0.251282</td>\n",
       "      <td>-0.088295</td>\n",
       "      <td>0.739911</td>\n",
       "      <td>0.176497</td>\n",
       "    </tr>\n",
       "    <tr>\n",
       "      <td>D</td>\n",
       "      <td>1.165503</td>\n",
       "      <td>-0.633118</td>\n",
       "      <td>0.735513</td>\n",
       "      <td>-2.660629</td>\n",
       "      <td>-0.679550</td>\n",
       "      <td>0.813215</td>\n",
       "    </tr>\n",
       "  </tbody>\n",
       "</table>\n",
       "</div>"
      ],
      "text/plain": [
       "   2019-01-01  2019-01-02  2019-01-03  2019-01-04  2019-01-05  2019-01-06\n",
       "A   -0.493781   -1.006058   -1.033363    1.356996    0.683312   -0.120131\n",
       "B   -0.914162   -0.861208   -0.803094   -0.211609   -0.229390   -0.613903\n",
       "C    0.283641    0.984806    0.251282   -0.088295    0.739911    0.176497\n",
       "D    1.165503   -0.633118    0.735513   -2.660629   -0.679550    0.813215"
      ]
     },
     "execution_count": 14,
     "metadata": {},
     "output_type": "execute_result"
    },
    {
     "name": "stdout",
     "output_type": "stream",
     "text": [
      "\n"
     ]
    },
    {
     "data": {
      "text/plain": [
       "array([-0.49378108, -0.86120752,  0.25128152, -2.6606292 ])"
      ]
     },
     "execution_count": 14,
     "metadata": {},
     "output_type": "execute_result"
    },
    {
     "name": "stdout",
     "output_type": "stream",
     "text": [
      "\n"
     ]
    },
    {
     "data": {
      "text/plain": [
       "1.3569956890545916"
      ]
     },
     "execution_count": 14,
     "metadata": {},
     "output_type": "execute_result"
    }
   ],
   "source": [
    "#Se estima la transpuesta\n",
    "df.T\n",
    "print()\n",
    "df.values.diagonal()\n",
    "print()\n",
    "df.values.max()"
   ]
  },
  {
   "cell_type": "markdown",
   "metadata": {
    "colab_type": "text",
    "id": "dFcv0_gn2VlH"
   },
   "source": [
    "En los comandos anteriores se pide la transpuesta del DataFrame, la cual es una operacion diferentes a la siguiente:"
   ]
  },
  {
   "cell_type": "code",
   "execution_count": 15,
   "metadata": {
    "colab": {
     "base_uri": "https://localhost:8080/",
     "height": 154
    },
    "colab_type": "code",
    "id": "n5uX_Oed2SgH",
    "outputId": "63c4118b-b956-4cc5-c194-7cc42dcd9716"
   },
   "outputs": [
    {
     "data": {
      "text/plain": [
       "array([[-0.49378108, -1.00605823, -1.03336317,  1.35699569,  0.68331198,\n",
       "        -0.12013124],\n",
       "       [-0.91416244, -0.86120752, -0.8030939 , -0.21160904, -0.22938952,\n",
       "        -0.61390271],\n",
       "       [ 0.28364092,  0.98480619,  0.25128152, -0.08829517,  0.73991117,\n",
       "         0.17649716],\n",
       "       [ 1.16550287, -0.6331178 ,  0.73551279, -2.6606292 , -0.67954993,\n",
       "         0.81321455]])"
      ]
     },
     "execution_count": 15,
     "metadata": {},
     "output_type": "execute_result"
    }
   ],
   "source": [
    "#¿cuál es la diferencia con df.T?\n",
    "df.values.T"
   ]
  },
  {
   "cell_type": "code",
   "execution_count": 16,
   "metadata": {},
   "outputs": [],
   "source": [
    "#pd.DataFrame(df.values.T)"
   ]
  },
  {
   "cell_type": "markdown",
   "metadata": {
    "colab_type": "text",
    "id": "NVyjNYck8glJ"
   },
   "source": [
    "### Selección de Columnas y Filas\n",
    "\n",
    "Como se mencionó, los objetos de Pandas son mutables. En el sentido de que pueden ser modificados, por lo cual se puede seleccionar solo las columnas o parte de los datos que a uno le interesan.\n",
    "\n",
    "La selección de columnas y filas tiene 3 modos de ser realizada:\n",
    "* Slicing\n",
    "* Referencia \n",
    "* Posición\n",
    "\n",
    "*¿Por qué tantos modos de hacer lo **mismo**?*"
   ]
  },
  {
   "cell_type": "code",
   "execution_count": 17,
   "metadata": {
    "colab": {
     "base_uri": "https://localhost:8080/",
     "height": 385
    },
    "colab_type": "code",
    "id": "wuMDMOm8iYhu",
    "outputId": "8bad441a-a16d-4c20-fcc0-5f5ca3f93327"
   },
   "outputs": [
    {
     "data": {
      "text/plain": [
       "2019-01-01   -0.493781\n",
       "2019-01-02   -1.006058\n",
       "2019-01-03   -1.033363\n",
       "2019-01-04    1.356996\n",
       "2019-01-05    0.683312\n",
       "2019-01-06   -0.120131\n",
       "Freq: D, Name: A, dtype: float64"
      ]
     },
     "execution_count": 17,
     "metadata": {},
     "output_type": "execute_result"
    },
    {
     "name": "stdout",
     "output_type": "stream",
     "text": [
      "\n"
     ]
    },
    {
     "data": {
      "text/html": [
       "<div>\n",
       "<style scoped>\n",
       "    .dataframe tbody tr th:only-of-type {\n",
       "        vertical-align: middle;\n",
       "    }\n",
       "\n",
       "    .dataframe tbody tr th {\n",
       "        vertical-align: top;\n",
       "    }\n",
       "\n",
       "    .dataframe thead th {\n",
       "        text-align: right;\n",
       "    }\n",
       "</style>\n",
       "<table border=\"1\" class=\"dataframe\">\n",
       "  <thead>\n",
       "    <tr style=\"text-align: right;\">\n",
       "      <th></th>\n",
       "      <th>A</th>\n",
       "      <th>B</th>\n",
       "      <th>C</th>\n",
       "      <th>D</th>\n",
       "    </tr>\n",
       "  </thead>\n",
       "  <tbody>\n",
       "    <tr>\n",
       "      <td>2019-01-01</td>\n",
       "      <td>-0.493781</td>\n",
       "      <td>-0.914162</td>\n",
       "      <td>0.283641</td>\n",
       "      <td>1.165503</td>\n",
       "    </tr>\n",
       "    <tr>\n",
       "      <td>2019-01-02</td>\n",
       "      <td>-1.006058</td>\n",
       "      <td>-0.861208</td>\n",
       "      <td>0.984806</td>\n",
       "      <td>-0.633118</td>\n",
       "    </tr>\n",
       "    <tr>\n",
       "      <td>2019-01-03</td>\n",
       "      <td>-1.033363</td>\n",
       "      <td>-0.803094</td>\n",
       "      <td>0.251282</td>\n",
       "      <td>0.735513</td>\n",
       "    </tr>\n",
       "  </tbody>\n",
       "</table>\n",
       "</div>"
      ],
      "text/plain": [
       "                   A         B         C         D\n",
       "2019-01-01 -0.493781 -0.914162  0.283641  1.165503\n",
       "2019-01-02 -1.006058 -0.861208  0.984806 -0.633118\n",
       "2019-01-03 -1.033363 -0.803094  0.251282  0.735513"
      ]
     },
     "execution_count": 17,
     "metadata": {},
     "output_type": "execute_result"
    },
    {
     "name": "stdout",
     "output_type": "stream",
     "text": [
      "\n"
     ]
    },
    {
     "data": {
      "text/html": [
       "<div>\n",
       "<style scoped>\n",
       "    .dataframe tbody tr th:only-of-type {\n",
       "        vertical-align: middle;\n",
       "    }\n",
       "\n",
       "    .dataframe tbody tr th {\n",
       "        vertical-align: top;\n",
       "    }\n",
       "\n",
       "    .dataframe thead th {\n",
       "        text-align: right;\n",
       "    }\n",
       "</style>\n",
       "<table border=\"1\" class=\"dataframe\">\n",
       "  <thead>\n",
       "    <tr style=\"text-align: right;\">\n",
       "      <th></th>\n",
       "      <th>A</th>\n",
       "      <th>B</th>\n",
       "      <th>C</th>\n",
       "      <th>D</th>\n",
       "    </tr>\n",
       "  </thead>\n",
       "  <tbody>\n",
       "    <tr>\n",
       "      <td>2019-01-02</td>\n",
       "      <td>-1.006058</td>\n",
       "      <td>-0.861208</td>\n",
       "      <td>0.984806</td>\n",
       "      <td>-0.633118</td>\n",
       "    </tr>\n",
       "    <tr>\n",
       "      <td>2019-01-03</td>\n",
       "      <td>-1.033363</td>\n",
       "      <td>-0.803094</td>\n",
       "      <td>0.251282</td>\n",
       "      <td>0.735513</td>\n",
       "    </tr>\n",
       "    <tr>\n",
       "      <td>2019-01-04</td>\n",
       "      <td>1.356996</td>\n",
       "      <td>-0.211609</td>\n",
       "      <td>-0.088295</td>\n",
       "      <td>-2.660629</td>\n",
       "    </tr>\n",
       "  </tbody>\n",
       "</table>\n",
       "</div>"
      ],
      "text/plain": [
       "                   A         B         C         D\n",
       "2019-01-02 -1.006058 -0.861208  0.984806 -0.633118\n",
       "2019-01-03 -1.033363 -0.803094  0.251282  0.735513\n",
       "2019-01-04  1.356996 -0.211609 -0.088295 -2.660629"
      ]
     },
     "execution_count": 17,
     "metadata": {},
     "output_type": "execute_result"
    }
   ],
   "source": [
    "#Por slicing\n",
    "df['A']\n",
    "\n",
    "print()\n",
    "\n",
    "df[0:3]\n",
    "\n",
    "print()\n",
    "\n",
    "df['20190102':'20190104']\n"
   ]
  },
  {
   "cell_type": "code",
   "execution_count": 18,
   "metadata": {
    "colab": {},
    "colab_type": "code",
    "id": "i31ONFvB9dKZ"
   },
   "outputs": [
    {
     "data": {
      "text/html": [
       "<div>\n",
       "<style scoped>\n",
       "    .dataframe tbody tr th:only-of-type {\n",
       "        vertical-align: middle;\n",
       "    }\n",
       "\n",
       "    .dataframe tbody tr th {\n",
       "        vertical-align: top;\n",
       "    }\n",
       "\n",
       "    .dataframe thead th {\n",
       "        text-align: right;\n",
       "    }\n",
       "</style>\n",
       "<table border=\"1\" class=\"dataframe\">\n",
       "  <thead>\n",
       "    <tr style=\"text-align: right;\">\n",
       "      <th></th>\n",
       "      <th>A</th>\n",
       "      <th>B</th>\n",
       "      <th>C</th>\n",
       "      <th>D</th>\n",
       "    </tr>\n",
       "  </thead>\n",
       "  <tbody>\n",
       "    <tr>\n",
       "      <td>2019-01-01</td>\n",
       "      <td>-0.493781</td>\n",
       "      <td>-0.914162</td>\n",
       "      <td>0.283641</td>\n",
       "      <td>1.165503</td>\n",
       "    </tr>\n",
       "    <tr>\n",
       "      <td>2019-01-02</td>\n",
       "      <td>-1.006058</td>\n",
       "      <td>-0.861208</td>\n",
       "      <td>0.984806</td>\n",
       "      <td>-0.633118</td>\n",
       "    </tr>\n",
       "    <tr>\n",
       "      <td>2019-01-03</td>\n",
       "      <td>-1.033363</td>\n",
       "      <td>-0.803094</td>\n",
       "      <td>0.251282</td>\n",
       "      <td>0.735513</td>\n",
       "    </tr>\n",
       "    <tr>\n",
       "      <td>2019-01-04</td>\n",
       "      <td>1.356996</td>\n",
       "      <td>-0.211609</td>\n",
       "      <td>-0.088295</td>\n",
       "      <td>-2.660629</td>\n",
       "    </tr>\n",
       "    <tr>\n",
       "      <td>2019-01-05</td>\n",
       "      <td>0.683312</td>\n",
       "      <td>-0.229390</td>\n",
       "      <td>0.739911</td>\n",
       "      <td>-0.679550</td>\n",
       "    </tr>\n",
       "    <tr>\n",
       "      <td>2019-01-06</td>\n",
       "      <td>-0.120131</td>\n",
       "      <td>-0.613903</td>\n",
       "      <td>0.176497</td>\n",
       "      <td>0.813215</td>\n",
       "    </tr>\n",
       "  </tbody>\n",
       "</table>\n",
       "</div>"
      ],
      "text/plain": [
       "                   A         B         C         D\n",
       "2019-01-01 -0.493781 -0.914162  0.283641  1.165503\n",
       "2019-01-02 -1.006058 -0.861208  0.984806 -0.633118\n",
       "2019-01-03 -1.033363 -0.803094  0.251282  0.735513\n",
       "2019-01-04  1.356996 -0.211609 -0.088295 -2.660629\n",
       "2019-01-05  0.683312 -0.229390  0.739911 -0.679550\n",
       "2019-01-06 -0.120131 -0.613903  0.176497  0.813215"
      ]
     },
     "execution_count": 18,
     "metadata": {},
     "output_type": "execute_result"
    },
    {
     "data": {
      "text/plain": [
       "A   -0.493781\n",
       "B   -0.914162\n",
       "C    0.283641\n",
       "D    1.165503\n",
       "Name: 2019-01-01 00:00:00, dtype: float64"
      ]
     },
     "execution_count": 18,
     "metadata": {},
     "output_type": "execute_result"
    },
    {
     "name": "stdout",
     "output_type": "stream",
     "text": [
      "\n"
     ]
    },
    {
     "data": {
      "text/html": [
       "<div>\n",
       "<style scoped>\n",
       "    .dataframe tbody tr th:only-of-type {\n",
       "        vertical-align: middle;\n",
       "    }\n",
       "\n",
       "    .dataframe tbody tr th {\n",
       "        vertical-align: top;\n",
       "    }\n",
       "\n",
       "    .dataframe thead th {\n",
       "        text-align: right;\n",
       "    }\n",
       "</style>\n",
       "<table border=\"1\" class=\"dataframe\">\n",
       "  <thead>\n",
       "    <tr style=\"text-align: right;\">\n",
       "      <th></th>\n",
       "      <th>A</th>\n",
       "      <th>B</th>\n",
       "    </tr>\n",
       "  </thead>\n",
       "  <tbody>\n",
       "    <tr>\n",
       "      <td>2019-01-01</td>\n",
       "      <td>-0.493781</td>\n",
       "      <td>-0.914162</td>\n",
       "    </tr>\n",
       "    <tr>\n",
       "      <td>2019-01-02</td>\n",
       "      <td>-1.006058</td>\n",
       "      <td>-0.861208</td>\n",
       "    </tr>\n",
       "    <tr>\n",
       "      <td>2019-01-03</td>\n",
       "      <td>-1.033363</td>\n",
       "      <td>-0.803094</td>\n",
       "    </tr>\n",
       "    <tr>\n",
       "      <td>2019-01-04</td>\n",
       "      <td>1.356996</td>\n",
       "      <td>-0.211609</td>\n",
       "    </tr>\n",
       "    <tr>\n",
       "      <td>2019-01-05</td>\n",
       "      <td>0.683312</td>\n",
       "      <td>-0.229390</td>\n",
       "    </tr>\n",
       "    <tr>\n",
       "      <td>2019-01-06</td>\n",
       "      <td>-0.120131</td>\n",
       "      <td>-0.613903</td>\n",
       "    </tr>\n",
       "  </tbody>\n",
       "</table>\n",
       "</div>"
      ],
      "text/plain": [
       "                   A         B\n",
       "2019-01-01 -0.493781 -0.914162\n",
       "2019-01-02 -1.006058 -0.861208\n",
       "2019-01-03 -1.033363 -0.803094\n",
       "2019-01-04  1.356996 -0.211609\n",
       "2019-01-05  0.683312 -0.229390\n",
       "2019-01-06 -0.120131 -0.613903"
      ]
     },
     "execution_count": 18,
     "metadata": {},
     "output_type": "execute_result"
    },
    {
     "name": "stdout",
     "output_type": "stream",
     "text": [
      "\n"
     ]
    },
    {
     "data": {
      "text/html": [
       "<div>\n",
       "<style scoped>\n",
       "    .dataframe tbody tr th:only-of-type {\n",
       "        vertical-align: middle;\n",
       "    }\n",
       "\n",
       "    .dataframe tbody tr th {\n",
       "        vertical-align: top;\n",
       "    }\n",
       "\n",
       "    .dataframe thead th {\n",
       "        text-align: right;\n",
       "    }\n",
       "</style>\n",
       "<table border=\"1\" class=\"dataframe\">\n",
       "  <thead>\n",
       "    <tr style=\"text-align: right;\">\n",
       "      <th></th>\n",
       "      <th>A</th>\n",
       "      <th>B</th>\n",
       "    </tr>\n",
       "  </thead>\n",
       "  <tbody>\n",
       "    <tr>\n",
       "      <td>2019-01-02</td>\n",
       "      <td>-1.006058</td>\n",
       "      <td>-0.861208</td>\n",
       "    </tr>\n",
       "    <tr>\n",
       "      <td>2019-01-03</td>\n",
       "      <td>-1.033363</td>\n",
       "      <td>-0.803094</td>\n",
       "    </tr>\n",
       "    <tr>\n",
       "      <td>2019-01-04</td>\n",
       "      <td>1.356996</td>\n",
       "      <td>-0.211609</td>\n",
       "    </tr>\n",
       "  </tbody>\n",
       "</table>\n",
       "</div>"
      ],
      "text/plain": [
       "                   A         B\n",
       "2019-01-02 -1.006058 -0.861208\n",
       "2019-01-03 -1.033363 -0.803094\n",
       "2019-01-04  1.356996 -0.211609"
      ]
     },
     "execution_count": 18,
     "metadata": {},
     "output_type": "execute_result"
    },
    {
     "name": "stdout",
     "output_type": "stream",
     "text": [
      "\n"
     ]
    },
    {
     "data": {
      "text/plain": [
       "A   -1.006058\n",
       "B   -0.861208\n",
       "Name: 2019-01-02 00:00:00, dtype: float64"
      ]
     },
     "execution_count": 18,
     "metadata": {},
     "output_type": "execute_result"
    }
   ],
   "source": [
    "df\n",
    "\n",
    "#Por referencia\n",
    "df.loc[dates[0]]\n",
    "\n",
    "print() \n",
    "\n",
    "df.loc[:,['A','B']]\n",
    "\n",
    "print() \n",
    "\n",
    "\n",
    "df.loc['20190102':'20190104',['A','B']]\n",
    "\n",
    "print() \n",
    "\n",
    "\n",
    "df.loc['20190102',['A','B']]"
   ]
  },
  {
   "cell_type": "code",
   "execution_count": 19,
   "metadata": {
    "colab": {
     "base_uri": "https://localhost:8080/",
     "height": 51
    },
    "colab_type": "code",
    "id": "TyAQdOi5i3yp",
    "outputId": "f260a3bf-45ef-41a0-fa5a-fe44284e9ea1"
   },
   "outputs": [
    {
     "data": {
      "text/html": [
       "<div>\n",
       "<style scoped>\n",
       "    .dataframe tbody tr th:only-of-type {\n",
       "        vertical-align: middle;\n",
       "    }\n",
       "\n",
       "    .dataframe tbody tr th {\n",
       "        vertical-align: top;\n",
       "    }\n",
       "\n",
       "    .dataframe thead th {\n",
       "        text-align: right;\n",
       "    }\n",
       "</style>\n",
       "<table border=\"1\" class=\"dataframe\">\n",
       "  <thead>\n",
       "    <tr style=\"text-align: right;\">\n",
       "      <th></th>\n",
       "      <th>A</th>\n",
       "      <th>B</th>\n",
       "      <th>C</th>\n",
       "      <th>D</th>\n",
       "    </tr>\n",
       "  </thead>\n",
       "  <tbody>\n",
       "    <tr>\n",
       "      <td>2019-01-01</td>\n",
       "      <td>-0.493781</td>\n",
       "      <td>-0.914162</td>\n",
       "      <td>0.283641</td>\n",
       "      <td>1.165503</td>\n",
       "    </tr>\n",
       "    <tr>\n",
       "      <td>2019-01-02</td>\n",
       "      <td>-1.006058</td>\n",
       "      <td>-0.861208</td>\n",
       "      <td>0.984806</td>\n",
       "      <td>-0.633118</td>\n",
       "    </tr>\n",
       "    <tr>\n",
       "      <td>2019-01-03</td>\n",
       "      <td>-1.033363</td>\n",
       "      <td>-0.803094</td>\n",
       "      <td>0.251282</td>\n",
       "      <td>0.735513</td>\n",
       "    </tr>\n",
       "    <tr>\n",
       "      <td>2019-01-04</td>\n",
       "      <td>1.356996</td>\n",
       "      <td>-0.211609</td>\n",
       "      <td>-0.088295</td>\n",
       "      <td>-2.660629</td>\n",
       "    </tr>\n",
       "    <tr>\n",
       "      <td>2019-01-05</td>\n",
       "      <td>0.683312</td>\n",
       "      <td>-0.229390</td>\n",
       "      <td>0.739911</td>\n",
       "      <td>-0.679550</td>\n",
       "    </tr>\n",
       "    <tr>\n",
       "      <td>2019-01-06</td>\n",
       "      <td>-0.120131</td>\n",
       "      <td>-0.613903</td>\n",
       "      <td>0.176497</td>\n",
       "      <td>0.813215</td>\n",
       "    </tr>\n",
       "  </tbody>\n",
       "</table>\n",
       "</div>"
      ],
      "text/plain": [
       "                   A         B         C         D\n",
       "2019-01-01 -0.493781 -0.914162  0.283641  1.165503\n",
       "2019-01-02 -1.006058 -0.861208  0.984806 -0.633118\n",
       "2019-01-03 -1.033363 -0.803094  0.251282  0.735513\n",
       "2019-01-04  1.356996 -0.211609 -0.088295 -2.660629\n",
       "2019-01-05  0.683312 -0.229390  0.739911 -0.679550\n",
       "2019-01-06 -0.120131 -0.613903  0.176497  0.813215"
      ]
     },
     "execution_count": 19,
     "metadata": {},
     "output_type": "execute_result"
    },
    {
     "data": {
      "text/plain": [
       "-0.4937810769209327"
      ]
     },
     "execution_count": 19,
     "metadata": {},
     "output_type": "execute_result"
    },
    {
     "name": "stdout",
     "output_type": "stream",
     "text": [
      "\n"
     ]
    },
    {
     "data": {
      "text/plain": [
       "-0.4937810769209327"
      ]
     },
     "execution_count": 19,
     "metadata": {},
     "output_type": "execute_result"
    },
    {
     "name": "stdout",
     "output_type": "stream",
     "text": [
      "\n"
     ]
    },
    {
     "data": {
      "text/plain": [
       "-0.4937810769209327"
      ]
     },
     "execution_count": 19,
     "metadata": {},
     "output_type": "execute_result"
    }
   ],
   "source": [
    "df\n",
    "\n",
    "\n",
    "#¿Cuál es la diferencia?\n",
    "df.loc[dates[0],'A']\n",
    "\n",
    "print()\n",
    "\n",
    "df.at[dates[0],'A']\n",
    "\n",
    "print()\n",
    "\n",
    "df.iloc[0].at['A']"
   ]
  },
  {
   "cell_type": "code",
   "execution_count": 20,
   "metadata": {
    "colab": {
     "base_uri": "https://localhost:8080/",
     "height": 630
    },
    "colab_type": "code",
    "id": "m_0M59iki_oD",
    "outputId": "08c7dde5-4824-4187-f598-328f49027d2b"
   },
   "outputs": [
    {
     "data": {
      "text/plain": [
       "A    1.356996\n",
       "B   -0.211609\n",
       "C   -0.088295\n",
       "D   -2.660629\n",
       "Name: 2019-01-04 00:00:00, dtype: float64"
      ]
     },
     "execution_count": 20,
     "metadata": {},
     "output_type": "execute_result"
    },
    {
     "data": {
      "text/html": [
       "<div>\n",
       "<style scoped>\n",
       "    .dataframe tbody tr th:only-of-type {\n",
       "        vertical-align: middle;\n",
       "    }\n",
       "\n",
       "    .dataframe tbody tr th {\n",
       "        vertical-align: top;\n",
       "    }\n",
       "\n",
       "    .dataframe thead th {\n",
       "        text-align: right;\n",
       "    }\n",
       "</style>\n",
       "<table border=\"1\" class=\"dataframe\">\n",
       "  <thead>\n",
       "    <tr style=\"text-align: right;\">\n",
       "      <th></th>\n",
       "      <th>A</th>\n",
       "      <th>B</th>\n",
       "    </tr>\n",
       "  </thead>\n",
       "  <tbody>\n",
       "    <tr>\n",
       "      <td>2019-01-04</td>\n",
       "      <td>1.356996</td>\n",
       "      <td>-0.211609</td>\n",
       "    </tr>\n",
       "    <tr>\n",
       "      <td>2019-01-05</td>\n",
       "      <td>0.683312</td>\n",
       "      <td>-0.229390</td>\n",
       "    </tr>\n",
       "  </tbody>\n",
       "</table>\n",
       "</div>"
      ],
      "text/plain": [
       "                   A         B\n",
       "2019-01-04  1.356996 -0.211609\n",
       "2019-01-05  0.683312 -0.229390"
      ]
     },
     "execution_count": 20,
     "metadata": {},
     "output_type": "execute_result"
    },
    {
     "data": {
      "text/html": [
       "<div>\n",
       "<style scoped>\n",
       "    .dataframe tbody tr th:only-of-type {\n",
       "        vertical-align: middle;\n",
       "    }\n",
       "\n",
       "    .dataframe tbody tr th {\n",
       "        vertical-align: top;\n",
       "    }\n",
       "\n",
       "    .dataframe thead th {\n",
       "        text-align: right;\n",
       "    }\n",
       "</style>\n",
       "<table border=\"1\" class=\"dataframe\">\n",
       "  <thead>\n",
       "    <tr style=\"text-align: right;\">\n",
       "      <th></th>\n",
       "      <th>A</th>\n",
       "      <th>C</th>\n",
       "    </tr>\n",
       "  </thead>\n",
       "  <tbody>\n",
       "    <tr>\n",
       "      <td>2019-01-02</td>\n",
       "      <td>-1.006058</td>\n",
       "      <td>0.984806</td>\n",
       "    </tr>\n",
       "    <tr>\n",
       "      <td>2019-01-03</td>\n",
       "      <td>-1.033363</td>\n",
       "      <td>0.251282</td>\n",
       "    </tr>\n",
       "    <tr>\n",
       "      <td>2019-01-05</td>\n",
       "      <td>0.683312</td>\n",
       "      <td>0.739911</td>\n",
       "    </tr>\n",
       "  </tbody>\n",
       "</table>\n",
       "</div>"
      ],
      "text/plain": [
       "                   A         C\n",
       "2019-01-02 -1.006058  0.984806\n",
       "2019-01-03 -1.033363  0.251282\n",
       "2019-01-05  0.683312  0.739911"
      ]
     },
     "execution_count": 20,
     "metadata": {},
     "output_type": "execute_result"
    },
    {
     "data": {
      "text/html": [
       "<div>\n",
       "<style scoped>\n",
       "    .dataframe tbody tr th:only-of-type {\n",
       "        vertical-align: middle;\n",
       "    }\n",
       "\n",
       "    .dataframe tbody tr th {\n",
       "        vertical-align: top;\n",
       "    }\n",
       "\n",
       "    .dataframe thead th {\n",
       "        text-align: right;\n",
       "    }\n",
       "</style>\n",
       "<table border=\"1\" class=\"dataframe\">\n",
       "  <thead>\n",
       "    <tr style=\"text-align: right;\">\n",
       "      <th></th>\n",
       "      <th>A</th>\n",
       "      <th>B</th>\n",
       "      <th>C</th>\n",
       "      <th>D</th>\n",
       "    </tr>\n",
       "  </thead>\n",
       "  <tbody>\n",
       "    <tr>\n",
       "      <td>2019-01-02</td>\n",
       "      <td>-1.006058</td>\n",
       "      <td>-0.861208</td>\n",
       "      <td>0.984806</td>\n",
       "      <td>-0.633118</td>\n",
       "    </tr>\n",
       "    <tr>\n",
       "      <td>2019-01-03</td>\n",
       "      <td>-1.033363</td>\n",
       "      <td>-0.803094</td>\n",
       "      <td>0.251282</td>\n",
       "      <td>0.735513</td>\n",
       "    </tr>\n",
       "  </tbody>\n",
       "</table>\n",
       "</div>"
      ],
      "text/plain": [
       "                   A         B         C         D\n",
       "2019-01-02 -1.006058 -0.861208  0.984806 -0.633118\n",
       "2019-01-03 -1.033363 -0.803094  0.251282  0.735513"
      ]
     },
     "execution_count": 20,
     "metadata": {},
     "output_type": "execute_result"
    },
    {
     "data": {
      "text/html": [
       "<div>\n",
       "<style scoped>\n",
       "    .dataframe tbody tr th:only-of-type {\n",
       "        vertical-align: middle;\n",
       "    }\n",
       "\n",
       "    .dataframe tbody tr th {\n",
       "        vertical-align: top;\n",
       "    }\n",
       "\n",
       "    .dataframe thead th {\n",
       "        text-align: right;\n",
       "    }\n",
       "</style>\n",
       "<table border=\"1\" class=\"dataframe\">\n",
       "  <thead>\n",
       "    <tr style=\"text-align: right;\">\n",
       "      <th></th>\n",
       "      <th>B</th>\n",
       "      <th>C</th>\n",
       "    </tr>\n",
       "  </thead>\n",
       "  <tbody>\n",
       "    <tr>\n",
       "      <td>2019-01-01</td>\n",
       "      <td>-0.914162</td>\n",
       "      <td>0.283641</td>\n",
       "    </tr>\n",
       "    <tr>\n",
       "      <td>2019-01-02</td>\n",
       "      <td>-0.861208</td>\n",
       "      <td>0.984806</td>\n",
       "    </tr>\n",
       "    <tr>\n",
       "      <td>2019-01-03</td>\n",
       "      <td>-0.803094</td>\n",
       "      <td>0.251282</td>\n",
       "    </tr>\n",
       "    <tr>\n",
       "      <td>2019-01-04</td>\n",
       "      <td>-0.211609</td>\n",
       "      <td>-0.088295</td>\n",
       "    </tr>\n",
       "    <tr>\n",
       "      <td>2019-01-05</td>\n",
       "      <td>-0.229390</td>\n",
       "      <td>0.739911</td>\n",
       "    </tr>\n",
       "    <tr>\n",
       "      <td>2019-01-06</td>\n",
       "      <td>-0.613903</td>\n",
       "      <td>0.176497</td>\n",
       "    </tr>\n",
       "  </tbody>\n",
       "</table>\n",
       "</div>"
      ],
      "text/plain": [
       "                   B         C\n",
       "2019-01-01 -0.914162  0.283641\n",
       "2019-01-02 -0.861208  0.984806\n",
       "2019-01-03 -0.803094  0.251282\n",
       "2019-01-04 -0.211609 -0.088295\n",
       "2019-01-05 -0.229390  0.739911\n",
       "2019-01-06 -0.613903  0.176497"
      ]
     },
     "execution_count": 20,
     "metadata": {},
     "output_type": "execute_result"
    }
   ],
   "source": [
    "#Por posición\n",
    "df.iloc[3]\n",
    "df.iloc[3:5,0:2]\n",
    "df.iloc[[1,2,4],[0,2]]\n",
    "df.iloc[1:3,:]\n",
    "df.iloc[:,1:3]\n"
   ]
  },
  {
   "cell_type": "code",
   "execution_count": 21,
   "metadata": {
    "colab": {
     "base_uri": "https://localhost:8080/",
     "height": 51
    },
    "colab_type": "code",
    "id": "zK39zVhJ-SsI",
    "outputId": "a8c286f8-c9fb-4ba6-8aee-4b2ab8f364d6"
   },
   "outputs": [
    {
     "data": {
      "text/plain": [
       "-0.8612075232480076"
      ]
     },
     "execution_count": 21,
     "metadata": {},
     "output_type": "execute_result"
    },
    {
     "name": "stdout",
     "output_type": "stream",
     "text": [
      "\n"
     ]
    },
    {
     "data": {
      "text/plain": [
       "-0.8612075232480076"
      ]
     },
     "execution_count": 21,
     "metadata": {},
     "output_type": "execute_result"
    }
   ],
   "source": [
    "#¿Cuál es la diferencia?\n",
    "df.iloc[1,1]\n",
    "print()\n",
    "df.iat[1,1]"
   ]
  },
  {
   "cell_type": "markdown",
   "metadata": {
    "colab_type": "text",
    "id": "PNQwsfNx-2EF"
   },
   "source": [
    "### Condiciones Lógicas\n",
    "\n",
    "Cuando se manipulan datos resulta lógico hacer pregunta \"lógicas\"  o comparativos, como desear saber cuantos elementos cumplen una condición, por ejemplo:\n",
    "\n",
    "~~~python\n",
    "#Cuantos elementos tienen valor\n",
    "# mayor a cero\n",
    "\n",
    "df.C>0\n",
    "\n",
    "~~~\n",
    "\n",
    "Para ayudar  con este tipo de casos, se tienen la selección por índices booleanos."
   ]
  },
  {
   "cell_type": "code",
   "execution_count": 22,
   "metadata": {
    "colab": {
     "base_uri": "https://localhost:8080/",
     "height": 340
    },
    "colab_type": "code",
    "id": "NtA3JQYz_lbP",
    "outputId": "61f45bf7-623b-468a-cdb0-a0d663669300"
   },
   "outputs": [
    {
     "data": {
      "text/html": [
       "<div>\n",
       "<style scoped>\n",
       "    .dataframe tbody tr th:only-of-type {\n",
       "        vertical-align: middle;\n",
       "    }\n",
       "\n",
       "    .dataframe tbody tr th {\n",
       "        vertical-align: top;\n",
       "    }\n",
       "\n",
       "    .dataframe thead th {\n",
       "        text-align: right;\n",
       "    }\n",
       "</style>\n",
       "<table border=\"1\" class=\"dataframe\">\n",
       "  <thead>\n",
       "    <tr style=\"text-align: right;\">\n",
       "      <th></th>\n",
       "      <th>A</th>\n",
       "      <th>B</th>\n",
       "      <th>C</th>\n",
       "      <th>D</th>\n",
       "    </tr>\n",
       "  </thead>\n",
       "  <tbody>\n",
       "    <tr>\n",
       "      <td>2019-01-01</td>\n",
       "      <td>-0.493781</td>\n",
       "      <td>-0.914162</td>\n",
       "      <td>0.283641</td>\n",
       "      <td>1.165503</td>\n",
       "    </tr>\n",
       "    <tr>\n",
       "      <td>2019-01-02</td>\n",
       "      <td>-1.006058</td>\n",
       "      <td>-0.861208</td>\n",
       "      <td>0.984806</td>\n",
       "      <td>-0.633118</td>\n",
       "    </tr>\n",
       "    <tr>\n",
       "      <td>2019-01-03</td>\n",
       "      <td>-1.033363</td>\n",
       "      <td>-0.803094</td>\n",
       "      <td>0.251282</td>\n",
       "      <td>0.735513</td>\n",
       "    </tr>\n",
       "    <tr>\n",
       "      <td>2019-01-04</td>\n",
       "      <td>1.356996</td>\n",
       "      <td>-0.211609</td>\n",
       "      <td>-0.088295</td>\n",
       "      <td>-2.660629</td>\n",
       "    </tr>\n",
       "    <tr>\n",
       "      <td>2019-01-05</td>\n",
       "      <td>0.683312</td>\n",
       "      <td>-0.229390</td>\n",
       "      <td>0.739911</td>\n",
       "      <td>-0.679550</td>\n",
       "    </tr>\n",
       "    <tr>\n",
       "      <td>2019-01-06</td>\n",
       "      <td>-0.120131</td>\n",
       "      <td>-0.613903</td>\n",
       "      <td>0.176497</td>\n",
       "      <td>0.813215</td>\n",
       "    </tr>\n",
       "  </tbody>\n",
       "</table>\n",
       "</div>"
      ],
      "text/plain": [
       "                   A         B         C         D\n",
       "2019-01-01 -0.493781 -0.914162  0.283641  1.165503\n",
       "2019-01-02 -1.006058 -0.861208  0.984806 -0.633118\n",
       "2019-01-03 -1.033363 -0.803094  0.251282  0.735513\n",
       "2019-01-04  1.356996 -0.211609 -0.088295 -2.660629\n",
       "2019-01-05  0.683312 -0.229390  0.739911 -0.679550\n",
       "2019-01-06 -0.120131 -0.613903  0.176497  0.813215"
      ]
     },
     "execution_count": 22,
     "metadata": {},
     "output_type": "execute_result"
    },
    {
     "name": "stdout",
     "output_type": "stream",
     "text": [
      "\n"
     ]
    },
    {
     "data": {
      "text/plain": [
       "2019-01-01     True\n",
       "2019-01-02    False\n",
       "2019-01-03     True\n",
       "2019-01-04    False\n",
       "2019-01-05    False\n",
       "2019-01-06     True\n",
       "Freq: D, Name: D, dtype: bool"
      ]
     },
     "execution_count": 22,
     "metadata": {},
     "output_type": "execute_result"
    }
   ],
   "source": [
    "#Se visualizan los datos\n",
    "df\n",
    "\n",
    "print()\n",
    "#La condicion a pedir\n",
    "df.D>0"
   ]
  },
  {
   "cell_type": "code",
   "execution_count": 23,
   "metadata": {
    "colab": {
     "base_uri": "https://localhost:8080/",
     "height": 141
    },
    "colab_type": "code",
    "id": "hEBKuD-7_qg9",
    "outputId": "d2765c6a-06a1-4635-e510-c586d9fdf6e0"
   },
   "outputs": [
    {
     "data": {
      "text/html": [
       "<div>\n",
       "<style scoped>\n",
       "    .dataframe tbody tr th:only-of-type {\n",
       "        vertical-align: middle;\n",
       "    }\n",
       "\n",
       "    .dataframe tbody tr th {\n",
       "        vertical-align: top;\n",
       "    }\n",
       "\n",
       "    .dataframe thead th {\n",
       "        text-align: right;\n",
       "    }\n",
       "</style>\n",
       "<table border=\"1\" class=\"dataframe\">\n",
       "  <thead>\n",
       "    <tr style=\"text-align: right;\">\n",
       "      <th></th>\n",
       "      <th>A</th>\n",
       "      <th>B</th>\n",
       "      <th>C</th>\n",
       "      <th>D</th>\n",
       "    </tr>\n",
       "  </thead>\n",
       "  <tbody>\n",
       "    <tr>\n",
       "      <td>2019-01-01</td>\n",
       "      <td>-0.493781</td>\n",
       "      <td>-0.914162</td>\n",
       "      <td>0.283641</td>\n",
       "      <td>1.165503</td>\n",
       "    </tr>\n",
       "    <tr>\n",
       "      <td>2019-01-03</td>\n",
       "      <td>-1.033363</td>\n",
       "      <td>-0.803094</td>\n",
       "      <td>0.251282</td>\n",
       "      <td>0.735513</td>\n",
       "    </tr>\n",
       "    <tr>\n",
       "      <td>2019-01-06</td>\n",
       "      <td>-0.120131</td>\n",
       "      <td>-0.613903</td>\n",
       "      <td>0.176497</td>\n",
       "      <td>0.813215</td>\n",
       "    </tr>\n",
       "  </tbody>\n",
       "</table>\n",
       "</div>"
      ],
      "text/plain": [
       "                   A         B         C         D\n",
       "2019-01-01 -0.493781 -0.914162  0.283641  1.165503\n",
       "2019-01-03 -1.033363 -0.803094  0.251282  0.735513\n",
       "2019-01-06 -0.120131 -0.613903  0.176497  0.813215"
      ]
     },
     "execution_count": 23,
     "metadata": {},
     "output_type": "execute_result"
    }
   ],
   "source": [
    "#Se eligen los que cumplen esta condición\n",
    "df[df.D>0]"
   ]
  },
  {
   "cell_type": "markdown",
   "metadata": {
    "colab_type": "text",
    "id": "RCTNXo_iAX-D"
   },
   "source": [
    "De manera similar a las codiciones lógicas en programación, se desea quizás ver que se cumplan más de una condicion. Para ello se usan los conectores lógicos."
   ]
  },
  {
   "cell_type": "code",
   "execution_count": 24,
   "metadata": {
    "colab": {
     "base_uri": "https://localhost:8080/",
     "height": 203
    },
    "colab_type": "code",
    "id": "26PwKgdGAnj9",
    "outputId": "56689a99-8d8e-41b2-8cd8-a648c96f40e3"
   },
   "outputs": [
    {
     "data": {
      "text/html": [
       "<div>\n",
       "<style scoped>\n",
       "    .dataframe tbody tr th:only-of-type {\n",
       "        vertical-align: middle;\n",
       "    }\n",
       "\n",
       "    .dataframe tbody tr th {\n",
       "        vertical-align: top;\n",
       "    }\n",
       "\n",
       "    .dataframe thead th {\n",
       "        text-align: right;\n",
       "    }\n",
       "</style>\n",
       "<table border=\"1\" class=\"dataframe\">\n",
       "  <thead>\n",
       "    <tr style=\"text-align: right;\">\n",
       "      <th></th>\n",
       "      <th>A</th>\n",
       "      <th>B</th>\n",
       "      <th>C</th>\n",
       "      <th>D</th>\n",
       "    </tr>\n",
       "  </thead>\n",
       "  <tbody>\n",
       "    <tr>\n",
       "      <td>2019-01-01</td>\n",
       "      <td>-0.493781</td>\n",
       "      <td>-0.914162</td>\n",
       "      <td>0.283641</td>\n",
       "      <td>1.165503</td>\n",
       "    </tr>\n",
       "    <tr>\n",
       "      <td>2019-01-02</td>\n",
       "      <td>-1.006058</td>\n",
       "      <td>-0.861208</td>\n",
       "      <td>0.984806</td>\n",
       "      <td>-0.633118</td>\n",
       "    </tr>\n",
       "    <tr>\n",
       "      <td>2019-01-03</td>\n",
       "      <td>-1.033363</td>\n",
       "      <td>-0.803094</td>\n",
       "      <td>0.251282</td>\n",
       "      <td>0.735513</td>\n",
       "    </tr>\n",
       "    <tr>\n",
       "      <td>2019-01-04</td>\n",
       "      <td>1.356996</td>\n",
       "      <td>-0.211609</td>\n",
       "      <td>-0.088295</td>\n",
       "      <td>-2.660629</td>\n",
       "    </tr>\n",
       "    <tr>\n",
       "      <td>2019-01-05</td>\n",
       "      <td>0.683312</td>\n",
       "      <td>-0.229390</td>\n",
       "      <td>0.739911</td>\n",
       "      <td>-0.679550</td>\n",
       "    </tr>\n",
       "    <tr>\n",
       "      <td>2019-01-06</td>\n",
       "      <td>-0.120131</td>\n",
       "      <td>-0.613903</td>\n",
       "      <td>0.176497</td>\n",
       "      <td>0.813215</td>\n",
       "    </tr>\n",
       "  </tbody>\n",
       "</table>\n",
       "</div>"
      ],
      "text/plain": [
       "                   A         B         C         D\n",
       "2019-01-01 -0.493781 -0.914162  0.283641  1.165503\n",
       "2019-01-02 -1.006058 -0.861208  0.984806 -0.633118\n",
       "2019-01-03 -1.033363 -0.803094  0.251282  0.735513\n",
       "2019-01-04  1.356996 -0.211609 -0.088295 -2.660629\n",
       "2019-01-05  0.683312 -0.229390  0.739911 -0.679550\n",
       "2019-01-06 -0.120131 -0.613903  0.176497  0.813215"
      ]
     },
     "execution_count": 24,
     "metadata": {},
     "output_type": "execute_result"
    },
    {
     "data": {
      "text/html": [
       "<div>\n",
       "<style scoped>\n",
       "    .dataframe tbody tr th:only-of-type {\n",
       "        vertical-align: middle;\n",
       "    }\n",
       "\n",
       "    .dataframe tbody tr th {\n",
       "        vertical-align: top;\n",
       "    }\n",
       "\n",
       "    .dataframe thead th {\n",
       "        text-align: right;\n",
       "    }\n",
       "</style>\n",
       "<table border=\"1\" class=\"dataframe\">\n",
       "  <thead>\n",
       "    <tr style=\"text-align: right;\">\n",
       "      <th></th>\n",
       "      <th>A</th>\n",
       "      <th>B</th>\n",
       "      <th>C</th>\n",
       "      <th>D</th>\n",
       "    </tr>\n",
       "  </thead>\n",
       "  <tbody>\n",
       "  </tbody>\n",
       "</table>\n",
       "</div>"
      ],
      "text/plain": [
       "Empty DataFrame\n",
       "Columns: [A, B, C, D]\n",
       "Index: []"
      ]
     },
     "execution_count": 24,
     "metadata": {},
     "output_type": "execute_result"
    },
    {
     "data": {
      "text/html": [
       "<div>\n",
       "<style scoped>\n",
       "    .dataframe tbody tr th:only-of-type {\n",
       "        vertical-align: middle;\n",
       "    }\n",
       "\n",
       "    .dataframe tbody tr th {\n",
       "        vertical-align: top;\n",
       "    }\n",
       "\n",
       "    .dataframe thead th {\n",
       "        text-align: right;\n",
       "    }\n",
       "</style>\n",
       "<table border=\"1\" class=\"dataframe\">\n",
       "  <thead>\n",
       "    <tr style=\"text-align: right;\">\n",
       "      <th></th>\n",
       "      <th>A</th>\n",
       "      <th>B</th>\n",
       "      <th>C</th>\n",
       "      <th>D</th>\n",
       "    </tr>\n",
       "  </thead>\n",
       "  <tbody>\n",
       "    <tr>\n",
       "      <td>2019-01-01</td>\n",
       "      <td>-0.493781</td>\n",
       "      <td>-0.914162</td>\n",
       "      <td>0.283641</td>\n",
       "      <td>1.165503</td>\n",
       "    </tr>\n",
       "    <tr>\n",
       "      <td>2019-01-03</td>\n",
       "      <td>-1.033363</td>\n",
       "      <td>-0.803094</td>\n",
       "      <td>0.251282</td>\n",
       "      <td>0.735513</td>\n",
       "    </tr>\n",
       "    <tr>\n",
       "      <td>2019-01-06</td>\n",
       "      <td>-0.120131</td>\n",
       "      <td>-0.613903</td>\n",
       "      <td>0.176497</td>\n",
       "      <td>0.813215</td>\n",
       "    </tr>\n",
       "  </tbody>\n",
       "</table>\n",
       "</div>"
      ],
      "text/plain": [
       "                   A         B         C         D\n",
       "2019-01-01 -0.493781 -0.914162  0.283641  1.165503\n",
       "2019-01-03 -1.033363 -0.803094  0.251282  0.735513\n",
       "2019-01-06 -0.120131 -0.613903  0.176497  0.813215"
      ]
     },
     "execution_count": 24,
     "metadata": {},
     "output_type": "execute_result"
    }
   ],
   "source": [
    "df\n",
    "\n",
    "#Conector lógico \"and\"\n",
    "df[(df.C < -1.0) & (df.D > 0)]\n",
    "\n",
    "# Conector lógico \"or\"\n",
    "df[(df.B < -1.0) | (df.D > 0)]\n"
   ]
  },
  {
   "cell_type": "markdown",
   "metadata": {
    "colab_type": "text",
    "id": "VmNLeXu5DEEN"
   },
   "source": [
    "Se puede dar el caso que solo se quiere ver aquellos elementos que son parte de un subcojunto de elementos."
   ]
  },
  {
   "cell_type": "code",
   "execution_count": 25,
   "metadata": {
    "colab": {
     "base_uri": "https://localhost:8080/",
     "height": 203
    },
    "colab_type": "code",
    "id": "Ul8dtu7ABc13",
    "outputId": "9d0f862c-a623-42d2-9f5c-ab05226d0a63"
   },
   "outputs": [
    {
     "data": {
      "text/html": [
       "<div>\n",
       "<style scoped>\n",
       "    .dataframe tbody tr th:only-of-type {\n",
       "        vertical-align: middle;\n",
       "    }\n",
       "\n",
       "    .dataframe tbody tr th {\n",
       "        vertical-align: top;\n",
       "    }\n",
       "\n",
       "    .dataframe thead th {\n",
       "        text-align: right;\n",
       "    }\n",
       "</style>\n",
       "<table border=\"1\" class=\"dataframe\">\n",
       "  <thead>\n",
       "    <tr style=\"text-align: right;\">\n",
       "      <th></th>\n",
       "      <th>A</th>\n",
       "      <th>B</th>\n",
       "      <th>C</th>\n",
       "      <th>D</th>\n",
       "      <th>E</th>\n",
       "    </tr>\n",
       "  </thead>\n",
       "  <tbody>\n",
       "    <tr>\n",
       "      <td>2019-01-01</td>\n",
       "      <td>-0.493781</td>\n",
       "      <td>-0.914162</td>\n",
       "      <td>0.283641</td>\n",
       "      <td>1.165503</td>\n",
       "      <td>one</td>\n",
       "    </tr>\n",
       "    <tr>\n",
       "      <td>2019-01-02</td>\n",
       "      <td>-1.006058</td>\n",
       "      <td>-0.861208</td>\n",
       "      <td>0.984806</td>\n",
       "      <td>-0.633118</td>\n",
       "      <td>one</td>\n",
       "    </tr>\n",
       "    <tr>\n",
       "      <td>2019-01-03</td>\n",
       "      <td>-1.033363</td>\n",
       "      <td>-0.803094</td>\n",
       "      <td>0.251282</td>\n",
       "      <td>0.735513</td>\n",
       "      <td>two</td>\n",
       "    </tr>\n",
       "    <tr>\n",
       "      <td>2019-01-04</td>\n",
       "      <td>1.356996</td>\n",
       "      <td>-0.211609</td>\n",
       "      <td>-0.088295</td>\n",
       "      <td>-2.660629</td>\n",
       "      <td>three</td>\n",
       "    </tr>\n",
       "    <tr>\n",
       "      <td>2019-01-05</td>\n",
       "      <td>0.683312</td>\n",
       "      <td>-0.229390</td>\n",
       "      <td>0.739911</td>\n",
       "      <td>-0.679550</td>\n",
       "      <td>four</td>\n",
       "    </tr>\n",
       "  </tbody>\n",
       "</table>\n",
       "</div>"
      ],
      "text/plain": [
       "                   A         B         C         D      E\n",
       "2019-01-01 -0.493781 -0.914162  0.283641  1.165503    one\n",
       "2019-01-02 -1.006058 -0.861208  0.984806 -0.633118    one\n",
       "2019-01-03 -1.033363 -0.803094  0.251282  0.735513    two\n",
       "2019-01-04  1.356996 -0.211609 -0.088295 -2.660629  three\n",
       "2019-01-05  0.683312 -0.229390  0.739911 -0.679550   four"
      ]
     },
     "execution_count": 25,
     "metadata": {},
     "output_type": "execute_result"
    }
   ],
   "source": [
    "#Se crea otro DataFrame y se agrega una nueva columna\n",
    "df2 = df.copy()\n",
    "\n",
    "df2['E'] = ['one', 'one','two','three','four','three']\n",
    "\n",
    "df2.head() "
   ]
  },
  {
   "cell_type": "code",
   "execution_count": 26,
   "metadata": {
    "colab": {
     "base_uri": "https://localhost:8080/",
     "height": 110
    },
    "colab_type": "code",
    "id": "jx4-JiSbC7yC",
    "outputId": "96d89d98-b28b-4f34-f2f2-e35615fe7eb4"
   },
   "outputs": [
    {
     "data": {
      "text/html": [
       "<div>\n",
       "<style scoped>\n",
       "    .dataframe tbody tr th:only-of-type {\n",
       "        vertical-align: middle;\n",
       "    }\n",
       "\n",
       "    .dataframe tbody tr th {\n",
       "        vertical-align: top;\n",
       "    }\n",
       "\n",
       "    .dataframe thead th {\n",
       "        text-align: right;\n",
       "    }\n",
       "</style>\n",
       "<table border=\"1\" class=\"dataframe\">\n",
       "  <thead>\n",
       "    <tr style=\"text-align: right;\">\n",
       "      <th></th>\n",
       "      <th>A</th>\n",
       "      <th>B</th>\n",
       "      <th>C</th>\n",
       "      <th>D</th>\n",
       "      <th>E</th>\n",
       "    </tr>\n",
       "  </thead>\n",
       "  <tbody>\n",
       "    <tr>\n",
       "      <td>2019-01-03</td>\n",
       "      <td>-1.033363</td>\n",
       "      <td>-0.803094</td>\n",
       "      <td>0.251282</td>\n",
       "      <td>0.735513</td>\n",
       "      <td>two</td>\n",
       "    </tr>\n",
       "    <tr>\n",
       "      <td>2019-01-05</td>\n",
       "      <td>0.683312</td>\n",
       "      <td>-0.229390</td>\n",
       "      <td>0.739911</td>\n",
       "      <td>-0.679550</td>\n",
       "      <td>four</td>\n",
       "    </tr>\n",
       "  </tbody>\n",
       "</table>\n",
       "</div>"
      ],
      "text/plain": [
       "                   A         B         C         D     E\n",
       "2019-01-03 -1.033363 -0.803094  0.251282  0.735513   two\n",
       "2019-01-05  0.683312 -0.229390  0.739911 -0.679550  four"
      ]
     },
     "execution_count": 26,
     "metadata": {},
     "output_type": "execute_result"
    },
    {
     "name": "stdout",
     "output_type": "stream",
     "text": [
      "\n"
     ]
    },
    {
     "data": {
      "text/plain": [
       "2019-01-01    False\n",
       "2019-01-02    False\n",
       "2019-01-03     True\n",
       "2019-01-04    False\n",
       "2019-01-05     True\n",
       "2019-01-06    False\n",
       "Freq: D, Name: E, dtype: bool"
      ]
     },
     "execution_count": 26,
     "metadata": {},
     "output_type": "execute_result"
    }
   ],
   "source": [
    "# De manera afirmativa\n",
    "df2[df2['E'].isin(['two','four'])]\n",
    "\n",
    "print()\n",
    "\n",
    "df2['E'].isin(['two','four'])"
   ]
  },
  {
   "cell_type": "code",
   "execution_count": 27,
   "metadata": {
    "colab": {
     "base_uri": "https://localhost:8080/",
     "height": 110
    },
    "colab_type": "code",
    "id": "TknUkq7HBsvb",
    "outputId": "0cd7c8e1-5134-4010-83e5-fd98acc80ac0"
   },
   "outputs": [
    {
     "data": {
      "text/html": [
       "<div>\n",
       "<style scoped>\n",
       "    .dataframe tbody tr th:only-of-type {\n",
       "        vertical-align: middle;\n",
       "    }\n",
       "\n",
       "    .dataframe tbody tr th {\n",
       "        vertical-align: top;\n",
       "    }\n",
       "\n",
       "    .dataframe thead th {\n",
       "        text-align: right;\n",
       "    }\n",
       "</style>\n",
       "<table border=\"1\" class=\"dataframe\">\n",
       "  <thead>\n",
       "    <tr style=\"text-align: right;\">\n",
       "      <th></th>\n",
       "      <th>A</th>\n",
       "      <th>B</th>\n",
       "      <th>C</th>\n",
       "      <th>D</th>\n",
       "      <th>E</th>\n",
       "    </tr>\n",
       "  </thead>\n",
       "  <tbody>\n",
       "    <tr>\n",
       "      <td>2019-01-03</td>\n",
       "      <td>-1.033363</td>\n",
       "      <td>-0.803094</td>\n",
       "      <td>0.251282</td>\n",
       "      <td>0.735513</td>\n",
       "      <td>two</td>\n",
       "    </tr>\n",
       "    <tr>\n",
       "      <td>2019-01-05</td>\n",
       "      <td>0.683312</td>\n",
       "      <td>-0.229390</td>\n",
       "      <td>0.739911</td>\n",
       "      <td>-0.679550</td>\n",
       "      <td>four</td>\n",
       "    </tr>\n",
       "  </tbody>\n",
       "</table>\n",
       "</div>"
      ],
      "text/plain": [
       "                   A         B         C         D     E\n",
       "2019-01-03 -1.033363 -0.803094  0.251282  0.735513   two\n",
       "2019-01-05  0.683312 -0.229390  0.739911 -0.679550  four"
      ]
     },
     "execution_count": 27,
     "metadata": {},
     "output_type": "execute_result"
    }
   ],
   "source": [
    "# La condicion negativa de la anterior\n",
    "df2[~df2.E.isin(['one','three'])]"
   ]
  },
  {
   "cell_type": "markdown",
   "metadata": {
    "colab_type": "text",
    "id": "NCgiUk7zE6X8"
   },
   "source": [
    "Con los anteriores ejemplos se muestra que se tiene lo necesario para construir expresiones lógicas sobre los DataFrame (and, or , not).\n",
    "\n",
    "### Cambiando datos\n",
    "\n",
    "Cuando se desea modificar un DataFrame en general, se puede eliminar una columna, agregar una nueva columna o modificar los valores actuales."
   ]
  },
  {
   "cell_type": "code",
   "execution_count": 28,
   "metadata": {
    "colab": {},
    "colab_type": "code",
    "id": "WJFH4WYmFazQ"
   },
   "outputs": [],
   "source": [
    "#Se elimina la columna D\n",
    "del df2['D']"
   ]
  },
  {
   "cell_type": "code",
   "execution_count": 29,
   "metadata": {
    "colab": {
     "base_uri": "https://localhost:8080/",
     "height": 203
    },
    "colab_type": "code",
    "id": "4k7XsnCZFhUf",
    "outputId": "027ee1a8-4ae8-4cd0-e8af-4bcdc97d05df"
   },
   "outputs": [
    {
     "data": {
      "text/html": [
       "<div>\n",
       "<style scoped>\n",
       "    .dataframe tbody tr th:only-of-type {\n",
       "        vertical-align: middle;\n",
       "    }\n",
       "\n",
       "    .dataframe tbody tr th {\n",
       "        vertical-align: top;\n",
       "    }\n",
       "\n",
       "    .dataframe thead th {\n",
       "        text-align: right;\n",
       "    }\n",
       "</style>\n",
       "<table border=\"1\" class=\"dataframe\">\n",
       "  <thead>\n",
       "    <tr style=\"text-align: right;\">\n",
       "      <th></th>\n",
       "      <th>A</th>\n",
       "      <th>B</th>\n",
       "      <th>C</th>\n",
       "      <th>E</th>\n",
       "    </tr>\n",
       "  </thead>\n",
       "  <tbody>\n",
       "    <tr>\n",
       "      <td>2019-01-01</td>\n",
       "      <td>-0.493781</td>\n",
       "      <td>-0.914162</td>\n",
       "      <td>0.283641</td>\n",
       "      <td>one</td>\n",
       "    </tr>\n",
       "    <tr>\n",
       "      <td>2019-01-02</td>\n",
       "      <td>-1.006058</td>\n",
       "      <td>-0.861208</td>\n",
       "      <td>0.984806</td>\n",
       "      <td>one</td>\n",
       "    </tr>\n",
       "    <tr>\n",
       "      <td>2019-01-03</td>\n",
       "      <td>-1.033363</td>\n",
       "      <td>-0.803094</td>\n",
       "      <td>0.251282</td>\n",
       "      <td>two</td>\n",
       "    </tr>\n",
       "    <tr>\n",
       "      <td>2019-01-04</td>\n",
       "      <td>1.356996</td>\n",
       "      <td>-0.211609</td>\n",
       "      <td>-0.088295</td>\n",
       "      <td>three</td>\n",
       "    </tr>\n",
       "    <tr>\n",
       "      <td>2019-01-05</td>\n",
       "      <td>0.683312</td>\n",
       "      <td>-0.229390</td>\n",
       "      <td>0.739911</td>\n",
       "      <td>four</td>\n",
       "    </tr>\n",
       "    <tr>\n",
       "      <td>2019-01-06</td>\n",
       "      <td>-0.120131</td>\n",
       "      <td>-0.613903</td>\n",
       "      <td>0.176497</td>\n",
       "      <td>three</td>\n",
       "    </tr>\n",
       "  </tbody>\n",
       "</table>\n",
       "</div>"
      ],
      "text/plain": [
       "                   A         B         C      E\n",
       "2019-01-01 -0.493781 -0.914162  0.283641    one\n",
       "2019-01-02 -1.006058 -0.861208  0.984806    one\n",
       "2019-01-03 -1.033363 -0.803094  0.251282    two\n",
       "2019-01-04  1.356996 -0.211609 -0.088295  three\n",
       "2019-01-05  0.683312 -0.229390  0.739911   four\n",
       "2019-01-06 -0.120131 -0.613903  0.176497  three"
      ]
     },
     "execution_count": 29,
     "metadata": {},
     "output_type": "execute_result"
    }
   ],
   "source": [
    "df2"
   ]
  },
  {
   "cell_type": "code",
   "execution_count": 30,
   "metadata": {
    "colab": {
     "base_uri": "https://localhost:8080/",
     "height": 234
    },
    "colab_type": "code",
    "id": "dNithsn_HtmN",
    "outputId": "2d863074-3ab0-44a2-a5e6-0cae523033cf"
   },
   "outputs": [
    {
     "data": {
      "text/html": [
       "<div>\n",
       "<style scoped>\n",
       "    .dataframe tbody tr th:only-of-type {\n",
       "        vertical-align: middle;\n",
       "    }\n",
       "\n",
       "    .dataframe tbody tr th {\n",
       "        vertical-align: top;\n",
       "    }\n",
       "\n",
       "    .dataframe thead th {\n",
       "        text-align: right;\n",
       "    }\n",
       "</style>\n",
       "<table border=\"1\" class=\"dataframe\">\n",
       "  <thead>\n",
       "    <tr style=\"text-align: right;\">\n",
       "      <th></th>\n",
       "      <th>A</th>\n",
       "      <th>B</th>\n",
       "      <th>C</th>\n",
       "      <th>E</th>\n",
       "      <th>D</th>\n",
       "    </tr>\n",
       "  </thead>\n",
       "  <tbody>\n",
       "    <tr>\n",
       "      <td>2019-01-01</td>\n",
       "      <td>-0.493781</td>\n",
       "      <td>-0.914162</td>\n",
       "      <td>0.283641</td>\n",
       "      <td>one</td>\n",
       "      <td>1.165503</td>\n",
       "    </tr>\n",
       "    <tr>\n",
       "      <td>2019-01-02</td>\n",
       "      <td>-1.006058</td>\n",
       "      <td>-0.861208</td>\n",
       "      <td>0.984806</td>\n",
       "      <td>one</td>\n",
       "      <td>-0.633118</td>\n",
       "    </tr>\n",
       "    <tr>\n",
       "      <td>2019-01-03</td>\n",
       "      <td>-1.033363</td>\n",
       "      <td>-0.803094</td>\n",
       "      <td>0.251282</td>\n",
       "      <td>two</td>\n",
       "      <td>0.735513</td>\n",
       "    </tr>\n",
       "    <tr>\n",
       "      <td>2019-01-04</td>\n",
       "      <td>1.356996</td>\n",
       "      <td>-0.211609</td>\n",
       "      <td>-0.088295</td>\n",
       "      <td>three</td>\n",
       "      <td>-2.660629</td>\n",
       "    </tr>\n",
       "    <tr>\n",
       "      <td>2019-01-05</td>\n",
       "      <td>0.683312</td>\n",
       "      <td>-0.229390</td>\n",
       "      <td>0.739911</td>\n",
       "      <td>four</td>\n",
       "      <td>-0.679550</td>\n",
       "    </tr>\n",
       "    <tr>\n",
       "      <td>2019-01-06</td>\n",
       "      <td>-0.120131</td>\n",
       "      <td>-0.613903</td>\n",
       "      <td>0.176497</td>\n",
       "      <td>three</td>\n",
       "      <td>0.813215</td>\n",
       "    </tr>\n",
       "  </tbody>\n",
       "</table>\n",
       "</div>"
      ],
      "text/plain": [
       "                   A         B         C      E         D\n",
       "2019-01-01 -0.493781 -0.914162  0.283641    one  1.165503\n",
       "2019-01-02 -1.006058 -0.861208  0.984806    one -0.633118\n",
       "2019-01-03 -1.033363 -0.803094  0.251282    two  0.735513\n",
       "2019-01-04  1.356996 -0.211609 -0.088295  three -2.660629\n",
       "2019-01-05  0.683312 -0.229390  0.739911   four -0.679550\n",
       "2019-01-06 -0.120131 -0.613903  0.176497  three  0.813215"
      ]
     },
     "execution_count": 30,
     "metadata": {},
     "output_type": "execute_result"
    }
   ],
   "source": [
    "df2['D']=df.D\n",
    "df2"
   ]
  },
  {
   "cell_type": "code",
   "execution_count": 31,
   "metadata": {
    "colab": {
     "base_uri": "https://localhost:8080/",
     "height": 450
    },
    "colab_type": "code",
    "id": "oN2cxZl4H2xt",
    "outputId": "a0af5b37-4bf2-4397-93c2-d4cb1b2eed32"
   },
   "outputs": [
    {
     "data": {
      "text/html": [
       "<div>\n",
       "<style scoped>\n",
       "    .dataframe tbody tr th:only-of-type {\n",
       "        vertical-align: middle;\n",
       "    }\n",
       "\n",
       "    .dataframe tbody tr th {\n",
       "        vertical-align: top;\n",
       "    }\n",
       "\n",
       "    .dataframe thead th {\n",
       "        text-align: right;\n",
       "    }\n",
       "</style>\n",
       "<table border=\"1\" class=\"dataframe\">\n",
       "  <thead>\n",
       "    <tr style=\"text-align: right;\">\n",
       "      <th></th>\n",
       "      <th>A</th>\n",
       "      <th>B</th>\n",
       "      <th>C</th>\n",
       "      <th>E</th>\n",
       "    </tr>\n",
       "  </thead>\n",
       "  <tbody>\n",
       "    <tr>\n",
       "      <td>2019-01-01</td>\n",
       "      <td>-0.493781</td>\n",
       "      <td>-0.914162</td>\n",
       "      <td>0.283641</td>\n",
       "      <td>one</td>\n",
       "    </tr>\n",
       "    <tr>\n",
       "      <td>2019-01-02</td>\n",
       "      <td>-1.006058</td>\n",
       "      <td>-0.861208</td>\n",
       "      <td>0.984806</td>\n",
       "      <td>one</td>\n",
       "    </tr>\n",
       "    <tr>\n",
       "      <td>2019-01-03</td>\n",
       "      <td>-1.033363</td>\n",
       "      <td>-0.803094</td>\n",
       "      <td>0.251282</td>\n",
       "      <td>two</td>\n",
       "    </tr>\n",
       "    <tr>\n",
       "      <td>2019-01-04</td>\n",
       "      <td>1.356996</td>\n",
       "      <td>-0.211609</td>\n",
       "      <td>-0.088295</td>\n",
       "      <td>three</td>\n",
       "    </tr>\n",
       "    <tr>\n",
       "      <td>2019-01-05</td>\n",
       "      <td>0.683312</td>\n",
       "      <td>-0.229390</td>\n",
       "      <td>0.739911</td>\n",
       "      <td>four</td>\n",
       "    </tr>\n",
       "    <tr>\n",
       "      <td>2019-01-06</td>\n",
       "      <td>-0.120131</td>\n",
       "      <td>-0.613903</td>\n",
       "      <td>0.176497</td>\n",
       "      <td>three</td>\n",
       "    </tr>\n",
       "  </tbody>\n",
       "</table>\n",
       "</div>"
      ],
      "text/plain": [
       "                   A         B         C      E\n",
       "2019-01-01 -0.493781 -0.914162  0.283641    one\n",
       "2019-01-02 -1.006058 -0.861208  0.984806    one\n",
       "2019-01-03 -1.033363 -0.803094  0.251282    two\n",
       "2019-01-04  1.356996 -0.211609 -0.088295  three\n",
       "2019-01-05  0.683312 -0.229390  0.739911   four\n",
       "2019-01-06 -0.120131 -0.613903  0.176497  three"
      ]
     },
     "execution_count": 31,
     "metadata": {},
     "output_type": "execute_result"
    },
    {
     "data": {
      "text/html": [
       "<div>\n",
       "<style scoped>\n",
       "    .dataframe tbody tr th:only-of-type {\n",
       "        vertical-align: middle;\n",
       "    }\n",
       "\n",
       "    .dataframe tbody tr th {\n",
       "        vertical-align: top;\n",
       "    }\n",
       "\n",
       "    .dataframe thead th {\n",
       "        text-align: right;\n",
       "    }\n",
       "</style>\n",
       "<table border=\"1\" class=\"dataframe\">\n",
       "  <thead>\n",
       "    <tr style=\"text-align: right;\">\n",
       "      <th></th>\n",
       "      <th>A</th>\n",
       "      <th>B</th>\n",
       "      <th>C</th>\n",
       "      <th>E</th>\n",
       "      <th>D</th>\n",
       "    </tr>\n",
       "  </thead>\n",
       "  <tbody>\n",
       "    <tr>\n",
       "      <td>2019-01-01</td>\n",
       "      <td>-0.493781</td>\n",
       "      <td>-0.914162</td>\n",
       "      <td>0.283641</td>\n",
       "      <td>one</td>\n",
       "      <td>1.165503</td>\n",
       "    </tr>\n",
       "    <tr>\n",
       "      <td>2019-01-02</td>\n",
       "      <td>-1.006058</td>\n",
       "      <td>-0.861208</td>\n",
       "      <td>0.984806</td>\n",
       "      <td>one</td>\n",
       "      <td>-0.633118</td>\n",
       "    </tr>\n",
       "    <tr>\n",
       "      <td>2019-01-03</td>\n",
       "      <td>-1.033363</td>\n",
       "      <td>-0.803094</td>\n",
       "      <td>0.251282</td>\n",
       "      <td>two</td>\n",
       "      <td>0.735513</td>\n",
       "    </tr>\n",
       "    <tr>\n",
       "      <td>2019-01-04</td>\n",
       "      <td>1.356996</td>\n",
       "      <td>-0.211609</td>\n",
       "      <td>-0.088295</td>\n",
       "      <td>three</td>\n",
       "      <td>-2.660629</td>\n",
       "    </tr>\n",
       "    <tr>\n",
       "      <td>2019-01-05</td>\n",
       "      <td>0.683312</td>\n",
       "      <td>-0.229390</td>\n",
       "      <td>0.739911</td>\n",
       "      <td>four</td>\n",
       "      <td>-0.679550</td>\n",
       "    </tr>\n",
       "    <tr>\n",
       "      <td>2019-01-06</td>\n",
       "      <td>-0.120131</td>\n",
       "      <td>-0.613903</td>\n",
       "      <td>0.176497</td>\n",
       "      <td>three</td>\n",
       "      <td>0.813215</td>\n",
       "    </tr>\n",
       "  </tbody>\n",
       "</table>\n",
       "</div>"
      ],
      "text/plain": [
       "                   A         B         C      E         D\n",
       "2019-01-01 -0.493781 -0.914162  0.283641    one  1.165503\n",
       "2019-01-02 -1.006058 -0.861208  0.984806    one -0.633118\n",
       "2019-01-03 -1.033363 -0.803094  0.251282    two  0.735513\n",
       "2019-01-04  1.356996 -0.211609 -0.088295  three -2.660629\n",
       "2019-01-05  0.683312 -0.229390  0.739911   four -0.679550\n",
       "2019-01-06 -0.120131 -0.613903  0.176497  three  0.813215"
      ]
     },
     "execution_count": 31,
     "metadata": {},
     "output_type": "execute_result"
    }
   ],
   "source": [
    "#¿Qué sucede?\n",
    "df2.drop(labels=['D'],axis=1)\n",
    "\n",
    "df2"
   ]
  },
  {
   "cell_type": "code",
   "execution_count": 32,
   "metadata": {
    "colab": {
     "base_uri": "https://localhost:8080/",
     "height": 234
    },
    "colab_type": "code",
    "id": "KNdQz834IQ4f",
    "outputId": "442a6ee3-37fb-4092-87c6-71caaa6b71d9"
   },
   "outputs": [
    {
     "data": {
      "text/html": [
       "<div>\n",
       "<style scoped>\n",
       "    .dataframe tbody tr th:only-of-type {\n",
       "        vertical-align: middle;\n",
       "    }\n",
       "\n",
       "    .dataframe tbody tr th {\n",
       "        vertical-align: top;\n",
       "    }\n",
       "\n",
       "    .dataframe thead th {\n",
       "        text-align: right;\n",
       "    }\n",
       "</style>\n",
       "<table border=\"1\" class=\"dataframe\">\n",
       "  <thead>\n",
       "    <tr style=\"text-align: right;\">\n",
       "      <th></th>\n",
       "      <th>A</th>\n",
       "      <th>B</th>\n",
       "      <th>C</th>\n",
       "      <th>E</th>\n",
       "    </tr>\n",
       "  </thead>\n",
       "  <tbody>\n",
       "    <tr>\n",
       "      <td>2019-01-01</td>\n",
       "      <td>-0.493781</td>\n",
       "      <td>-0.914162</td>\n",
       "      <td>0.283641</td>\n",
       "      <td>one</td>\n",
       "    </tr>\n",
       "    <tr>\n",
       "      <td>2019-01-02</td>\n",
       "      <td>-1.006058</td>\n",
       "      <td>-0.861208</td>\n",
       "      <td>0.984806</td>\n",
       "      <td>one</td>\n",
       "    </tr>\n",
       "    <tr>\n",
       "      <td>2019-01-03</td>\n",
       "      <td>-1.033363</td>\n",
       "      <td>-0.803094</td>\n",
       "      <td>0.251282</td>\n",
       "      <td>two</td>\n",
       "    </tr>\n",
       "    <tr>\n",
       "      <td>2019-01-04</td>\n",
       "      <td>1.356996</td>\n",
       "      <td>-0.211609</td>\n",
       "      <td>-0.088295</td>\n",
       "      <td>three</td>\n",
       "    </tr>\n",
       "    <tr>\n",
       "      <td>2019-01-05</td>\n",
       "      <td>0.683312</td>\n",
       "      <td>-0.229390</td>\n",
       "      <td>0.739911</td>\n",
       "      <td>four</td>\n",
       "    </tr>\n",
       "    <tr>\n",
       "      <td>2019-01-06</td>\n",
       "      <td>-0.120131</td>\n",
       "      <td>-0.613903</td>\n",
       "      <td>0.176497</td>\n",
       "      <td>three</td>\n",
       "    </tr>\n",
       "  </tbody>\n",
       "</table>\n",
       "</div>"
      ],
      "text/plain": [
       "                   A         B         C      E\n",
       "2019-01-01 -0.493781 -0.914162  0.283641    one\n",
       "2019-01-02 -1.006058 -0.861208  0.984806    one\n",
       "2019-01-03 -1.033363 -0.803094  0.251282    two\n",
       "2019-01-04  1.356996 -0.211609 -0.088295  three\n",
       "2019-01-05  0.683312 -0.229390  0.739911   four\n",
       "2019-01-06 -0.120131 -0.613903  0.176497  three"
      ]
     },
     "execution_count": 32,
     "metadata": {},
     "output_type": "execute_result"
    }
   ],
   "source": [
    "df2.drop(labels=['D'],axis=1,inplace=True)\n",
    "df2"
   ]
  },
  {
   "cell_type": "code",
   "execution_count": 33,
   "metadata": {
    "colab": {
     "base_uri": "https://localhost:8080/",
     "height": 137
    },
    "colab_type": "code",
    "id": "zTq7CE_RFkiZ",
    "outputId": "53752775-ef27-4aec-95fa-359c70a254e3"
   },
   "outputs": [
    {
     "data": {
      "text/plain": [
       "2019-01-01    1\n",
       "2019-01-02    2\n",
       "2019-01-03    3\n",
       "2019-01-04    4\n",
       "2019-01-05    5\n",
       "2019-01-06    6\n",
       "Freq: D, dtype: int64"
      ]
     },
     "execution_count": 33,
     "metadata": {},
     "output_type": "execute_result"
    }
   ],
   "source": [
    "s1 = pd.Series([1,2,3,4,5,6], index=pd.date_range('20190101', periods=6))\n",
    "s1"
   ]
  },
  {
   "cell_type": "code",
   "execution_count": 34,
   "metadata": {
    "colab": {},
    "colab_type": "code",
    "id": "HNmVhq8OFvvE"
   },
   "outputs": [],
   "source": [
    "df['F']=s1"
   ]
  },
  {
   "cell_type": "code",
   "execution_count": 35,
   "metadata": {
    "colab": {
     "base_uri": "https://localhost:8080/",
     "height": 203
    },
    "colab_type": "code",
    "id": "cCra9YO5F1Yw",
    "outputId": "c7b7b641-524c-40a6-e296-8e75225ad4a8"
   },
   "outputs": [
    {
     "data": {
      "text/html": [
       "<div>\n",
       "<style scoped>\n",
       "    .dataframe tbody tr th:only-of-type {\n",
       "        vertical-align: middle;\n",
       "    }\n",
       "\n",
       "    .dataframe tbody tr th {\n",
       "        vertical-align: top;\n",
       "    }\n",
       "\n",
       "    .dataframe thead th {\n",
       "        text-align: right;\n",
       "    }\n",
       "</style>\n",
       "<table border=\"1\" class=\"dataframe\">\n",
       "  <thead>\n",
       "    <tr style=\"text-align: right;\">\n",
       "      <th></th>\n",
       "      <th>A</th>\n",
       "      <th>B</th>\n",
       "      <th>C</th>\n",
       "      <th>D</th>\n",
       "      <th>F</th>\n",
       "    </tr>\n",
       "  </thead>\n",
       "  <tbody>\n",
       "    <tr>\n",
       "      <td>2019-01-01</td>\n",
       "      <td>-0.493781</td>\n",
       "      <td>-0.914162</td>\n",
       "      <td>0.283641</td>\n",
       "      <td>1.165503</td>\n",
       "      <td>1</td>\n",
       "    </tr>\n",
       "    <tr>\n",
       "      <td>2019-01-02</td>\n",
       "      <td>-1.006058</td>\n",
       "      <td>-0.861208</td>\n",
       "      <td>0.984806</td>\n",
       "      <td>-0.633118</td>\n",
       "      <td>2</td>\n",
       "    </tr>\n",
       "    <tr>\n",
       "      <td>2019-01-03</td>\n",
       "      <td>-1.033363</td>\n",
       "      <td>-0.803094</td>\n",
       "      <td>0.251282</td>\n",
       "      <td>0.735513</td>\n",
       "      <td>3</td>\n",
       "    </tr>\n",
       "    <tr>\n",
       "      <td>2019-01-04</td>\n",
       "      <td>1.356996</td>\n",
       "      <td>-0.211609</td>\n",
       "      <td>-0.088295</td>\n",
       "      <td>-2.660629</td>\n",
       "      <td>4</td>\n",
       "    </tr>\n",
       "    <tr>\n",
       "      <td>2019-01-05</td>\n",
       "      <td>0.683312</td>\n",
       "      <td>-0.229390</td>\n",
       "      <td>0.739911</td>\n",
       "      <td>-0.679550</td>\n",
       "      <td>5</td>\n",
       "    </tr>\n",
       "  </tbody>\n",
       "</table>\n",
       "</div>"
      ],
      "text/plain": [
       "                   A         B         C         D  F\n",
       "2019-01-01 -0.493781 -0.914162  0.283641  1.165503  1\n",
       "2019-01-02 -1.006058 -0.861208  0.984806 -0.633118  2\n",
       "2019-01-03 -1.033363 -0.803094  0.251282  0.735513  3\n",
       "2019-01-04  1.356996 -0.211609 -0.088295 -2.660629  4\n",
       "2019-01-05  0.683312 -0.229390  0.739911 -0.679550  5"
      ]
     },
     "execution_count": 35,
     "metadata": {},
     "output_type": "execute_result"
    }
   ],
   "source": [
    "df.head()"
   ]
  },
  {
   "cell_type": "code",
   "execution_count": 36,
   "metadata": {
    "colab": {},
    "colab_type": "code",
    "id": "PLiKCK76F56s"
   },
   "outputs": [],
   "source": [
    "df.at[dates[0],'A'] = 0\n",
    "df.iat[2,1] = 0"
   ]
  },
  {
   "cell_type": "code",
   "execution_count": 37,
   "metadata": {
    "colab": {
     "base_uri": "https://localhost:8080/",
     "height": 234
    },
    "colab_type": "code",
    "id": "qAFuiZTvGEPj",
    "outputId": "629cc9de-6711-42f1-b548-44ffc9737872"
   },
   "outputs": [
    {
     "data": {
      "text/html": [
       "<div>\n",
       "<style scoped>\n",
       "    .dataframe tbody tr th:only-of-type {\n",
       "        vertical-align: middle;\n",
       "    }\n",
       "\n",
       "    .dataframe tbody tr th {\n",
       "        vertical-align: top;\n",
       "    }\n",
       "\n",
       "    .dataframe thead th {\n",
       "        text-align: right;\n",
       "    }\n",
       "</style>\n",
       "<table border=\"1\" class=\"dataframe\">\n",
       "  <thead>\n",
       "    <tr style=\"text-align: right;\">\n",
       "      <th></th>\n",
       "      <th>A</th>\n",
       "      <th>B</th>\n",
       "      <th>C</th>\n",
       "      <th>D</th>\n",
       "      <th>F</th>\n",
       "    </tr>\n",
       "  </thead>\n",
       "  <tbody>\n",
       "    <tr>\n",
       "      <td>2019-01-01</td>\n",
       "      <td>0.000000</td>\n",
       "      <td>-0.914162</td>\n",
       "      <td>0.283641</td>\n",
       "      <td>1.165503</td>\n",
       "      <td>1</td>\n",
       "    </tr>\n",
       "    <tr>\n",
       "      <td>2019-01-02</td>\n",
       "      <td>-1.006058</td>\n",
       "      <td>-0.861208</td>\n",
       "      <td>0.984806</td>\n",
       "      <td>-0.633118</td>\n",
       "      <td>2</td>\n",
       "    </tr>\n",
       "    <tr>\n",
       "      <td>2019-01-03</td>\n",
       "      <td>-1.033363</td>\n",
       "      <td>0.000000</td>\n",
       "      <td>0.251282</td>\n",
       "      <td>0.735513</td>\n",
       "      <td>3</td>\n",
       "    </tr>\n",
       "    <tr>\n",
       "      <td>2019-01-04</td>\n",
       "      <td>1.356996</td>\n",
       "      <td>-0.211609</td>\n",
       "      <td>-0.088295</td>\n",
       "      <td>-2.660629</td>\n",
       "      <td>4</td>\n",
       "    </tr>\n",
       "    <tr>\n",
       "      <td>2019-01-05</td>\n",
       "      <td>0.683312</td>\n",
       "      <td>-0.229390</td>\n",
       "      <td>0.739911</td>\n",
       "      <td>-0.679550</td>\n",
       "      <td>5</td>\n",
       "    </tr>\n",
       "    <tr>\n",
       "      <td>2019-01-06</td>\n",
       "      <td>-0.120131</td>\n",
       "      <td>-0.613903</td>\n",
       "      <td>0.176497</td>\n",
       "      <td>0.813215</td>\n",
       "      <td>6</td>\n",
       "    </tr>\n",
       "  </tbody>\n",
       "</table>\n",
       "</div>"
      ],
      "text/plain": [
       "                   A         B         C         D  F\n",
       "2019-01-01  0.000000 -0.914162  0.283641  1.165503  1\n",
       "2019-01-02 -1.006058 -0.861208  0.984806 -0.633118  2\n",
       "2019-01-03 -1.033363  0.000000  0.251282  0.735513  3\n",
       "2019-01-04  1.356996 -0.211609 -0.088295 -2.660629  4\n",
       "2019-01-05  0.683312 -0.229390  0.739911 -0.679550  5\n",
       "2019-01-06 -0.120131 -0.613903  0.176497  0.813215  6"
      ]
     },
     "execution_count": 37,
     "metadata": {},
     "output_type": "execute_result"
    }
   ],
   "source": [
    "df"
   ]
  },
  {
   "cell_type": "code",
   "execution_count": 38,
   "metadata": {
    "colab": {
     "base_uri": "https://localhost:8080/",
     "height": 234
    },
    "colab_type": "code",
    "id": "MPBPYJuhGMTn",
    "outputId": "6b9dbfb8-1a52-4663-96c8-83efca0bd59d"
   },
   "outputs": [
    {
     "data": {
      "text/html": [
       "<div>\n",
       "<style scoped>\n",
       "    .dataframe tbody tr th:only-of-type {\n",
       "        vertical-align: middle;\n",
       "    }\n",
       "\n",
       "    .dataframe tbody tr th {\n",
       "        vertical-align: top;\n",
       "    }\n",
       "\n",
       "    .dataframe thead th {\n",
       "        text-align: right;\n",
       "    }\n",
       "</style>\n",
       "<table border=\"1\" class=\"dataframe\">\n",
       "  <thead>\n",
       "    <tr style=\"text-align: right;\">\n",
       "      <th></th>\n",
       "      <th>A</th>\n",
       "      <th>B</th>\n",
       "      <th>C</th>\n",
       "      <th>D</th>\n",
       "      <th>F</th>\n",
       "    </tr>\n",
       "  </thead>\n",
       "  <tbody>\n",
       "    <tr>\n",
       "      <td>2019-01-01</td>\n",
       "      <td>0.000000</td>\n",
       "      <td>-0.914162</td>\n",
       "      <td>-0.283641</td>\n",
       "      <td>-1.165503</td>\n",
       "      <td>-1</td>\n",
       "    </tr>\n",
       "    <tr>\n",
       "      <td>2019-01-02</td>\n",
       "      <td>-1.006058</td>\n",
       "      <td>-0.861208</td>\n",
       "      <td>-0.984806</td>\n",
       "      <td>-0.633118</td>\n",
       "      <td>-2</td>\n",
       "    </tr>\n",
       "    <tr>\n",
       "      <td>2019-01-03</td>\n",
       "      <td>-1.033363</td>\n",
       "      <td>0.000000</td>\n",
       "      <td>-0.251282</td>\n",
       "      <td>-0.735513</td>\n",
       "      <td>-3</td>\n",
       "    </tr>\n",
       "    <tr>\n",
       "      <td>2019-01-04</td>\n",
       "      <td>-1.356996</td>\n",
       "      <td>-0.211609</td>\n",
       "      <td>-0.088295</td>\n",
       "      <td>-2.660629</td>\n",
       "      <td>-4</td>\n",
       "    </tr>\n",
       "    <tr>\n",
       "      <td>2019-01-05</td>\n",
       "      <td>-0.683312</td>\n",
       "      <td>-0.229390</td>\n",
       "      <td>-0.739911</td>\n",
       "      <td>-0.679550</td>\n",
       "      <td>-5</td>\n",
       "    </tr>\n",
       "    <tr>\n",
       "      <td>2019-01-06</td>\n",
       "      <td>-0.120131</td>\n",
       "      <td>-0.613903</td>\n",
       "      <td>-0.176497</td>\n",
       "      <td>-0.813215</td>\n",
       "      <td>-6</td>\n",
       "    </tr>\n",
       "  </tbody>\n",
       "</table>\n",
       "</div>"
      ],
      "text/plain": [
       "                   A         B         C         D  F\n",
       "2019-01-01  0.000000 -0.914162 -0.283641 -1.165503 -1\n",
       "2019-01-02 -1.006058 -0.861208 -0.984806 -0.633118 -2\n",
       "2019-01-03 -1.033363  0.000000 -0.251282 -0.735513 -3\n",
       "2019-01-04 -1.356996 -0.211609 -0.088295 -2.660629 -4\n",
       "2019-01-05 -0.683312 -0.229390 -0.739911 -0.679550 -5\n",
       "2019-01-06 -0.120131 -0.613903 -0.176497 -0.813215 -6"
      ]
     },
     "execution_count": 38,
     "metadata": {},
     "output_type": "execute_result"
    }
   ],
   "source": [
    "#Por qué se pone copy()\n",
    "df2 = df.copy()\n",
    "\n",
    "df2[df2 > 0] = -df2\n",
    "\n",
    "df2"
   ]
  },
  {
   "cell_type": "markdown",
   "metadata": {
    "colab_type": "text",
    "id": "pt1Qwv37_uVn"
   },
   "source": [
    "### Missing Values\n",
    "\n",
    "Con el nombre missing values, se consideran aquellos valores que o bien no tienen información o tienen un tipo de dato NA.\n",
    "\n",
    "El tipo de dato \"NA\", es proveniente de NumPy. Es un estandar tener manera de indicar que no se tienen valor. \n",
    "\n",
    "Pero también existen valores \"infinitos\". "
   ]
  },
  {
   "cell_type": "code",
   "execution_count": 39,
   "metadata": {
    "colab": {},
    "colab_type": "code",
    "id": "oNDvxL2WG_Bc"
   },
   "outputs": [],
   "source": [
    "df2['E']=np.nan"
   ]
  },
  {
   "cell_type": "code",
   "execution_count": 40,
   "metadata": {
    "colab": {
     "base_uri": "https://localhost:8080/",
     "height": 234
    },
    "colab_type": "code",
    "id": "-dnYq8_xHIUI",
    "outputId": "b7de2ec5-eb62-48b9-d89c-04ff22f288d2"
   },
   "outputs": [
    {
     "data": {
      "text/html": [
       "<div>\n",
       "<style scoped>\n",
       "    .dataframe tbody tr th:only-of-type {\n",
       "        vertical-align: middle;\n",
       "    }\n",
       "\n",
       "    .dataframe tbody tr th {\n",
       "        vertical-align: top;\n",
       "    }\n",
       "\n",
       "    .dataframe thead th {\n",
       "        text-align: right;\n",
       "    }\n",
       "</style>\n",
       "<table border=\"1\" class=\"dataframe\">\n",
       "  <thead>\n",
       "    <tr style=\"text-align: right;\">\n",
       "      <th></th>\n",
       "      <th>A</th>\n",
       "      <th>B</th>\n",
       "      <th>C</th>\n",
       "      <th>D</th>\n",
       "      <th>F</th>\n",
       "      <th>E</th>\n",
       "    </tr>\n",
       "  </thead>\n",
       "  <tbody>\n",
       "    <tr>\n",
       "      <td>2019-01-01</td>\n",
       "      <td>0.000000</td>\n",
       "      <td>-0.914162</td>\n",
       "      <td>-0.283641</td>\n",
       "      <td>-1.165503</td>\n",
       "      <td>-1</td>\n",
       "      <td>NaN</td>\n",
       "    </tr>\n",
       "    <tr>\n",
       "      <td>2019-01-02</td>\n",
       "      <td>-1.006058</td>\n",
       "      <td>-0.861208</td>\n",
       "      <td>-0.984806</td>\n",
       "      <td>-0.633118</td>\n",
       "      <td>-2</td>\n",
       "      <td>NaN</td>\n",
       "    </tr>\n",
       "    <tr>\n",
       "      <td>2019-01-03</td>\n",
       "      <td>-1.033363</td>\n",
       "      <td>0.000000</td>\n",
       "      <td>-0.251282</td>\n",
       "      <td>-0.735513</td>\n",
       "      <td>-3</td>\n",
       "      <td>NaN</td>\n",
       "    </tr>\n",
       "    <tr>\n",
       "      <td>2019-01-04</td>\n",
       "      <td>-1.356996</td>\n",
       "      <td>-0.211609</td>\n",
       "      <td>-0.088295</td>\n",
       "      <td>-2.660629</td>\n",
       "      <td>-4</td>\n",
       "      <td>NaN</td>\n",
       "    </tr>\n",
       "    <tr>\n",
       "      <td>2019-01-05</td>\n",
       "      <td>-0.683312</td>\n",
       "      <td>-0.229390</td>\n",
       "      <td>-0.739911</td>\n",
       "      <td>-0.679550</td>\n",
       "      <td>-5</td>\n",
       "      <td>NaN</td>\n",
       "    </tr>\n",
       "    <tr>\n",
       "      <td>2019-01-06</td>\n",
       "      <td>-0.120131</td>\n",
       "      <td>-0.613903</td>\n",
       "      <td>-0.176497</td>\n",
       "      <td>-0.813215</td>\n",
       "      <td>-6</td>\n",
       "      <td>NaN</td>\n",
       "    </tr>\n",
       "  </tbody>\n",
       "</table>\n",
       "</div>"
      ],
      "text/plain": [
       "                   A         B         C         D  F   E\n",
       "2019-01-01  0.000000 -0.914162 -0.283641 -1.165503 -1 NaN\n",
       "2019-01-02 -1.006058 -0.861208 -0.984806 -0.633118 -2 NaN\n",
       "2019-01-03 -1.033363  0.000000 -0.251282 -0.735513 -3 NaN\n",
       "2019-01-04 -1.356996 -0.211609 -0.088295 -2.660629 -4 NaN\n",
       "2019-01-05 -0.683312 -0.229390 -0.739911 -0.679550 -5 NaN\n",
       "2019-01-06 -0.120131 -0.613903 -0.176497 -0.813215 -6 NaN"
      ]
     },
     "execution_count": 40,
     "metadata": {},
     "output_type": "execute_result"
    }
   ],
   "source": [
    "df2"
   ]
  },
  {
   "cell_type": "code",
   "execution_count": 41,
   "metadata": {
    "colab": {
     "base_uri": "https://localhost:8080/",
     "height": 485
    },
    "colab_type": "code",
    "id": "_YMMd3GGHIDA",
    "outputId": "15dcbc18-abac-4786-f329-25ddc5fe2e2d"
   },
   "outputs": [
    {
     "data": {
      "text/html": [
       "<div>\n",
       "<style scoped>\n",
       "    .dataframe tbody tr th:only-of-type {\n",
       "        vertical-align: middle;\n",
       "    }\n",
       "\n",
       "    .dataframe tbody tr th {\n",
       "        vertical-align: top;\n",
       "    }\n",
       "\n",
       "    .dataframe thead th {\n",
       "        text-align: right;\n",
       "    }\n",
       "</style>\n",
       "<table border=\"1\" class=\"dataframe\">\n",
       "  <thead>\n",
       "    <tr style=\"text-align: right;\">\n",
       "      <th></th>\n",
       "      <th>A</th>\n",
       "      <th>B</th>\n",
       "      <th>C</th>\n",
       "      <th>D</th>\n",
       "      <th>F</th>\n",
       "      <th>E</th>\n",
       "    </tr>\n",
       "  </thead>\n",
       "  <tbody>\n",
       "  </tbody>\n",
       "</table>\n",
       "</div>"
      ],
      "text/plain": [
       "Empty DataFrame\n",
       "Columns: [A, B, C, D, F, E]\n",
       "Index: []"
      ]
     },
     "execution_count": 41,
     "metadata": {},
     "output_type": "execute_result"
    },
    {
     "name": "stdout",
     "output_type": "stream",
     "text": [
      "\n"
     ]
    },
    {
     "data": {
      "text/html": [
       "<div>\n",
       "<style scoped>\n",
       "    .dataframe tbody tr th:only-of-type {\n",
       "        vertical-align: middle;\n",
       "    }\n",
       "\n",
       "    .dataframe tbody tr th {\n",
       "        vertical-align: top;\n",
       "    }\n",
       "\n",
       "    .dataframe thead th {\n",
       "        text-align: right;\n",
       "    }\n",
       "</style>\n",
       "<table border=\"1\" class=\"dataframe\">\n",
       "  <thead>\n",
       "    <tr style=\"text-align: right;\">\n",
       "      <th></th>\n",
       "      <th>A</th>\n",
       "      <th>B</th>\n",
       "      <th>C</th>\n",
       "      <th>D</th>\n",
       "      <th>F</th>\n",
       "    </tr>\n",
       "  </thead>\n",
       "  <tbody>\n",
       "    <tr>\n",
       "      <td>2019-01-01</td>\n",
       "      <td>0.000000</td>\n",
       "      <td>-0.914162</td>\n",
       "      <td>0.283641</td>\n",
       "      <td>1.165503</td>\n",
       "      <td>1</td>\n",
       "    </tr>\n",
       "    <tr>\n",
       "      <td>2019-01-02</td>\n",
       "      <td>-1.006058</td>\n",
       "      <td>-0.861208</td>\n",
       "      <td>0.984806</td>\n",
       "      <td>-0.633118</td>\n",
       "      <td>2</td>\n",
       "    </tr>\n",
       "    <tr>\n",
       "      <td>2019-01-03</td>\n",
       "      <td>-1.033363</td>\n",
       "      <td>0.000000</td>\n",
       "      <td>0.251282</td>\n",
       "      <td>0.735513</td>\n",
       "      <td>3</td>\n",
       "    </tr>\n",
       "    <tr>\n",
       "      <td>2019-01-04</td>\n",
       "      <td>1.356996</td>\n",
       "      <td>-0.211609</td>\n",
       "      <td>-0.088295</td>\n",
       "      <td>-2.660629</td>\n",
       "      <td>4</td>\n",
       "    </tr>\n",
       "    <tr>\n",
       "      <td>2019-01-05</td>\n",
       "      <td>0.683312</td>\n",
       "      <td>-0.229390</td>\n",
       "      <td>0.739911</td>\n",
       "      <td>-0.679550</td>\n",
       "      <td>5</td>\n",
       "    </tr>\n",
       "    <tr>\n",
       "      <td>2019-01-06</td>\n",
       "      <td>-0.120131</td>\n",
       "      <td>-0.613903</td>\n",
       "      <td>0.176497</td>\n",
       "      <td>0.813215</td>\n",
       "      <td>6</td>\n",
       "    </tr>\n",
       "  </tbody>\n",
       "</table>\n",
       "</div>"
      ],
      "text/plain": [
       "                   A         B         C         D  F\n",
       "2019-01-01  0.000000 -0.914162  0.283641  1.165503  1\n",
       "2019-01-02 -1.006058 -0.861208  0.984806 -0.633118  2\n",
       "2019-01-03 -1.033363  0.000000  0.251282  0.735513  3\n",
       "2019-01-04  1.356996 -0.211609 -0.088295 -2.660629  4\n",
       "2019-01-05  0.683312 -0.229390  0.739911 -0.679550  5\n",
       "2019-01-06 -0.120131 -0.613903  0.176497  0.813215  6"
      ]
     },
     "execution_count": 41,
     "metadata": {},
     "output_type": "execute_result"
    },
    {
     "name": "stdout",
     "output_type": "stream",
     "text": [
      "\n"
     ]
    },
    {
     "data": {
      "text/html": [
       "<div>\n",
       "<style scoped>\n",
       "    .dataframe tbody tr th:only-of-type {\n",
       "        vertical-align: middle;\n",
       "    }\n",
       "\n",
       "    .dataframe tbody tr th {\n",
       "        vertical-align: top;\n",
       "    }\n",
       "\n",
       "    .dataframe thead th {\n",
       "        text-align: right;\n",
       "    }\n",
       "</style>\n",
       "<table border=\"1\" class=\"dataframe\">\n",
       "  <thead>\n",
       "    <tr style=\"text-align: right;\">\n",
       "      <th></th>\n",
       "      <th>A</th>\n",
       "      <th>B</th>\n",
       "      <th>C</th>\n",
       "      <th>D</th>\n",
       "      <th>F</th>\n",
       "      <th>E</th>\n",
       "    </tr>\n",
       "  </thead>\n",
       "  <tbody>\n",
       "    <tr>\n",
       "      <td>2019-01-01</td>\n",
       "      <td>0.000000</td>\n",
       "      <td>-0.914162</td>\n",
       "      <td>-0.283641</td>\n",
       "      <td>-1.165503</td>\n",
       "      <td>-1</td>\n",
       "      <td>-99.0</td>\n",
       "    </tr>\n",
       "    <tr>\n",
       "      <td>2019-01-02</td>\n",
       "      <td>-1.006058</td>\n",
       "      <td>-0.861208</td>\n",
       "      <td>-0.984806</td>\n",
       "      <td>-0.633118</td>\n",
       "      <td>-2</td>\n",
       "      <td>-99.0</td>\n",
       "    </tr>\n",
       "    <tr>\n",
       "      <td>2019-01-03</td>\n",
       "      <td>-1.033363</td>\n",
       "      <td>0.000000</td>\n",
       "      <td>-0.251282</td>\n",
       "      <td>-0.735513</td>\n",
       "      <td>-3</td>\n",
       "      <td>-99.0</td>\n",
       "    </tr>\n",
       "    <tr>\n",
       "      <td>2019-01-04</td>\n",
       "      <td>-1.356996</td>\n",
       "      <td>-0.211609</td>\n",
       "      <td>-0.088295</td>\n",
       "      <td>-2.660629</td>\n",
       "      <td>-4</td>\n",
       "      <td>-99.0</td>\n",
       "    </tr>\n",
       "    <tr>\n",
       "      <td>2019-01-05</td>\n",
       "      <td>-0.683312</td>\n",
       "      <td>-0.229390</td>\n",
       "      <td>-0.739911</td>\n",
       "      <td>-0.679550</td>\n",
       "      <td>-5</td>\n",
       "      <td>-99.0</td>\n",
       "    </tr>\n",
       "    <tr>\n",
       "      <td>2019-01-06</td>\n",
       "      <td>-0.120131</td>\n",
       "      <td>-0.613903</td>\n",
       "      <td>-0.176497</td>\n",
       "      <td>-0.813215</td>\n",
       "      <td>-6</td>\n",
       "      <td>-99.0</td>\n",
       "    </tr>\n",
       "  </tbody>\n",
       "</table>\n",
       "</div>"
      ],
      "text/plain": [
       "                   A         B         C         D  F     E\n",
       "2019-01-01  0.000000 -0.914162 -0.283641 -1.165503 -1 -99.0\n",
       "2019-01-02 -1.006058 -0.861208 -0.984806 -0.633118 -2 -99.0\n",
       "2019-01-03 -1.033363  0.000000 -0.251282 -0.735513 -3 -99.0\n",
       "2019-01-04 -1.356996 -0.211609 -0.088295 -2.660629 -4 -99.0\n",
       "2019-01-05 -0.683312 -0.229390 -0.739911 -0.679550 -5 -99.0\n",
       "2019-01-06 -0.120131 -0.613903 -0.176497 -0.813215 -6 -99.0"
      ]
     },
     "execution_count": 41,
     "metadata": {},
     "output_type": "execute_result"
    }
   ],
   "source": [
    "df2.dropna()\n",
    "print()\n",
    "df.dropna()\n",
    "print()\n",
    "df2.fillna(-99)"
   ]
  },
  {
   "cell_type": "code",
   "execution_count": 42,
   "metadata": {
    "colab": {
     "base_uri": "https://localhost:8080/",
     "height": 234
    },
    "colab_type": "code",
    "id": "QzPf3MvwI2qX",
    "outputId": "f99dd458-53fc-464b-86fd-1bc39a4d2e2c"
   },
   "outputs": [
    {
     "data": {
      "text/html": [
       "<div>\n",
       "<style scoped>\n",
       "    .dataframe tbody tr th:only-of-type {\n",
       "        vertical-align: middle;\n",
       "    }\n",
       "\n",
       "    .dataframe tbody tr th {\n",
       "        vertical-align: top;\n",
       "    }\n",
       "\n",
       "    .dataframe thead th {\n",
       "        text-align: right;\n",
       "    }\n",
       "</style>\n",
       "<table border=\"1\" class=\"dataframe\">\n",
       "  <thead>\n",
       "    <tr style=\"text-align: right;\">\n",
       "      <th></th>\n",
       "      <th>A</th>\n",
       "      <th>B</th>\n",
       "      <th>C</th>\n",
       "      <th>D</th>\n",
       "      <th>F</th>\n",
       "      <th>E</th>\n",
       "    </tr>\n",
       "  </thead>\n",
       "  <tbody>\n",
       "    <tr>\n",
       "      <td>2019-01-01</td>\n",
       "      <td>False</td>\n",
       "      <td>False</td>\n",
       "      <td>False</td>\n",
       "      <td>False</td>\n",
       "      <td>False</td>\n",
       "      <td>True</td>\n",
       "    </tr>\n",
       "    <tr>\n",
       "      <td>2019-01-02</td>\n",
       "      <td>False</td>\n",
       "      <td>False</td>\n",
       "      <td>False</td>\n",
       "      <td>False</td>\n",
       "      <td>False</td>\n",
       "      <td>True</td>\n",
       "    </tr>\n",
       "    <tr>\n",
       "      <td>2019-01-03</td>\n",
       "      <td>False</td>\n",
       "      <td>False</td>\n",
       "      <td>False</td>\n",
       "      <td>False</td>\n",
       "      <td>False</td>\n",
       "      <td>True</td>\n",
       "    </tr>\n",
       "    <tr>\n",
       "      <td>2019-01-04</td>\n",
       "      <td>False</td>\n",
       "      <td>False</td>\n",
       "      <td>False</td>\n",
       "      <td>False</td>\n",
       "      <td>False</td>\n",
       "      <td>True</td>\n",
       "    </tr>\n",
       "    <tr>\n",
       "      <td>2019-01-05</td>\n",
       "      <td>False</td>\n",
       "      <td>False</td>\n",
       "      <td>False</td>\n",
       "      <td>False</td>\n",
       "      <td>False</td>\n",
       "      <td>True</td>\n",
       "    </tr>\n",
       "    <tr>\n",
       "      <td>2019-01-06</td>\n",
       "      <td>False</td>\n",
       "      <td>False</td>\n",
       "      <td>False</td>\n",
       "      <td>False</td>\n",
       "      <td>False</td>\n",
       "      <td>True</td>\n",
       "    </tr>\n",
       "  </tbody>\n",
       "</table>\n",
       "</div>"
      ],
      "text/plain": [
       "                A      B      C      D      F     E\n",
       "2019-01-01  False  False  False  False  False  True\n",
       "2019-01-02  False  False  False  False  False  True\n",
       "2019-01-03  False  False  False  False  False  True\n",
       "2019-01-04  False  False  False  False  False  True\n",
       "2019-01-05  False  False  False  False  False  True\n",
       "2019-01-06  False  False  False  False  False  True"
      ]
     },
     "execution_count": 42,
     "metadata": {},
     "output_type": "execute_result"
    }
   ],
   "source": [
    "pd.isna(df2)"
   ]
  },
  {
   "cell_type": "code",
   "execution_count": 43,
   "metadata": {
    "colab": {
     "base_uri": "https://localhost:8080/",
     "height": 234
    },
    "colab_type": "code",
    "id": "hFUdyDJuI9H2",
    "outputId": "7e68e90f-2de6-4297-dff6-540272648bef"
   },
   "outputs": [
    {
     "data": {
      "text/html": [
       "<div>\n",
       "<style scoped>\n",
       "    .dataframe tbody tr th:only-of-type {\n",
       "        vertical-align: middle;\n",
       "    }\n",
       "\n",
       "    .dataframe tbody tr th {\n",
       "        vertical-align: top;\n",
       "    }\n",
       "\n",
       "    .dataframe thead th {\n",
       "        text-align: right;\n",
       "    }\n",
       "</style>\n",
       "<table border=\"1\" class=\"dataframe\">\n",
       "  <thead>\n",
       "    <tr style=\"text-align: right;\">\n",
       "      <th></th>\n",
       "      <th>A</th>\n",
       "      <th>B</th>\n",
       "      <th>C</th>\n",
       "      <th>D</th>\n",
       "      <th>F</th>\n",
       "      <th>E</th>\n",
       "    </tr>\n",
       "  </thead>\n",
       "  <tbody>\n",
       "    <tr>\n",
       "      <td>2019-01-01</td>\n",
       "      <td>False</td>\n",
       "      <td>False</td>\n",
       "      <td>False</td>\n",
       "      <td>False</td>\n",
       "      <td>False</td>\n",
       "      <td>True</td>\n",
       "    </tr>\n",
       "    <tr>\n",
       "      <td>2019-01-02</td>\n",
       "      <td>False</td>\n",
       "      <td>False</td>\n",
       "      <td>False</td>\n",
       "      <td>False</td>\n",
       "      <td>False</td>\n",
       "      <td>True</td>\n",
       "    </tr>\n",
       "    <tr>\n",
       "      <td>2019-01-03</td>\n",
       "      <td>False</td>\n",
       "      <td>False</td>\n",
       "      <td>False</td>\n",
       "      <td>False</td>\n",
       "      <td>False</td>\n",
       "      <td>True</td>\n",
       "    </tr>\n",
       "    <tr>\n",
       "      <td>2019-01-04</td>\n",
       "      <td>False</td>\n",
       "      <td>False</td>\n",
       "      <td>False</td>\n",
       "      <td>False</td>\n",
       "      <td>False</td>\n",
       "      <td>True</td>\n",
       "    </tr>\n",
       "    <tr>\n",
       "      <td>2019-01-05</td>\n",
       "      <td>False</td>\n",
       "      <td>False</td>\n",
       "      <td>False</td>\n",
       "      <td>False</td>\n",
       "      <td>False</td>\n",
       "      <td>True</td>\n",
       "    </tr>\n",
       "    <tr>\n",
       "      <td>2019-01-06</td>\n",
       "      <td>False</td>\n",
       "      <td>False</td>\n",
       "      <td>False</td>\n",
       "      <td>False</td>\n",
       "      <td>False</td>\n",
       "      <td>True</td>\n",
       "    </tr>\n",
       "  </tbody>\n",
       "</table>\n",
       "</div>"
      ],
      "text/plain": [
       "                A      B      C      D      F     E\n",
       "2019-01-01  False  False  False  False  False  True\n",
       "2019-01-02  False  False  False  False  False  True\n",
       "2019-01-03  False  False  False  False  False  True\n",
       "2019-01-04  False  False  False  False  False  True\n",
       "2019-01-05  False  False  False  False  False  True\n",
       "2019-01-06  False  False  False  False  False  True"
      ]
     },
     "execution_count": 43,
     "metadata": {},
     "output_type": "execute_result"
    }
   ],
   "source": [
    "df2.isna()"
   ]
  },
  {
   "cell_type": "markdown",
   "metadata": {
    "colab_type": "text",
    "id": "9aawylPMKP_w"
   },
   "source": [
    "### Temas Pendientes\n",
    "\n",
    "Restan los siguientes aspectos básicos:\n",
    "\n",
    "* Estadísticos\n",
    "* Aplicar funciones o transformaciones sobre los datos\n",
    "* Operaciones entre DataFrames (merge, join)\n",
    "* Cambios de forma (melt y tablas pivot)\n",
    "* Agrupaciones\n",
    "* Variables tipo Categorical\n",
    "* Tratamiento de indices de tiempo o timestamp\n",
    "\n",
    "Se veran en otras lecciones, pero por ahora pasamos a un aspecto visual.\n"
   ]
  },
  {
   "cell_type": "markdown",
   "metadata": {
    "colab_type": "text",
    "id": "fvmIiBC1_5O1"
   },
   "source": [
    "### Visualizaciones\n",
    "\n",
    "Pandas cuenta con métodos para generar un conjunto de gráficas que son las más usadas o requeridas al momento de hacer un análsis de datos, estas gráficas son originadas con las funciones de matplotlib."
   ]
  },
  {
   "cell_type": "code",
   "execution_count": 44,
   "metadata": {
    "colab": {
     "base_uri": "https://localhost:8080/",
     "height": 387
    },
    "colab_type": "code",
    "id": "gpBd6r0MKGz7",
    "outputId": "b84b6e47-4121-44ca-9f78-89761fe6ac3b"
   },
   "outputs": [
    {
     "data": {
      "text/plain": [
       "<matplotlib.axes._subplots.AxesSubplot at 0x7f1aac92f208>"
      ]
     },
     "execution_count": 44,
     "metadata": {},
     "output_type": "execute_result"
    },
    {
     "data": {
      "image/png": "[encoded data removed]",
      "text/plain": [
       "<Figure size 432x288 with 1 Axes>"
      ]
     },
     "metadata": {
      "needs_background": "light"
     },
     "output_type": "display_data"
    }
   ],
   "source": [
    "#Se gráfica la columna A\n",
    "df['A'].plot()"
   ]
  },
  {
   "cell_type": "code",
   "execution_count": 45,
   "metadata": {
    "colab": {
     "base_uri": "https://localhost:8080/",
     "height": 282
    },
    "colab_type": "code",
    "id": "1WR7iIioK8N6",
    "outputId": "e905d464-0a63-4350-97f7-f6ec63e8e0ee"
   },
   "outputs": [
    {
     "data": {
      "text/plain": [
       "[<matplotlib.lines.Line2D at 0x7f1aac8e5438>]"
      ]
     },
     "execution_count": 45,
     "metadata": {},
     "output_type": "execute_result"
    },
    {
     "data": {
      "image/png": "[encoded data removed]",
      "text/plain": [
       "<Figure size 432x288 with 1 Axes>"
      ]
     },
     "metadata": {
      "needs_background": "light"
     },
     "output_type": "display_data"
    }
   ],
   "source": [
    "plt.plot(df['A'])"
   ]
  },
  {
   "cell_type": "code",
   "execution_count": 46,
   "metadata": {
    "colab": {},
    "colab_type": "code",
    "id": "pRKMuTOoLhVX"
   },
   "outputs": [
    {
     "data": {
      "text/plain": [
       "2000-01-01     0.305715\n",
       "2000-01-02     0.297813\n",
       "2000-01-03     0.162798\n",
       "2000-01-04     0.539037\n",
       "2000-01-05     1.429427\n",
       "                ...    \n",
       "2002-09-22    26.124876\n",
       "2002-09-23    25.642134\n",
       "2002-09-24    26.605577\n",
       "2002-09-25    27.048450\n",
       "2002-09-26    29.283197\n",
       "Freq: D, Length: 1000, dtype: float64"
      ]
     },
     "execution_count": 46,
     "metadata": {},
     "output_type": "execute_result"
    }
   ],
   "source": [
    "ts = pd.Series(np.random.randn(1000), index=pd.date_range('1/1/2000', periods=1000))\n",
    "\n",
    "ts = ts.cumsum()\n",
    "\n",
    "ts"
   ]
  },
  {
   "cell_type": "code",
   "execution_count": 47,
   "metadata": {
    "colab": {
     "base_uri": "https://localhost:8080/",
     "height": 294
    },
    "colab_type": "code",
    "id": "K6cfFMd4LxWf",
    "outputId": "6066eac8-4e6f-40ee-80b5-eb6d98362c87"
   },
   "outputs": [
    {
     "data": {
      "text/plain": [
       "<matplotlib.axes._subplots.AxesSubplot at 0x7f1aac1e45c0>"
      ]
     },
     "execution_count": 47,
     "metadata": {},
     "output_type": "execute_result"
    },
    {
     "data": {
      "image/png": "[encoded data removed]",
      "text/plain": [
       "<Figure size 432x288 with 1 Axes>"
      ]
     },
     "metadata": {
      "needs_background": "light"
     },
     "output_type": "display_data"
    }
   ],
   "source": [
    "ts.plot()"
   ]
  },
  {
   "cell_type": "code",
   "execution_count": 48,
   "metadata": {
    "colab": {},
    "colab_type": "code",
    "id": "QsG-YmskL5PZ"
   },
   "outputs": [],
   "source": [
    "df = pd.DataFrame(np.random.randn(1000, 4), index=ts.index,\n",
    "                  columns=['A', 'B', 'C', 'D'])\n",
    "  \n",
    "\n",
    "df = df.cumsum()"
   ]
  },
  {
   "cell_type": "code",
   "execution_count": 49,
   "metadata": {
    "colab": {
     "base_uri": "https://localhost:8080/",
     "height": 203
    },
    "colab_type": "code",
    "id": "XxmWfgWhMEH0",
    "outputId": "12b280e4-1c8a-4cf2-f222-b4d58b6ba664"
   },
   "outputs": [
    {
     "data": {
      "text/html": [
       "<div>\n",
       "<style scoped>\n",
       "    .dataframe tbody tr th:only-of-type {\n",
       "        vertical-align: middle;\n",
       "    }\n",
       "\n",
       "    .dataframe tbody tr th {\n",
       "        vertical-align: top;\n",
       "    }\n",
       "\n",
       "    .dataframe thead th {\n",
       "        text-align: right;\n",
       "    }\n",
       "</style>\n",
       "<table border=\"1\" class=\"dataframe\">\n",
       "  <thead>\n",
       "    <tr style=\"text-align: right;\">\n",
       "      <th></th>\n",
       "      <th>A</th>\n",
       "      <th>B</th>\n",
       "      <th>C</th>\n",
       "      <th>D</th>\n",
       "    </tr>\n",
       "  </thead>\n",
       "  <tbody>\n",
       "    <tr>\n",
       "      <td>2000-01-01</td>\n",
       "      <td>-0.018422</td>\n",
       "      <td>-1.424527</td>\n",
       "      <td>-1.769578</td>\n",
       "      <td>1.382407</td>\n",
       "    </tr>\n",
       "    <tr>\n",
       "      <td>2000-01-02</td>\n",
       "      <td>0.247451</td>\n",
       "      <td>-1.117705</td>\n",
       "      <td>-1.089673</td>\n",
       "      <td>0.165849</td>\n",
       "    </tr>\n",
       "    <tr>\n",
       "      <td>2000-01-03</td>\n",
       "      <td>0.793480</td>\n",
       "      <td>0.721582</td>\n",
       "      <td>-0.761793</td>\n",
       "      <td>1.323785</td>\n",
       "    </tr>\n",
       "    <tr>\n",
       "      <td>2000-01-04</td>\n",
       "      <td>0.993955</td>\n",
       "      <td>2.249572</td>\n",
       "      <td>-3.435550</td>\n",
       "      <td>1.939866</td>\n",
       "    </tr>\n",
       "    <tr>\n",
       "      <td>2000-01-05</td>\n",
       "      <td>1.315979</td>\n",
       "      <td>4.974753</td>\n",
       "      <td>-4.576609</td>\n",
       "      <td>3.224816</td>\n",
       "    </tr>\n",
       "  </tbody>\n",
       "</table>\n",
       "</div>"
      ],
      "text/plain": [
       "                   A         B         C         D\n",
       "2000-01-01 -0.018422 -1.424527 -1.769578  1.382407\n",
       "2000-01-02  0.247451 -1.117705 -1.089673  0.165849\n",
       "2000-01-03  0.793480  0.721582 -0.761793  1.323785\n",
       "2000-01-04  0.993955  2.249572 -3.435550  1.939866\n",
       "2000-01-05  1.315979  4.974753 -4.576609  3.224816"
      ]
     },
     "execution_count": 49,
     "metadata": {},
     "output_type": "execute_result"
    }
   ],
   "source": [
    "df.head()"
   ]
  },
  {
   "cell_type": "code",
   "execution_count": 50,
   "metadata": {
    "colab": {
     "base_uri": "https://localhost:8080/",
     "height": 294
    },
    "colab_type": "code",
    "id": "k50Oss24MHpo",
    "outputId": "5512fe57-fb17-4a14-effa-62bea22fdb1a"
   },
   "outputs": [
    {
     "data": {
      "text/plain": [
       "<matplotlib.axes._subplots.AxesSubplot at 0x7f1aac11a0f0>"
      ]
     },
     "execution_count": 50,
     "metadata": {},
     "output_type": "execute_result"
    },
    {
     "data": {
      "image/png": "[encoded data removed]",
      "text/plain": [
       "<Figure size 432x288 with 1 Axes>"
      ]
     },
     "metadata": {
      "needs_background": "light"
     },
     "output_type": "display_data"
    }
   ],
   "source": [
    "df.plot()"
   ]
  },
  {
   "cell_type": "code",
   "execution_count": 51,
   "metadata": {
    "colab": {
     "base_uri": "https://localhost:8080/",
     "height": 282
    },
    "colab_type": "code",
    "id": "-2YFEDHwMKCi",
    "outputId": "c4470d4f-52f6-44dd-8486-21ed4eff553d"
   },
   "outputs": [
    {
     "data": {
      "text/plain": [
       "<matplotlib.axes._subplots.AxesSubplot at 0x7f1aac030080>"
      ]
     },
     "execution_count": 51,
     "metadata": {},
     "output_type": "execute_result"
    },
    {
     "data": {
      "image/png": "[encoded data removed]",
      "text/plain": [
       "<Figure size 432x288 with 1 Axes>"
      ]
     },
     "metadata": {
      "needs_background": "light"
     },
     "output_type": "display_data"
    }
   ],
   "source": [
    "df.plot.hist(alpha=0.5)"
   ]
  },
  {
   "cell_type": "code",
   "execution_count": 52,
   "metadata": {
    "colab": {
     "base_uri": "https://localhost:8080/",
     "height": 575
    },
    "colab_type": "code",
    "id": "QSpfZKYqMu9q",
    "outputId": "c649f378-8af2-4526-9446-3f8c7d874e58"
   },
   "outputs": [
    {
     "data": {
      "text/plain": [
       "array([[<matplotlib.axes._subplots.AxesSubplot object at 0x7f1aac174550>,\n",
       "        <matplotlib.axes._subplots.AxesSubplot object at 0x7f1aabed4ba8>,\n",
       "        <matplotlib.axes._subplots.AxesSubplot object at 0x7f1aabe91198>,\n",
       "        <matplotlib.axes._subplots.AxesSubplot object at 0x7f1aabec1748>],\n",
       "       [<matplotlib.axes._subplots.AxesSubplot object at 0x7f1aabe73cf8>,\n",
       "        <matplotlib.axes._subplots.AxesSubplot object at 0x7f1aabe302e8>,\n",
       "        <matplotlib.axes._subplots.AxesSubplot object at 0x7f1aabddf898>,\n",
       "        <matplotlib.axes._subplots.AxesSubplot object at 0x7f1aabd93e80>],\n",
       "       [<matplotlib.axes._subplots.AxesSubplot object at 0x7f1aabd93eb8>,\n",
       "        <matplotlib.axes._subplots.AxesSubplot object at 0x7f1aabd809e8>,\n",
       "        <matplotlib.axes._subplots.AxesSubplot object at 0x7f1aabd33f98>,\n",
       "        <matplotlib.axes._subplots.AxesSubplot object at 0x7f1aabcf0588>],\n",
       "       [<matplotlib.axes._subplots.AxesSubplot object at 0x7f1aabca1b38>,\n",
       "        <matplotlib.axes._subplots.AxesSubplot object at 0x7f1aabc60128>,\n",
       "        <matplotlib.axes._subplots.AxesSubplot object at 0x7f1aabc116d8>,\n",
       "        <matplotlib.axes._subplots.AxesSubplot object at 0x7f1aabc43c88>]],\n",
       "      dtype=object)"
      ]
     },
     "execution_count": 52,
     "metadata": {},
     "output_type": "execute_result"
    },
    {
     "data": {
      "image/png": "[encoded data removed]",
      "text/plain": [
       "<Figure size 432x288 with 16 Axes>"
      ]
     },
     "metadata": {
      "needs_background": "light"
     },
     "output_type": "display_data"
    }
   ],
   "source": [
    "from pandas.plotting import scatter_matrix\n",
    "\n",
    "scatter_matrix(df,diagonal='kde',alpha=0.2)"
   ]
  },
  {
   "cell_type": "code",
   "execution_count": 53,
   "metadata": {
    "colab": {
     "base_uri": "https://localhost:8080/",
     "height": 742
    },
    "colab_type": "code",
    "id": "BjRVRaA2Mf1v",
    "outputId": "c0ef4f7f-1ab1-41b9-f2c4-9ff80bbd8c43"
   },
   "outputs": [
    {
     "data": {
      "text/plain": [
       "<seaborn.axisgrid.PairGrid at 0x7f1a97eba908>"
      ]
     },
     "execution_count": 53,
     "metadata": {},
     "output_type": "execute_result"
    },
    {
     "data": {
      "image/png": "[encoded data removed]",
      "text/plain": [
       "<Figure size 720x720 with 20 Axes>"
      ]
     },
     "metadata": {
      "needs_background": "light"
     },
     "output_type": "display_data"
    }
   ],
   "source": [
    "#Ejemplo de seaborn para generar scatter matrix\n",
    "import seaborn as sns\n",
    "\n",
    "\n",
    "sns.pairplot(df)"
   ]
  },
  {
   "cell_type": "markdown",
   "metadata": {
    "colab_type": "text",
    "id": "TGHO6Oc6kNBw"
   },
   "source": [
    "## API de Pandas\n",
    "\n",
    "Una vista a la API de Pandas.\n",
    "\n",
    "Nunca es el objetivo para aprender una biblioteca el conocer todos los métodos, pero si resulta recomendable saber donde se puede ver información. Con la práctica se va conociendo mejor todas las funcionalidades de  los métodos y se vuelve  más familiar el api.\n",
    "\n",
    "La información sobre el api de Pandas se puede encontrar [aquí]( http://pandas.pydata.org/pandas-docs/stable/api.html)."
   ]
  },
  {
   "cell_type": "markdown",
   "metadata": {
    "colab_type": "text",
    "id": "g9badUUrAMBD"
   },
   "source": [
    "# Basico 1: Carga de Datos y Exploración\n",
    "\n",
    "Primero se limpia el entorno y después de cargan las bibliotecas requeridas."
   ]
  },
  {
   "cell_type": "code",
   "execution_count": 54,
   "metadata": {
    "colab": {
     "base_uri": "https://localhost:8080/",
     "height": 35
    },
    "colab_type": "code",
    "id": "SxTPTle3jl91",
    "outputId": "08356bb4-e79c-4f86-a515-02b1419be9ee"
   },
   "outputs": [
    {
     "name": "stdout",
     "output_type": "stream",
     "text": [
      "\u001b[H\u001b[2J"
     ]
    }
   ],
   "source": [
    "%clear"
   ]
  },
  {
   "cell_type": "code",
   "execution_count": 55,
   "metadata": {
    "colab": {},
    "colab_type": "code",
    "id": "vm_xaTsOlQP5"
   },
   "outputs": [],
   "source": [
    "%reset -f"
   ]
  },
  {
   "cell_type": "code",
   "execution_count": 56,
   "metadata": {
    "colab": {
     "base_uri": "https://localhost:8080/",
     "height": 34
    },
    "colab_type": "code",
    "id": "izMKKSE1lR1z",
    "outputId": "115e2434-cbf8-4af5-9e34-b1370a60130e"
   },
   "outputs": [
    {
     "name": "stdout",
     "output_type": "stream",
     "text": [
      "Interactive namespace is empty.\n"
     ]
    }
   ],
   "source": [
    "%whos"
   ]
  },
  {
   "cell_type": "code",
   "execution_count": 57,
   "metadata": {
    "colab": {},
    "colab_type": "code",
    "id": "R15Tuh3olidW"
   },
   "outputs": [],
   "source": [
    "#Se cargan las bibliotecas que e usarán \n",
    "# además se modifica el entorno para trabajar\n",
    "%matplotlib inline\n",
    "\n",
    "import pandas as pd\n",
    "import numpy as np\n",
    "import matplotlib.pyplot as plt\n",
    "import seaborn as sns\n",
    "\n",
    "from IPython.core.interactiveshell import InteractiveShell\n",
    "\n",
    "InteractiveShell.ast_node_interactivity = \"all\"\n",
    " "
   ]
  },
  {
   "cell_type": "code",
   "execution_count": 58,
   "metadata": {
    "colab": {
     "base_uri": "https://localhost:8080/",
     "height": 223
    },
    "colab_type": "code",
    "id": "3LdiMVhSlzJz",
    "outputId": "96ebe0c4-633a-4967-a12f-c69130079812"
   },
   "outputs": [
    {
     "data": {
      "text/html": [
       "<div>\n",
       "<style scoped>\n",
       "    .dataframe tbody tr th:only-of-type {\n",
       "        vertical-align: middle;\n",
       "    }\n",
       "\n",
       "    .dataframe tbody tr th {\n",
       "        vertical-align: top;\n",
       "    }\n",
       "\n",
       "    .dataframe thead th {\n",
       "        text-align: right;\n",
       "    }\n",
       "</style>\n",
       "<table border=\"1\" class=\"dataframe\">\n",
       "  <thead>\n",
       "    <tr style=\"text-align: right;\">\n",
       "      <th></th>\n",
       "      <th>longitude</th>\n",
       "      <th>latitude</th>\n",
       "      <th>housing_median_age</th>\n",
       "      <th>total_rooms</th>\n",
       "      <th>total_bedrooms</th>\n",
       "      <th>population</th>\n",
       "      <th>households</th>\n",
       "      <th>median_income</th>\n",
       "      <th>median_house_value</th>\n",
       "    </tr>\n",
       "  </thead>\n",
       "  <tbody>\n",
       "    <tr>\n",
       "      <td>0</td>\n",
       "      <td>-114.31</td>\n",
       "      <td>34.19</td>\n",
       "      <td>15.0</td>\n",
       "      <td>5612.0</td>\n",
       "      <td>1283.0</td>\n",
       "      <td>1015.0</td>\n",
       "      <td>472.0</td>\n",
       "      <td>1.4936</td>\n",
       "      <td>66900.0</td>\n",
       "    </tr>\n",
       "    <tr>\n",
       "      <td>1</td>\n",
       "      <td>-114.47</td>\n",
       "      <td>34.40</td>\n",
       "      <td>19.0</td>\n",
       "      <td>7650.0</td>\n",
       "      <td>1901.0</td>\n",
       "      <td>1129.0</td>\n",
       "      <td>463.0</td>\n",
       "      <td>1.8200</td>\n",
       "      <td>80100.0</td>\n",
       "    </tr>\n",
       "    <tr>\n",
       "      <td>2</td>\n",
       "      <td>-114.56</td>\n",
       "      <td>33.69</td>\n",
       "      <td>17.0</td>\n",
       "      <td>720.0</td>\n",
       "      <td>174.0</td>\n",
       "      <td>333.0</td>\n",
       "      <td>117.0</td>\n",
       "      <td>1.6509</td>\n",
       "      <td>85700.0</td>\n",
       "    </tr>\n",
       "    <tr>\n",
       "      <td>3</td>\n",
       "      <td>-114.57</td>\n",
       "      <td>33.64</td>\n",
       "      <td>14.0</td>\n",
       "      <td>1501.0</td>\n",
       "      <td>337.0</td>\n",
       "      <td>515.0</td>\n",
       "      <td>226.0</td>\n",
       "      <td>3.1917</td>\n",
       "      <td>73400.0</td>\n",
       "    </tr>\n",
       "    <tr>\n",
       "      <td>4</td>\n",
       "      <td>-114.57</td>\n",
       "      <td>33.57</td>\n",
       "      <td>20.0</td>\n",
       "      <td>1454.0</td>\n",
       "      <td>326.0</td>\n",
       "      <td>624.0</td>\n",
       "      <td>262.0</td>\n",
       "      <td>1.9250</td>\n",
       "      <td>65500.0</td>\n",
       "    </tr>\n",
       "  </tbody>\n",
       "</table>\n",
       "</div>"
      ],
      "text/plain": [
       "   longitude  latitude  housing_median_age  total_rooms  total_bedrooms  \\\n",
       "0    -114.31     34.19                15.0       5612.0          1283.0   \n",
       "1    -114.47     34.40                19.0       7650.0          1901.0   \n",
       "2    -114.56     33.69                17.0        720.0           174.0   \n",
       "3    -114.57     33.64                14.0       1501.0           337.0   \n",
       "4    -114.57     33.57                20.0       1454.0           326.0   \n",
       "\n",
       "   population  households  median_income  median_house_value  \n",
       "0      1015.0       472.0         1.4936             66900.0  \n",
       "1      1129.0       463.0         1.8200             80100.0  \n",
       "2       333.0       117.0         1.6509             85700.0  \n",
       "3       515.0       226.0         3.1917             73400.0  \n",
       "4       624.0       262.0         1.9250             65500.0  "
      ]
     },
     "execution_count": 58,
     "metadata": {},
     "output_type": "execute_result"
    }
   ],
   "source": [
    "#Carga de datos\n",
    "data=pd.read_csv(\"../data/california_housing_train.csv\")\n",
    "data.head()"
   ]
  },
  {
   "cell_type": "markdown",
   "metadata": {
    "colab_type": "text",
    "id": "l7_TgFc7Chot"
   },
   "source": [
    "Las primeras preguntas que pueden hacerse sobre los datos son:\n",
    "\n",
    "* ¿Qué tamaño tiene la muestra?\n",
    "* ¿Qué tipo de variables se tienen?\n",
    "* ¿Tiene missing values?\n",
    "* ¿Cuáles son los nombres de las columnas?\n",
    "...etc.\n"
   ]
  },
  {
   "cell_type": "code",
   "execution_count": 59,
   "metadata": {
    "colab": {
     "base_uri": "https://localhost:8080/",
     "height": 343
    },
    "colab_type": "code",
    "id": "feq2nBMRNxxA",
    "outputId": "c8c032de-3045-405f-b9e1-f819e3257517"
   },
   "outputs": [
    {
     "data": {
      "text/plain": [
       "longitude             0\n",
       "latitude              0\n",
       "housing_median_age    0\n",
       "total_rooms           0\n",
       "total_bedrooms        0\n",
       "population            0\n",
       "households            0\n",
       "median_income         0\n",
       "median_house_value    0\n",
       "dtype: int64"
      ]
     },
     "execution_count": 59,
     "metadata": {},
     "output_type": "execute_result"
    },
    {
     "data": {
      "text/plain": [
       "longitude             float64\n",
       "latitude              float64\n",
       "housing_median_age    float64\n",
       "total_rooms           float64\n",
       "total_bedrooms        float64\n",
       "population            float64\n",
       "households            float64\n",
       "median_income         float64\n",
       "median_house_value    float64\n",
       "dtype: object"
      ]
     },
     "execution_count": 59,
     "metadata": {},
     "output_type": "execute_result"
    },
    {
     "data": {
      "text/plain": [
       "(17000, 9)"
      ]
     },
     "execution_count": 59,
     "metadata": {},
     "output_type": "execute_result"
    }
   ],
   "source": [
    "#Cuantos nulos tiene el DF?\n",
    "data.isnull().sum()\n",
    "#Qué tipo de variables se tiene\n",
    "data.dtypes\n",
    "#Cuál es el tamaño\n",
    "data.shape"
   ]
  },
  {
   "cell_type": "code",
   "execution_count": 60,
   "metadata": {
    "colab": {
     "base_uri": "https://localhost:8080/",
     "height": 206
    },
    "colab_type": "code",
    "id": "6SbJ0FsXORSR",
    "outputId": "75675bfa-ed6c-4b02-f0d4-d2497196ad1a"
   },
   "outputs": [
    {
     "data": {
      "text/plain": [
       "longitude             136000\n",
       "latitude              136000\n",
       "housing_median_age    136000\n",
       "total_rooms           136000\n",
       "total_bedrooms        136000\n",
       "population            136000\n",
       "households            136000\n",
       "median_income         136000\n",
       "median_house_value    136000\n",
       "dtype: int64"
      ]
     },
     "execution_count": 60,
     "metadata": {},
     "output_type": "execute_result"
    },
    {
     "name": "stdout",
     "output_type": "stream",
     "text": [
      "\n"
     ]
    },
    {
     "data": {
      "text/plain": [
       "1224000"
      ]
     },
     "execution_count": 60,
     "metadata": {},
     "output_type": "execute_result"
    }
   ],
   "source": [
    "#Cuanta memoria ocupa?\n",
    "data.memory_usage(index=False,deep=True)\n",
    "print()\n",
    "data.memory_usage(index=False,deep=True).sum()\n"
   ]
  },
  {
   "cell_type": "code",
   "execution_count": 61,
   "metadata": {
    "colab": {
     "base_uri": "https://localhost:8080/",
     "height": 257
    },
    "colab_type": "code",
    "id": "ZpOjlL8gDLrC",
    "outputId": "04331847-8de7-45bc-9a7a-7f5b0dbef976"
   },
   "outputs": [
    {
     "name": "stdout",
     "output_type": "stream",
     "text": [
      "<class 'pandas.core.frame.DataFrame'>\n",
      "RangeIndex: 17000 entries, 0 to 16999\n",
      "Data columns (total 9 columns):\n",
      "longitude             17000 non-null float64\n",
      "latitude              17000 non-null float64\n",
      "housing_median_age    17000 non-null float64\n",
      "total_rooms           17000 non-null float64\n",
      "total_bedrooms        17000 non-null float64\n",
      "population            17000 non-null float64\n",
      "households            17000 non-null float64\n",
      "median_income         17000 non-null float64\n",
      "median_house_value    17000 non-null float64\n",
      "dtypes: float64(9)\n",
      "memory usage: 1.2 MB\n"
     ]
    }
   ],
   "source": [
    "#Resumen general de los datos\n",
    "data.info()"
   ]
  },
  {
   "cell_type": "markdown",
   "metadata": {
    "colab_type": "text",
    "id": "7n0XwxiKDSuT"
   },
   "source": [
    "Lo mínimo que se puede hacer es ver algunos registros de la tabla o DataFrame y ver las estadísticas generales de los datos."
   ]
  },
  {
   "cell_type": "code",
   "execution_count": 62,
   "metadata": {
    "colab": {
     "base_uri": "https://localhost:8080/",
     "height": 501
    },
    "colab_type": "code",
    "id": "57VD_c0cl480",
    "outputId": "522de365-26a5-4e46-b844-3619747e0464"
   },
   "outputs": [
    {
     "data": {
      "text/html": [
       "<div>\n",
       "<style scoped>\n",
       "    .dataframe tbody tr th:only-of-type {\n",
       "        vertical-align: middle;\n",
       "    }\n",
       "\n",
       "    .dataframe tbody tr th {\n",
       "        vertical-align: top;\n",
       "    }\n",
       "\n",
       "    .dataframe thead th {\n",
       "        text-align: right;\n",
       "    }\n",
       "</style>\n",
       "<table border=\"1\" class=\"dataframe\">\n",
       "  <thead>\n",
       "    <tr style=\"text-align: right;\">\n",
       "      <th></th>\n",
       "      <th>longitude</th>\n",
       "      <th>latitude</th>\n",
       "      <th>housing_median_age</th>\n",
       "      <th>total_rooms</th>\n",
       "      <th>total_bedrooms</th>\n",
       "      <th>population</th>\n",
       "      <th>households</th>\n",
       "      <th>median_income</th>\n",
       "      <th>median_house_value</th>\n",
       "    </tr>\n",
       "  </thead>\n",
       "  <tbody>\n",
       "    <tr>\n",
       "      <td>0</td>\n",
       "      <td>-114.31</td>\n",
       "      <td>34.19</td>\n",
       "      <td>15.0</td>\n",
       "      <td>5612.0</td>\n",
       "      <td>1283.0</td>\n",
       "      <td>1015.0</td>\n",
       "      <td>472.0</td>\n",
       "      <td>1.4936</td>\n",
       "      <td>66900.0</td>\n",
       "    </tr>\n",
       "    <tr>\n",
       "      <td>1</td>\n",
       "      <td>-114.47</td>\n",
       "      <td>34.40</td>\n",
       "      <td>19.0</td>\n",
       "      <td>7650.0</td>\n",
       "      <td>1901.0</td>\n",
       "      <td>1129.0</td>\n",
       "      <td>463.0</td>\n",
       "      <td>1.8200</td>\n",
       "      <td>80100.0</td>\n",
       "    </tr>\n",
       "    <tr>\n",
       "      <td>2</td>\n",
       "      <td>-114.56</td>\n",
       "      <td>33.69</td>\n",
       "      <td>17.0</td>\n",
       "      <td>720.0</td>\n",
       "      <td>174.0</td>\n",
       "      <td>333.0</td>\n",
       "      <td>117.0</td>\n",
       "      <td>1.6509</td>\n",
       "      <td>85700.0</td>\n",
       "    </tr>\n",
       "    <tr>\n",
       "      <td>3</td>\n",
       "      <td>-114.57</td>\n",
       "      <td>33.64</td>\n",
       "      <td>14.0</td>\n",
       "      <td>1501.0</td>\n",
       "      <td>337.0</td>\n",
       "      <td>515.0</td>\n",
       "      <td>226.0</td>\n",
       "      <td>3.1917</td>\n",
       "      <td>73400.0</td>\n",
       "    </tr>\n",
       "    <tr>\n",
       "      <td>4</td>\n",
       "      <td>-114.57</td>\n",
       "      <td>33.57</td>\n",
       "      <td>20.0</td>\n",
       "      <td>1454.0</td>\n",
       "      <td>326.0</td>\n",
       "      <td>624.0</td>\n",
       "      <td>262.0</td>\n",
       "      <td>1.9250</td>\n",
       "      <td>65500.0</td>\n",
       "    </tr>\n",
       "  </tbody>\n",
       "</table>\n",
       "</div>"
      ],
      "text/plain": [
       "   longitude  latitude  housing_median_age  total_rooms  total_bedrooms  \\\n",
       "0    -114.31     34.19                15.0       5612.0          1283.0   \n",
       "1    -114.47     34.40                19.0       7650.0          1901.0   \n",
       "2    -114.56     33.69                17.0        720.0           174.0   \n",
       "3    -114.57     33.64                14.0       1501.0           337.0   \n",
       "4    -114.57     33.57                20.0       1454.0           326.0   \n",
       "\n",
       "   population  households  median_income  median_house_value  \n",
       "0      1015.0       472.0         1.4936             66900.0  \n",
       "1      1129.0       463.0         1.8200             80100.0  \n",
       "2       333.0       117.0         1.6509             85700.0  \n",
       "3       515.0       226.0         3.1917             73400.0  \n",
       "4       624.0       262.0         1.9250             65500.0  "
      ]
     },
     "execution_count": 62,
     "metadata": {},
     "output_type": "execute_result"
    },
    {
     "data": {
      "text/html": [
       "<div>\n",
       "<style scoped>\n",
       "    .dataframe tbody tr th:only-of-type {\n",
       "        vertical-align: middle;\n",
       "    }\n",
       "\n",
       "    .dataframe tbody tr th {\n",
       "        vertical-align: top;\n",
       "    }\n",
       "\n",
       "    .dataframe thead th {\n",
       "        text-align: right;\n",
       "    }\n",
       "</style>\n",
       "<table border=\"1\" class=\"dataframe\">\n",
       "  <thead>\n",
       "    <tr style=\"text-align: right;\">\n",
       "      <th></th>\n",
       "      <th>longitude</th>\n",
       "      <th>latitude</th>\n",
       "      <th>housing_median_age</th>\n",
       "      <th>total_rooms</th>\n",
       "      <th>total_bedrooms</th>\n",
       "      <th>population</th>\n",
       "      <th>households</th>\n",
       "      <th>median_income</th>\n",
       "      <th>median_house_value</th>\n",
       "    </tr>\n",
       "  </thead>\n",
       "  <tbody>\n",
       "    <tr>\n",
       "      <td>count</td>\n",
       "      <td>17000.000000</td>\n",
       "      <td>17000.000000</td>\n",
       "      <td>17000.000000</td>\n",
       "      <td>17000.000000</td>\n",
       "      <td>17000.000000</td>\n",
       "      <td>17000.000000</td>\n",
       "      <td>17000.000000</td>\n",
       "      <td>17000.000000</td>\n",
       "      <td>17000.000000</td>\n",
       "    </tr>\n",
       "    <tr>\n",
       "      <td>mean</td>\n",
       "      <td>-119.562108</td>\n",
       "      <td>35.625225</td>\n",
       "      <td>28.589353</td>\n",
       "      <td>2643.664412</td>\n",
       "      <td>539.410824</td>\n",
       "      <td>1429.573941</td>\n",
       "      <td>501.221941</td>\n",
       "      <td>3.883578</td>\n",
       "      <td>207300.912353</td>\n",
       "    </tr>\n",
       "    <tr>\n",
       "      <td>std</td>\n",
       "      <td>2.005166</td>\n",
       "      <td>2.137340</td>\n",
       "      <td>12.586937</td>\n",
       "      <td>2179.947071</td>\n",
       "      <td>421.499452</td>\n",
       "      <td>1147.852959</td>\n",
       "      <td>384.520841</td>\n",
       "      <td>1.908157</td>\n",
       "      <td>115983.764387</td>\n",
       "    </tr>\n",
       "    <tr>\n",
       "      <td>min</td>\n",
       "      <td>-124.350000</td>\n",
       "      <td>32.540000</td>\n",
       "      <td>1.000000</td>\n",
       "      <td>2.000000</td>\n",
       "      <td>1.000000</td>\n",
       "      <td>3.000000</td>\n",
       "      <td>1.000000</td>\n",
       "      <td>0.499900</td>\n",
       "      <td>14999.000000</td>\n",
       "    </tr>\n",
       "    <tr>\n",
       "      <td>25%</td>\n",
       "      <td>-121.790000</td>\n",
       "      <td>33.930000</td>\n",
       "      <td>18.000000</td>\n",
       "      <td>1462.000000</td>\n",
       "      <td>297.000000</td>\n",
       "      <td>790.000000</td>\n",
       "      <td>282.000000</td>\n",
       "      <td>2.566375</td>\n",
       "      <td>119400.000000</td>\n",
       "    </tr>\n",
       "    <tr>\n",
       "      <td>50%</td>\n",
       "      <td>-118.490000</td>\n",
       "      <td>34.250000</td>\n",
       "      <td>29.000000</td>\n",
       "      <td>2127.000000</td>\n",
       "      <td>434.000000</td>\n",
       "      <td>1167.000000</td>\n",
       "      <td>409.000000</td>\n",
       "      <td>3.544600</td>\n",
       "      <td>180400.000000</td>\n",
       "    </tr>\n",
       "    <tr>\n",
       "      <td>75%</td>\n",
       "      <td>-118.000000</td>\n",
       "      <td>37.720000</td>\n",
       "      <td>37.000000</td>\n",
       "      <td>3151.250000</td>\n",
       "      <td>648.250000</td>\n",
       "      <td>1721.000000</td>\n",
       "      <td>605.250000</td>\n",
       "      <td>4.767000</td>\n",
       "      <td>265000.000000</td>\n",
       "    </tr>\n",
       "    <tr>\n",
       "      <td>max</td>\n",
       "      <td>-114.310000</td>\n",
       "      <td>41.950000</td>\n",
       "      <td>52.000000</td>\n",
       "      <td>37937.000000</td>\n",
       "      <td>6445.000000</td>\n",
       "      <td>35682.000000</td>\n",
       "      <td>6082.000000</td>\n",
       "      <td>15.000100</td>\n",
       "      <td>500001.000000</td>\n",
       "    </tr>\n",
       "  </tbody>\n",
       "</table>\n",
       "</div>"
      ],
      "text/plain": [
       "          longitude      latitude  housing_median_age   total_rooms  \\\n",
       "count  17000.000000  17000.000000        17000.000000  17000.000000   \n",
       "mean    -119.562108     35.625225           28.589353   2643.664412   \n",
       "std        2.005166      2.137340           12.586937   2179.947071   \n",
       "min     -124.350000     32.540000            1.000000      2.000000   \n",
       "25%     -121.790000     33.930000           18.000000   1462.000000   \n",
       "50%     -118.490000     34.250000           29.000000   2127.000000   \n",
       "75%     -118.000000     37.720000           37.000000   3151.250000   \n",
       "max     -114.310000     41.950000           52.000000  37937.000000   \n",
       "\n",
       "       total_bedrooms    population    households  median_income  \\\n",
       "count    17000.000000  17000.000000  17000.000000   17000.000000   \n",
       "mean       539.410824   1429.573941    501.221941       3.883578   \n",
       "std        421.499452   1147.852959    384.520841       1.908157   \n",
       "min          1.000000      3.000000      1.000000       0.499900   \n",
       "25%        297.000000    790.000000    282.000000       2.566375   \n",
       "50%        434.000000   1167.000000    409.000000       3.544600   \n",
       "75%        648.250000   1721.000000    605.250000       4.767000   \n",
       "max       6445.000000  35682.000000   6082.000000      15.000100   \n",
       "\n",
       "       median_house_value  \n",
       "count        17000.000000  \n",
       "mean        207300.912353  \n",
       "std         115983.764387  \n",
       "min          14999.000000  \n",
       "25%         119400.000000  \n",
       "50%         180400.000000  \n",
       "75%         265000.000000  \n",
       "max         500001.000000  "
      ]
     },
     "execution_count": 62,
     "metadata": {},
     "output_type": "execute_result"
    }
   ],
   "source": [
    "data.head()\n",
    "data.describe()"
   ]
  },
  {
   "cell_type": "markdown",
   "metadata": {
    "colab_type": "text",
    "id": "Sd4h8ZiqDe1Z"
   },
   "source": [
    "En apariencia se pueden graficar las Latitudes y Longitudes."
   ]
  },
  {
   "cell_type": "code",
   "execution_count": 63,
   "metadata": {
    "colab": {
     "base_uri": "https://localhost:8080/",
     "height": 282
    },
    "colab_type": "code",
    "id": "_BZgeeW4m3pK",
    "outputId": "fd926c38-7465-425e-9857-8f21d4707e39"
   },
   "outputs": [
    {
     "data": {
      "text/plain": [
       "<matplotlib.collections.PathCollection at 0x7f1a957b52b0>"
      ]
     },
     "execution_count": 63,
     "metadata": {},
     "output_type": "execute_result"
    },
    {
     "data": {
      "image/png": "[encoded data removed]",
      "text/plain": [
       "<Figure size 432x288 with 1 Axes>"
      ]
     },
     "metadata": {
      "needs_background": "light"
     },
     "output_type": "display_data"
    }
   ],
   "source": [
    "plt.scatter(data.longitude,data.latitude)\n",
    "plt.show()"
   ]
  },
  {
   "cell_type": "code",
   "execution_count": 64,
   "metadata": {
    "colab": {
     "base_uri": "https://localhost:8080/",
     "height": 86
    },
    "colab_type": "code",
    "id": "bfPJ_H_mm-rs",
    "outputId": "47fd8895-faa2-4968-98b8-dd597bbb2244"
   },
   "outputs": [
    {
     "data": {
      "text/plain": [
       "Index(['longitude', 'latitude', 'housing_median_age', 'total_rooms',\n",
       "       'total_bedrooms', 'population', 'households', 'median_income',\n",
       "       'median_house_value'],\n",
       "      dtype='object')"
      ]
     },
     "execution_count": 64,
     "metadata": {},
     "output_type": "execute_result"
    }
   ],
   "source": [
    "data.columns"
   ]
  },
  {
   "cell_type": "code",
   "execution_count": 65,
   "metadata": {
    "colab": {
     "base_uri": "https://localhost:8080/",
     "height": 265
    },
    "colab_type": "code",
    "id": "KbPIyWZDnSsX",
    "outputId": "1cfd68b1-e9d1-4ba1-847f-ebfbd4c5bb9e",
    "scrolled": true
   },
   "outputs": [
    {
     "data": {
      "text/plain": [
       "<matplotlib.axes._subplots.AxesSubplot at 0x7f1a95bd3b00>"
      ]
     },
     "execution_count": 65,
     "metadata": {},
     "output_type": "execute_result"
    },
    {
     "data": {
      "image/png": "[encoded data removed]",
      "text/plain": [
       "<Figure size 432x288 with 2 Axes>"
      ]
     },
     "metadata": {
      "needs_background": "light"
     },
     "output_type": "display_data"
    }
   ],
   "source": [
    "data.plot.scatter(x='longitude', y='latitude',c='median_income',\n",
    "                  colormap='viridis')\n",
    "plt.show()"
   ]
  },
  {
   "cell_type": "code",
   "execution_count": 66,
   "metadata": {
    "colab": {
     "base_uri": "https://localhost:8080/",
     "height": 520
    },
    "colab_type": "code",
    "id": "KhpVPYMDShlL",
    "outputId": "bbd9987d-b67f-4324-c121-fc6c1f5b781c"
   },
   "outputs": [
    {
     "data": {
      "text/plain": [
       "<matplotlib.axes._subplots.AxesSubplot at 0x7f1a97ed3b70>"
      ]
     },
     "execution_count": 66,
     "metadata": {},
     "output_type": "execute_result"
    },
    {
     "data": {
      "text/plain": [
       "<matplotlib.axes._subplots.AxesSubplot at 0x7f1aabf77710>"
      ]
     },
     "execution_count": 66,
     "metadata": {},
     "output_type": "execute_result"
    },
    {
     "data": {
      "image/png": "[encoded data removed]",
      "text/plain": [
       "<Figure size 432x288 with 2 Axes>"
      ]
     },
     "metadata": {
      "needs_background": "light"
     },
     "output_type": "display_data"
    },
    {
     "data": {
      "image/png": "[encoded data removed]",
      "text/plain": [
       "<Figure size 432x288 with 2 Axes>"
      ]
     },
     "metadata": {
      "needs_background": "light"
     },
     "output_type": "display_data"
    }
   ],
   "source": [
    "data.plot.scatter(x='longitude', y='latitude',c='median_house_value',\n",
    "                  colormap='viridis')\n",
    "\n",
    "data.plot.scatter(x='longitude', y='latitude',c='population',\n",
    "                  colormap='viridis')\n",
    "\n"
   ]
  },
  {
   "cell_type": "markdown",
   "metadata": {
    "colab_type": "text",
    "id": "ocPllVzmDpfS"
   },
   "source": [
    "Quizás alguna variable parece relevante, se puede explorar sola."
   ]
  },
  {
   "cell_type": "code",
   "execution_count": 67,
   "metadata": {
    "colab": {
     "base_uri": "https://localhost:8080/",
     "height": 282
    },
    "colab_type": "code",
    "id": "okeFWjNZnxEA",
    "outputId": "b12c7735-fd6b-4b9d-cfc2-a9c7387d2bec"
   },
   "outputs": [
    {
     "data": {
      "text/plain": [
       "<matplotlib.axes._subplots.AxesSubplot at 0x7f1aac959278>"
      ]
     },
     "execution_count": 67,
     "metadata": {},
     "output_type": "execute_result"
    },
    {
     "data": {
      "image/png": "[encoded data removed]",
      "text/plain": [
       "<Figure size 432x288 with 1 Axes>"
      ]
     },
     "metadata": {
      "needs_background": "light"
     },
     "output_type": "display_data"
    }
   ],
   "source": [
    "data.housing_median_age.plot.hist(bins=40)"
   ]
  },
  {
   "cell_type": "code",
   "execution_count": 68,
   "metadata": {
    "colab": {
     "base_uri": "https://localhost:8080/",
     "height": 206
    },
    "colab_type": "code",
    "id": "udxaCWa5Q31g",
    "outputId": "efb12e8f-f31a-4814-b62b-e039e08aacfe"
   },
   "outputs": [
    {
     "data": {
      "text/plain": [
       "52.0    1052\n",
       "36.0     715\n",
       "35.0     692\n",
       "16.0     635\n",
       "17.0     576\n",
       "34.0     567\n",
       "33.0     513\n",
       "26.0     503\n",
       "18.0     478\n",
       "25.0     461\n",
       "Name: housing_median_age, dtype: int64"
      ]
     },
     "execution_count": 68,
     "metadata": {},
     "output_type": "execute_result"
    }
   ],
   "source": [
    "#¿Cuáles son los 10 años más frecuentes? \n",
    "data.housing_median_age.value_counts().head(10)"
   ]
  },
  {
   "cell_type": "code",
   "execution_count": 69,
   "metadata": {
    "colab": {
     "base_uri": "https://localhost:8080/",
     "height": 206
    },
    "colab_type": "code",
    "id": "trqw2v1feveH",
    "outputId": "c3ddead8-cb21-466d-b5ed-b661bd21674b"
   },
   "outputs": [
    {
     "data": {
      "text/plain": [
       "52.0    1052\n",
       "36.0     715\n",
       "35.0     692\n",
       "16.0     635\n",
       "17.0     576\n",
       "34.0     567\n",
       "33.0     513\n",
       "26.0     503\n",
       "18.0     478\n",
       "25.0     461\n",
       "Name: housing_median_age, dtype: int64"
      ]
     },
     "execution_count": 69,
     "metadata": {},
     "output_type": "execute_result"
    }
   ],
   "source": [
    "data['housing_median_age'].value_counts().head(10)"
   ]
  },
  {
   "cell_type": "code",
   "execution_count": 70,
   "metadata": {
    "colab": {
     "base_uri": "https://localhost:8080/",
     "height": 287
    },
    "colab_type": "code",
    "id": "PH8k2XPCPX7j",
    "outputId": "c49a7963-9ad3-4978-96d9-0507e2e0a054"
   },
   "outputs": [
    {
     "data": {
      "text/plain": [
       "<matplotlib.axes._subplots.AxesSubplot at 0x7f1aae993208>"
      ]
     },
     "execution_count": 70,
     "metadata": {},
     "output_type": "execute_result"
    },
    {
     "data": {
      "image/png": "[encoded data removed]",
      "text/plain": [
       "<Figure size 432x288 with 1 Axes>"
      ]
     },
     "metadata": {
      "needs_background": "light"
     },
     "output_type": "display_data"
    }
   ],
   "source": [
    "data[['total_rooms','total_bedrooms']].plot.hist(bins=40,alpha=0.5)"
   ]
  },
  {
   "cell_type": "code",
   "execution_count": 71,
   "metadata": {
    "colab": {
     "base_uri": "https://localhost:8080/",
     "height": 188
    },
    "colab_type": "code",
    "id": "2nUaB6_9P0c8",
    "outputId": "7bea9d2a-da10-4e8d-ad96-fa2716576040"
   },
   "outputs": [
    {
     "data": {
      "text/plain": [
       "longitude            -0.304003\n",
       "latitude              0.471801\n",
       "housing_median_age    0.064894\n",
       "total_rooms           4.002730\n",
       "total_bedrooms        3.322637\n",
       "population            5.187212\n",
       "households            3.342668\n",
       "median_income         1.626693\n",
       "median_house_value    0.973037\n",
       "dtype: float64"
      ]
     },
     "execution_count": 71,
     "metadata": {},
     "output_type": "execute_result"
    }
   ],
   "source": [
    "data.skew()"
   ]
  },
  {
   "cell_type": "code",
   "execution_count": 72,
   "metadata": {
    "colab": {
     "base_uri": "https://localhost:8080/",
     "height": 282
    },
    "colab_type": "code",
    "id": "ZmxiXVgfGzgt",
    "outputId": "956f7f93-dd17-46ee-8e4d-54cb5942a174"
   },
   "outputs": [
    {
     "data": {
      "text/plain": [
       "<matplotlib.collections.PathCollection at 0x7f1a958b3ef0>"
      ]
     },
     "execution_count": 72,
     "metadata": {},
     "output_type": "execute_result"
    },
    {
     "data": {
      "image/png": "[encoded data removed]",
      "text/plain": [
       "<Figure size 432x288 with 1 Axes>"
      ]
     },
     "metadata": {
      "needs_background": "light"
     },
     "output_type": "display_data"
    }
   ],
   "source": [
    "data2=data[['total_rooms','total_bedrooms']].sum(axis=1)\n",
    "plt.scatter(data2,data['median_income'])"
   ]
  },
  {
   "cell_type": "markdown",
   "metadata": {
    "colab_type": "text",
    "id": "-F4Yia8E7auW"
   },
   "source": [
    "Los ejemplos anteriores tratan de ilustrar como se puede ir trabajando con Pandas y las gráficas en Matplotlib para explorar y conocer nuestros datos. No es un análisis exhaustivo o concluyente, es solo ilustrivo."
   ]
  },
  {
   "cell_type": "markdown",
   "metadata": {
    "colab_type": "text",
    "id": "zpSY8-ZPhloH"
   },
   "source": [
    "## Notas finales:\n",
    "\n",
    "El entorno de trabajo de Jupyter y Pandas, permite hacer una manipulación de datos fácil y rápida. Algunos de los comandos auxiliales de Jupyter ( Ipython) resultan sumamente útiles para trabajar con datos y supervisar nuestro entorno.\n",
    "\n",
    "Pandas cuenta con 2 objetos principales, Series y  DataFrames. Sobre ellos se tienen ciertas funcionalidades estandar, como seleccion, modificacion , transformación, etc. Resulta importante siempre recordar que un objeto en pandas esta formado por un conjunto de índices y de valores, los cuales son arrays.\n",
    "\n",
    "## Referencias y Créditos:\n",
    "\n",
    "Libros:\n",
    "\n",
    "* [Python for Data Analysis: Data Wrangling with Pandas, NumPy, and IPython](https://www.amazon.com/Python-Data-Analysis-Wrangling-IPython/dp/1449319793)\n",
    "* [Data Science from Scratch: First Principles with Python](https://www.amazon.com/Data-Science-Scratch-Principles-Python/dp/149190142X)\n",
    "* [Python Data Science Handbook: Essential Tools for Working with Data](https://www.amazon.com/Python-Data-Science-Handbook-Essential/dp/1491912057)\n",
    "\n",
    "Sitios Web:\n",
    "\n",
    "*  https://pandas.pydata.org/pandas-docs/stable/10min.html\n"
   ]
  }
 ],
 "metadata": {
  "colab": {
   "collapsed_sections": [],
   "name": "Lesson_2.ipynb",
   "provenance": [],
   "version": "0.3.2"
  },
  "kernelspec": {
   "display_name": "Python 3",
   "language": "python",
   "name": "python3"
  },
  "language_info": {
   "codemirror_mode": {
    "name": "ipython",
    "version": 3
   },
   "file_extension": ".py",
   "mimetype": "text/x-python",
   "name": "python",
   "nbconvert_exporter": "python",
   "pygments_lexer": "ipython3",
   "version": "3.6.6"
  }
 },
 "nbformat": 4,
 "nbformat_minor": 1
}
