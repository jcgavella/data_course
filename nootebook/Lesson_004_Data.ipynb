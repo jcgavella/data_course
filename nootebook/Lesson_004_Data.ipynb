{
 "cells": [
  {
   "cell_type": "markdown",
   "metadata": {
    "colab_type": "text",
    "id": "c6POZFLsMfmz"
   },
   "source": [
    "# Analizando Datos con PyData \n",
    "\n",
    "* Objetivos de la Lección.\n",
    "* Revisión de los DataFrame y Series en Pandas.\n",
    "* SQL y Pandas.\n",
    "\n",
    "\n",
    "## Básico 2: Limpieza, manipulación y transformación.\n",
    "\n",
    "* Inspección de los Datos.\n",
    "* Selección y manipulación de los datos.\n",
    "* Transformación de los datos."
   ]
  },
  {
   "cell_type": "markdown",
   "metadata": {
    "colab_type": "text",
    "id": "TPYaWwUeLr4j"
   },
   "source": [
    "## Objetivos de la Lección\n",
    "\n",
    "* Revisar aspectos de las Series y los DataFrames.\n",
    "* Relación entre SQL y programación en Pandas.\n",
    "* Depuración y manipulación de los datos."
   ]
  },
  {
   "cell_type": "markdown",
   "metadata": {
    "colab_type": "text",
    "id": "4qJeh9cfdogo"
   },
   "source": [
    "## Revisión de los DataFrame y Series en Pandas\n",
    "\n",
    "Como se mencionó en la lección 2, la relación entre Series y DataFrames(DF) es directa. Cada columna dentro de un DF es una columna. Y como es de esperar, una Series solo tienen un conjunto de índices, mientras los DF cuentan con dos.\n",
    "\n",
    "Una de las ideas de Pandas, es poder usar las Series o los DF, de modo similar a como se pueden usar las estructuras de datos en Python. Con esto me refiero a respetar **\"la idiomático\" ** de Python. El siguiente código es un ejemplo:\n",
    "  \n"
   ]
  },
  {
   "cell_type": "code",
   "execution_count": 1,
   "metadata": {
    "colab": {
     "base_uri": "https://localhost:8080/",
     "height": 52
    },
    "colab_type": "code",
    "id": "zC4E1svXhVZK",
    "outputId": "2ff92750-4bbb-4081-bc7e-88c4c1326213"
   },
   "outputs": [
    {
     "name": "stdout",
     "output_type": "stream",
     "text": [
      "True\n",
      "False\n"
     ]
    }
   ],
   "source": [
    "#Se define una lista y se presenta si un elemento está o no en la lista.\n",
    "a=[1,2,3,5]\n",
    "\n",
    "print(3 in a)\n",
    "print(3 not in a)"
   ]
  },
  {
   "cell_type": "code",
   "execution_count": 2,
   "metadata": {
    "colab": {
     "base_uri": "https://localhost:8080/",
     "height": 34
    },
    "colab_type": "code",
    "id": "SHE28OsBhXIB",
    "outputId": "b4319079-ba5b-4be0-db9b-ffd6d64caf7a"
   },
   "outputs": [
    {
     "name": "stdout",
     "output_type": "stream",
     "text": [
      "False\n"
     ]
    }
   ],
   "source": [
    "#Se define un diccionario y se pregunta si está en sus claves un elemento.\n",
    "b={'a':1,'b':2,'c':3}\n",
    "\n",
    "print('d' in b)"
   ]
  },
  {
   "cell_type": "markdown",
   "metadata": {
    "colab_type": "text",
    "id": "HTJuA_qdiNqQ"
   },
   "source": [
    "Los dos ejemplos anteriores son ejemplos de código estándar en Python. Tomando esta idea, lo que se hizo en Pandas fue respetar o conservar ese tipo de programación."
   ]
  },
  {
   "cell_type": "code",
   "execution_count": 3,
   "metadata": {
    "colab": {
     "base_uri": "https://localhost:8080/"
    },
    "colab_type": "code",
    "id": "QT3y5T4ahZUr",
    "outputId": "9ed73d47-e882-40b5-9d7a-fef8d3c8bf7f"
   },
   "outputs": [
    {
     "data": {
      "text/plain": [
       "a   -0.249136\n",
       "b    0.207630\n",
       "c    0.135516\n",
       "d    1.022161\n",
       "e   -0.589782\n",
       "dtype: float64"
      ]
     },
     "execution_count": 3,
     "metadata": {},
     "output_type": "execute_result"
    }
   ],
   "source": [
    "import pandas as pd\n",
    "import numpy as np\n",
    "s = pd.Series(np.random.randn(5), index=['a', 'b', 'c', 'd', 'e'])\n",
    "\n",
    "s"
   ]
  },
  {
   "cell_type": "code",
   "execution_count": 4,
   "metadata": {
    "colab": {
     "base_uri": "https://localhost:8080/",
     "height": 34
    },
    "colab_type": "code",
    "id": "IPxwO3sTimnr",
    "outputId": "3453fd3d-582f-412a-c0a7-e4aeb3ff9ebf"
   },
   "outputs": [
    {
     "name": "stdout",
     "output_type": "stream",
     "text": [
      "True\n"
     ]
    }
   ],
   "source": [
    "print('e' in s)"
   ]
  },
  {
   "cell_type": "code",
   "execution_count": 5,
   "metadata": {
    "colab": {
     "base_uri": "https://localhost:8080/",
     "height": 52
    },
    "colab_type": "code",
    "id": "et0QpJH2jq7Z",
    "outputId": "2d474902-31c2-4c3b-b860-5944b9784f24"
   },
   "outputs": [
    {
     "name": "stdout",
     "output_type": "stream",
     "text": [
      "False\n",
      "False\n"
     ]
    }
   ],
   "source": [
    "print(1 in s.values)\n",
    "print(1 in s)"
   ]
  },
  {
   "cell_type": "markdown",
   "metadata": {
    "colab_type": "text",
    "id": "ESVkeLFVOdPx"
   },
   "source": [
    "Algunos conocimientos básicos respecto a las Series, serían:\n",
    "\n",
    "* Cómo definir una serie.\n",
    "* Como operar sobre una serie.\n"
   ]
  },
  {
   "cell_type": "code",
   "execution_count": 6,
   "metadata": {
    "colab": {
     "base_uri": "https://localhost:8080/",
     "height": 86
    },
    "colab_type": "code",
    "id": "amqXBV1GiyjJ",
    "outputId": "53fc62d9-8780-4431-bf36-85369a19c644"
   },
   "outputs": [
    {
     "data": {
      "text/plain": [
       "b    1\n",
       "a    0\n",
       "c    2\n",
       "dtype: int64"
      ]
     },
     "execution_count": 6,
     "metadata": {},
     "output_type": "execute_result"
    }
   ],
   "source": [
    "#Definición de una serie desde un diccionario\n",
    "d = {'b' : 1, 'a' : 0, 'c' : 2}\n",
    "\n",
    "pd.Series(d)"
   ]
  },
  {
   "cell_type": "code",
   "execution_count": 7,
   "metadata": {
    "colab": {},
    "colab_type": "code",
    "id": "_evZS9emj6nn"
   },
   "outputs": [
    {
     "data": {
      "text/plain": [
       "a   -0.249136\n",
       "b    0.207630\n",
       "dtype: float64"
      ]
     },
     "execution_count": 7,
     "metadata": {},
     "output_type": "execute_result"
    }
   ],
   "source": [
    "#Selección de elementos de una serie.\n",
    "s[0]\n",
    "\n",
    "s[:2]"
   ]
  },
  {
   "cell_type": "markdown",
   "metadata": {
    "colab_type": "text",
    "id": "cJLGtSiIPEj2"
   },
   "source": [
    "Las series cuentan con un conjunto de funciones definidas sobre ellas, entre las que se encuentran las funciones estadísticas estandar. Una de las propiedades para operar sobre las series, es similar a la operación sobre los arrays de Numpay, soportan pedirles condiciones lógicas."
   ]
  },
  {
   "cell_type": "code",
   "execution_count": 8,
   "metadata": {},
   "outputs": [
    {
     "name": "stdout",
     "output_type": "stream",
     "text": [
      "a   -0.249136\n",
      "b    0.207630\n",
      "c    0.135516\n",
      "d    1.022161\n",
      "e   -0.589782\n",
      "dtype: float64\n",
      "0.1355163153794471\n"
     ]
    }
   ],
   "source": [
    "print(s)\n",
    "print(s.median())"
   ]
  },
  {
   "cell_type": "code",
   "execution_count": 9,
   "metadata": {
    "colab": {
     "base_uri": "https://localhost:8080/",
     "height": 68
    },
    "colab_type": "code",
    "id": "wZ2IFdfPkPW8",
    "outputId": "006903eb-2375-4635-b8c8-e3da58d7dc28"
   },
   "outputs": [
    {
     "data": {
      "text/plain": [
       "b    0.207630\n",
       "d    1.022161\n",
       "dtype: float64"
      ]
     },
     "execution_count": 9,
     "metadata": {},
     "output_type": "execute_result"
    }
   ],
   "source": [
    "#Se pide tomar todos los elementos que cumplen una condición\n",
    "s[s > s.median()]"
   ]
  },
  {
   "cell_type": "markdown",
   "metadata": {
    "colab_type": "text",
    "id": "00Yrojk6PsaD"
   },
   "source": [
    "También se puede operar sobre los índices de la serie para seleccionar algunas elemetos."
   ]
  },
  {
   "cell_type": "code",
   "execution_count": 10,
   "metadata": {
    "colab": {
     "base_uri": "https://localhost:8080/",
     "height": 85
    },
    "colab_type": "code",
    "id": "BDpT3q7PkfUh",
    "outputId": "6c7db2fe-5750-4972-a9de-26f1f7654305"
   },
   "outputs": [
    {
     "data": {
      "text/plain": [
       "e   -0.589782\n",
       "d    1.022161\n",
       "b    0.207630\n",
       "dtype: float64"
      ]
     },
     "execution_count": 10,
     "metadata": {},
     "output_type": "execute_result"
    }
   ],
   "source": [
    "#Operación de selección por posición\n",
    "s[[4, 3, 1]]"
   ]
  },
  {
   "cell_type": "markdown",
   "metadata": {
    "colab_type": "text",
    "id": "tOp329JaP5ZI"
   },
   "source": [
    "Se mostró que cuentan las series con ciertas funciones (ejemplo s.mean), pero es posible que la función que necesitamos no se encuentra en Pandas, pero si en Numpy. Así que se puede aplicar la función directamente y solo afecta los valores."
   ]
  },
  {
   "cell_type": "code",
   "execution_count": 11,
   "metadata": {
    "colab": {
     "base_uri": "https://localhost:8080/",
     "height": 119
    },
    "colab_type": "code",
    "id": "KDRjM2r4kj_3",
    "outputId": "2cfe1ed8-6c2d-4aa7-fc7a-a47a7ae00413"
   },
   "outputs": [
    {
     "data": {
      "text/plain": [
       "a    2.277356\n",
       "b    2.323135\n",
       "c    2.316046\n",
       "d    2.399908\n",
       "e    2.241796\n",
       "dtype: float64"
      ]
     },
     "execution_count": 11,
     "metadata": {},
     "output_type": "execute_result"
    }
   ],
   "source": [
    "#Aplicación de una función de numpy sobre los valores de la serie\n",
    "np.log(s+10)"
   ]
  },
  {
   "cell_type": "markdown",
   "metadata": {
    "colab_type": "text",
    "id": "hNFCVld0QQK7"
   },
   "source": [
    "Como objetos en Python, también la series soportan operciones entre ellas."
   ]
  },
  {
   "cell_type": "code",
   "execution_count": 12,
   "metadata": {
    "colab": {
     "base_uri": "https://localhost:8080/",
     "height": 119
    },
    "colab_type": "code",
    "id": "HYYXhna8koOp",
    "outputId": "3eac3706-b99e-4bea-8947-2ea4acf4249d"
   },
   "outputs": [
    {
     "data": {
      "text/plain": [
       "a   -0.498272\n",
       "b    0.415259\n",
       "c    0.271033\n",
       "d    2.044323\n",
       "e   -1.179565\n",
       "dtype: float64"
      ]
     },
     "execution_count": 12,
     "metadata": {},
     "output_type": "execute_result"
    }
   ],
   "source": [
    "#Suma de dos series\n",
    "s+s"
   ]
  },
  {
   "cell_type": "code",
   "execution_count": 13,
   "metadata": {
    "colab": {
     "base_uri": "https://localhost:8080/",
     "height": 119
    },
    "colab_type": "code",
    "id": "vp3OaDpQk4gW",
    "outputId": "a64cc949-2f3e-4f00-8aee-811ea36331a3"
   },
   "outputs": [
    {
     "data": {
      "text/plain": [
       "a   -0.498272\n",
       "b    0.415259\n",
       "c    0.271033\n",
       "d    2.044323\n",
       "e   -1.179565\n",
       "dtype: float64"
      ]
     },
     "execution_count": 13,
     "metadata": {},
     "output_type": "execute_result"
    }
   ],
   "source": [
    "#Multiplicación de la serie\n",
    "s*2"
   ]
  },
  {
   "cell_type": "markdown",
   "metadata": {
    "colab_type": "text",
    "id": "kTjzXZNxQnls"
   },
   "source": [
    "Como se mencionó en la lección 2 se mencionó la relación entre los elementos de Pandas y Numpy, el siguiente código es un ejemplo de operación sobre las series vs sobre el arreglo de la serie."
   ]
  },
  {
   "cell_type": "code",
   "execution_count": 14,
   "metadata": {
    "colab": {
     "base_uri": "https://localhost:8080/",
     "height": 34
    },
    "colab_type": "code",
    "id": "F-pZRlU9k5o0",
    "outputId": "6337eff1-aa31-44b6-c84d-064ff582b97f"
   },
   "outputs": [
    {
     "data": {
      "text/plain": [
       "array([0.20762956, 0.13551632, 1.0221613 ])"
      ]
     },
     "execution_count": 14,
     "metadata": {},
     "output_type": "execute_result"
    }
   ],
   "source": [
    "#Se opera sobre el arreglo\n",
    "s.values[s>s.values.mean()]\n",
    "\n"
   ]
  },
  {
   "cell_type": "code",
   "execution_count": 15,
   "metadata": {
    "colab": {
     "base_uri": "https://localhost:8080/",
     "height": 68
    },
    "colab_type": "code",
    "id": "2TIe9qjolENH",
    "outputId": "e694f1b3-268b-4c83-d3a6-73a6a6d51766"
   },
   "outputs": [
    {
     "data": {
      "text/plain": [
       "b    0.207630\n",
       "c    0.135516\n",
       "d    1.022161\n",
       "dtype: float64"
      ]
     },
     "execution_count": 15,
     "metadata": {},
     "output_type": "execute_result"
    }
   ],
   "source": [
    "#Se realiza la misma operación, pero sobre la serie.\n",
    "s[s>s.mean()]"
   ]
  },
  {
   "cell_type": "markdown",
   "metadata": {
    "colab_type": "text",
    "id": "qVPVRlg_RET3"
   },
   "source": [
    "En la lección 2, se mencionó que todos los elementos de la serie, deben de ser homogéneos. Es decir, deben de ser del mismo tipo. ¿Qué sucede con el siguiente ejemplo?"
   ]
  },
  {
   "cell_type": "code",
   "execution_count": 16,
   "metadata": {
    "colab": {
     "base_uri": "https://localhost:8080/",
     "height": 119
    },
    "colab_type": "code",
    "id": "NI7-6IxnlWbK",
    "outputId": "23406f53-0d62-4341-b06d-e26e5cdb3f5b"
   },
   "outputs": [
    {
     "data": {
      "text/plain": [
       "0                7\n",
       "1       Heisenberg\n",
       "2             3.14\n",
       "3      -1789710578\n",
       "4    Happy Eating!\n",
       "dtype: object"
      ]
     },
     "execution_count": 16,
     "metadata": {},
     "output_type": "execute_result"
    }
   ],
   "source": [
    "#Se define la serie\n",
    "s = pd.Series([7, 'Heisenberg', 3.14, -1789710578, 'Happy Eating!'])\n",
    "s"
   ]
  },
  {
   "cell_type": "markdown",
   "metadata": {
    "colab_type": "text",
    "id": "3JlVaydZRTfp"
   },
   "source": [
    "Se observa que el tipo de dato es np.object. Esto implica que todos los elementos de la serie son del mismo tipo, pero si se revisa cada elemento de la serie se observará que cada elemento tiene un tipo diferente."
   ]
  },
  {
   "cell_type": "code",
   "execution_count": 17,
   "metadata": {
    "colab": {
     "base_uri": "https://localhost:8080/",
     "height": 102
    },
    "colab_type": "code",
    "id": "3DWmq83_lye3",
    "outputId": "c16a9212-381b-4ba7-847d-0fdbdcb55854"
   },
   "outputs": [
    {
     "name": "stdout",
     "output_type": "stream",
     "text": [
      "<class 'int'>\n",
      "<class 'str'>\n",
      "<class 'float'>\n",
      "<class 'int'>\n",
      "<class 'str'>\n"
     ]
    }
   ],
   "source": [
    "for element in s:\n",
    "    print(type(element))"
   ]
  },
  {
   "cell_type": "markdown",
   "metadata": {
    "colab_type": "text",
    "id": "0nDqjo1jRsiU"
   },
   "source": [
    "Conclusión, la serie pese a ser definida con elementos de tipo diferente para Pandas es intepretado como un mismo tipo (para ser homogeneo) y tiene por lo cual las propiedades del tipo que se definió. Además, el dato relevante sobre las series es que por estructura cuenta con un conjunto de índices y de valores. \n",
    "\n",
    "### DataFrames\n",
    "\n",
    "El siguiente ejemplo define un DF desde un diccionario."
   ]
  },
  {
   "cell_type": "code",
   "execution_count": 18,
   "metadata": {
    "colab": {},
    "colab_type": "code",
    "id": "qzPV77hfl0hn"
   },
   "outputs": [],
   "source": [
    "#Definición del diccionario\n",
    "d = {\n",
    "    'one' : pd.Series([1., 2., 3.], index=['a', 'b', 'c']),\n",
    "    'two' : pd.Series([1., 2., 3., 4.], index=['a', 'b', 'c', 'd'])\n",
    "    }"
   ]
  },
  {
   "cell_type": "code",
   "execution_count": 19,
   "metadata": {
    "colab": {
     "base_uri": "https://localhost:8080/",
     "height": 153
    },
    "colab_type": "code",
    "id": "UTBxwjX8o92B",
    "outputId": "b0254206-dc32-4df9-e06f-5cc35acff6c6"
   },
   "outputs": [
    {
     "data": {
      "text/plain": [
       "{'one': a    1.0\n",
       " b    2.0\n",
       " c    3.0\n",
       " dtype: float64,\n",
       " 'two': a    1.0\n",
       " b    2.0\n",
       " c    3.0\n",
       " d    4.0\n",
       " dtype: float64}"
      ]
     },
     "execution_count": 19,
     "metadata": {},
     "output_type": "execute_result"
    }
   ],
   "source": [
    "d"
   ]
  },
  {
   "cell_type": "code",
   "execution_count": 20,
   "metadata": {
    "colab": {
     "base_uri": "https://localhost:8080/",
     "height": 173
    },
    "colab_type": "code",
    "id": "ejpb00Wco-iN",
    "outputId": "f240d380-c40b-4d3a-bd1e-0fcc6c48d358"
   },
   "outputs": [
    {
     "data": {
      "text/html": [
       "<div>\n",
       "<style scoped>\n",
       "    .dataframe tbody tr th:only-of-type {\n",
       "        vertical-align: middle;\n",
       "    }\n",
       "\n",
       "    .dataframe tbody tr th {\n",
       "        vertical-align: top;\n",
       "    }\n",
       "\n",
       "    .dataframe thead th {\n",
       "        text-align: right;\n",
       "    }\n",
       "</style>\n",
       "<table border=\"1\" class=\"dataframe\">\n",
       "  <thead>\n",
       "    <tr style=\"text-align: right;\">\n",
       "      <th></th>\n",
       "      <th>one</th>\n",
       "      <th>two</th>\n",
       "    </tr>\n",
       "  </thead>\n",
       "  <tbody>\n",
       "    <tr>\n",
       "      <th>a</th>\n",
       "      <td>1.0</td>\n",
       "      <td>1.0</td>\n",
       "    </tr>\n",
       "    <tr>\n",
       "      <th>b</th>\n",
       "      <td>2.0</td>\n",
       "      <td>2.0</td>\n",
       "    </tr>\n",
       "    <tr>\n",
       "      <th>c</th>\n",
       "      <td>3.0</td>\n",
       "      <td>3.0</td>\n",
       "    </tr>\n",
       "    <tr>\n",
       "      <th>d</th>\n",
       "      <td>NaN</td>\n",
       "      <td>4.0</td>\n",
       "    </tr>\n",
       "  </tbody>\n",
       "</table>\n",
       "</div>"
      ],
      "text/plain": [
       "   one  two\n",
       "a  1.0  1.0\n",
       "b  2.0  2.0\n",
       "c  3.0  3.0\n",
       "d  NaN  4.0"
      ]
     },
     "execution_count": 20,
     "metadata": {},
     "output_type": "execute_result"
    }
   ],
   "source": [
    "#Definción del DF\n",
    "df = pd.DataFrame(d)\n",
    "df"
   ]
  },
  {
   "cell_type": "markdown",
   "metadata": {
    "colab_type": "text",
    "id": "tOuETZ7WS6wK"
   },
   "source": [
    "Pero no es el único modo de definir un DF."
   ]
  },
  {
   "cell_type": "code",
   "execution_count": 21,
   "metadata": {
    "colab": {},
    "colab_type": "code",
    "id": "SF9Bs73VpFlL"
   },
   "outputs": [],
   "source": [
    "#Definicion de un DF desde un diccionario con listas.\n",
    "d = {\n",
    "    'one' : [1., 2., 3., 4.],\n",
    "    'two' : [4., 3., 2., 1.]\n",
    "    }"
   ]
  },
  {
   "cell_type": "code",
   "execution_count": 22,
   "metadata": {
    "colab": {
     "base_uri": "https://localhost:8080/",
     "height": 173
    },
    "colab_type": "code",
    "id": "f8nL4mJJpMw4",
    "outputId": "a138e917-0dba-4e69-ecd2-83cc69aa1804"
   },
   "outputs": [
    {
     "data": {
      "text/html": [
       "<div>\n",
       "<style scoped>\n",
       "    .dataframe tbody tr th:only-of-type {\n",
       "        vertical-align: middle;\n",
       "    }\n",
       "\n",
       "    .dataframe tbody tr th {\n",
       "        vertical-align: top;\n",
       "    }\n",
       "\n",
       "    .dataframe thead th {\n",
       "        text-align: right;\n",
       "    }\n",
       "</style>\n",
       "<table border=\"1\" class=\"dataframe\">\n",
       "  <thead>\n",
       "    <tr style=\"text-align: right;\">\n",
       "      <th></th>\n",
       "      <th>one</th>\n",
       "      <th>two</th>\n",
       "    </tr>\n",
       "  </thead>\n",
       "  <tbody>\n",
       "    <tr>\n",
       "      <th>0</th>\n",
       "      <td>1.0</td>\n",
       "      <td>4.0</td>\n",
       "    </tr>\n",
       "    <tr>\n",
       "      <th>1</th>\n",
       "      <td>2.0</td>\n",
       "      <td>3.0</td>\n",
       "    </tr>\n",
       "    <tr>\n",
       "      <th>2</th>\n",
       "      <td>3.0</td>\n",
       "      <td>2.0</td>\n",
       "    </tr>\n",
       "    <tr>\n",
       "      <th>3</th>\n",
       "      <td>4.0</td>\n",
       "      <td>1.0</td>\n",
       "    </tr>\n",
       "  </tbody>\n",
       "</table>\n",
       "</div>"
      ],
      "text/plain": [
       "   one  two\n",
       "0  1.0  4.0\n",
       "1  2.0  3.0\n",
       "2  3.0  2.0\n",
       "3  4.0  1.0"
      ]
     },
     "execution_count": 22,
     "metadata": {},
     "output_type": "execute_result"
    }
   ],
   "source": [
    "#Definción del DF\n",
    "pd.DataFrame(d)"
   ]
  },
  {
   "cell_type": "code",
   "execution_count": 23,
   "metadata": {
    "colab": {
     "base_uri": "https://localhost:8080/",
     "height": 111
    },
    "colab_type": "code",
    "id": "hwL1Wl6WpOxf",
    "outputId": "d3b4fa92-c391-4851-88ed-a23633cb8dab"
   },
   "outputs": [
    {
     "data": {
      "text/html": [
       "<div>\n",
       "<style scoped>\n",
       "    .dataframe tbody tr th:only-of-type {\n",
       "        vertical-align: middle;\n",
       "    }\n",
       "\n",
       "    .dataframe tbody tr th {\n",
       "        vertical-align: top;\n",
       "    }\n",
       "\n",
       "    .dataframe thead th {\n",
       "        text-align: right;\n",
       "    }\n",
       "</style>\n",
       "<table border=\"1\" class=\"dataframe\">\n",
       "  <thead>\n",
       "    <tr style=\"text-align: right;\">\n",
       "      <th></th>\n",
       "      <th>a</th>\n",
       "      <th>b</th>\n",
       "      <th>c</th>\n",
       "    </tr>\n",
       "  </thead>\n",
       "  <tbody>\n",
       "    <tr>\n",
       "      <th>0</th>\n",
       "      <td>1</td>\n",
       "      <td>2</td>\n",
       "      <td>NaN</td>\n",
       "    </tr>\n",
       "    <tr>\n",
       "      <th>1</th>\n",
       "      <td>5</td>\n",
       "      <td>10</td>\n",
       "      <td>20.0</td>\n",
       "    </tr>\n",
       "  </tbody>\n",
       "</table>\n",
       "</div>"
      ],
      "text/plain": [
       "   a   b     c\n",
       "0  1   2   NaN\n",
       "1  5  10  20.0"
      ]
     },
     "execution_count": 23,
     "metadata": {},
     "output_type": "execute_result"
    }
   ],
   "source": [
    "#Definición desde una lista de Diccionarios\n",
    "data2 = [\n",
    "          {'a': 1, 'b': 2}, \n",
    "          {'a': 5, 'b': 10, 'c': 20}\n",
    "        ]\n",
    "\n",
    "\n",
    "pd.DataFrame(data2)"
   ]
  },
  {
   "cell_type": "code",
   "execution_count": 24,
   "metadata": {
    "colab": {
     "base_uri": "https://localhost:8080/",
     "height": 173
    },
    "colab_type": "code",
    "id": "MkvBOsPPphEu",
    "outputId": "b1094aae-77fb-479d-9968-0f377f489562"
   },
   "outputs": [
    {
     "data": {
      "text/html": [
       "<div>\n",
       "<style scoped>\n",
       "    .dataframe tbody tr th:only-of-type {\n",
       "        vertical-align: middle;\n",
       "    }\n",
       "\n",
       "    .dataframe tbody tr th {\n",
       "        vertical-align: top;\n",
       "    }\n",
       "\n",
       "    .dataframe thead tr th {\n",
       "        text-align: left;\n",
       "    }\n",
       "</style>\n",
       "<table border=\"1\" class=\"dataframe\">\n",
       "  <thead>\n",
       "    <tr>\n",
       "      <th></th>\n",
       "      <th></th>\n",
       "      <th colspan=\"3\" halign=\"left\">a</th>\n",
       "      <th colspan=\"2\" halign=\"left\">b</th>\n",
       "    </tr>\n",
       "    <tr>\n",
       "      <th></th>\n",
       "      <th></th>\n",
       "      <th>b</th>\n",
       "      <th>a</th>\n",
       "      <th>c</th>\n",
       "      <th>a</th>\n",
       "      <th>b</th>\n",
       "    </tr>\n",
       "  </thead>\n",
       "  <tbody>\n",
       "    <tr>\n",
       "      <th rowspan=\"3\" valign=\"top\">A</th>\n",
       "      <th>B</th>\n",
       "      <td>1.0</td>\n",
       "      <td>4.0</td>\n",
       "      <td>5.0</td>\n",
       "      <td>8.0</td>\n",
       "      <td>10.0</td>\n",
       "    </tr>\n",
       "    <tr>\n",
       "      <th>C</th>\n",
       "      <td>2.0</td>\n",
       "      <td>3.0</td>\n",
       "      <td>6.0</td>\n",
       "      <td>7.0</td>\n",
       "      <td>NaN</td>\n",
       "    </tr>\n",
       "    <tr>\n",
       "      <th>D</th>\n",
       "      <td>NaN</td>\n",
       "      <td>NaN</td>\n",
       "      <td>NaN</td>\n",
       "      <td>NaN</td>\n",
       "      <td>9.0</td>\n",
       "    </tr>\n",
       "  </tbody>\n",
       "</table>\n",
       "</div>"
      ],
      "text/plain": [
       "       a              b      \n",
       "       b    a    c    a     b\n",
       "A B  1.0  4.0  5.0  8.0  10.0\n",
       "  C  2.0  3.0  6.0  7.0   NaN\n",
       "  D  NaN  NaN  NaN  NaN   9.0"
      ]
     },
     "execution_count": 24,
     "metadata": {},
     "output_type": "execute_result"
    }
   ],
   "source": [
    "#Definicióndesde un diccionario con keys como tuplas\n",
    "pd.DataFrame({\n",
    "              ('a', 'b'): {('A', 'B'): 1, ('A', 'C'): 2},\n",
    "              ('a', 'a'): {('A', 'C'): 3, ('A', 'B'): 4},\n",
    "              ('a', 'c'): {('A', 'B'): 5, ('A', 'C'): 6},\n",
    "              ('b', 'a'): {('A', 'C'): 7, ('A', 'B'): 8},\n",
    "              ('b', 'b'): {('A', 'D'): 9, ('A', 'B'): 10}\n",
    "             })\n",
    "    "
   ]
  },
  {
   "cell_type": "markdown",
   "metadata": {
    "colab_type": "text",
    "id": "K7eAMbSryl-t"
   },
   "source": [
    "Como se comentó en la lección 2, se puede hacer elección de columnas tanto por posición (número de columna) como por localización (nombre), debido a que los valores de los DataFrame son arreglos en Numpy, se operan con las columnas con operaciones vectorizadas."
   ]
  },
  {
   "cell_type": "code",
   "execution_count": 25,
   "metadata": {
    "colab": {
     "base_uri": "https://localhost:8080/",
     "height": 102
    },
    "colab_type": "code",
    "id": "wkveFx23pqtd",
    "outputId": "6a7e860f-03c6-450d-a72f-71273ff32b7e"
   },
   "outputs": [
    {
     "data": {
      "text/plain": [
       "a    1.0\n",
       "b    2.0\n",
       "c    3.0\n",
       "d    NaN\n",
       "Name: one, dtype: float64"
      ]
     },
     "execution_count": 25,
     "metadata": {},
     "output_type": "execute_result"
    }
   ],
   "source": [
    "df['one']"
   ]
  },
  {
   "cell_type": "code",
   "execution_count": 26,
   "metadata": {
    "colab": {
     "base_uri": "https://localhost:8080/",
     "height": 173
    },
    "colab_type": "code",
    "id": "kd7Nhg87p3lV",
    "outputId": "61687abd-7c08-4729-eaec-6ef85ada98f3"
   },
   "outputs": [
    {
     "data": {
      "text/html": [
       "<div>\n",
       "<style scoped>\n",
       "    .dataframe tbody tr th:only-of-type {\n",
       "        vertical-align: middle;\n",
       "    }\n",
       "\n",
       "    .dataframe tbody tr th {\n",
       "        vertical-align: top;\n",
       "    }\n",
       "\n",
       "    .dataframe thead th {\n",
       "        text-align: right;\n",
       "    }\n",
       "</style>\n",
       "<table border=\"1\" class=\"dataframe\">\n",
       "  <thead>\n",
       "    <tr style=\"text-align: right;\">\n",
       "      <th></th>\n",
       "      <th>one</th>\n",
       "      <th>two</th>\n",
       "      <th>three</th>\n",
       "    </tr>\n",
       "  </thead>\n",
       "  <tbody>\n",
       "    <tr>\n",
       "      <th>a</th>\n",
       "      <td>1.0</td>\n",
       "      <td>1.0</td>\n",
       "      <td>1.0</td>\n",
       "    </tr>\n",
       "    <tr>\n",
       "      <th>b</th>\n",
       "      <td>2.0</td>\n",
       "      <td>2.0</td>\n",
       "      <td>4.0</td>\n",
       "    </tr>\n",
       "    <tr>\n",
       "      <th>c</th>\n",
       "      <td>3.0</td>\n",
       "      <td>3.0</td>\n",
       "      <td>9.0</td>\n",
       "    </tr>\n",
       "    <tr>\n",
       "      <th>d</th>\n",
       "      <td>NaN</td>\n",
       "      <td>4.0</td>\n",
       "      <td>NaN</td>\n",
       "    </tr>\n",
       "  </tbody>\n",
       "</table>\n",
       "</div>"
      ],
      "text/plain": [
       "   one  two  three\n",
       "a  1.0  1.0    1.0\n",
       "b  2.0  2.0    4.0\n",
       "c  3.0  3.0    9.0\n",
       "d  NaN  4.0    NaN"
      ]
     },
     "execution_count": 26,
     "metadata": {},
     "output_type": "execute_result"
    }
   ],
   "source": [
    "#Definición de una nueva columna \n",
    "df['three'] = df['one'] * df['two']\n",
    "\n",
    "df"
   ]
  },
  {
   "cell_type": "code",
   "execution_count": 27,
   "metadata": {
    "colab": {
     "base_uri": "https://localhost:8080/",
     "height": 173
    },
    "colab_type": "code",
    "id": "Y457Nge4qCK7",
    "outputId": "4c3b3f96-3409-4a01-e157-3b552b5a7212"
   },
   "outputs": [
    {
     "data": {
      "text/html": [
       "<div>\n",
       "<style scoped>\n",
       "    .dataframe tbody tr th:only-of-type {\n",
       "        vertical-align: middle;\n",
       "    }\n",
       "\n",
       "    .dataframe tbody tr th {\n",
       "        vertical-align: top;\n",
       "    }\n",
       "\n",
       "    .dataframe thead th {\n",
       "        text-align: right;\n",
       "    }\n",
       "</style>\n",
       "<table border=\"1\" class=\"dataframe\">\n",
       "  <thead>\n",
       "    <tr style=\"text-align: right;\">\n",
       "      <th></th>\n",
       "      <th>one</th>\n",
       "      <th>two</th>\n",
       "      <th>three</th>\n",
       "      <th>flag</th>\n",
       "    </tr>\n",
       "  </thead>\n",
       "  <tbody>\n",
       "    <tr>\n",
       "      <th>a</th>\n",
       "      <td>1.0</td>\n",
       "      <td>1.0</td>\n",
       "      <td>1.0</td>\n",
       "      <td>False</td>\n",
       "    </tr>\n",
       "    <tr>\n",
       "      <th>b</th>\n",
       "      <td>2.0</td>\n",
       "      <td>2.0</td>\n",
       "      <td>4.0</td>\n",
       "      <td>False</td>\n",
       "    </tr>\n",
       "    <tr>\n",
       "      <th>c</th>\n",
       "      <td>3.0</td>\n",
       "      <td>3.0</td>\n",
       "      <td>9.0</td>\n",
       "      <td>True</td>\n",
       "    </tr>\n",
       "    <tr>\n",
       "      <th>d</th>\n",
       "      <td>NaN</td>\n",
       "      <td>4.0</td>\n",
       "      <td>NaN</td>\n",
       "      <td>False</td>\n",
       "    </tr>\n",
       "  </tbody>\n",
       "</table>\n",
       "</div>"
      ],
      "text/plain": [
       "   one  two  three   flag\n",
       "a  1.0  1.0    1.0  False\n",
       "b  2.0  2.0    4.0  False\n",
       "c  3.0  3.0    9.0   True\n",
       "d  NaN  4.0    NaN  False"
      ]
     },
     "execution_count": 27,
     "metadata": {},
     "output_type": "execute_result"
    }
   ],
   "source": [
    "#Definición de una nueva columna pero desde una condicion lógica\n",
    "df['flag'] = df['one'] > 2\n",
    "\n",
    "df"
   ]
  },
  {
   "cell_type": "code",
   "execution_count": 28,
   "metadata": {
    "colab": {
     "base_uri": "https://localhost:8080/",
     "height": 173
    },
    "colab_type": "code",
    "id": "PJxbyLOlqFZe",
    "outputId": "85827581-467f-469b-9044-0058ddccf991"
   },
   "outputs": [
    {
     "data": {
      "text/html": [
       "<div>\n",
       "<style scoped>\n",
       "    .dataframe tbody tr th:only-of-type {\n",
       "        vertical-align: middle;\n",
       "    }\n",
       "\n",
       "    .dataframe tbody tr th {\n",
       "        vertical-align: top;\n",
       "    }\n",
       "\n",
       "    .dataframe thead th {\n",
       "        text-align: right;\n",
       "    }\n",
       "</style>\n",
       "<table border=\"1\" class=\"dataframe\">\n",
       "  <thead>\n",
       "    <tr style=\"text-align: right;\">\n",
       "      <th></th>\n",
       "      <th>one</th>\n",
       "      <th>two</th>\n",
       "      <th>three</th>\n",
       "      <th>flag</th>\n",
       "      <th>one_trunc</th>\n",
       "    </tr>\n",
       "  </thead>\n",
       "  <tbody>\n",
       "    <tr>\n",
       "      <th>a</th>\n",
       "      <td>1.0</td>\n",
       "      <td>1.0</td>\n",
       "      <td>1.0</td>\n",
       "      <td>False</td>\n",
       "      <td>1.0</td>\n",
       "    </tr>\n",
       "    <tr>\n",
       "      <th>b</th>\n",
       "      <td>2.0</td>\n",
       "      <td>2.0</td>\n",
       "      <td>4.0</td>\n",
       "      <td>False</td>\n",
       "      <td>2.0</td>\n",
       "    </tr>\n",
       "    <tr>\n",
       "      <th>c</th>\n",
       "      <td>3.0</td>\n",
       "      <td>3.0</td>\n",
       "      <td>9.0</td>\n",
       "      <td>True</td>\n",
       "      <td>NaN</td>\n",
       "    </tr>\n",
       "    <tr>\n",
       "      <th>d</th>\n",
       "      <td>NaN</td>\n",
       "      <td>4.0</td>\n",
       "      <td>NaN</td>\n",
       "      <td>False</td>\n",
       "      <td>NaN</td>\n",
       "    </tr>\n",
       "  </tbody>\n",
       "</table>\n",
       "</div>"
      ],
      "text/plain": [
       "   one  two  three   flag  one_trunc\n",
       "a  1.0  1.0    1.0  False        1.0\n",
       "b  2.0  2.0    4.0  False        2.0\n",
       "c  3.0  3.0    9.0   True        NaN\n",
       "d  NaN  4.0    NaN  False        NaN"
      ]
     },
     "execution_count": 28,
     "metadata": {},
     "output_type": "execute_result"
    }
   ],
   "source": [
    "#Selección de filas de una columna y definición de una columna\n",
    "df['one_trunc'] = df['one'][:2]\n",
    "df"
   ]
  },
  {
   "cell_type": "markdown",
   "metadata": {
    "colab_type": "text",
    "id": "cTrYWw1XzS1u"
   },
   "source": [
    "Los ejemplos anteriores mostraron que cuando se crea una nueva columna, esta se agrega al final del DF. Pero puede presentarse la situación donde necesitamos agregar una columan en alguna posición intermedia. El siguiente código es un ejemplo para hacer esa operación."
   ]
  },
  {
   "cell_type": "code",
   "execution_count": 29,
   "metadata": {},
   "outputs": [],
   "source": [
    "#df.insert?"
   ]
  },
  {
   "cell_type": "code",
   "execution_count": 30,
   "metadata": {
    "colab": {
     "base_uri": "https://localhost:8080/",
     "height": 173
    },
    "colab_type": "code",
    "id": "G5CyhWHuqQVZ",
    "outputId": "08206488-bcc4-446d-d6a8-39bd4466a33e"
   },
   "outputs": [
    {
     "data": {
      "text/html": [
       "<div>\n",
       "<style scoped>\n",
       "    .dataframe tbody tr th:only-of-type {\n",
       "        vertical-align: middle;\n",
       "    }\n",
       "\n",
       "    .dataframe tbody tr th {\n",
       "        vertical-align: top;\n",
       "    }\n",
       "\n",
       "    .dataframe thead th {\n",
       "        text-align: right;\n",
       "    }\n",
       "</style>\n",
       "<table border=\"1\" class=\"dataframe\">\n",
       "  <thead>\n",
       "    <tr style=\"text-align: right;\">\n",
       "      <th></th>\n",
       "      <th>one</th>\n",
       "      <th>bar</th>\n",
       "      <th>two</th>\n",
       "      <th>three</th>\n",
       "      <th>flag</th>\n",
       "      <th>one_trunc</th>\n",
       "    </tr>\n",
       "  </thead>\n",
       "  <tbody>\n",
       "    <tr>\n",
       "      <th>a</th>\n",
       "      <td>1.0</td>\n",
       "      <td>0.5</td>\n",
       "      <td>1.0</td>\n",
       "      <td>1.0</td>\n",
       "      <td>False</td>\n",
       "      <td>1.0</td>\n",
       "    </tr>\n",
       "    <tr>\n",
       "      <th>b</th>\n",
       "      <td>2.0</td>\n",
       "      <td>1.0</td>\n",
       "      <td>2.0</td>\n",
       "      <td>4.0</td>\n",
       "      <td>False</td>\n",
       "      <td>2.0</td>\n",
       "    </tr>\n",
       "    <tr>\n",
       "      <th>c</th>\n",
       "      <td>3.0</td>\n",
       "      <td>1.5</td>\n",
       "      <td>3.0</td>\n",
       "      <td>9.0</td>\n",
       "      <td>True</td>\n",
       "      <td>NaN</td>\n",
       "    </tr>\n",
       "    <tr>\n",
       "      <th>d</th>\n",
       "      <td>NaN</td>\n",
       "      <td>NaN</td>\n",
       "      <td>4.0</td>\n",
       "      <td>NaN</td>\n",
       "      <td>False</td>\n",
       "      <td>NaN</td>\n",
       "    </tr>\n",
       "  </tbody>\n",
       "</table>\n",
       "</div>"
      ],
      "text/plain": [
       "   one  bar  two  three   flag  one_trunc\n",
       "a  1.0  0.5  1.0    1.0  False        1.0\n",
       "b  2.0  1.0  2.0    4.0  False        2.0\n",
       "c  3.0  1.5  3.0    9.0   True        NaN\n",
       "d  NaN  NaN  4.0    NaN  False        NaN"
      ]
     },
     "execution_count": 30,
     "metadata": {},
     "output_type": "execute_result"
    }
   ],
   "source": [
    "#Se inserta una columna\n",
    "df.insert(1, 'bar', df['one']/2.0)\n",
    "df "
   ]
  },
  {
   "cell_type": "code",
   "execution_count": 31,
   "metadata": {},
   "outputs": [],
   "source": [
    "#df.drop?\n",
    "#df.drop(['bar'],axis=1,inplace=True)"
   ]
  },
  {
   "cell_type": "markdown",
   "metadata": {
    "colab_type": "text",
    "id": "yUyyNkTOzm5g"
   },
   "source": [
    "Los valores booleanos y los NaN cuando se opera con el DF respetan la operación como elementos de Numpy."
   ]
  },
  {
   "cell_type": "code",
   "execution_count": 32,
   "metadata": {
    "colab": {
     "base_uri": "https://localhost:8080/",
     "height": 173
    },
    "colab_type": "code",
    "id": "2-rmcH37qWfZ",
    "outputId": "2959151f-85fe-44de-b828-09db477984ac"
   },
   "outputs": [
    {
     "data": {
      "text/html": [
       "<div>\n",
       "<style scoped>\n",
       "    .dataframe tbody tr th:only-of-type {\n",
       "        vertical-align: middle;\n",
       "    }\n",
       "\n",
       "    .dataframe tbody tr th {\n",
       "        vertical-align: top;\n",
       "    }\n",
       "\n",
       "    .dataframe thead th {\n",
       "        text-align: right;\n",
       "    }\n",
       "</style>\n",
       "<table border=\"1\" class=\"dataframe\">\n",
       "  <thead>\n",
       "    <tr style=\"text-align: right;\">\n",
       "      <th></th>\n",
       "      <th>one</th>\n",
       "      <th>bar</th>\n",
       "      <th>two</th>\n",
       "      <th>three</th>\n",
       "      <th>flag</th>\n",
       "      <th>one_trunc</th>\n",
       "    </tr>\n",
       "  </thead>\n",
       "  <tbody>\n",
       "    <tr>\n",
       "      <th>a</th>\n",
       "      <td>5.0</td>\n",
       "      <td>2.5</td>\n",
       "      <td>5.0</td>\n",
       "      <td>5.0</td>\n",
       "      <td>0</td>\n",
       "      <td>5.0</td>\n",
       "    </tr>\n",
       "    <tr>\n",
       "      <th>b</th>\n",
       "      <td>10.0</td>\n",
       "      <td>5.0</td>\n",
       "      <td>10.0</td>\n",
       "      <td>20.0</td>\n",
       "      <td>0</td>\n",
       "      <td>10.0</td>\n",
       "    </tr>\n",
       "    <tr>\n",
       "      <th>c</th>\n",
       "      <td>15.0</td>\n",
       "      <td>7.5</td>\n",
       "      <td>15.0</td>\n",
       "      <td>45.0</td>\n",
       "      <td>5</td>\n",
       "      <td>NaN</td>\n",
       "    </tr>\n",
       "    <tr>\n",
       "      <th>d</th>\n",
       "      <td>NaN</td>\n",
       "      <td>NaN</td>\n",
       "      <td>20.0</td>\n",
       "      <td>NaN</td>\n",
       "      <td>0</td>\n",
       "      <td>NaN</td>\n",
       "    </tr>\n",
       "  </tbody>\n",
       "</table>\n",
       "</div>"
      ],
      "text/plain": [
       "    one  bar   two  three  flag  one_trunc\n",
       "a   5.0  2.5   5.0    5.0     0        5.0\n",
       "b  10.0  5.0  10.0   20.0     0       10.0\n",
       "c  15.0  7.5  15.0   45.0     5        NaN\n",
       "d   NaN  NaN  20.0    NaN     0        NaN"
      ]
     },
     "execution_count": 32,
     "metadata": {},
     "output_type": "execute_result"
    }
   ],
   "source": [
    "#Operación vectorizda sobre el DF\n",
    "df*5"
   ]
  },
  {
   "cell_type": "markdown",
   "metadata": {
    "colab_type": "text",
    "id": "SEN_bhxPzyDJ"
   },
   "source": [
    "Similar al ejemplo en las Series, los DF cuantan con funciones definidas sobre ellos, pero si se necesita alguna función en Numpy puede ser aplicada sobre todo el DF."
   ]
  },
  {
   "cell_type": "code",
   "execution_count": 33,
   "metadata": {
    "colab": {
     "base_uri": "https://localhost:8080/",
     "height": 173
    },
    "colab_type": "code",
    "id": "6tr55zgmqidc",
    "outputId": "89a31c24-acd6-411a-ea25-9ed5e3975781"
   },
   "outputs": [
    {
     "data": {
      "text/html": [
       "<div>\n",
       "<style scoped>\n",
       "    .dataframe tbody tr th:only-of-type {\n",
       "        vertical-align: middle;\n",
       "    }\n",
       "\n",
       "    .dataframe tbody tr th {\n",
       "        vertical-align: top;\n",
       "    }\n",
       "\n",
       "    .dataframe thead th {\n",
       "        text-align: right;\n",
       "    }\n",
       "</style>\n",
       "<table border=\"1\" class=\"dataframe\">\n",
       "  <thead>\n",
       "    <tr style=\"text-align: right;\">\n",
       "      <th></th>\n",
       "      <th>one</th>\n",
       "      <th>bar</th>\n",
       "      <th>two</th>\n",
       "      <th>three</th>\n",
       "      <th>one_trunc</th>\n",
       "    </tr>\n",
       "  </thead>\n",
       "  <tbody>\n",
       "    <tr>\n",
       "      <th>a</th>\n",
       "      <td>2.718282</td>\n",
       "      <td>1.648721</td>\n",
       "      <td>2.718282</td>\n",
       "      <td>2.718282</td>\n",
       "      <td>2.718282</td>\n",
       "    </tr>\n",
       "    <tr>\n",
       "      <th>b</th>\n",
       "      <td>7.389056</td>\n",
       "      <td>2.718282</td>\n",
       "      <td>7.389056</td>\n",
       "      <td>54.598150</td>\n",
       "      <td>7.389056</td>\n",
       "    </tr>\n",
       "    <tr>\n",
       "      <th>c</th>\n",
       "      <td>20.085537</td>\n",
       "      <td>4.481689</td>\n",
       "      <td>20.085537</td>\n",
       "      <td>8103.083928</td>\n",
       "      <td>NaN</td>\n",
       "    </tr>\n",
       "    <tr>\n",
       "      <th>d</th>\n",
       "      <td>NaN</td>\n",
       "      <td>NaN</td>\n",
       "      <td>54.598150</td>\n",
       "      <td>NaN</td>\n",
       "      <td>NaN</td>\n",
       "    </tr>\n",
       "  </tbody>\n",
       "</table>\n",
       "</div>"
      ],
      "text/plain": [
       "         one       bar        two        three  one_trunc\n",
       "a   2.718282  1.648721   2.718282     2.718282   2.718282\n",
       "b   7.389056  2.718282   7.389056    54.598150   7.389056\n",
       "c  20.085537  4.481689  20.085537  8103.083928        NaN\n",
       "d        NaN       NaN  54.598150          NaN        NaN"
      ]
     },
     "execution_count": 33,
     "metadata": {},
     "output_type": "execute_result"
    }
   ],
   "source": [
    "np.exp(df.drop(labels=['flag'],axis=1))"
   ]
  },
  {
   "cell_type": "code",
   "execution_count": 34,
   "metadata": {},
   "outputs": [
    {
     "name": "stdout",
     "output_type": "stream",
     "text": [
      "OJO\n"
     ]
    },
    {
     "data": {
      "text/html": [
       "<div>\n",
       "<style scoped>\n",
       "    .dataframe tbody tr th:only-of-type {\n",
       "        vertical-align: middle;\n",
       "    }\n",
       "\n",
       "    .dataframe tbody tr th {\n",
       "        vertical-align: top;\n",
       "    }\n",
       "\n",
       "    .dataframe thead th {\n",
       "        text-align: right;\n",
       "    }\n",
       "</style>\n",
       "<table border=\"1\" class=\"dataframe\">\n",
       "  <thead>\n",
       "    <tr style=\"text-align: right;\">\n",
       "      <th></th>\n",
       "      <th>one</th>\n",
       "      <th>bar</th>\n",
       "      <th>two</th>\n",
       "      <th>three</th>\n",
       "      <th>flag</th>\n",
       "      <th>one_trunc</th>\n",
       "    </tr>\n",
       "  </thead>\n",
       "  <tbody>\n",
       "    <tr>\n",
       "      <th>a</th>\n",
       "      <td>1.0</td>\n",
       "      <td>0.5</td>\n",
       "      <td>1.0</td>\n",
       "      <td>1.0</td>\n",
       "      <td>False</td>\n",
       "      <td>1.0</td>\n",
       "    </tr>\n",
       "    <tr>\n",
       "      <th>b</th>\n",
       "      <td>2.0</td>\n",
       "      <td>1.0</td>\n",
       "      <td>2.0</td>\n",
       "      <td>4.0</td>\n",
       "      <td>False</td>\n",
       "      <td>2.0</td>\n",
       "    </tr>\n",
       "    <tr>\n",
       "      <th>c</th>\n",
       "      <td>3.0</td>\n",
       "      <td>1.5</td>\n",
       "      <td>3.0</td>\n",
       "      <td>9.0</td>\n",
       "      <td>True</td>\n",
       "      <td>NaN</td>\n",
       "    </tr>\n",
       "    <tr>\n",
       "      <th>d</th>\n",
       "      <td>NaN</td>\n",
       "      <td>NaN</td>\n",
       "      <td>4.0</td>\n",
       "      <td>NaN</td>\n",
       "      <td>False</td>\n",
       "      <td>NaN</td>\n",
       "    </tr>\n",
       "  </tbody>\n",
       "</table>\n",
       "</div>"
      ],
      "text/plain": [
       "   one  bar  two  three   flag  one_trunc\n",
       "a  1.0  0.5  1.0    1.0  False        1.0\n",
       "b  2.0  1.0  2.0    4.0  False        2.0\n",
       "c  3.0  1.5  3.0    9.0   True        NaN\n",
       "d  NaN  NaN  4.0    NaN  False        NaN"
      ]
     },
     "execution_count": 34,
     "metadata": {},
     "output_type": "execute_result"
    }
   ],
   "source": [
    "print(\"OJO\")\n",
    "\n",
    "df"
   ]
  },
  {
   "cell_type": "markdown",
   "metadata": {
    "colab_type": "text",
    "id": "mJSLH9U_0FAA"
   },
   "source": [
    "Los ejemplos anteriores son ejemplos sencillos sobre Series y DataFrame, pero en la mayoría de situaciones tanto las series como los DF serán creados desde un archivo o fuente donde tomaremos datos. Los siguientes ejemplos son pequeñas muestras del trabajo normal con la creación de DF."
   ]
  },
  {
   "cell_type": "code",
   "execution_count": 35,
   "metadata": {
    "colab": {
     "base_uri": "https://localhost:8080/",
     "height": 264
    },
    "colab_type": "code",
    "id": "G7Qg-vuMqtS4",
    "outputId": "01c9cefb-d876-4d8c-c670-27ab697007fc"
   },
   "outputs": [
    {
     "data": {
      "text/html": [
       "<div>\n",
       "<style scoped>\n",
       "    .dataframe tbody tr th:only-of-type {\n",
       "        vertical-align: middle;\n",
       "    }\n",
       "\n",
       "    .dataframe tbody tr th {\n",
       "        vertical-align: top;\n",
       "    }\n",
       "\n",
       "    .dataframe thead th {\n",
       "        text-align: right;\n",
       "    }\n",
       "</style>\n",
       "<table border=\"1\" class=\"dataframe\">\n",
       "  <thead>\n",
       "    <tr style=\"text-align: right;\">\n",
       "      <th></th>\n",
       "      <th>rank</th>\n",
       "      <th>sandwich</th>\n",
       "      <th>restaurant</th>\n",
       "      <th>description</th>\n",
       "      <th>price</th>\n",
       "      <th>address</th>\n",
       "      <th>city</th>\n",
       "      <th>phone</th>\n",
       "      <th>website</th>\n",
       "      <th>full_address</th>\n",
       "      <th>formatted_address</th>\n",
       "      <th>lat</th>\n",
       "      <th>lng</th>\n",
       "    </tr>\n",
       "  </thead>\n",
       "  <tbody>\n",
       "    <tr>\n",
       "      <th>0</th>\n",
       "      <td>1</td>\n",
       "      <td>BLT</td>\n",
       "      <td>Old Oak Tap</td>\n",
       "      <td>The B is applewood smoked&amp;mdash;nice and snapp...</td>\n",
       "      <td>$10</td>\n",
       "      <td>2109 W. Chicago Ave.</td>\n",
       "      <td>Chicago</td>\n",
       "      <td>773-772-0406</td>\n",
       "      <td>theoldoaktap.com</td>\n",
       "      <td>2109 W. Chicago Ave., Chicago</td>\n",
       "      <td>2109 West Chicago Avenue, Chicago, IL 60622, USA</td>\n",
       "      <td>41.895734</td>\n",
       "      <td>-87.679960</td>\n",
       "    </tr>\n",
       "    <tr>\n",
       "      <th>1</th>\n",
       "      <td>2</td>\n",
       "      <td>Fried Bologna</td>\n",
       "      <td>Au Cheval</td>\n",
       "      <td>Thought your bologna-eating days had retired w...</td>\n",
       "      <td>$9</td>\n",
       "      <td>800 W. Randolph St.</td>\n",
       "      <td>Chicago</td>\n",
       "      <td>312-929-4580</td>\n",
       "      <td>aucheval.tumblr.com</td>\n",
       "      <td>800 W. Randolph St., Chicago</td>\n",
       "      <td>800 West Randolph Street, Chicago, IL 60607, USA</td>\n",
       "      <td>41.884672</td>\n",
       "      <td>-87.647754</td>\n",
       "    </tr>\n",
       "    <tr>\n",
       "      <th>2</th>\n",
       "      <td>3</td>\n",
       "      <td>Woodland Mushroom</td>\n",
       "      <td>Xoco</td>\n",
       "      <td>Leave it to Rick Bayless and crew to come up w...</td>\n",
       "      <td>$9.50.</td>\n",
       "      <td>445 N. Clark St.</td>\n",
       "      <td>Chicago</td>\n",
       "      <td>312-334-3688</td>\n",
       "      <td>rickbayless.com</td>\n",
       "      <td>445 N. Clark St., Chicago</td>\n",
       "      <td>445 North Clark Street, Chicago, IL 60654, USA</td>\n",
       "      <td>41.890602</td>\n",
       "      <td>-87.630925</td>\n",
       "    </tr>\n",
       "  </tbody>\n",
       "</table>\n",
       "</div>"
      ],
      "text/plain": [
       "   rank           sandwich   restaurant  \\\n",
       "0     1                BLT  Old Oak Tap   \n",
       "1     2      Fried Bologna    Au Cheval   \n",
       "2     3  Woodland Mushroom         Xoco   \n",
       "\n",
       "                                         description   price  \\\n",
       "0  The B is applewood smoked&mdash;nice and snapp...     $10   \n",
       "1  Thought your bologna-eating days had retired w...      $9   \n",
       "2  Leave it to Rick Bayless and crew to come up w...  $9.50.   \n",
       "\n",
       "                address     city         phone              website  \\\n",
       "0  2109 W. Chicago Ave.  Chicago  773-772-0406     theoldoaktap.com   \n",
       "1   800 W. Randolph St.  Chicago  312-929-4580  aucheval.tumblr.com   \n",
       "2      445 N. Clark St.  Chicago  312-334-3688      rickbayless.com   \n",
       "\n",
       "                    full_address  \\\n",
       "0  2109 W. Chicago Ave., Chicago   \n",
       "1   800 W. Randolph St., Chicago   \n",
       "2      445 N. Clark St., Chicago   \n",
       "\n",
       "                                  formatted_address        lat        lng  \n",
       "0  2109 West Chicago Avenue, Chicago, IL 60622, USA  41.895734 -87.679960  \n",
       "1  800 West Randolph Street, Chicago, IL 60607, USA  41.884672 -87.647754  \n",
       "2    445 North Clark Street, Chicago, IL 60654, USA  41.890602 -87.630925  "
      ]
     },
     "execution_count": 35,
     "metadata": {},
     "output_type": "execute_result"
    }
   ],
   "source": [
    "#Se define la ruta desde donde se cargará la tabla\n",
    "url = 'https://raw.github.com/gjreda/best-sandwiches/master/data/best-sandwiches-geocode.tsv'\n",
    "\n",
    "# Los datos se cargan usando un tipo de lectura a un DF.\n",
    "from_url = pd.read_table(url, sep='\\t')\n",
    "from_url.head(3)"
   ]
  },
  {
   "cell_type": "code",
   "execution_count": 36,
   "metadata": {},
   "outputs": [],
   "source": [
    "#!pip install requests"
   ]
  },
  {
   "cell_type": "markdown",
   "metadata": {
    "colab_type": "text",
    "id": "Y4sQpmZE0iDi"
   },
   "source": [
    "En muchos casos los datos que se obtienen en internet desde algún sistema vienen en formatos JSON, estos pueden ser preprocesados para posteriormente cargarlos en un DF de manera más tradicional. Pero debido al uso frecuente de Pandas, se han desarrollado funciones para ayudar a facilidar el tratamiento y carga de datos. El siguiente ejemplo muestra como procesar los datos que son obtenidos en formato JSON."
   ]
  },
  {
   "cell_type": "code",
   "execution_count": 37,
   "metadata": {
    "colab": {},
    "colab_type": "code",
    "id": "FrhPnRaLrQgp"
   },
   "outputs": [],
   "source": [
    "#Se definen las biblitecas que se necesitarán\n",
    "import requests\n",
    "import json\n",
    "\n",
    "#Se define la ruta\n",
    "url = \"http://mesonet.agron.iastate.edu/geojson/network.php?network={}\"\n",
    "#Se piden los datos\n",
    "r = requests.get(url.format(\"AWOS\"))\n",
    "js = r.json()"
   ]
  },
  {
   "cell_type": "markdown",
   "metadata": {
    "colab_type": "text",
    "id": "pKsLE_Yr1HQY"
   },
   "source": [
    "Visualizamos el formato del los datos."
   ]
  },
  {
   "cell_type": "code",
   "execution_count": 38,
   "metadata": {
    "colab": {
     "base_uri": "https://localhost:8080/",
     "height": 11815
    },
    "colab_type": "code",
    "id": "8Ob_7U4jsX5D",
    "outputId": "88f0f09f-644f-459e-cf0a-edef023cceb1",
    "scrolled": true,
    "tags": []
   },
   "outputs": [
    {
     "data": {
      "text/plain": [
       "{'type': 'FeatureCollection',\n",
       " 'features': [],\n",
       " 'generation_time': '2022-06-22T14:21:26Z',\n",
       " 'count': 0}"
      ]
     },
     "execution_count": 38,
     "metadata": {},
     "output_type": "execute_result"
    }
   ],
   "source": [
    "js"
   ]
  },
  {
   "cell_type": "code",
   "execution_count": 39,
   "metadata": {
    "colab": {
     "base_uri": "https://localhost:8080/",
     "height": 527
    },
    "colab_type": "code",
    "id": "JZALul1GsY-3",
    "outputId": "c375c152-4b88-4fab-ef55-17c6770113b0"
   },
   "outputs": [
    {
     "data": {
      "text/plain": [
       "[]"
      ]
     },
     "execution_count": 39,
     "metadata": {},
     "output_type": "execute_result"
    }
   ],
   "source": [
    "#Se eleige algunos de los datos\n",
    "js['features'][:1]"
   ]
  },
  {
   "cell_type": "code",
   "execution_count": 40,
   "metadata": {},
   "outputs": [
    {
     "data": {
      "text/plain": [
       "'FeatureCollection'"
      ]
     },
     "execution_count": 40,
     "metadata": {},
     "output_type": "execute_result"
    }
   ],
   "source": [
    "#Se eleige algunos de los datos\n",
    "#js['generation_time'][:8]\n",
    "#js['count']\n",
    "js['type']"
   ]
  },
  {
   "cell_type": "markdown",
   "metadata": {
    "colab_type": "text",
    "id": "vFpAXuRG1PQk"
   },
   "source": [
    "Si se carga la información en un DF, se logra tener algo pero observamos el formato."
   ]
  },
  {
   "cell_type": "code",
   "execution_count": 41,
   "metadata": {
    "colab": {
     "base_uri": "https://localhost:8080/",
     "height": 204
    },
    "colab_type": "code",
    "id": "jmVaWlXdsce-",
    "outputId": "721f96c7-636e-4ac4-8917-299b23a255aa"
   },
   "outputs": [
    {
     "data": {
      "text/html": [
       "<div>\n",
       "<style scoped>\n",
       "    .dataframe tbody tr th:only-of-type {\n",
       "        vertical-align: middle;\n",
       "    }\n",
       "\n",
       "    .dataframe tbody tr th {\n",
       "        vertical-align: top;\n",
       "    }\n",
       "\n",
       "    .dataframe thead th {\n",
       "        text-align: right;\n",
       "    }\n",
       "</style>\n",
       "<table border=\"1\" class=\"dataframe\">\n",
       "  <thead>\n",
       "    <tr style=\"text-align: right;\">\n",
       "      <th></th>\n",
       "    </tr>\n",
       "  </thead>\n",
       "  <tbody>\n",
       "  </tbody>\n",
       "</table>\n",
       "</div>"
      ],
      "text/plain": [
       "Empty DataFrame\n",
       "Columns: []\n",
       "Index: []"
      ]
     },
     "execution_count": 41,
     "metadata": {},
     "output_type": "execute_result"
    }
   ],
   "source": [
    "#visualización de los datos.\n",
    "pd.DataFrame(js['features']).head()\n",
    "\n",
    "#pd.DataFrame(js)"
   ]
  },
  {
   "cell_type": "markdown",
   "metadata": {
    "colab_type": "text",
    "id": "GnYkBF651kVz"
   },
   "source": [
    "El ejemplo siguiente es como se pueden usar herramientas que tienen Pandas y que facilidad el trabajo al momento de crear un DataFrame."
   ]
  },
  {
   "cell_type": "code",
   "execution_count": 42,
   "metadata": {
    "colab": {},
    "colab_type": "code",
    "id": "tGRqJW_IsgcA"
   },
   "outputs": [
    {
     "data": {
      "text/html": [
       "<div>\n",
       "<style scoped>\n",
       "    .dataframe tbody tr th:only-of-type {\n",
       "        vertical-align: middle;\n",
       "    }\n",
       "\n",
       "    .dataframe tbody tr th {\n",
       "        vertical-align: top;\n",
       "    }\n",
       "\n",
       "    .dataframe thead th {\n",
       "        text-align: right;\n",
       "    }\n",
       "</style>\n",
       "<table border=\"1\" class=\"dataframe\">\n",
       "  <thead>\n",
       "    <tr style=\"text-align: right;\">\n",
       "      <th></th>\n",
       "      <th>type</th>\n",
       "      <th>features</th>\n",
       "      <th>generation_time</th>\n",
       "      <th>count</th>\n",
       "    </tr>\n",
       "  </thead>\n",
       "  <tbody>\n",
       "    <tr>\n",
       "      <th>0</th>\n",
       "      <td>FeatureCollection</td>\n",
       "      <td>[]</td>\n",
       "      <td>2022-06-22T14:21:26Z</td>\n",
       "      <td>0</td>\n",
       "    </tr>\n",
       "  </tbody>\n",
       "</table>\n",
       "</div>"
      ],
      "text/plain": [
       "                type features       generation_time  count\n",
       "0  FeatureCollection       []  2022-06-22T14:21:26Z      0"
      ]
     },
     "execution_count": 42,
     "metadata": {},
     "output_type": "execute_result"
    }
   ],
   "source": [
    "#stations = pd.io.json.json_normalize(js['features'])\n",
    "\n",
    "stations = pd.json_normalize(js)\n",
    "stations"
   ]
  },
  {
   "cell_type": "markdown",
   "metadata": {
    "colab_type": "text",
    "id": "9vMt4ryDqxss"
   },
   "source": [
    "### ¿Siempre hacemos una transformación a la vez?\n",
    "\n"
   ]
  },
  {
   "cell_type": "code",
   "execution_count": 43,
   "metadata": {
    "colab": {
     "base_uri": "https://localhost:8080/",
     "height": 395
    },
    "colab_type": "code",
    "id": "QGhgvXkGs-TB",
    "outputId": "24fc279a-0bb0-4d92-9128-c2fc5af215fb"
   },
   "outputs": [
    {
     "data": {
      "text/html": [
       "<div>\n",
       "<style scoped>\n",
       "    .dataframe tbody tr th:only-of-type {\n",
       "        vertical-align: middle;\n",
       "    }\n",
       "\n",
       "    .dataframe tbody tr th {\n",
       "        vertical-align: top;\n",
       "    }\n",
       "\n",
       "    .dataframe thead th {\n",
       "        text-align: right;\n",
       "    }\n",
       "</style>\n",
       "<table border=\"1\" class=\"dataframe\">\n",
       "  <thead>\n",
       "    <tr style=\"text-align: right;\">\n",
       "      <th></th>\n",
       "      <th>rank</th>\n",
       "      <th>sandwich</th>\n",
       "      <th>restaurant</th>\n",
       "      <th>description</th>\n",
       "      <th>price</th>\n",
       "      <th>address</th>\n",
       "      <th>city</th>\n",
       "      <th>phone</th>\n",
       "      <th>website</th>\n",
       "      <th>full_address</th>\n",
       "      <th>formatted_address</th>\n",
       "      <th>lat</th>\n",
       "      <th>lng</th>\n",
       "    </tr>\n",
       "  </thead>\n",
       "  <tbody>\n",
       "    <tr>\n",
       "      <th>0</th>\n",
       "      <td>1</td>\n",
       "      <td>BLT</td>\n",
       "      <td>Old Oak Tap</td>\n",
       "      <td>The B is applewood smoked&amp;mdash;nice and snapp...</td>\n",
       "      <td>$10</td>\n",
       "      <td>2109 W. Chicago Ave.</td>\n",
       "      <td>Chicago</td>\n",
       "      <td>773-772-0406</td>\n",
       "      <td>theoldoaktap.com</td>\n",
       "      <td>2109 W. Chicago Ave., Chicago</td>\n",
       "      <td>2109 West Chicago Avenue, Chicago, IL 60622, USA</td>\n",
       "      <td>41.895734</td>\n",
       "      <td>-87.679960</td>\n",
       "    </tr>\n",
       "    <tr>\n",
       "      <th>1</th>\n",
       "      <td>2</td>\n",
       "      <td>Fried Bologna</td>\n",
       "      <td>Au Cheval</td>\n",
       "      <td>Thought your bologna-eating days had retired w...</td>\n",
       "      <td>$9</td>\n",
       "      <td>800 W. Randolph St.</td>\n",
       "      <td>Chicago</td>\n",
       "      <td>312-929-4580</td>\n",
       "      <td>aucheval.tumblr.com</td>\n",
       "      <td>800 W. Randolph St., Chicago</td>\n",
       "      <td>800 West Randolph Street, Chicago, IL 60607, USA</td>\n",
       "      <td>41.884672</td>\n",
       "      <td>-87.647754</td>\n",
       "    </tr>\n",
       "    <tr>\n",
       "      <th>2</th>\n",
       "      <td>3</td>\n",
       "      <td>Woodland Mushroom</td>\n",
       "      <td>Xoco</td>\n",
       "      <td>Leave it to Rick Bayless and crew to come up w...</td>\n",
       "      <td>$9.50.</td>\n",
       "      <td>445 N. Clark St.</td>\n",
       "      <td>Chicago</td>\n",
       "      <td>312-334-3688</td>\n",
       "      <td>rickbayless.com</td>\n",
       "      <td>445 N. Clark St., Chicago</td>\n",
       "      <td>445 North Clark Street, Chicago, IL 60654, USA</td>\n",
       "      <td>41.890602</td>\n",
       "      <td>-87.630925</td>\n",
       "    </tr>\n",
       "    <tr>\n",
       "      <th>3</th>\n",
       "      <td>4</td>\n",
       "      <td>Roast Beef</td>\n",
       "      <td>Al&amp;rsquo;s Deli</td>\n",
       "      <td>The Francophile brothers behind this deli, whi...</td>\n",
       "      <td>$9.40.</td>\n",
       "      <td>914 Noyes St.</td>\n",
       "      <td>Evanston</td>\n",
       "      <td>NaN</td>\n",
       "      <td>alsdeli.net</td>\n",
       "      <td>914 Noyes St., Evanston</td>\n",
       "      <td>914 Noyes Street, Evanston, IL 60201, USA</td>\n",
       "      <td>42.058442</td>\n",
       "      <td>-87.684425</td>\n",
       "    </tr>\n",
       "    <tr>\n",
       "      <th>4</th>\n",
       "      <td>5</td>\n",
       "      <td>PB&amp;amp;L</td>\n",
       "      <td>Publican Qualty Meats</td>\n",
       "      <td>When this place opened in February, it quickly...</td>\n",
       "      <td>$10</td>\n",
       "      <td>825 W. Fulton Mkt.</td>\n",
       "      <td>Chicago</td>\n",
       "      <td>312-445-8977</td>\n",
       "      <td>publicanqualitymeats.com</td>\n",
       "      <td>825 W. Fulton Mkt., Chicago</td>\n",
       "      <td>825 West Fulton Market, Chicago, IL 60607, USA</td>\n",
       "      <td>41.886637</td>\n",
       "      <td>-87.648552</td>\n",
       "    </tr>\n",
       "  </tbody>\n",
       "</table>\n",
       "</div>"
      ],
      "text/plain": [
       "   rank           sandwich             restaurant  \\\n",
       "0     1                BLT            Old Oak Tap   \n",
       "1     2      Fried Bologna              Au Cheval   \n",
       "2     3  Woodland Mushroom                   Xoco   \n",
       "3     4         Roast Beef        Al&rsquo;s Deli   \n",
       "4     5           PB&amp;L  Publican Qualty Meats   \n",
       "\n",
       "                                         description   price  \\\n",
       "0  The B is applewood smoked&mdash;nice and snapp...     $10   \n",
       "1  Thought your bologna-eating days had retired w...      $9   \n",
       "2  Leave it to Rick Bayless and crew to come up w...  $9.50.   \n",
       "3  The Francophile brothers behind this deli, whi...  $9.40.   \n",
       "4  When this place opened in February, it quickly...     $10   \n",
       "\n",
       "                address      city         phone                   website  \\\n",
       "0  2109 W. Chicago Ave.   Chicago  773-772-0406          theoldoaktap.com   \n",
       "1   800 W. Randolph St.   Chicago  312-929-4580       aucheval.tumblr.com   \n",
       "2      445 N. Clark St.   Chicago  312-334-3688           rickbayless.com   \n",
       "3         914 Noyes St.  Evanston           NaN               alsdeli.net   \n",
       "4    825 W. Fulton Mkt.   Chicago  312-445-8977  publicanqualitymeats.com   \n",
       "\n",
       "                    full_address  \\\n",
       "0  2109 W. Chicago Ave., Chicago   \n",
       "1   800 W. Randolph St., Chicago   \n",
       "2      445 N. Clark St., Chicago   \n",
       "3        914 Noyes St., Evanston   \n",
       "4    825 W. Fulton Mkt., Chicago   \n",
       "\n",
       "                                  formatted_address        lat        lng  \n",
       "0  2109 West Chicago Avenue, Chicago, IL 60622, USA  41.895734 -87.679960  \n",
       "1  800 West Randolph Street, Chicago, IL 60607, USA  41.884672 -87.647754  \n",
       "2    445 North Clark Street, Chicago, IL 60654, USA  41.890602 -87.630925  \n",
       "3         914 Noyes Street, Evanston, IL 60201, USA  42.058442 -87.684425  \n",
       "4    825 West Fulton Market, Chicago, IL 60607, USA  41.886637 -87.648552  "
      ]
     },
     "execution_count": 43,
     "metadata": {},
     "output_type": "execute_result"
    }
   ],
   "source": [
    "from_url.head()"
   ]
  },
  {
   "cell_type": "code",
   "execution_count": 44,
   "metadata": {
    "colab": {
     "base_uri": "https://localhost:8080/",
     "height": 35
    },
    "colab_type": "code",
    "id": "JCC5DJrSrYm3",
    "outputId": "c4554027-c11f-4b30-f0bf-fdef1afc550d"
   },
   "outputs": [
    {
     "data": {
      "text/plain": [
       "'773'"
      ]
     },
     "execution_count": 44,
     "metadata": {},
     "output_type": "execute_result"
    }
   ],
   "source": [
    "#Codigo versión 1\n",
    "Phone=from_url['phone']\n",
    "Phone_dropna=Phone.dropna()\n",
    "Phone_Numbers=Phone_dropna.apply(lambda x: str(x).split('-')[0])\n",
    "Phone_Numbers.max()"
   ]
  },
  {
   "cell_type": "code",
   "execution_count": 45,
   "metadata": {
    "colab": {
     "base_uri": "https://localhost:8080/",
     "height": 35
    },
    "colab_type": "code",
    "id": "c1mpY7w6q-9h",
    "outputId": "452d9f5e-3f9e-4437-b65b-a71e9ee6b559"
   },
   "outputs": [
    {
     "data": {
      "text/plain": [
       "'773'"
      ]
     },
     "execution_count": 45,
     "metadata": {},
     "output_type": "execute_result"
    }
   ],
   "source": [
    "#Versión 2\n",
    "from_url['phone'].dropna().apply(lambda x: str(x).split('-')[0]).max()"
   ]
  },
  {
   "cell_type": "code",
   "execution_count": 46,
   "metadata": {
    "colab": {},
    "colab_type": "code",
    "id": "YOiKY_qstID5"
   },
   "outputs": [
    {
     "data": {
      "text/plain": [
       "'773'"
      ]
     },
     "execution_count": 46,
     "metadata": {},
     "output_type": "execute_result"
    }
   ],
   "source": [
    "#Version 3\n",
    "from_url['phone'].dropna()\\\n",
    "                 .apply(lambda x: str(x)\\\n",
    "                 .split('-')[0])\\\n",
    "                 .max()"
   ]
  },
  {
   "cell_type": "markdown",
   "metadata": {
    "colab_type": "text",
    "id": "RT85s58F0-5t"
   },
   "source": [
    "El ejemplo anterior muestra que se pueden hacer cadenas de operaciones o transformaciones sobre los DF, esto permite definir un tipo de programación en Pandas. Esto puede ser pensado que es programación \"Declarativa\".\n"
   ]
  },
  {
   "cell_type": "markdown",
   "metadata": {
    "colab_type": "text",
    "id": "KgQ0lqXW14tL"
   },
   "source": [
    "Limpiamos el entorno para hacer los siguientes ejemplos."
   ]
  },
  {
   "cell_type": "code",
   "execution_count": 47,
   "metadata": {
    "colab": {
     "base_uri": "https://localhost:8080/",
     "height": 35
    },
    "colab_type": "code",
    "id": "o7B7mOgrsptp",
    "outputId": "fb90bd89-0e7c-4680-d104-5731c2cca2cf"
   },
   "outputs": [
    {
     "name": "stdout",
     "output_type": "stream",
     "text": [
      "\u001b[H\u001b[2J"
     ]
    }
   ],
   "source": [
    "%clear"
   ]
  },
  {
   "cell_type": "code",
   "execution_count": 48,
   "metadata": {
    "colab": {},
    "colab_type": "code",
    "id": "jRlGd690tnuc"
   },
   "outputs": [],
   "source": [
    "%reset -f"
   ]
  },
  {
   "cell_type": "code",
   "execution_count": 49,
   "metadata": {
    "colab": {
     "base_uri": "https://localhost:8080/",
     "height": 35
    },
    "colab_type": "code",
    "id": "chazqKugttBl",
    "outputId": "26b7dd13-30dd-4213-e261-08ab43f1c457"
   },
   "outputs": [
    {
     "name": "stdout",
     "output_type": "stream",
     "text": [
      "Interactive namespace is empty.\n"
     ]
    }
   ],
   "source": [
    "%whos"
   ]
  },
  {
   "cell_type": "markdown",
   "metadata": {
    "colab_type": "text",
    "id": "m7H0fHPN19Qz"
   },
   "source": [
    "## SQL y Pandas\n",
    "\n",
    "El lenguaje estandar para procesar datos es SQL (Structured Query Language), este es un lenguaje de dominio especifico que resulta adecuado para trabajar con bases de datos relacionales. Pero de igual forma, se han desarrollado herramientas para usar el mismo tipo de lenguage (SQL) en bases de datos de estructura diferente a las relacionales.\n",
    "\n",
    "A primera vista la sintaxis de SQL vs Pandas es totalmente diferente, pero se pueden recuperar los resultados haciendo uso de la condiciones lógicas y la manipulacion sobre los DF.\n",
    "\n",
    "Los siguientes códigos son ejemplos sencillos de operaciones elementales en SQL dentro de las operaciones de Pandas."
   ]
  },
  {
   "cell_type": "code",
   "execution_count": 50,
   "metadata": {
    "colab": {
     "base_uri": "https://localhost:8080/",
     "height": 193
    },
    "colab_type": "code",
    "id": "RmUwi0QbtoEY",
    "outputId": "02f801f4-13d1-405c-e70c-6c03a252216d"
   },
   "outputs": [
    {
     "data": {
      "text/html": [
       "<div>\n",
       "<style scoped>\n",
       "    .dataframe tbody tr th:only-of-type {\n",
       "        vertical-align: middle;\n",
       "    }\n",
       "\n",
       "    .dataframe tbody tr th {\n",
       "        vertical-align: top;\n",
       "    }\n",
       "\n",
       "    .dataframe thead th {\n",
       "        text-align: right;\n",
       "    }\n",
       "</style>\n",
       "<table border=\"1\" class=\"dataframe\">\n",
       "  <thead>\n",
       "    <tr style=\"text-align: right;\">\n",
       "      <th></th>\n",
       "      <th>rank</th>\n",
       "      <th>sandwich</th>\n",
       "      <th>restaurant</th>\n",
       "      <th>description</th>\n",
       "      <th>price</th>\n",
       "      <th>address</th>\n",
       "      <th>city</th>\n",
       "      <th>phone</th>\n",
       "      <th>website</th>\n",
       "      <th>full_address</th>\n",
       "      <th>formatted_address</th>\n",
       "      <th>lat</th>\n",
       "      <th>lng</th>\n",
       "    </tr>\n",
       "  </thead>\n",
       "  <tbody>\n",
       "    <tr>\n",
       "      <th>0</th>\n",
       "      <td>1</td>\n",
       "      <td>BLT</td>\n",
       "      <td>Old Oak Tap</td>\n",
       "      <td>The B is applewood smoked&amp;mdash;nice and snapp...</td>\n",
       "      <td>$10</td>\n",
       "      <td>2109 W. Chicago Ave.</td>\n",
       "      <td>Chicago</td>\n",
       "      <td>773-772-0406</td>\n",
       "      <td>theoldoaktap.com</td>\n",
       "      <td>2109 W. Chicago Ave., Chicago</td>\n",
       "      <td>2109 West Chicago Avenue, Chicago, IL 60622, USA</td>\n",
       "      <td>41.895734</td>\n",
       "      <td>-87.679960</td>\n",
       "    </tr>\n",
       "    <tr>\n",
       "      <th>1</th>\n",
       "      <td>2</td>\n",
       "      <td>Fried Bologna</td>\n",
       "      <td>Au Cheval</td>\n",
       "      <td>Thought your bologna-eating days had retired w...</td>\n",
       "      <td>$9</td>\n",
       "      <td>800 W. Randolph St.</td>\n",
       "      <td>Chicago</td>\n",
       "      <td>312-929-4580</td>\n",
       "      <td>aucheval.tumblr.com</td>\n",
       "      <td>800 W. Randolph St., Chicago</td>\n",
       "      <td>800 West Randolph Street, Chicago, IL 60607, USA</td>\n",
       "      <td>41.884672</td>\n",
       "      <td>-87.647754</td>\n",
       "    </tr>\n",
       "    <tr>\n",
       "      <th>2</th>\n",
       "      <td>3</td>\n",
       "      <td>Woodland Mushroom</td>\n",
       "      <td>Xoco</td>\n",
       "      <td>Leave it to Rick Bayless and crew to come up w...</td>\n",
       "      <td>$9.50.</td>\n",
       "      <td>445 N. Clark St.</td>\n",
       "      <td>Chicago</td>\n",
       "      <td>312-334-3688</td>\n",
       "      <td>rickbayless.com</td>\n",
       "      <td>445 N. Clark St., Chicago</td>\n",
       "      <td>445 North Clark Street, Chicago, IL 60654, USA</td>\n",
       "      <td>41.890602</td>\n",
       "      <td>-87.630925</td>\n",
       "    </tr>\n",
       "  </tbody>\n",
       "</table>\n",
       "</div>"
      ],
      "text/plain": [
       "   rank           sandwich   restaurant  \\\n",
       "0     1                BLT  Old Oak Tap   \n",
       "1     2      Fried Bologna    Au Cheval   \n",
       "2     3  Woodland Mushroom         Xoco   \n",
       "\n",
       "                                         description   price  \\\n",
       "0  The B is applewood smoked&mdash;nice and snapp...     $10   \n",
       "1  Thought your bologna-eating days had retired w...      $9   \n",
       "2  Leave it to Rick Bayless and crew to come up w...  $9.50.   \n",
       "\n",
       "                address     city         phone              website  \\\n",
       "0  2109 W. Chicago Ave.  Chicago  773-772-0406     theoldoaktap.com   \n",
       "1   800 W. Randolph St.  Chicago  312-929-4580  aucheval.tumblr.com   \n",
       "2      445 N. Clark St.  Chicago  312-334-3688      rickbayless.com   \n",
       "\n",
       "                    full_address  \\\n",
       "0  2109 W. Chicago Ave., Chicago   \n",
       "1   800 W. Randolph St., Chicago   \n",
       "2      445 N. Clark St., Chicago   \n",
       "\n",
       "                                  formatted_address        lat        lng  \n",
       "0  2109 West Chicago Avenue, Chicago, IL 60622, USA  41.895734 -87.679960  \n",
       "1  800 West Randolph Street, Chicago, IL 60607, USA  41.884672 -87.647754  \n",
       "2    445 North Clark Street, Chicago, IL 60654, USA  41.890602 -87.630925  "
      ]
     },
     "execution_count": 50,
     "metadata": {},
     "output_type": "execute_result"
    }
   ],
   "source": [
    "#Se cargan las bibliotecas y datos necesarios para los ejemplos.\n",
    "import pandas as pd\n",
    "import numpy as np\n",
    "\n",
    "\n",
    "url = 'https://raw.github.com/gjreda/best-sandwiches/master/data/best-sandwiches-geocode.tsv'\n",
    "\n",
    "# fetch the text from the URL and read it into a DataFrame\n",
    "data = pd.read_table(url, sep='\\t')\n",
    "data.head(3)"
   ]
  },
  {
   "cell_type": "code",
   "execution_count": 51,
   "metadata": {},
   "outputs": [
    {
     "data": {
      "text/plain": [
       "Index(['rank', 'sandwich', 'restaurant', 'description', 'price', 'address',\n",
       "       'city', 'phone', 'website', 'full_address', 'formatted_address', 'lat',\n",
       "       'lng'],\n",
       "      dtype='object')"
      ]
     },
     "execution_count": 51,
     "metadata": {},
     "output_type": "execute_result"
    }
   ],
   "source": [
    "data.columns"
   ]
  },
  {
   "cell_type": "code",
   "execution_count": 52,
   "metadata": {
    "colab": {
     "base_uri": "https://localhost:8080/",
     "height": 170
    },
    "colab_type": "code",
    "id": "kI6BLnxau9GA",
    "outputId": "6a143f08-0d31-493e-f1d9-4afa5dc41909"
   },
   "outputs": [
    {
     "data": {
      "text/plain": [
       "Chicago          53\n",
       "Elmhurst          2\n",
       "Evanston          1\n",
       "Bolingbrook       1\n",
       "Orland Hills      1\n",
       "Highland Park     1\n",
       "Lake Forest       1\n",
       "Oak Park          1\n",
       "Name: city, dtype: int64"
      ]
     },
     "execution_count": 52,
     "metadata": {},
     "output_type": "execute_result"
    }
   ],
   "source": [
    "#Breve revisión de los datos\n",
    "data.city.value_counts()"
   ]
  },
  {
   "cell_type": "code",
   "execution_count": 53,
   "metadata": {
    "colab": {
     "base_uri": "https://localhost:8080/",
     "height": 323
    },
    "colab_type": "code",
    "id": "rJbuEXJCtyiE",
    "outputId": "11669dbe-30f4-4ff1-db2a-bb232ee98b18"
   },
   "outputs": [
    {
     "name": "stdout",
     "output_type": "stream",
     "text": [
      "<class 'pandas.core.frame.DataFrame'>\n",
      "RangeIndex: 61 entries, 0 to 60\n",
      "Data columns (total 13 columns):\n",
      " #   Column             Non-Null Count  Dtype  \n",
      "---  ------             --------------  -----  \n",
      " 0   rank               61 non-null     int64  \n",
      " 1   sandwich           61 non-null     object \n",
      " 2   restaurant         61 non-null     object \n",
      " 3   description        61 non-null     object \n",
      " 4   price              61 non-null     object \n",
      " 5   address            61 non-null     object \n",
      " 6   city               61 non-null     object \n",
      " 7   phone              50 non-null     object \n",
      " 8   website            58 non-null     object \n",
      " 9   full_address       61 non-null     object \n",
      " 10  formatted_address  61 non-null     object \n",
      " 11  lat                61 non-null     float64\n",
      " 12  lng                61 non-null     float64\n",
      "dtypes: float64(2), int64(1), object(10)\n",
      "memory usage: 6.3+ KB\n"
     ]
    }
   ],
   "source": [
    "#Exploración minima de los datos\n",
    "data.info()"
   ]
  },
  {
   "cell_type": "markdown",
   "metadata": {
    "colab_type": "text",
    "id": "o95vGSl3uF81"
   },
   "source": [
    "\n",
    "SQL 1\n",
    "\n",
    "Lo más básico en un query es seleccionar columans y visualizar algunas de las filas.\n",
    "\n",
    "~~~sql\n",
    "SELECT restaurant, price, city,phone\n",
    "FROM data\n",
    "LIMIT 5;\n",
    "~~~\n"
   ]
  },
  {
   "cell_type": "code",
   "execution_count": 54,
   "metadata": {
    "colab": {
     "base_uri": "https://localhost:8080/",
     "height": 204
    },
    "colab_type": "code",
    "id": "cvIwHuVwt8Nv",
    "outputId": "92c2dfd4-006a-47fb-c8e5-4497743d4428"
   },
   "outputs": [
    {
     "data": {
      "text/html": [
       "<div>\n",
       "<style scoped>\n",
       "    .dataframe tbody tr th:only-of-type {\n",
       "        vertical-align: middle;\n",
       "    }\n",
       "\n",
       "    .dataframe tbody tr th {\n",
       "        vertical-align: top;\n",
       "    }\n",
       "\n",
       "    .dataframe thead th {\n",
       "        text-align: right;\n",
       "    }\n",
       "</style>\n",
       "<table border=\"1\" class=\"dataframe\">\n",
       "  <thead>\n",
       "    <tr style=\"text-align: right;\">\n",
       "      <th></th>\n",
       "      <th>restaurant</th>\n",
       "      <th>price</th>\n",
       "      <th>city</th>\n",
       "      <th>phone</th>\n",
       "    </tr>\n",
       "  </thead>\n",
       "  <tbody>\n",
       "    <tr>\n",
       "      <th>0</th>\n",
       "      <td>Old Oak Tap</td>\n",
       "      <td>$10</td>\n",
       "      <td>Chicago</td>\n",
       "      <td>773-772-0406</td>\n",
       "    </tr>\n",
       "    <tr>\n",
       "      <th>1</th>\n",
       "      <td>Au Cheval</td>\n",
       "      <td>$9</td>\n",
       "      <td>Chicago</td>\n",
       "      <td>312-929-4580</td>\n",
       "    </tr>\n",
       "    <tr>\n",
       "      <th>2</th>\n",
       "      <td>Xoco</td>\n",
       "      <td>$9.50.</td>\n",
       "      <td>Chicago</td>\n",
       "      <td>312-334-3688</td>\n",
       "    </tr>\n",
       "    <tr>\n",
       "      <th>3</th>\n",
       "      <td>Al&amp;rsquo;s Deli</td>\n",
       "      <td>$9.40.</td>\n",
       "      <td>Evanston</td>\n",
       "      <td>NaN</td>\n",
       "    </tr>\n",
       "    <tr>\n",
       "      <th>4</th>\n",
       "      <td>Publican Qualty Meats</td>\n",
       "      <td>$10</td>\n",
       "      <td>Chicago</td>\n",
       "      <td>312-445-8977</td>\n",
       "    </tr>\n",
       "  </tbody>\n",
       "</table>\n",
       "</div>"
      ],
      "text/plain": [
       "              restaurant   price      city         phone\n",
       "0            Old Oak Tap     $10   Chicago  773-772-0406\n",
       "1              Au Cheval      $9   Chicago  312-929-4580\n",
       "2                   Xoco  $9.50.   Chicago  312-334-3688\n",
       "3        Al&rsquo;s Deli  $9.40.  Evanston           NaN\n",
       "4  Publican Qualty Meats     $10   Chicago  312-445-8977"
      ]
     },
     "execution_count": 54,
     "metadata": {},
     "output_type": "execute_result"
    }
   ],
   "source": [
    "#SQL 1 en Pandas\n",
    "data[['restaurant', 'price', 'city','phone']].head(5)"
   ]
  },
  {
   "cell_type": "code",
   "execution_count": 55,
   "metadata": {
    "colab": {
     "base_uri": "https://localhost:8080/",
     "height": 204
    },
    "colab_type": "code",
    "id": "KgKmZJvMv7Xo",
    "outputId": "44d351ee-4fbf-452e-e751-7a66e6b092a1"
   },
   "outputs": [
    {
     "data": {
      "text/html": [
       "<div>\n",
       "<style scoped>\n",
       "    .dataframe tbody tr th:only-of-type {\n",
       "        vertical-align: middle;\n",
       "    }\n",
       "\n",
       "    .dataframe tbody tr th {\n",
       "        vertical-align: top;\n",
       "    }\n",
       "\n",
       "    .dataframe thead th {\n",
       "        text-align: right;\n",
       "    }\n",
       "</style>\n",
       "<table border=\"1\" class=\"dataframe\">\n",
       "  <thead>\n",
       "    <tr style=\"text-align: right;\">\n",
       "      <th></th>\n",
       "      <th>restaurant</th>\n",
       "      <th>price</th>\n",
       "      <th>city</th>\n",
       "      <th>phone</th>\n",
       "    </tr>\n",
       "  </thead>\n",
       "  <tbody>\n",
       "    <tr>\n",
       "      <th>0</th>\n",
       "      <td>Old Oak Tap</td>\n",
       "      <td>$10</td>\n",
       "      <td>Chicago</td>\n",
       "      <td>773-772-0406</td>\n",
       "    </tr>\n",
       "    <tr>\n",
       "      <th>1</th>\n",
       "      <td>Au Cheval</td>\n",
       "      <td>$9</td>\n",
       "      <td>Chicago</td>\n",
       "      <td>312-929-4580</td>\n",
       "    </tr>\n",
       "    <tr>\n",
       "      <th>2</th>\n",
       "      <td>Xoco</td>\n",
       "      <td>$9.50.</td>\n",
       "      <td>Chicago</td>\n",
       "      <td>312-334-3688</td>\n",
       "    </tr>\n",
       "    <tr>\n",
       "      <th>3</th>\n",
       "      <td>Al&amp;rsquo;s Deli</td>\n",
       "      <td>$9.40.</td>\n",
       "      <td>Evanston</td>\n",
       "      <td>NaN</td>\n",
       "    </tr>\n",
       "    <tr>\n",
       "      <th>4</th>\n",
       "      <td>Publican Qualty Meats</td>\n",
       "      <td>$10</td>\n",
       "      <td>Chicago</td>\n",
       "      <td>312-445-8977</td>\n",
       "    </tr>\n",
       "  </tbody>\n",
       "</table>\n",
       "</div>"
      ],
      "text/plain": [
       "              restaurant   price      city         phone\n",
       "0            Old Oak Tap     $10   Chicago  773-772-0406\n",
       "1              Au Cheval      $9   Chicago  312-929-4580\n",
       "2                   Xoco  $9.50.   Chicago  312-334-3688\n",
       "3        Al&rsquo;s Deli  $9.40.  Evanston           NaN\n",
       "4  Publican Qualty Meats     $10   Chicago  312-445-8977"
      ]
     },
     "execution_count": 55,
     "metadata": {},
     "output_type": "execute_result"
    }
   ],
   "source": [
    "#SQL 1 en Pandas\n",
    "data.loc[:4,['restaurant', 'price', 'city','phone']]"
   ]
  },
  {
   "cell_type": "markdown",
   "metadata": {
    "colab_type": "text",
    "id": "-h29bSCguwCk"
   },
   "source": [
    "SQL 2\n",
    "\n",
    "La siguiente operacion básica en SQL es seleccionar columnas y pedir que estas cumplan cierta condición o restricción.\n",
    "\n",
    "~~~sql\n",
    "SELECT *\n",
    "FROM data\n",
    "WHERE city = 'Elmhurst';\n",
    "~~~"
   ]
  },
  {
   "cell_type": "code",
   "execution_count": 56,
   "metadata": {
    "colab": {
     "base_uri": "https://localhost:8080/",
     "height": 145
    },
    "colab_type": "code",
    "id": "OBLS7BclupDx",
    "outputId": "08991bda-7cdd-4ae7-f458-4d6693f2fc5d"
   },
   "outputs": [
    {
     "data": {
      "text/html": [
       "<div>\n",
       "<style scoped>\n",
       "    .dataframe tbody tr th:only-of-type {\n",
       "        vertical-align: middle;\n",
       "    }\n",
       "\n",
       "    .dataframe tbody tr th {\n",
       "        vertical-align: top;\n",
       "    }\n",
       "\n",
       "    .dataframe thead th {\n",
       "        text-align: right;\n",
       "    }\n",
       "</style>\n",
       "<table border=\"1\" class=\"dataframe\">\n",
       "  <thead>\n",
       "    <tr style=\"text-align: right;\">\n",
       "      <th></th>\n",
       "      <th>rank</th>\n",
       "      <th>sandwich</th>\n",
       "      <th>restaurant</th>\n",
       "      <th>description</th>\n",
       "      <th>price</th>\n",
       "      <th>address</th>\n",
       "      <th>city</th>\n",
       "      <th>phone</th>\n",
       "      <th>website</th>\n",
       "      <th>full_address</th>\n",
       "      <th>formatted_address</th>\n",
       "      <th>lat</th>\n",
       "      <th>lng</th>\n",
       "    </tr>\n",
       "  </thead>\n",
       "  <tbody>\n",
       "    <tr>\n",
       "      <th>50</th>\n",
       "      <td>40</td>\n",
       "      <td>Tuscan Chicken</td>\n",
       "      <td>Rosalia&amp;rsquo;s Tuscan Chicken</td>\n",
       "      <td>When a boneless chicken breast is dripping wit...</td>\n",
       "      <td>$6</td>\n",
       "      <td>241 N. York Rd.</td>\n",
       "      <td>Elmhurst</td>\n",
       "      <td>NaN</td>\n",
       "      <td>rosaliasdeli.com</td>\n",
       "      <td>241 N. York Rd., Elmhurst</td>\n",
       "      <td>241 North York Street, Elmhurst, IL 60126, USA</td>\n",
       "      <td>41.904940</td>\n",
       "      <td>-87.939853</td>\n",
       "    </tr>\n",
       "    <tr>\n",
       "      <th>58</th>\n",
       "      <td>48</td>\n",
       "      <td>Beef Curry</td>\n",
       "      <td>Zenwich</td>\n",
       "      <td>Proof positive that sandwiches have surpassed ...</td>\n",
       "      <td>$7.50.</td>\n",
       "      <td>416 N. York St.</td>\n",
       "      <td>Elmhurst</td>\n",
       "      <td>NaN</td>\n",
       "      <td>eatmyzenwich.com</td>\n",
       "      <td>416 N. York St., Elmhurst</td>\n",
       "      <td>416 North York Street, Elmhurst, IL 60126, USA</td>\n",
       "      <td>41.910662</td>\n",
       "      <td>-87.939928</td>\n",
       "    </tr>\n",
       "  </tbody>\n",
       "</table>\n",
       "</div>"
      ],
      "text/plain": [
       "    rank        sandwich                      restaurant  \\\n",
       "50    40  Tuscan Chicken  Rosalia&rsquo;s Tuscan Chicken   \n",
       "58    48      Beef Curry                         Zenwich   \n",
       "\n",
       "                                          description   price  \\\n",
       "50  When a boneless chicken breast is dripping wit...      $6   \n",
       "58  Proof positive that sandwiches have surpassed ...  $7.50.   \n",
       "\n",
       "            address      city phone           website  \\\n",
       "50  241 N. York Rd.  Elmhurst   NaN  rosaliasdeli.com   \n",
       "58  416 N. York St.  Elmhurst   NaN  eatmyzenwich.com   \n",
       "\n",
       "                 full_address                               formatted_address  \\\n",
       "50  241 N. York Rd., Elmhurst  241 North York Street, Elmhurst, IL 60126, USA   \n",
       "58  416 N. York St., Elmhurst  416 North York Street, Elmhurst, IL 60126, USA   \n",
       "\n",
       "          lat        lng  \n",
       "50  41.904940 -87.939853  \n",
       "58  41.910662 -87.939928  "
      ]
     },
     "execution_count": 56,
     "metadata": {},
     "output_type": "execute_result"
    }
   ],
   "source": [
    "#SQL 2 en Pandas\n",
    "data[data['city']=='Elmhurst']"
   ]
  },
  {
   "cell_type": "code",
   "execution_count": 57,
   "metadata": {
    "colab": {
     "base_uri": "https://localhost:8080/",
     "height": 145
    },
    "colab_type": "code",
    "id": "E8ENEJ4AvOuj",
    "outputId": "420d3d17-a94a-4ce5-cab6-0fc907a9386d"
   },
   "outputs": [
    {
     "data": {
      "text/html": [
       "<div>\n",
       "<style scoped>\n",
       "    .dataframe tbody tr th:only-of-type {\n",
       "        vertical-align: middle;\n",
       "    }\n",
       "\n",
       "    .dataframe tbody tr th {\n",
       "        vertical-align: top;\n",
       "    }\n",
       "\n",
       "    .dataframe thead th {\n",
       "        text-align: right;\n",
       "    }\n",
       "</style>\n",
       "<table border=\"1\" class=\"dataframe\">\n",
       "  <thead>\n",
       "    <tr style=\"text-align: right;\">\n",
       "      <th></th>\n",
       "      <th>rank</th>\n",
       "      <th>sandwich</th>\n",
       "      <th>restaurant</th>\n",
       "      <th>description</th>\n",
       "      <th>price</th>\n",
       "      <th>address</th>\n",
       "      <th>city</th>\n",
       "      <th>phone</th>\n",
       "      <th>website</th>\n",
       "      <th>full_address</th>\n",
       "      <th>formatted_address</th>\n",
       "      <th>lat</th>\n",
       "      <th>lng</th>\n",
       "    </tr>\n",
       "  </thead>\n",
       "  <tbody>\n",
       "    <tr>\n",
       "      <th>50</th>\n",
       "      <td>40</td>\n",
       "      <td>Tuscan Chicken</td>\n",
       "      <td>Rosalia&amp;rsquo;s Tuscan Chicken</td>\n",
       "      <td>When a boneless chicken breast is dripping wit...</td>\n",
       "      <td>$6</td>\n",
       "      <td>241 N. York Rd.</td>\n",
       "      <td>Elmhurst</td>\n",
       "      <td>NaN</td>\n",
       "      <td>rosaliasdeli.com</td>\n",
       "      <td>241 N. York Rd., Elmhurst</td>\n",
       "      <td>241 North York Street, Elmhurst, IL 60126, USA</td>\n",
       "      <td>41.904940</td>\n",
       "      <td>-87.939853</td>\n",
       "    </tr>\n",
       "    <tr>\n",
       "      <th>58</th>\n",
       "      <td>48</td>\n",
       "      <td>Beef Curry</td>\n",
       "      <td>Zenwich</td>\n",
       "      <td>Proof positive that sandwiches have surpassed ...</td>\n",
       "      <td>$7.50.</td>\n",
       "      <td>416 N. York St.</td>\n",
       "      <td>Elmhurst</td>\n",
       "      <td>NaN</td>\n",
       "      <td>eatmyzenwich.com</td>\n",
       "      <td>416 N. York St., Elmhurst</td>\n",
       "      <td>416 North York Street, Elmhurst, IL 60126, USA</td>\n",
       "      <td>41.910662</td>\n",
       "      <td>-87.939928</td>\n",
       "    </tr>\n",
       "  </tbody>\n",
       "</table>\n",
       "</div>"
      ],
      "text/plain": [
       "    rank        sandwich                      restaurant  \\\n",
       "50    40  Tuscan Chicken  Rosalia&rsquo;s Tuscan Chicken   \n",
       "58    48      Beef Curry                         Zenwich   \n",
       "\n",
       "                                          description   price  \\\n",
       "50  When a boneless chicken breast is dripping wit...      $6   \n",
       "58  Proof positive that sandwiches have surpassed ...  $7.50.   \n",
       "\n",
       "            address      city phone           website  \\\n",
       "50  241 N. York Rd.  Elmhurst   NaN  rosaliasdeli.com   \n",
       "58  416 N. York St.  Elmhurst   NaN  eatmyzenwich.com   \n",
       "\n",
       "                 full_address                               formatted_address  \\\n",
       "50  241 N. York Rd., Elmhurst  241 North York Street, Elmhurst, IL 60126, USA   \n",
       "58  416 N. York St., Elmhurst  416 North York Street, Elmhurst, IL 60126, USA   \n",
       "\n",
       "          lat        lng  \n",
       "50  41.904940 -87.939853  \n",
       "58  41.910662 -87.939928  "
      ]
     },
     "execution_count": 57,
     "metadata": {},
     "output_type": "execute_result"
    }
   ],
   "source": [
    "#SQL 2 en Pandas\n",
    "data[data.city=='Elmhurst']"
   ]
  },
  {
   "cell_type": "code",
   "execution_count": 58,
   "metadata": {
    "colab": {
     "base_uri": "https://localhost:8080/",
     "height": 145
    },
    "colab_type": "code",
    "id": "ZmkpKrymvTMM",
    "outputId": "86e47f9c-6dea-4fd1-e17e-c5d5c51ccab2"
   },
   "outputs": [
    {
     "data": {
      "text/html": [
       "<div>\n",
       "<style scoped>\n",
       "    .dataframe tbody tr th:only-of-type {\n",
       "        vertical-align: middle;\n",
       "    }\n",
       "\n",
       "    .dataframe tbody tr th {\n",
       "        vertical-align: top;\n",
       "    }\n",
       "\n",
       "    .dataframe thead th {\n",
       "        text-align: right;\n",
       "    }\n",
       "</style>\n",
       "<table border=\"1\" class=\"dataframe\">\n",
       "  <thead>\n",
       "    <tr style=\"text-align: right;\">\n",
       "      <th></th>\n",
       "      <th>rank</th>\n",
       "      <th>sandwich</th>\n",
       "      <th>restaurant</th>\n",
       "      <th>description</th>\n",
       "      <th>price</th>\n",
       "      <th>address</th>\n",
       "      <th>city</th>\n",
       "      <th>phone</th>\n",
       "      <th>website</th>\n",
       "      <th>full_address</th>\n",
       "      <th>formatted_address</th>\n",
       "      <th>lat</th>\n",
       "      <th>lng</th>\n",
       "    </tr>\n",
       "  </thead>\n",
       "  <tbody>\n",
       "    <tr>\n",
       "      <th>50</th>\n",
       "      <td>40</td>\n",
       "      <td>Tuscan Chicken</td>\n",
       "      <td>Rosalia&amp;rsquo;s Tuscan Chicken</td>\n",
       "      <td>When a boneless chicken breast is dripping wit...</td>\n",
       "      <td>$6</td>\n",
       "      <td>241 N. York Rd.</td>\n",
       "      <td>Elmhurst</td>\n",
       "      <td>NaN</td>\n",
       "      <td>rosaliasdeli.com</td>\n",
       "      <td>241 N. York Rd., Elmhurst</td>\n",
       "      <td>241 North York Street, Elmhurst, IL 60126, USA</td>\n",
       "      <td>41.904940</td>\n",
       "      <td>-87.939853</td>\n",
       "    </tr>\n",
       "    <tr>\n",
       "      <th>58</th>\n",
       "      <td>48</td>\n",
       "      <td>Beef Curry</td>\n",
       "      <td>Zenwich</td>\n",
       "      <td>Proof positive that sandwiches have surpassed ...</td>\n",
       "      <td>$7.50.</td>\n",
       "      <td>416 N. York St.</td>\n",
       "      <td>Elmhurst</td>\n",
       "      <td>NaN</td>\n",
       "      <td>eatmyzenwich.com</td>\n",
       "      <td>416 N. York St., Elmhurst</td>\n",
       "      <td>416 North York Street, Elmhurst, IL 60126, USA</td>\n",
       "      <td>41.910662</td>\n",
       "      <td>-87.939928</td>\n",
       "    </tr>\n",
       "  </tbody>\n",
       "</table>\n",
       "</div>"
      ],
      "text/plain": [
       "    rank        sandwich                      restaurant  \\\n",
       "50    40  Tuscan Chicken  Rosalia&rsquo;s Tuscan Chicken   \n",
       "58    48      Beef Curry                         Zenwich   \n",
       "\n",
       "                                          description   price  \\\n",
       "50  When a boneless chicken breast is dripping wit...      $6   \n",
       "58  Proof positive that sandwiches have surpassed ...  $7.50.   \n",
       "\n",
       "            address      city phone           website  \\\n",
       "50  241 N. York Rd.  Elmhurst   NaN  rosaliasdeli.com   \n",
       "58  416 N. York St.  Elmhurst   NaN  eatmyzenwich.com   \n",
       "\n",
       "                 full_address                               formatted_address  \\\n",
       "50  241 N. York Rd., Elmhurst  241 North York Street, Elmhurst, IL 60126, USA   \n",
       "58  416 N. York St., Elmhurst  416 North York Street, Elmhurst, IL 60126, USA   \n",
       "\n",
       "          lat        lng  \n",
       "50  41.904940 -87.939853  \n",
       "58  41.910662 -87.939928  "
      ]
     },
     "execution_count": 58,
     "metadata": {},
     "output_type": "execute_result"
    }
   ],
   "source": [
    "#SQL 2 en pandas\n",
    "data.loc[data.city.isin(['Elmhurst']),:]"
   ]
  },
  {
   "cell_type": "markdown",
   "metadata": {
    "colab_type": "text",
    "id": "3rXyY5-LwQ_r"
   },
   "source": [
    "SQL\n",
    "\n",
    "Otro operación estandar es pedir elegir las columnas pero que se cumplan alguna de las operaciones básicas **and, or, not**.\n",
    "~~~sql\n",
    "SELECT *\n",
    "FROM data\n",
    "WHERE city = 'Chicago' AND price <= 8.00;\n",
    "~~~"
   ]
  },
  {
   "cell_type": "code",
   "execution_count": 59,
   "metadata": {
    "colab": {},
    "colab_type": "code",
    "id": "PVgKSkaRvjxD"
   },
   "outputs": [],
   "source": [
    "#SQL 3 en Pandas.\n",
    "#Primero procesamos la variable price para poder operar sobre ella.\n",
    "data['price']=data.price.apply(lambda x: x.replace('$','').split('.')[0]).astype(float)"
   ]
  },
  {
   "cell_type": "code",
   "execution_count": 60,
   "metadata": {
    "colab": {
     "base_uri": "https://localhost:8080/",
     "height": 289
    },
    "colab_type": "code",
    "id": "cXr4HWYZwmu4",
    "outputId": "34472487-403a-4c0b-b774-139105bd10fa"
   },
   "outputs": [
    {
     "data": {
      "text/html": [
       "<div>\n",
       "<style scoped>\n",
       "    .dataframe tbody tr th:only-of-type {\n",
       "        vertical-align: middle;\n",
       "    }\n",
       "\n",
       "    .dataframe tbody tr th {\n",
       "        vertical-align: top;\n",
       "    }\n",
       "\n",
       "    .dataframe thead th {\n",
       "        text-align: right;\n",
       "    }\n",
       "</style>\n",
       "<table border=\"1\" class=\"dataframe\">\n",
       "  <thead>\n",
       "    <tr style=\"text-align: right;\">\n",
       "      <th></th>\n",
       "      <th>rank</th>\n",
       "      <th>sandwich</th>\n",
       "      <th>restaurant</th>\n",
       "      <th>description</th>\n",
       "      <th>price</th>\n",
       "      <th>address</th>\n",
       "      <th>city</th>\n",
       "      <th>phone</th>\n",
       "      <th>website</th>\n",
       "      <th>full_address</th>\n",
       "      <th>formatted_address</th>\n",
       "      <th>lat</th>\n",
       "      <th>lng</th>\n",
       "    </tr>\n",
       "  </thead>\n",
       "  <tbody>\n",
       "    <tr>\n",
       "      <th>0</th>\n",
       "      <td>1</td>\n",
       "      <td>BLT</td>\n",
       "      <td>Old Oak Tap</td>\n",
       "      <td>The B is applewood smoked&amp;mdash;nice and snapp...</td>\n",
       "      <td>10.0</td>\n",
       "      <td>2109 W. Chicago Ave.</td>\n",
       "      <td>Chicago</td>\n",
       "      <td>773-772-0406</td>\n",
       "      <td>theoldoaktap.com</td>\n",
       "      <td>2109 W. Chicago Ave., Chicago</td>\n",
       "      <td>2109 West Chicago Avenue, Chicago, IL 60622, USA</td>\n",
       "      <td>41.895734</td>\n",
       "      <td>-87.679960</td>\n",
       "    </tr>\n",
       "    <tr>\n",
       "      <th>1</th>\n",
       "      <td>2</td>\n",
       "      <td>Fried Bologna</td>\n",
       "      <td>Au Cheval</td>\n",
       "      <td>Thought your bologna-eating days had retired w...</td>\n",
       "      <td>9.0</td>\n",
       "      <td>800 W. Randolph St.</td>\n",
       "      <td>Chicago</td>\n",
       "      <td>312-929-4580</td>\n",
       "      <td>aucheval.tumblr.com</td>\n",
       "      <td>800 W. Randolph St., Chicago</td>\n",
       "      <td>800 West Randolph Street, Chicago, IL 60607, USA</td>\n",
       "      <td>41.884672</td>\n",
       "      <td>-87.647754</td>\n",
       "    </tr>\n",
       "    <tr>\n",
       "      <th>2</th>\n",
       "      <td>3</td>\n",
       "      <td>Woodland Mushroom</td>\n",
       "      <td>Xoco</td>\n",
       "      <td>Leave it to Rick Bayless and crew to come up w...</td>\n",
       "      <td>9.0</td>\n",
       "      <td>445 N. Clark St.</td>\n",
       "      <td>Chicago</td>\n",
       "      <td>312-334-3688</td>\n",
       "      <td>rickbayless.com</td>\n",
       "      <td>445 N. Clark St., Chicago</td>\n",
       "      <td>445 North Clark Street, Chicago, IL 60654, USA</td>\n",
       "      <td>41.890602</td>\n",
       "      <td>-87.630925</td>\n",
       "    </tr>\n",
       "    <tr>\n",
       "      <th>3</th>\n",
       "      <td>4</td>\n",
       "      <td>Roast Beef</td>\n",
       "      <td>Al&amp;rsquo;s Deli</td>\n",
       "      <td>The Francophile brothers behind this deli, whi...</td>\n",
       "      <td>9.0</td>\n",
       "      <td>914 Noyes St.</td>\n",
       "      <td>Evanston</td>\n",
       "      <td>NaN</td>\n",
       "      <td>alsdeli.net</td>\n",
       "      <td>914 Noyes St., Evanston</td>\n",
       "      <td>914 Noyes Street, Evanston, IL 60201, USA</td>\n",
       "      <td>42.058442</td>\n",
       "      <td>-87.684425</td>\n",
       "    </tr>\n",
       "    <tr>\n",
       "      <th>4</th>\n",
       "      <td>5</td>\n",
       "      <td>PB&amp;amp;L</td>\n",
       "      <td>Publican Qualty Meats</td>\n",
       "      <td>When this place opened in February, it quickly...</td>\n",
       "      <td>10.0</td>\n",
       "      <td>825 W. Fulton Mkt.</td>\n",
       "      <td>Chicago</td>\n",
       "      <td>312-445-8977</td>\n",
       "      <td>publicanqualitymeats.com</td>\n",
       "      <td>825 W. Fulton Mkt., Chicago</td>\n",
       "      <td>825 West Fulton Market, Chicago, IL 60607, USA</td>\n",
       "      <td>41.886637</td>\n",
       "      <td>-87.648552</td>\n",
       "    </tr>\n",
       "  </tbody>\n",
       "</table>\n",
       "</div>"
      ],
      "text/plain": [
       "   rank           sandwich             restaurant  \\\n",
       "0     1                BLT            Old Oak Tap   \n",
       "1     2      Fried Bologna              Au Cheval   \n",
       "2     3  Woodland Mushroom                   Xoco   \n",
       "3     4         Roast Beef        Al&rsquo;s Deli   \n",
       "4     5           PB&amp;L  Publican Qualty Meats   \n",
       "\n",
       "                                         description  price  \\\n",
       "0  The B is applewood smoked&mdash;nice and snapp...   10.0   \n",
       "1  Thought your bologna-eating days had retired w...    9.0   \n",
       "2  Leave it to Rick Bayless and crew to come up w...    9.0   \n",
       "3  The Francophile brothers behind this deli, whi...    9.0   \n",
       "4  When this place opened in February, it quickly...   10.0   \n",
       "\n",
       "                address      city         phone                   website  \\\n",
       "0  2109 W. Chicago Ave.   Chicago  773-772-0406          theoldoaktap.com   \n",
       "1   800 W. Randolph St.   Chicago  312-929-4580       aucheval.tumblr.com   \n",
       "2      445 N. Clark St.   Chicago  312-334-3688           rickbayless.com   \n",
       "3         914 Noyes St.  Evanston           NaN               alsdeli.net   \n",
       "4    825 W. Fulton Mkt.   Chicago  312-445-8977  publicanqualitymeats.com   \n",
       "\n",
       "                    full_address  \\\n",
       "0  2109 W. Chicago Ave., Chicago   \n",
       "1   800 W. Randolph St., Chicago   \n",
       "2      445 N. Clark St., Chicago   \n",
       "3        914 Noyes St., Evanston   \n",
       "4    825 W. Fulton Mkt., Chicago   \n",
       "\n",
       "                                  formatted_address        lat        lng  \n",
       "0  2109 West Chicago Avenue, Chicago, IL 60622, USA  41.895734 -87.679960  \n",
       "1  800 West Randolph Street, Chicago, IL 60607, USA  41.884672 -87.647754  \n",
       "2    445 North Clark Street, Chicago, IL 60654, USA  41.890602 -87.630925  \n",
       "3         914 Noyes Street, Evanston, IL 60201, USA  42.058442 -87.684425  \n",
       "4    825 West Fulton Market, Chicago, IL 60607, USA  41.886637 -87.648552  "
      ]
     },
     "execution_count": 60,
     "metadata": {},
     "output_type": "execute_result"
    }
   ],
   "source": [
    "data.head()"
   ]
  },
  {
   "cell_type": "code",
   "execution_count": 61,
   "metadata": {
    "colab": {
     "base_uri": "https://localhost:8080/",
     "height": 625
    },
    "colab_type": "code",
    "id": "1lrA7xO7xCzz",
    "outputId": "af0c76de-b33c-416f-ba6b-d0517de0d952"
   },
   "outputs": [
    {
     "data": {
      "text/html": [
       "<div>\n",
       "<style scoped>\n",
       "    .dataframe tbody tr th:only-of-type {\n",
       "        vertical-align: middle;\n",
       "    }\n",
       "\n",
       "    .dataframe tbody tr th {\n",
       "        vertical-align: top;\n",
       "    }\n",
       "\n",
       "    .dataframe thead th {\n",
       "        text-align: right;\n",
       "    }\n",
       "</style>\n",
       "<table border=\"1\" class=\"dataframe\">\n",
       "  <thead>\n",
       "    <tr style=\"text-align: right;\">\n",
       "      <th></th>\n",
       "      <th>rank</th>\n",
       "      <th>sandwich</th>\n",
       "      <th>restaurant</th>\n",
       "      <th>description</th>\n",
       "      <th>price</th>\n",
       "      <th>address</th>\n",
       "      <th>city</th>\n",
       "      <th>phone</th>\n",
       "      <th>website</th>\n",
       "      <th>full_address</th>\n",
       "      <th>formatted_address</th>\n",
       "      <th>lat</th>\n",
       "      <th>lng</th>\n",
       "    </tr>\n",
       "  </thead>\n",
       "  <tbody>\n",
       "    <tr>\n",
       "      <th>11</th>\n",
       "      <td>12</td>\n",
       "      <td>Breaded Steak</td>\n",
       "      <td>Ricobene&amp;rsquo;s</td>\n",
       "      <td>This is what put Ricobene&amp;rsquo;s on the map: ...</td>\n",
       "      <td>5.0</td>\n",
       "      <td>252 W. 26th Street</td>\n",
       "      <td>Chicago</td>\n",
       "      <td>(312) 225-5555</td>\n",
       "      <td>ricobenespizza.com</td>\n",
       "      <td>252 W. 26th Street, Chicago</td>\n",
       "      <td>252 West 26th Street, Chicago, IL 60616, USA</td>\n",
       "      <td>41.845754</td>\n",
       "      <td>-87.633895</td>\n",
       "    </tr>\n",
       "    <tr>\n",
       "      <th>13</th>\n",
       "      <td>12</td>\n",
       "      <td>Breaded Steak</td>\n",
       "      <td>Ricobene&amp;rsquo;s</td>\n",
       "      <td>This is what put Ricobene&amp;rsquo;s on the map: ...</td>\n",
       "      <td>5.0</td>\n",
       "      <td>5160 S. Pulaski Road</td>\n",
       "      <td>Chicago</td>\n",
       "      <td>(773) 284-2400</td>\n",
       "      <td>ricobenespizza.com</td>\n",
       "      <td>5160 S. Pulaski Road, Chicago</td>\n",
       "      <td>5160 South Pulaski Road, Chicago, IL 60632, USA</td>\n",
       "      <td>41.798956</td>\n",
       "      <td>-87.723434</td>\n",
       "    </tr>\n",
       "    <tr>\n",
       "      <th>18</th>\n",
       "      <td>16</td>\n",
       "      <td>Meatball Sub</td>\n",
       "      <td>Bari</td>\n",
       "      <td>No condiments, no fuss, just saucy meatballs (...</td>\n",
       "      <td>4.0</td>\n",
       "      <td>1120 W. Grand Ave.</td>\n",
       "      <td>Chicago</td>\n",
       "      <td>312-666-0730</td>\n",
       "      <td>bariitaliansubs.com</td>\n",
       "      <td>1120 W. Grand Ave., Chicago</td>\n",
       "      <td>1120 West Grand Avenue, Chicago, IL 60642, USA</td>\n",
       "      <td>41.891213</td>\n",
       "      <td>-87.655534</td>\n",
       "    </tr>\n",
       "    <tr>\n",
       "      <th>21</th>\n",
       "      <td>19</td>\n",
       "      <td>Falafel</td>\n",
       "      <td>Old Jerusalem</td>\n",
       "      <td>The fritters of mashed chickpeas are perfectly...</td>\n",
       "      <td>6.0</td>\n",
       "      <td>1411 N. Wells St.</td>\n",
       "      <td>Chicago</td>\n",
       "      <td>312-944-0459</td>\n",
       "      <td>oldjerusalemchicago.com</td>\n",
       "      <td>1411 N. Wells St., Chicago</td>\n",
       "      <td>1411 North Wells Street, Chicago, IL 60610, USA</td>\n",
       "      <td>41.908000</td>\n",
       "      <td>-87.634157</td>\n",
       "    </tr>\n",
       "    <tr>\n",
       "      <th>23</th>\n",
       "      <td>21</td>\n",
       "      <td>Chicken Schnitzel</td>\n",
       "      <td>Olga&amp;rsquo;s Delicatessen</td>\n",
       "      <td>A no-frills thrill, the schnitzel is a classic...</td>\n",
       "      <td>5.0</td>\n",
       "      <td>3209 W. Irving Park Rd.</td>\n",
       "      <td>Chicago</td>\n",
       "      <td>773-539-8038</td>\n",
       "      <td>NaN</td>\n",
       "      <td>3209 W. Irving Park Rd., Chicago</td>\n",
       "      <td>3209 West Irving Park Road, Chicago, IL 60618,...</td>\n",
       "      <td>41.953806</td>\n",
       "      <td>-87.708466</td>\n",
       "    </tr>\n",
       "    <tr>\n",
       "      <th>24</th>\n",
       "      <td>22</td>\n",
       "      <td>Shawarma</td>\n",
       "      <td>Dawali Mediterranean Kitchen</td>\n",
       "      <td>Dawali&amp;rsquo;s filling shawarma escapes a comm...</td>\n",
       "      <td>6.0</td>\n",
       "      <td>1625 N Halsted St.</td>\n",
       "      <td>Chicago</td>\n",
       "      <td>(312) 944-5800</td>\n",
       "      <td>dawalikitchen.com</td>\n",
       "      <td>1625 N Halsted St., Chicago</td>\n",
       "      <td>1625 North Halsted Street, Chicago, IL 60614, USA</td>\n",
       "      <td>41.911714</td>\n",
       "      <td>-87.648218</td>\n",
       "    </tr>\n",
       "    <tr>\n",
       "      <th>25</th>\n",
       "      <td>22</td>\n",
       "      <td>Shawarma</td>\n",
       "      <td>Dawali Mediterranean Kitchen</td>\n",
       "      <td>Dawali&amp;rsquo;s filling shawarma escapes a comm...</td>\n",
       "      <td>6.0</td>\n",
       "      <td>4911 N Kedzie Ave</td>\n",
       "      <td>Chicago</td>\n",
       "      <td>(773) 267-4222</td>\n",
       "      <td>dawalikitchen.com</td>\n",
       "      <td>4911 N Kedzie Ave, Chicago</td>\n",
       "      <td>4911 North Kedzie Avenue, Chicago, IL 60625, USA</td>\n",
       "      <td>41.970782</td>\n",
       "      <td>-87.708503</td>\n",
       "    </tr>\n",
       "    <tr>\n",
       "      <th>27</th>\n",
       "      <td>24</td>\n",
       "      <td>Vegetarian Panino</td>\n",
       "      <td>La Pane</td>\n",
       "      <td>La Pane might be known for pizza, but it offer...</td>\n",
       "      <td>5.0</td>\n",
       "      <td>2954 W. Irving Park Rd.</td>\n",
       "      <td>Chicago</td>\n",
       "      <td>773-539-5321</td>\n",
       "      <td>lapanechicago.com</td>\n",
       "      <td>2954 W. Irving Park Rd., Chicago</td>\n",
       "      <td>2954 West Irving Park Road, Chicago, IL 60618,...</td>\n",
       "      <td>41.954024</td>\n",
       "      <td>-87.702521</td>\n",
       "    </tr>\n",
       "    <tr>\n",
       "      <th>53</th>\n",
       "      <td>43</td>\n",
       "      <td>Oat Bread, Pecan Butter, and Fruit Jam</td>\n",
       "      <td>Elaine&amp;rsquo;s Coffee Call</td>\n",
       "      <td>The chalkboard menu is ambiguous about whether...</td>\n",
       "      <td>6.0</td>\n",
       "      <td>1816 N. Clark St.</td>\n",
       "      <td>Chicago</td>\n",
       "      <td>NaN</td>\n",
       "      <td>jdvhotels.com/hotels/chicago/lincoln</td>\n",
       "      <td>1816 N. Clark St., Chicago</td>\n",
       "      <td>1816 North Clark Street, Chicago, IL 60614, USA</td>\n",
       "      <td>41.915304</td>\n",
       "      <td>-87.634502</td>\n",
       "    </tr>\n",
       "    <tr>\n",
       "      <th>55</th>\n",
       "      <td>45</td>\n",
       "      <td>Cubano</td>\n",
       "      <td>Cafecito</td>\n",
       "      <td>The success of this sandwich, a Cuban traditio...</td>\n",
       "      <td>5.0</td>\n",
       "      <td>26 E. Congress Pkwy.</td>\n",
       "      <td>Chicago</td>\n",
       "      <td>312-922-2233</td>\n",
       "      <td>cafecitochicago.com</td>\n",
       "      <td>26 E. Congress Pkwy., Chicago</td>\n",
       "      <td>26 East Congress Parkway, Chicago, IL 60605, USA</td>\n",
       "      <td>41.875804</td>\n",
       "      <td>-87.626366</td>\n",
       "    </tr>\n",
       "    <tr>\n",
       "      <th>57</th>\n",
       "      <td>47</td>\n",
       "      <td>Debbie&amp;rsquo;s Egg Salad</td>\n",
       "      <td>The Goddess and Grocer</td>\n",
       "      <td>Nothing quite satisfies the comfortfood hunger...</td>\n",
       "      <td>6.0</td>\n",
       "      <td>25 E. Delaware Pl.</td>\n",
       "      <td>Chicago</td>\n",
       "      <td>312-896-2600</td>\n",
       "      <td>goddessandgrocer.com</td>\n",
       "      <td>25 E. Delaware Pl., Chicago</td>\n",
       "      <td>25 East Delaware Place, Chicago, IL 60611, USA</td>\n",
       "      <td>41.898990</td>\n",
       "      <td>-87.627290</td>\n",
       "    </tr>\n",
       "    <tr>\n",
       "      <th>60</th>\n",
       "      <td>50</td>\n",
       "      <td>The Gatsby</td>\n",
       "      <td>Phoebe&amp;rsquo;s Bakery</td>\n",
       "      <td>The best thing about Phoebe&amp;rsquo;s panini is ...</td>\n",
       "      <td>6.0</td>\n",
       "      <td>3351 N. Broadway</td>\n",
       "      <td>Chicago</td>\n",
       "      <td>773-868-4000</td>\n",
       "      <td>phoebesbakery.com</td>\n",
       "      <td>3351 N. Broadway, Chicago</td>\n",
       "      <td>3351 North Broadway, Chicago, IL 60657, USA</td>\n",
       "      <td>41.942739</td>\n",
       "      <td>-87.644342</td>\n",
       "    </tr>\n",
       "  </tbody>\n",
       "</table>\n",
       "</div>"
      ],
      "text/plain": [
       "    rank                                sandwich  \\\n",
       "11    12                           Breaded Steak   \n",
       "13    12                           Breaded Steak   \n",
       "18    16                            Meatball Sub   \n",
       "21    19                                 Falafel   \n",
       "23    21                       Chicken Schnitzel   \n",
       "24    22                                Shawarma   \n",
       "25    22                                Shawarma   \n",
       "27    24                       Vegetarian Panino   \n",
       "53    43  Oat Bread, Pecan Butter, and Fruit Jam   \n",
       "55    45                                  Cubano   \n",
       "57    47                Debbie&rsquo;s Egg Salad   \n",
       "60    50                              The Gatsby   \n",
       "\n",
       "                      restaurant  \\\n",
       "11              Ricobene&rsquo;s   \n",
       "13              Ricobene&rsquo;s   \n",
       "18                          Bari   \n",
       "21                 Old Jerusalem   \n",
       "23     Olga&rsquo;s Delicatessen   \n",
       "24  Dawali Mediterranean Kitchen   \n",
       "25  Dawali Mediterranean Kitchen   \n",
       "27                       La Pane   \n",
       "53    Elaine&rsquo;s Coffee Call   \n",
       "55                      Cafecito   \n",
       "57        The Goddess and Grocer   \n",
       "60         Phoebe&rsquo;s Bakery   \n",
       "\n",
       "                                          description  price  \\\n",
       "11  This is what put Ricobene&rsquo;s on the map: ...    5.0   \n",
       "13  This is what put Ricobene&rsquo;s on the map: ...    5.0   \n",
       "18  No condiments, no fuss, just saucy meatballs (...    4.0   \n",
       "21  The fritters of mashed chickpeas are perfectly...    6.0   \n",
       "23  A no-frills thrill, the schnitzel is a classic...    5.0   \n",
       "24  Dawali&rsquo;s filling shawarma escapes a comm...    6.0   \n",
       "25  Dawali&rsquo;s filling shawarma escapes a comm...    6.0   \n",
       "27  La Pane might be known for pizza, but it offer...    5.0   \n",
       "53  The chalkboard menu is ambiguous about whether...    6.0   \n",
       "55  The success of this sandwich, a Cuban traditio...    5.0   \n",
       "57  Nothing quite satisfies the comfortfood hunger...    6.0   \n",
       "60  The best thing about Phoebe&rsquo;s panini is ...    6.0   \n",
       "\n",
       "                    address     city           phone  \\\n",
       "11       252 W. 26th Street  Chicago  (312) 225-5555   \n",
       "13     5160 S. Pulaski Road  Chicago  (773) 284-2400   \n",
       "18       1120 W. Grand Ave.  Chicago    312-666-0730   \n",
       "21        1411 N. Wells St.  Chicago    312-944-0459   \n",
       "23  3209 W. Irving Park Rd.  Chicago    773-539-8038   \n",
       "24       1625 N Halsted St.  Chicago  (312) 944-5800   \n",
       "25        4911 N Kedzie Ave  Chicago  (773) 267-4222   \n",
       "27  2954 W. Irving Park Rd.  Chicago    773-539-5321   \n",
       "53        1816 N. Clark St.  Chicago             NaN   \n",
       "55     26 E. Congress Pkwy.  Chicago    312-922-2233   \n",
       "57       25 E. Delaware Pl.  Chicago    312-896-2600   \n",
       "60         3351 N. Broadway  Chicago    773-868-4000   \n",
       "\n",
       "                                 website                      full_address  \\\n",
       "11                    ricobenespizza.com       252 W. 26th Street, Chicago   \n",
       "13                    ricobenespizza.com     5160 S. Pulaski Road, Chicago   \n",
       "18                   bariitaliansubs.com       1120 W. Grand Ave., Chicago   \n",
       "21               oldjerusalemchicago.com        1411 N. Wells St., Chicago   \n",
       "23                                   NaN  3209 W. Irving Park Rd., Chicago   \n",
       "24                     dawalikitchen.com       1625 N Halsted St., Chicago   \n",
       "25                     dawalikitchen.com        4911 N Kedzie Ave, Chicago   \n",
       "27                     lapanechicago.com  2954 W. Irving Park Rd., Chicago   \n",
       "53  jdvhotels.com/hotels/chicago/lincoln        1816 N. Clark St., Chicago   \n",
       "55                   cafecitochicago.com     26 E. Congress Pkwy., Chicago   \n",
       "57                  goddessandgrocer.com       25 E. Delaware Pl., Chicago   \n",
       "60                     phoebesbakery.com         3351 N. Broadway, Chicago   \n",
       "\n",
       "                                    formatted_address        lat        lng  \n",
       "11       252 West 26th Street, Chicago, IL 60616, USA  41.845754 -87.633895  \n",
       "13    5160 South Pulaski Road, Chicago, IL 60632, USA  41.798956 -87.723434  \n",
       "18     1120 West Grand Avenue, Chicago, IL 60642, USA  41.891213 -87.655534  \n",
       "21    1411 North Wells Street, Chicago, IL 60610, USA  41.908000 -87.634157  \n",
       "23  3209 West Irving Park Road, Chicago, IL 60618,...  41.953806 -87.708466  \n",
       "24  1625 North Halsted Street, Chicago, IL 60614, USA  41.911714 -87.648218  \n",
       "25   4911 North Kedzie Avenue, Chicago, IL 60625, USA  41.970782 -87.708503  \n",
       "27  2954 West Irving Park Road, Chicago, IL 60618,...  41.954024 -87.702521  \n",
       "53    1816 North Clark Street, Chicago, IL 60614, USA  41.915304 -87.634502  \n",
       "55   26 East Congress Parkway, Chicago, IL 60605, USA  41.875804 -87.626366  \n",
       "57     25 East Delaware Place, Chicago, IL 60611, USA  41.898990 -87.627290  \n",
       "60        3351 North Broadway, Chicago, IL 60657, USA  41.942739 -87.644342  "
      ]
     },
     "execution_count": 61,
     "metadata": {},
     "output_type": "execute_result"
    }
   ],
   "source": [
    "#SQL 3 en Pandas\n",
    "data[(data.city=='Chicago') & (data.price<7.0) ]"
   ]
  },
  {
   "cell_type": "code",
   "execution_count": 62,
   "metadata": {
    "colab": {
     "base_uri": "https://localhost:8080/",
     "height": 625
    },
    "colab_type": "code",
    "id": "iln7WqTNyQds",
    "outputId": "4aa1f0d3-6bd7-4292-a704-2d9924663b1e"
   },
   "outputs": [
    {
     "data": {
      "text/html": [
       "<div>\n",
       "<style scoped>\n",
       "    .dataframe tbody tr th:only-of-type {\n",
       "        vertical-align: middle;\n",
       "    }\n",
       "\n",
       "    .dataframe tbody tr th {\n",
       "        vertical-align: top;\n",
       "    }\n",
       "\n",
       "    .dataframe thead th {\n",
       "        text-align: right;\n",
       "    }\n",
       "</style>\n",
       "<table border=\"1\" class=\"dataframe\">\n",
       "  <thead>\n",
       "    <tr style=\"text-align: right;\">\n",
       "      <th></th>\n",
       "      <th>rank</th>\n",
       "      <th>sandwich</th>\n",
       "      <th>restaurant</th>\n",
       "      <th>description</th>\n",
       "      <th>price</th>\n",
       "      <th>address</th>\n",
       "      <th>city</th>\n",
       "      <th>phone</th>\n",
       "      <th>website</th>\n",
       "      <th>full_address</th>\n",
       "      <th>formatted_address</th>\n",
       "      <th>lat</th>\n",
       "      <th>lng</th>\n",
       "    </tr>\n",
       "  </thead>\n",
       "  <tbody>\n",
       "    <tr>\n",
       "      <th>11</th>\n",
       "      <td>12</td>\n",
       "      <td>Breaded Steak</td>\n",
       "      <td>Ricobene&amp;rsquo;s</td>\n",
       "      <td>This is what put Ricobene&amp;rsquo;s on the map: ...</td>\n",
       "      <td>5.0</td>\n",
       "      <td>252 W. 26th Street</td>\n",
       "      <td>Chicago</td>\n",
       "      <td>(312) 225-5555</td>\n",
       "      <td>ricobenespizza.com</td>\n",
       "      <td>252 W. 26th Street, Chicago</td>\n",
       "      <td>252 West 26th Street, Chicago, IL 60616, USA</td>\n",
       "      <td>41.845754</td>\n",
       "      <td>-87.633895</td>\n",
       "    </tr>\n",
       "    <tr>\n",
       "      <th>13</th>\n",
       "      <td>12</td>\n",
       "      <td>Breaded Steak</td>\n",
       "      <td>Ricobene&amp;rsquo;s</td>\n",
       "      <td>This is what put Ricobene&amp;rsquo;s on the map: ...</td>\n",
       "      <td>5.0</td>\n",
       "      <td>5160 S. Pulaski Road</td>\n",
       "      <td>Chicago</td>\n",
       "      <td>(773) 284-2400</td>\n",
       "      <td>ricobenespizza.com</td>\n",
       "      <td>5160 S. Pulaski Road, Chicago</td>\n",
       "      <td>5160 South Pulaski Road, Chicago, IL 60632, USA</td>\n",
       "      <td>41.798956</td>\n",
       "      <td>-87.723434</td>\n",
       "    </tr>\n",
       "    <tr>\n",
       "      <th>18</th>\n",
       "      <td>16</td>\n",
       "      <td>Meatball Sub</td>\n",
       "      <td>Bari</td>\n",
       "      <td>No condiments, no fuss, just saucy meatballs (...</td>\n",
       "      <td>4.0</td>\n",
       "      <td>1120 W. Grand Ave.</td>\n",
       "      <td>Chicago</td>\n",
       "      <td>312-666-0730</td>\n",
       "      <td>bariitaliansubs.com</td>\n",
       "      <td>1120 W. Grand Ave., Chicago</td>\n",
       "      <td>1120 West Grand Avenue, Chicago, IL 60642, USA</td>\n",
       "      <td>41.891213</td>\n",
       "      <td>-87.655534</td>\n",
       "    </tr>\n",
       "    <tr>\n",
       "      <th>21</th>\n",
       "      <td>19</td>\n",
       "      <td>Falafel</td>\n",
       "      <td>Old Jerusalem</td>\n",
       "      <td>The fritters of mashed chickpeas are perfectly...</td>\n",
       "      <td>6.0</td>\n",
       "      <td>1411 N. Wells St.</td>\n",
       "      <td>Chicago</td>\n",
       "      <td>312-944-0459</td>\n",
       "      <td>oldjerusalemchicago.com</td>\n",
       "      <td>1411 N. Wells St., Chicago</td>\n",
       "      <td>1411 North Wells Street, Chicago, IL 60610, USA</td>\n",
       "      <td>41.908000</td>\n",
       "      <td>-87.634157</td>\n",
       "    </tr>\n",
       "    <tr>\n",
       "      <th>23</th>\n",
       "      <td>21</td>\n",
       "      <td>Chicken Schnitzel</td>\n",
       "      <td>Olga&amp;rsquo;s Delicatessen</td>\n",
       "      <td>A no-frills thrill, the schnitzel is a classic...</td>\n",
       "      <td>5.0</td>\n",
       "      <td>3209 W. Irving Park Rd.</td>\n",
       "      <td>Chicago</td>\n",
       "      <td>773-539-8038</td>\n",
       "      <td>NaN</td>\n",
       "      <td>3209 W. Irving Park Rd., Chicago</td>\n",
       "      <td>3209 West Irving Park Road, Chicago, IL 60618,...</td>\n",
       "      <td>41.953806</td>\n",
       "      <td>-87.708466</td>\n",
       "    </tr>\n",
       "    <tr>\n",
       "      <th>24</th>\n",
       "      <td>22</td>\n",
       "      <td>Shawarma</td>\n",
       "      <td>Dawali Mediterranean Kitchen</td>\n",
       "      <td>Dawali&amp;rsquo;s filling shawarma escapes a comm...</td>\n",
       "      <td>6.0</td>\n",
       "      <td>1625 N Halsted St.</td>\n",
       "      <td>Chicago</td>\n",
       "      <td>(312) 944-5800</td>\n",
       "      <td>dawalikitchen.com</td>\n",
       "      <td>1625 N Halsted St., Chicago</td>\n",
       "      <td>1625 North Halsted Street, Chicago, IL 60614, USA</td>\n",
       "      <td>41.911714</td>\n",
       "      <td>-87.648218</td>\n",
       "    </tr>\n",
       "    <tr>\n",
       "      <th>25</th>\n",
       "      <td>22</td>\n",
       "      <td>Shawarma</td>\n",
       "      <td>Dawali Mediterranean Kitchen</td>\n",
       "      <td>Dawali&amp;rsquo;s filling shawarma escapes a comm...</td>\n",
       "      <td>6.0</td>\n",
       "      <td>4911 N Kedzie Ave</td>\n",
       "      <td>Chicago</td>\n",
       "      <td>(773) 267-4222</td>\n",
       "      <td>dawalikitchen.com</td>\n",
       "      <td>4911 N Kedzie Ave, Chicago</td>\n",
       "      <td>4911 North Kedzie Avenue, Chicago, IL 60625, USA</td>\n",
       "      <td>41.970782</td>\n",
       "      <td>-87.708503</td>\n",
       "    </tr>\n",
       "    <tr>\n",
       "      <th>27</th>\n",
       "      <td>24</td>\n",
       "      <td>Vegetarian Panino</td>\n",
       "      <td>La Pane</td>\n",
       "      <td>La Pane might be known for pizza, but it offer...</td>\n",
       "      <td>5.0</td>\n",
       "      <td>2954 W. Irving Park Rd.</td>\n",
       "      <td>Chicago</td>\n",
       "      <td>773-539-5321</td>\n",
       "      <td>lapanechicago.com</td>\n",
       "      <td>2954 W. Irving Park Rd., Chicago</td>\n",
       "      <td>2954 West Irving Park Road, Chicago, IL 60618,...</td>\n",
       "      <td>41.954024</td>\n",
       "      <td>-87.702521</td>\n",
       "    </tr>\n",
       "    <tr>\n",
       "      <th>53</th>\n",
       "      <td>43</td>\n",
       "      <td>Oat Bread, Pecan Butter, and Fruit Jam</td>\n",
       "      <td>Elaine&amp;rsquo;s Coffee Call</td>\n",
       "      <td>The chalkboard menu is ambiguous about whether...</td>\n",
       "      <td>6.0</td>\n",
       "      <td>1816 N. Clark St.</td>\n",
       "      <td>Chicago</td>\n",
       "      <td>NaN</td>\n",
       "      <td>jdvhotels.com/hotels/chicago/lincoln</td>\n",
       "      <td>1816 N. Clark St., Chicago</td>\n",
       "      <td>1816 North Clark Street, Chicago, IL 60614, USA</td>\n",
       "      <td>41.915304</td>\n",
       "      <td>-87.634502</td>\n",
       "    </tr>\n",
       "    <tr>\n",
       "      <th>55</th>\n",
       "      <td>45</td>\n",
       "      <td>Cubano</td>\n",
       "      <td>Cafecito</td>\n",
       "      <td>The success of this sandwich, a Cuban traditio...</td>\n",
       "      <td>5.0</td>\n",
       "      <td>26 E. Congress Pkwy.</td>\n",
       "      <td>Chicago</td>\n",
       "      <td>312-922-2233</td>\n",
       "      <td>cafecitochicago.com</td>\n",
       "      <td>26 E. Congress Pkwy., Chicago</td>\n",
       "      <td>26 East Congress Parkway, Chicago, IL 60605, USA</td>\n",
       "      <td>41.875804</td>\n",
       "      <td>-87.626366</td>\n",
       "    </tr>\n",
       "    <tr>\n",
       "      <th>57</th>\n",
       "      <td>47</td>\n",
       "      <td>Debbie&amp;rsquo;s Egg Salad</td>\n",
       "      <td>The Goddess and Grocer</td>\n",
       "      <td>Nothing quite satisfies the comfortfood hunger...</td>\n",
       "      <td>6.0</td>\n",
       "      <td>25 E. Delaware Pl.</td>\n",
       "      <td>Chicago</td>\n",
       "      <td>312-896-2600</td>\n",
       "      <td>goddessandgrocer.com</td>\n",
       "      <td>25 E. Delaware Pl., Chicago</td>\n",
       "      <td>25 East Delaware Place, Chicago, IL 60611, USA</td>\n",
       "      <td>41.898990</td>\n",
       "      <td>-87.627290</td>\n",
       "    </tr>\n",
       "    <tr>\n",
       "      <th>60</th>\n",
       "      <td>50</td>\n",
       "      <td>The Gatsby</td>\n",
       "      <td>Phoebe&amp;rsquo;s Bakery</td>\n",
       "      <td>The best thing about Phoebe&amp;rsquo;s panini is ...</td>\n",
       "      <td>6.0</td>\n",
       "      <td>3351 N. Broadway</td>\n",
       "      <td>Chicago</td>\n",
       "      <td>773-868-4000</td>\n",
       "      <td>phoebesbakery.com</td>\n",
       "      <td>3351 N. Broadway, Chicago</td>\n",
       "      <td>3351 North Broadway, Chicago, IL 60657, USA</td>\n",
       "      <td>41.942739</td>\n",
       "      <td>-87.644342</td>\n",
       "    </tr>\n",
       "  </tbody>\n",
       "</table>\n",
       "</div>"
      ],
      "text/plain": [
       "    rank                                sandwich  \\\n",
       "11    12                           Breaded Steak   \n",
       "13    12                           Breaded Steak   \n",
       "18    16                            Meatball Sub   \n",
       "21    19                                 Falafel   \n",
       "23    21                       Chicken Schnitzel   \n",
       "24    22                                Shawarma   \n",
       "25    22                                Shawarma   \n",
       "27    24                       Vegetarian Panino   \n",
       "53    43  Oat Bread, Pecan Butter, and Fruit Jam   \n",
       "55    45                                  Cubano   \n",
       "57    47                Debbie&rsquo;s Egg Salad   \n",
       "60    50                              The Gatsby   \n",
       "\n",
       "                      restaurant  \\\n",
       "11              Ricobene&rsquo;s   \n",
       "13              Ricobene&rsquo;s   \n",
       "18                          Bari   \n",
       "21                 Old Jerusalem   \n",
       "23     Olga&rsquo;s Delicatessen   \n",
       "24  Dawali Mediterranean Kitchen   \n",
       "25  Dawali Mediterranean Kitchen   \n",
       "27                       La Pane   \n",
       "53    Elaine&rsquo;s Coffee Call   \n",
       "55                      Cafecito   \n",
       "57        The Goddess and Grocer   \n",
       "60         Phoebe&rsquo;s Bakery   \n",
       "\n",
       "                                          description  price  \\\n",
       "11  This is what put Ricobene&rsquo;s on the map: ...    5.0   \n",
       "13  This is what put Ricobene&rsquo;s on the map: ...    5.0   \n",
       "18  No condiments, no fuss, just saucy meatballs (...    4.0   \n",
       "21  The fritters of mashed chickpeas are perfectly...    6.0   \n",
       "23  A no-frills thrill, the schnitzel is a classic...    5.0   \n",
       "24  Dawali&rsquo;s filling shawarma escapes a comm...    6.0   \n",
       "25  Dawali&rsquo;s filling shawarma escapes a comm...    6.0   \n",
       "27  La Pane might be known for pizza, but it offer...    5.0   \n",
       "53  The chalkboard menu is ambiguous about whether...    6.0   \n",
       "55  The success of this sandwich, a Cuban traditio...    5.0   \n",
       "57  Nothing quite satisfies the comfortfood hunger...    6.0   \n",
       "60  The best thing about Phoebe&rsquo;s panini is ...    6.0   \n",
       "\n",
       "                    address     city           phone  \\\n",
       "11       252 W. 26th Street  Chicago  (312) 225-5555   \n",
       "13     5160 S. Pulaski Road  Chicago  (773) 284-2400   \n",
       "18       1120 W. Grand Ave.  Chicago    312-666-0730   \n",
       "21        1411 N. Wells St.  Chicago    312-944-0459   \n",
       "23  3209 W. Irving Park Rd.  Chicago    773-539-8038   \n",
       "24       1625 N Halsted St.  Chicago  (312) 944-5800   \n",
       "25        4911 N Kedzie Ave  Chicago  (773) 267-4222   \n",
       "27  2954 W. Irving Park Rd.  Chicago    773-539-5321   \n",
       "53        1816 N. Clark St.  Chicago             NaN   \n",
       "55     26 E. Congress Pkwy.  Chicago    312-922-2233   \n",
       "57       25 E. Delaware Pl.  Chicago    312-896-2600   \n",
       "60         3351 N. Broadway  Chicago    773-868-4000   \n",
       "\n",
       "                                 website                      full_address  \\\n",
       "11                    ricobenespizza.com       252 W. 26th Street, Chicago   \n",
       "13                    ricobenespizza.com     5160 S. Pulaski Road, Chicago   \n",
       "18                   bariitaliansubs.com       1120 W. Grand Ave., Chicago   \n",
       "21               oldjerusalemchicago.com        1411 N. Wells St., Chicago   \n",
       "23                                   NaN  3209 W. Irving Park Rd., Chicago   \n",
       "24                     dawalikitchen.com       1625 N Halsted St., Chicago   \n",
       "25                     dawalikitchen.com        4911 N Kedzie Ave, Chicago   \n",
       "27                     lapanechicago.com  2954 W. Irving Park Rd., Chicago   \n",
       "53  jdvhotels.com/hotels/chicago/lincoln        1816 N. Clark St., Chicago   \n",
       "55                   cafecitochicago.com     26 E. Congress Pkwy., Chicago   \n",
       "57                  goddessandgrocer.com       25 E. Delaware Pl., Chicago   \n",
       "60                     phoebesbakery.com         3351 N. Broadway, Chicago   \n",
       "\n",
       "                                    formatted_address        lat        lng  \n",
       "11       252 West 26th Street, Chicago, IL 60616, USA  41.845754 -87.633895  \n",
       "13    5160 South Pulaski Road, Chicago, IL 60632, USA  41.798956 -87.723434  \n",
       "18     1120 West Grand Avenue, Chicago, IL 60642, USA  41.891213 -87.655534  \n",
       "21    1411 North Wells Street, Chicago, IL 60610, USA  41.908000 -87.634157  \n",
       "23  3209 West Irving Park Road, Chicago, IL 60618,...  41.953806 -87.708466  \n",
       "24  1625 North Halsted Street, Chicago, IL 60614, USA  41.911714 -87.648218  \n",
       "25   4911 North Kedzie Avenue, Chicago, IL 60625, USA  41.970782 -87.708503  \n",
       "27  2954 West Irving Park Road, Chicago, IL 60618,...  41.954024 -87.702521  \n",
       "53    1816 North Clark Street, Chicago, IL 60614, USA  41.915304 -87.634502  \n",
       "55   26 East Congress Parkway, Chicago, IL 60605, USA  41.875804 -87.626366  \n",
       "57     25 East Delaware Place, Chicago, IL 60611, USA  41.898990 -87.627290  \n",
       "60        3351 North Broadway, Chicago, IL 60657, USA  41.942739 -87.644342  "
      ]
     },
     "execution_count": 62,
     "metadata": {},
     "output_type": "execute_result"
    }
   ],
   "source": [
    "#SQL 3 en Pandas\n",
    "data.loc[(data.city=='Chicago') & (data.price<7.0),: ]"
   ]
  },
  {
   "cell_type": "code",
   "execution_count": 63,
   "metadata": {
    "colab": {
     "base_uri": "https://localhost:8080/",
     "height": 625
    },
    "colab_type": "code",
    "id": "rMNCT645ykNv",
    "outputId": "1e99bbeb-efd5-4236-8549-6133cb3347ab"
   },
   "outputs": [
    {
     "data": {
      "text/html": [
       "<div>\n",
       "<style scoped>\n",
       "    .dataframe tbody tr th:only-of-type {\n",
       "        vertical-align: middle;\n",
       "    }\n",
       "\n",
       "    .dataframe tbody tr th {\n",
       "        vertical-align: top;\n",
       "    }\n",
       "\n",
       "    .dataframe thead th {\n",
       "        text-align: right;\n",
       "    }\n",
       "</style>\n",
       "<table border=\"1\" class=\"dataframe\">\n",
       "  <thead>\n",
       "    <tr style=\"text-align: right;\">\n",
       "      <th></th>\n",
       "      <th>rank</th>\n",
       "      <th>sandwich</th>\n",
       "      <th>restaurant</th>\n",
       "      <th>description</th>\n",
       "      <th>price</th>\n",
       "      <th>address</th>\n",
       "      <th>city</th>\n",
       "      <th>phone</th>\n",
       "      <th>website</th>\n",
       "      <th>full_address</th>\n",
       "      <th>formatted_address</th>\n",
       "      <th>lat</th>\n",
       "      <th>lng</th>\n",
       "    </tr>\n",
       "  </thead>\n",
       "  <tbody>\n",
       "    <tr>\n",
       "      <th>11</th>\n",
       "      <td>12</td>\n",
       "      <td>Breaded Steak</td>\n",
       "      <td>Ricobene&amp;rsquo;s</td>\n",
       "      <td>This is what put Ricobene&amp;rsquo;s on the map: ...</td>\n",
       "      <td>5.0</td>\n",
       "      <td>252 W. 26th Street</td>\n",
       "      <td>Chicago</td>\n",
       "      <td>(312) 225-5555</td>\n",
       "      <td>ricobenespizza.com</td>\n",
       "      <td>252 W. 26th Street, Chicago</td>\n",
       "      <td>252 West 26th Street, Chicago, IL 60616, USA</td>\n",
       "      <td>41.845754</td>\n",
       "      <td>-87.633895</td>\n",
       "    </tr>\n",
       "    <tr>\n",
       "      <th>13</th>\n",
       "      <td>12</td>\n",
       "      <td>Breaded Steak</td>\n",
       "      <td>Ricobene&amp;rsquo;s</td>\n",
       "      <td>This is what put Ricobene&amp;rsquo;s on the map: ...</td>\n",
       "      <td>5.0</td>\n",
       "      <td>5160 S. Pulaski Road</td>\n",
       "      <td>Chicago</td>\n",
       "      <td>(773) 284-2400</td>\n",
       "      <td>ricobenespizza.com</td>\n",
       "      <td>5160 S. Pulaski Road, Chicago</td>\n",
       "      <td>5160 South Pulaski Road, Chicago, IL 60632, USA</td>\n",
       "      <td>41.798956</td>\n",
       "      <td>-87.723434</td>\n",
       "    </tr>\n",
       "    <tr>\n",
       "      <th>18</th>\n",
       "      <td>16</td>\n",
       "      <td>Meatball Sub</td>\n",
       "      <td>Bari</td>\n",
       "      <td>No condiments, no fuss, just saucy meatballs (...</td>\n",
       "      <td>4.0</td>\n",
       "      <td>1120 W. Grand Ave.</td>\n",
       "      <td>Chicago</td>\n",
       "      <td>312-666-0730</td>\n",
       "      <td>bariitaliansubs.com</td>\n",
       "      <td>1120 W. Grand Ave., Chicago</td>\n",
       "      <td>1120 West Grand Avenue, Chicago, IL 60642, USA</td>\n",
       "      <td>41.891213</td>\n",
       "      <td>-87.655534</td>\n",
       "    </tr>\n",
       "    <tr>\n",
       "      <th>21</th>\n",
       "      <td>19</td>\n",
       "      <td>Falafel</td>\n",
       "      <td>Old Jerusalem</td>\n",
       "      <td>The fritters of mashed chickpeas are perfectly...</td>\n",
       "      <td>6.0</td>\n",
       "      <td>1411 N. Wells St.</td>\n",
       "      <td>Chicago</td>\n",
       "      <td>312-944-0459</td>\n",
       "      <td>oldjerusalemchicago.com</td>\n",
       "      <td>1411 N. Wells St., Chicago</td>\n",
       "      <td>1411 North Wells Street, Chicago, IL 60610, USA</td>\n",
       "      <td>41.908000</td>\n",
       "      <td>-87.634157</td>\n",
       "    </tr>\n",
       "    <tr>\n",
       "      <th>23</th>\n",
       "      <td>21</td>\n",
       "      <td>Chicken Schnitzel</td>\n",
       "      <td>Olga&amp;rsquo;s Delicatessen</td>\n",
       "      <td>A no-frills thrill, the schnitzel is a classic...</td>\n",
       "      <td>5.0</td>\n",
       "      <td>3209 W. Irving Park Rd.</td>\n",
       "      <td>Chicago</td>\n",
       "      <td>773-539-8038</td>\n",
       "      <td>NaN</td>\n",
       "      <td>3209 W. Irving Park Rd., Chicago</td>\n",
       "      <td>3209 West Irving Park Road, Chicago, IL 60618,...</td>\n",
       "      <td>41.953806</td>\n",
       "      <td>-87.708466</td>\n",
       "    </tr>\n",
       "    <tr>\n",
       "      <th>24</th>\n",
       "      <td>22</td>\n",
       "      <td>Shawarma</td>\n",
       "      <td>Dawali Mediterranean Kitchen</td>\n",
       "      <td>Dawali&amp;rsquo;s filling shawarma escapes a comm...</td>\n",
       "      <td>6.0</td>\n",
       "      <td>1625 N Halsted St.</td>\n",
       "      <td>Chicago</td>\n",
       "      <td>(312) 944-5800</td>\n",
       "      <td>dawalikitchen.com</td>\n",
       "      <td>1625 N Halsted St., Chicago</td>\n",
       "      <td>1625 North Halsted Street, Chicago, IL 60614, USA</td>\n",
       "      <td>41.911714</td>\n",
       "      <td>-87.648218</td>\n",
       "    </tr>\n",
       "    <tr>\n",
       "      <th>25</th>\n",
       "      <td>22</td>\n",
       "      <td>Shawarma</td>\n",
       "      <td>Dawali Mediterranean Kitchen</td>\n",
       "      <td>Dawali&amp;rsquo;s filling shawarma escapes a comm...</td>\n",
       "      <td>6.0</td>\n",
       "      <td>4911 N Kedzie Ave</td>\n",
       "      <td>Chicago</td>\n",
       "      <td>(773) 267-4222</td>\n",
       "      <td>dawalikitchen.com</td>\n",
       "      <td>4911 N Kedzie Ave, Chicago</td>\n",
       "      <td>4911 North Kedzie Avenue, Chicago, IL 60625, USA</td>\n",
       "      <td>41.970782</td>\n",
       "      <td>-87.708503</td>\n",
       "    </tr>\n",
       "    <tr>\n",
       "      <th>27</th>\n",
       "      <td>24</td>\n",
       "      <td>Vegetarian Panino</td>\n",
       "      <td>La Pane</td>\n",
       "      <td>La Pane might be known for pizza, but it offer...</td>\n",
       "      <td>5.0</td>\n",
       "      <td>2954 W. Irving Park Rd.</td>\n",
       "      <td>Chicago</td>\n",
       "      <td>773-539-5321</td>\n",
       "      <td>lapanechicago.com</td>\n",
       "      <td>2954 W. Irving Park Rd., Chicago</td>\n",
       "      <td>2954 West Irving Park Road, Chicago, IL 60618,...</td>\n",
       "      <td>41.954024</td>\n",
       "      <td>-87.702521</td>\n",
       "    </tr>\n",
       "    <tr>\n",
       "      <th>53</th>\n",
       "      <td>43</td>\n",
       "      <td>Oat Bread, Pecan Butter, and Fruit Jam</td>\n",
       "      <td>Elaine&amp;rsquo;s Coffee Call</td>\n",
       "      <td>The chalkboard menu is ambiguous about whether...</td>\n",
       "      <td>6.0</td>\n",
       "      <td>1816 N. Clark St.</td>\n",
       "      <td>Chicago</td>\n",
       "      <td>NaN</td>\n",
       "      <td>jdvhotels.com/hotels/chicago/lincoln</td>\n",
       "      <td>1816 N. Clark St., Chicago</td>\n",
       "      <td>1816 North Clark Street, Chicago, IL 60614, USA</td>\n",
       "      <td>41.915304</td>\n",
       "      <td>-87.634502</td>\n",
       "    </tr>\n",
       "    <tr>\n",
       "      <th>55</th>\n",
       "      <td>45</td>\n",
       "      <td>Cubano</td>\n",
       "      <td>Cafecito</td>\n",
       "      <td>The success of this sandwich, a Cuban traditio...</td>\n",
       "      <td>5.0</td>\n",
       "      <td>26 E. Congress Pkwy.</td>\n",
       "      <td>Chicago</td>\n",
       "      <td>312-922-2233</td>\n",
       "      <td>cafecitochicago.com</td>\n",
       "      <td>26 E. Congress Pkwy., Chicago</td>\n",
       "      <td>26 East Congress Parkway, Chicago, IL 60605, USA</td>\n",
       "      <td>41.875804</td>\n",
       "      <td>-87.626366</td>\n",
       "    </tr>\n",
       "    <tr>\n",
       "      <th>57</th>\n",
       "      <td>47</td>\n",
       "      <td>Debbie&amp;rsquo;s Egg Salad</td>\n",
       "      <td>The Goddess and Grocer</td>\n",
       "      <td>Nothing quite satisfies the comfortfood hunger...</td>\n",
       "      <td>6.0</td>\n",
       "      <td>25 E. Delaware Pl.</td>\n",
       "      <td>Chicago</td>\n",
       "      <td>312-896-2600</td>\n",
       "      <td>goddessandgrocer.com</td>\n",
       "      <td>25 E. Delaware Pl., Chicago</td>\n",
       "      <td>25 East Delaware Place, Chicago, IL 60611, USA</td>\n",
       "      <td>41.898990</td>\n",
       "      <td>-87.627290</td>\n",
       "    </tr>\n",
       "    <tr>\n",
       "      <th>60</th>\n",
       "      <td>50</td>\n",
       "      <td>The Gatsby</td>\n",
       "      <td>Phoebe&amp;rsquo;s Bakery</td>\n",
       "      <td>The best thing about Phoebe&amp;rsquo;s panini is ...</td>\n",
       "      <td>6.0</td>\n",
       "      <td>3351 N. Broadway</td>\n",
       "      <td>Chicago</td>\n",
       "      <td>773-868-4000</td>\n",
       "      <td>phoebesbakery.com</td>\n",
       "      <td>3351 N. Broadway, Chicago</td>\n",
       "      <td>3351 North Broadway, Chicago, IL 60657, USA</td>\n",
       "      <td>41.942739</td>\n",
       "      <td>-87.644342</td>\n",
       "    </tr>\n",
       "  </tbody>\n",
       "</table>\n",
       "</div>"
      ],
      "text/plain": [
       "    rank                                sandwich  \\\n",
       "11    12                           Breaded Steak   \n",
       "13    12                           Breaded Steak   \n",
       "18    16                            Meatball Sub   \n",
       "21    19                                 Falafel   \n",
       "23    21                       Chicken Schnitzel   \n",
       "24    22                                Shawarma   \n",
       "25    22                                Shawarma   \n",
       "27    24                       Vegetarian Panino   \n",
       "53    43  Oat Bread, Pecan Butter, and Fruit Jam   \n",
       "55    45                                  Cubano   \n",
       "57    47                Debbie&rsquo;s Egg Salad   \n",
       "60    50                              The Gatsby   \n",
       "\n",
       "                      restaurant  \\\n",
       "11              Ricobene&rsquo;s   \n",
       "13              Ricobene&rsquo;s   \n",
       "18                          Bari   \n",
       "21                 Old Jerusalem   \n",
       "23     Olga&rsquo;s Delicatessen   \n",
       "24  Dawali Mediterranean Kitchen   \n",
       "25  Dawali Mediterranean Kitchen   \n",
       "27                       La Pane   \n",
       "53    Elaine&rsquo;s Coffee Call   \n",
       "55                      Cafecito   \n",
       "57        The Goddess and Grocer   \n",
       "60         Phoebe&rsquo;s Bakery   \n",
       "\n",
       "                                          description  price  \\\n",
       "11  This is what put Ricobene&rsquo;s on the map: ...    5.0   \n",
       "13  This is what put Ricobene&rsquo;s on the map: ...    5.0   \n",
       "18  No condiments, no fuss, just saucy meatballs (...    4.0   \n",
       "21  The fritters of mashed chickpeas are perfectly...    6.0   \n",
       "23  A no-frills thrill, the schnitzel is a classic...    5.0   \n",
       "24  Dawali&rsquo;s filling shawarma escapes a comm...    6.0   \n",
       "25  Dawali&rsquo;s filling shawarma escapes a comm...    6.0   \n",
       "27  La Pane might be known for pizza, but it offer...    5.0   \n",
       "53  The chalkboard menu is ambiguous about whether...    6.0   \n",
       "55  The success of this sandwich, a Cuban traditio...    5.0   \n",
       "57  Nothing quite satisfies the comfortfood hunger...    6.0   \n",
       "60  The best thing about Phoebe&rsquo;s panini is ...    6.0   \n",
       "\n",
       "                    address     city           phone  \\\n",
       "11       252 W. 26th Street  Chicago  (312) 225-5555   \n",
       "13     5160 S. Pulaski Road  Chicago  (773) 284-2400   \n",
       "18       1120 W. Grand Ave.  Chicago    312-666-0730   \n",
       "21        1411 N. Wells St.  Chicago    312-944-0459   \n",
       "23  3209 W. Irving Park Rd.  Chicago    773-539-8038   \n",
       "24       1625 N Halsted St.  Chicago  (312) 944-5800   \n",
       "25        4911 N Kedzie Ave  Chicago  (773) 267-4222   \n",
       "27  2954 W. Irving Park Rd.  Chicago    773-539-5321   \n",
       "53        1816 N. Clark St.  Chicago             NaN   \n",
       "55     26 E. Congress Pkwy.  Chicago    312-922-2233   \n",
       "57       25 E. Delaware Pl.  Chicago    312-896-2600   \n",
       "60         3351 N. Broadway  Chicago    773-868-4000   \n",
       "\n",
       "                                 website                      full_address  \\\n",
       "11                    ricobenespizza.com       252 W. 26th Street, Chicago   \n",
       "13                    ricobenespizza.com     5160 S. Pulaski Road, Chicago   \n",
       "18                   bariitaliansubs.com       1120 W. Grand Ave., Chicago   \n",
       "21               oldjerusalemchicago.com        1411 N. Wells St., Chicago   \n",
       "23                                   NaN  3209 W. Irving Park Rd., Chicago   \n",
       "24                     dawalikitchen.com       1625 N Halsted St., Chicago   \n",
       "25                     dawalikitchen.com        4911 N Kedzie Ave, Chicago   \n",
       "27                     lapanechicago.com  2954 W. Irving Park Rd., Chicago   \n",
       "53  jdvhotels.com/hotels/chicago/lincoln        1816 N. Clark St., Chicago   \n",
       "55                   cafecitochicago.com     26 E. Congress Pkwy., Chicago   \n",
       "57                  goddessandgrocer.com       25 E. Delaware Pl., Chicago   \n",
       "60                     phoebesbakery.com         3351 N. Broadway, Chicago   \n",
       "\n",
       "                                    formatted_address        lat        lng  \n",
       "11       252 West 26th Street, Chicago, IL 60616, USA  41.845754 -87.633895  \n",
       "13    5160 South Pulaski Road, Chicago, IL 60632, USA  41.798956 -87.723434  \n",
       "18     1120 West Grand Avenue, Chicago, IL 60642, USA  41.891213 -87.655534  \n",
       "21    1411 North Wells Street, Chicago, IL 60610, USA  41.908000 -87.634157  \n",
       "23  3209 West Irving Park Road, Chicago, IL 60618,...  41.953806 -87.708466  \n",
       "24  1625 North Halsted Street, Chicago, IL 60614, USA  41.911714 -87.648218  \n",
       "25   4911 North Kedzie Avenue, Chicago, IL 60625, USA  41.970782 -87.708503  \n",
       "27  2954 West Irving Park Road, Chicago, IL 60618,...  41.954024 -87.702521  \n",
       "53    1816 North Clark Street, Chicago, IL 60614, USA  41.915304 -87.634502  \n",
       "55   26 East Congress Parkway, Chicago, IL 60605, USA  41.875804 -87.626366  \n",
       "57     25 East Delaware Place, Chicago, IL 60611, USA  41.898990 -87.627290  \n",
       "60        3351 North Broadway, Chicago, IL 60657, USA  41.942739 -87.644342  "
      ]
     },
     "execution_count": 63,
     "metadata": {},
     "output_type": "execute_result"
    }
   ],
   "source": [
    "#SQL 3 en Pandas\n",
    "data.query('city==\"Chicago\" and price<7.0')"
   ]
  },
  {
   "cell_type": "markdown",
   "metadata": {
    "colab_type": "text",
    "id": "YEiLukQDzQys"
   },
   "source": [
    "SQL 4\n",
    "\n",
    "Este es otro ejemplo, de usar un conector lógico.\n",
    "~~~sql\n",
    "SELECT *\n",
    "FROM data\n",
    "WHERE rank <= 10 OR price > 10;\n",
    "~~~\n"
   ]
  },
  {
   "cell_type": "code",
   "execution_count": 64,
   "metadata": {
    "colab": {},
    "colab_type": "code",
    "id": "AzsqkLmoyvBY"
   },
   "outputs": [
    {
     "data": {
      "text/plain": [
       "\u001b[0;31mType:\u001b[0m        DataFrame\n",
       "\u001b[0;31mString form:\u001b[0m\n",
       "rank                     sandwich              restaurant  \\\n",
       "           0      1                         <...>       3351 North Broadway, Chicago, IL 60657, USA  41.942739 -87.644342\n",
       "           \n",
       "           [61 rows x 13 columns]\n",
       "\u001b[0;31mLength:\u001b[0m      61\n",
       "\u001b[0;31mFile:\u001b[0m        ~/.virtualenvs/PandasAcademy/lib/python3.8/site-packages/pandas/core/frame.py\n",
       "\u001b[0;31mDocstring:\u001b[0m  \n",
       "Two-dimensional, size-mutable, potentially heterogeneous tabular data.\n",
       "\n",
       "Data structure also contains labeled axes (rows and columns).\n",
       "Arithmetic operations align on both row and column labels. Can be\n",
       "thought of as a dict-like container for Series objects. The primary\n",
       "pandas data structure.\n",
       "\n",
       "Parameters\n",
       "----------\n",
       "data : ndarray (structured or homogeneous), Iterable, dict, or DataFrame\n",
       "    Dict can contain Series, arrays, constants, dataclass or list-like objects. If\n",
       "    data is a dict, column order follows insertion-order. If a dict contains Series\n",
       "    which have an index defined, it is aligned by its index.\n",
       "\n",
       "    .. versionchanged:: 0.25.0\n",
       "       If data is a list of dicts, column order follows insertion-order.\n",
       "\n",
       "index : Index or array-like\n",
       "    Index to use for resulting frame. Will default to RangeIndex if\n",
       "    no indexing information part of input data and no index provided.\n",
       "columns : Index or array-like\n",
       "    Column labels to use for resulting frame when data does not have them,\n",
       "    defaulting to RangeIndex(0, 1, 2, ..., n). If data contains column labels,\n",
       "    will perform column selection instead.\n",
       "dtype : dtype, default None\n",
       "    Data type to force. Only a single dtype is allowed. If None, infer.\n",
       "copy : bool or None, default None\n",
       "    Copy data from inputs.\n",
       "    For dict data, the default of None behaves like ``copy=True``.  For DataFrame\n",
       "    or 2d ndarray input, the default of None behaves like ``copy=False``.\n",
       "\n",
       "    .. versionchanged:: 1.3.0\n",
       "\n",
       "See Also\n",
       "--------\n",
       "DataFrame.from_records : Constructor from tuples, also record arrays.\n",
       "DataFrame.from_dict : From dicts of Series, arrays, or dicts.\n",
       "read_csv : Read a comma-separated values (csv) file into DataFrame.\n",
       "read_table : Read general delimited file into DataFrame.\n",
       "read_clipboard : Read text from clipboard into DataFrame.\n",
       "\n",
       "Examples\n",
       "--------\n",
       "Constructing DataFrame from a dictionary.\n",
       "\n",
       ">>> d = {'col1': [1, 2], 'col2': [3, 4]}\n",
       ">>> df = pd.DataFrame(data=d)\n",
       ">>> df\n",
       "   col1  col2\n",
       "0     1     3\n",
       "1     2     4\n",
       "\n",
       "Notice that the inferred dtype is int64.\n",
       "\n",
       ">>> df.dtypes\n",
       "col1    int64\n",
       "col2    int64\n",
       "dtype: object\n",
       "\n",
       "To enforce a single dtype:\n",
       "\n",
       ">>> df = pd.DataFrame(data=d, dtype=np.int8)\n",
       ">>> df.dtypes\n",
       "col1    int8\n",
       "col2    int8\n",
       "dtype: object\n",
       "\n",
       "Constructing DataFrame from a dictionary including Series:\n",
       "\n",
       ">>> d = {'col1': [0, 1, 2, 3], 'col2': pd.Series([2, 3], index=[2, 3])}\n",
       ">>> pd.DataFrame(data=d, index=[0, 1, 2, 3])\n",
       "   col1  col2\n",
       "0     0   NaN\n",
       "1     1   NaN\n",
       "2     2   2.0\n",
       "3     3   3.0\n",
       "\n",
       "Constructing DataFrame from numpy ndarray:\n",
       "\n",
       ">>> df2 = pd.DataFrame(np.array([[1, 2, 3], [4, 5, 6], [7, 8, 9]]),\n",
       "...                    columns=['a', 'b', 'c'])\n",
       ">>> df2\n",
       "   a  b  c\n",
       "0  1  2  3\n",
       "1  4  5  6\n",
       "2  7  8  9\n",
       "\n",
       "Constructing DataFrame from a numpy ndarray that has labeled columns:\n",
       "\n",
       ">>> data = np.array([(1, 2, 3), (4, 5, 6), (7, 8, 9)],\n",
       "...                 dtype=[(\"a\", \"i4\"), (\"b\", \"i4\"), (\"c\", \"i4\")])\n",
       ">>> df3 = pd.DataFrame(data, columns=['c', 'a'])\n",
       "...\n",
       ">>> df3\n",
       "   c  a\n",
       "0  3  1\n",
       "1  6  4\n",
       "2  9  7\n",
       "\n",
       "Constructing DataFrame from dataclass:\n",
       "\n",
       ">>> from dataclasses import make_dataclass\n",
       ">>> Point = make_dataclass(\"Point\", [(\"x\", int), (\"y\", int)])\n",
       ">>> pd.DataFrame([Point(0, 0), Point(0, 3), Point(2, 3)])\n",
       "   x  y\n",
       "0  0  0\n",
       "1  0  3\n",
       "2  2  3\n"
      ]
     },
     "metadata": {},
     "output_type": "display_data"
    }
   ],
   "source": [
    "#Cuál sería la versión en Pandas?\n",
    "data?"
   ]
  },
  {
   "cell_type": "code",
   "execution_count": 65,
   "metadata": {},
   "outputs": [],
   "source": [
    "#data.query('rank <=10 or price<7.0')\n"
   ]
  },
  {
   "cell_type": "markdown",
   "metadata": {
    "colab_type": "text",
    "id": "Ncdd2K7s0EXY"
   },
   "source": [
    "SQL 5\n",
    "\n",
    "Por último otras de las operaciones básicas en SQL es operar sobre los NULL , que son los Missin Values en Pandas.\n",
    "\n",
    "~~~sql\n",
    "SELECT *\n",
    "FROM frame\n",
    "WHERE col2 IS NULL;\n",
    "~~~"
   ]
  },
  {
   "cell_type": "code",
   "execution_count": 66,
   "metadata": {
    "colab": {},
    "colab_type": "code",
    "id": "r73bucPA0GDu"
   },
   "outputs": [
    {
     "data": {
      "text/html": [
       "<div>\n",
       "<style scoped>\n",
       "    .dataframe tbody tr th:only-of-type {\n",
       "        vertical-align: middle;\n",
       "    }\n",
       "\n",
       "    .dataframe tbody tr th {\n",
       "        vertical-align: top;\n",
       "    }\n",
       "\n",
       "    .dataframe thead th {\n",
       "        text-align: right;\n",
       "    }\n",
       "</style>\n",
       "<table border=\"1\" class=\"dataframe\">\n",
       "  <thead>\n",
       "    <tr style=\"text-align: right;\">\n",
       "      <th></th>\n",
       "      <th>col1</th>\n",
       "      <th>col2</th>\n",
       "    </tr>\n",
       "  </thead>\n",
       "  <tbody>\n",
       "    <tr>\n",
       "      <th>0</th>\n",
       "      <td>A</td>\n",
       "      <td>F</td>\n",
       "    </tr>\n",
       "    <tr>\n",
       "      <th>1</th>\n",
       "      <td>B</td>\n",
       "      <td>NaN</td>\n",
       "    </tr>\n",
       "    <tr>\n",
       "      <th>2</th>\n",
       "      <td>NaN</td>\n",
       "      <td>G</td>\n",
       "    </tr>\n",
       "    <tr>\n",
       "      <th>3</th>\n",
       "      <td>C</td>\n",
       "      <td>H</td>\n",
       "    </tr>\n",
       "    <tr>\n",
       "      <th>4</th>\n",
       "      <td>D</td>\n",
       "      <td>I</td>\n",
       "    </tr>\n",
       "  </tbody>\n",
       "</table>\n",
       "</div>"
      ],
      "text/plain": [
       "  col1 col2\n",
       "0    A    F\n",
       "1    B  NaN\n",
       "2  NaN    G\n",
       "3    C    H\n",
       "4    D    I"
      ]
     },
     "execution_count": 66,
     "metadata": {},
     "output_type": "execute_result"
    }
   ],
   "source": [
    "#Se define un DF para el ejemplo\n",
    "frame = pd.DataFrame({'col1': ['A', 'B', np.NaN, 'C', 'D'],'col2': ['F', np.NaN, 'G', 'H', 'I']})\n",
    "frame "
   ]
  },
  {
   "cell_type": "code",
   "execution_count": 67,
   "metadata": {
    "colab": {},
    "colab_type": "code",
    "id": "TvWyrmOJ0UcF"
   },
   "outputs": [
    {
     "data": {
      "text/html": [
       "<div>\n",
       "<style scoped>\n",
       "    .dataframe tbody tr th:only-of-type {\n",
       "        vertical-align: middle;\n",
       "    }\n",
       "\n",
       "    .dataframe tbody tr th {\n",
       "        vertical-align: top;\n",
       "    }\n",
       "\n",
       "    .dataframe thead th {\n",
       "        text-align: right;\n",
       "    }\n",
       "</style>\n",
       "<table border=\"1\" class=\"dataframe\">\n",
       "  <thead>\n",
       "    <tr style=\"text-align: right;\">\n",
       "      <th></th>\n",
       "      <th>col1</th>\n",
       "      <th>col2</th>\n",
       "    </tr>\n",
       "  </thead>\n",
       "  <tbody>\n",
       "    <tr>\n",
       "      <th>1</th>\n",
       "      <td>B</td>\n",
       "      <td>NaN</td>\n",
       "    </tr>\n",
       "  </tbody>\n",
       "</table>\n",
       "</div>"
      ],
      "text/plain": [
       "  col1 col2\n",
       "1    B  NaN"
      ]
     },
     "execution_count": 67,
     "metadata": {},
     "output_type": "execute_result"
    }
   ],
   "source": [
    "#SQL 5 en Pandas\n",
    "frame[frame['col2'].isna()]"
   ]
  },
  {
   "cell_type": "markdown",
   "metadata": {
    "colab_type": "text",
    "id": "O8aP2Vh50c60"
   },
   "source": [
    "SQL 6\n",
    "\n",
    "Es otro ejemplo de trabajar con los NULL, pero usando otro conector lógico.\n",
    "\n",
    "~~~sql\n",
    "SELECT *\n",
    "FROM frame\n",
    "WHERE col1 IS NOT NULL;\n",
    "~~~"
   ]
  },
  {
   "cell_type": "code",
   "execution_count": 68,
   "metadata": {
    "colab": {},
    "colab_type": "code",
    "id": "ub61hc3E0XXP"
   },
   "outputs": [
    {
     "data": {
      "text/html": [
       "<div>\n",
       "<style scoped>\n",
       "    .dataframe tbody tr th:only-of-type {\n",
       "        vertical-align: middle;\n",
       "    }\n",
       "\n",
       "    .dataframe tbody tr th {\n",
       "        vertical-align: top;\n",
       "    }\n",
       "\n",
       "    .dataframe thead th {\n",
       "        text-align: right;\n",
       "    }\n",
       "</style>\n",
       "<table border=\"1\" class=\"dataframe\">\n",
       "  <thead>\n",
       "    <tr style=\"text-align: right;\">\n",
       "      <th></th>\n",
       "      <th>col1</th>\n",
       "      <th>col2</th>\n",
       "    </tr>\n",
       "  </thead>\n",
       "  <tbody>\n",
       "    <tr>\n",
       "      <th>0</th>\n",
       "      <td>A</td>\n",
       "      <td>F</td>\n",
       "    </tr>\n",
       "    <tr>\n",
       "      <th>1</th>\n",
       "      <td>B</td>\n",
       "      <td>NaN</td>\n",
       "    </tr>\n",
       "    <tr>\n",
       "      <th>3</th>\n",
       "      <td>C</td>\n",
       "      <td>H</td>\n",
       "    </tr>\n",
       "    <tr>\n",
       "      <th>4</th>\n",
       "      <td>D</td>\n",
       "      <td>I</td>\n",
       "    </tr>\n",
       "  </tbody>\n",
       "</table>\n",
       "</div>"
      ],
      "text/plain": [
       "  col1 col2\n",
       "0    A    F\n",
       "1    B  NaN\n",
       "3    C    H\n",
       "4    D    I"
      ]
     },
     "execution_count": 68,
     "metadata": {},
     "output_type": "execute_result"
    }
   ],
   "source": [
    "#SQL 6 en Pandas.\n",
    "frame[frame['col1'].notna()]"
   ]
  },
  {
   "cell_type": "markdown",
   "metadata": {
    "colab_type": "text",
    "id": "463z5afXLk_q"
   },
   "source": [
    "Los ejemplos anteriores es una primera parte de la relación de SQL y Pandas, en cieto sentido el modo de procesar los DF es considerado un tipo moderno de operaciones en SQL. Pero es fundamental aprender SQL y su lógica de programación ya que es un estandar en todas las bases de datos.\n",
    "\n",
    "Nota: En los ejemplos faltan algunos tipos de Queries estandar en SQL, los cuales requieren operaciones sobre varias tablas (joins), estas no se presentan en esta sección, pero si en las siguientes."
   ]
  },
  {
   "cell_type": "markdown",
   "metadata": {
    "colab_type": "text",
    "id": "GksyVvaZzT-0"
   },
   "source": [
    "## Notas finales:\n",
    "\n",
    "Las Series y los DataFrames pueden ser creados desde ciertas estructuras de datos o colecciones de Python, pero en el trabajo estándar son creados desde alguna base o archivo.\n",
    "\n",
    "Pandas permite mantener el tipo de programación estandar en Python, más aún permite hacer programación Declarativa esto en buena medida por el modo en que están definidas los métodos sobre las Series y DF.\n",
    "\n",
    "La carga de datos, requiere conocer algunas de las funciones para cargar los diferentes tipos de archivos. Por default Pandas asigna un tipo de dato a cada columna de un DF, pero lo recomendable es explorar cual tipo de dato es más adecuado y definir el tipo de dato, esto para hacer mejor uso de la memoria.\n",
    "\n",
    "## Referencias y Créditos:\n",
    "\n",
    "Libros:\n",
    "\n",
    "* [Python for Data Analysis: Data Wrangling with Pandas, NumPy, and IPython](https://www.amazon.com/Python-Data-Analysis-Wrangling-IPython/dp/1449319793)\n",
    "* [Data Science from Scratch: First Principles with Python](https://www.amazon.com/Data-Science-Scratch-Principles-Python/dp/149190142X)\n",
    "* [Python Data Science Handbook: Essential Tools for Working with Data](https://www.amazon.com/Python-Data-Science-Handbook-Essential/dp/1491912057)\n",
    "\n",
    "Sitios Web:\n",
    "\n",
    "*  [Mini tutotial de la página oficial](https://pandas.pydata.org/pandas-docs/stable/10min.html)\n",
    "* [Sobre la programación Declarativa en Python](https://www.benfrederickson.com/python-as-a-declarative-programming-language/)\n",
    "* [Más sobre Declarative programming](https://nullp0tr.com/pages/declarative_apis.html)\n",
    "\n",
    "* [Much more sobre Declarive programming](https://florianwilhelm.info/2017/07/declarative_thinking_and_programming/)"
   ]
  }
 ],
 "metadata": {
  "colab": {
   "collapsed_sections": [],
   "name": "Lesson_3.ipynb",
   "provenance": [],
   "version": "0.3.2"
  },
  "kernelspec": {
   "display_name": "Python 3 (ipykernel)",
   "language": "python",
   "name": "python3"
  },
  "language_info": {
   "codemirror_mode": {
    "name": "ipython",
    "version": 3
   },
   "file_extension": ".py",
   "mimetype": "text/x-python",
   "name": "python",
   "nbconvert_exporter": "python",
   "pygments_lexer": "ipython3",
   "version": "3.8.0"
  }
 },
 "nbformat": 4,
 "nbformat_minor": 4
}
