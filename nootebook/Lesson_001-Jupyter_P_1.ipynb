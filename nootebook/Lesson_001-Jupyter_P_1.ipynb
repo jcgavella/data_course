{
 "cells": [
  {
   "cell_type": "markdown",
   "metadata": {},
   "source": [
    "# Introduccion Jupyter notebook"
   ]
  },
  {
   "cell_type": "markdown",
   "metadata": {},
   "source": [
    "### ¿Qué es Jupyter?\n",
    "\n",
    "Jupyter es un entorno de trabajo que permite desarrollar código en Python (por defecto, aunque veremos más adelante como permitir otros lenguajes) de manera dinámica, a la vez que integrar en un mismo documento tanto bloques de código como texto, gráficas o imágenes. Es un SaaS utilizado ampliamente en análisis numérico, estadística y machine learning, entre otros campos de la informática y las matemáticas.\n",
    "\n",
    "En esta breve introducción vamos a presentar las características principales del notebook, y a explicar las diferentes funcionalidades y tipos de celdas que están disponibles.  [(web oficial jupyter)](https://jupyter.org/)\n",
    "\n"
   ]
  },
  {
   "cell_type": "markdown",
   "metadata": {},
   "source": [
    "### Instalación\n",
    "\n",
    "#### Por ejemplo desde una consola linux:\n",
    "\n",
    "Lo primero que necesitamos es tener instalado Python 3, que podemos descargar de su __[web oficial](https://www.python.org/downloads/release/python-364/)__. Una vez hecho, actualizamos al gestor de paquetes de python vía\n",
    "\n",
    "    python3 -m pip install --upgrade pip\n",
    "y después instalamos Jupyter\n",
    "\n",
    "    pip3 install jupyter\n",
    "Cuando haya terminado de descargar, podemos arrancarlo con el comando \n",
    "\n",
    "    jupyter notebook\n",
    "Se abrirá una nueva ventana en nuestro navegador predefinido, y la terminal quedará bloqueada con el proceso. (Podemos abrirlo en otro navegador, para lo cual se nos indica la URL en la salida por pantalla).\n",
    "<img width=650px src='https://imgur.com/f2juR7n.png'>"
   ]
  },
  {
   "cell_type": "markdown",
   "metadata": {},
   "source": [
    "## Creando un cuaderno\n",
    "El workspace que abre Jupyter es nuestro home de usuario. Con el botón New, podemos crear:\n",
    "- Carpetas (recomendable para organizar todo).\n",
    "- Archivos de texto (con un editor bastante simple).\n",
    "- Terminales.\n",
    "- Cuadernos, que es la opción que vamos a estudiar en este tutorial.\n",
    "\n",
    "Cuando creamos un cuaderno, se nos abre en una pestaña nueva. La interfaz es muy sencilla, con una barra de menú y herramientas y una celda vacía, que es la unidad básica de trabajo con Jupyter. \n",
    "\n",
    "\n",
    "Los notebooks estan pensados para poder ejecutar celdas de código. En este tutorial usaremos Python, pero tambien es posible utilizarlo con otros lenguajes de programación como Julia, R, C, etc. Esta posibilidad de utilizar diferentes lenguajes, se debe a que la interfaz de Jupyter notebook es compatible con diferentes kernels.\n",
    "\n",
    "Un kernel es el lenguaje de programación usado en el \"backend\" de Jupyter para ejecutar las celdas de código. Por ejemplo, en este caso estamos utilizando un kernel de Python 3.6, pero seria posible usar otros como el kernel de Python 2.7, un kernel de Julia, o de cualquier otro lenguaje compatible con Jupyter. \n",
    "\n",
    "En estas celdas es donde llevaremos a cabo nuestros análisis. Es posible ejecutarlas en el orden que queramos, ya que no es necesario que se ejecuten de forma secuencial.\n",
    "\n",
    "\n",
    "En una celda, podremos escribir una o varias líneas de código, y ejecutarla. También podemos escribir texto plano, y eliminar la celda del flujo de ejecución del cuaderno o hacer que se muestre de manera diferente si queremos que funcione como título, separador de sección, etc. Lo veremos más adelante.\n",
    "\n",
    "Es importante remarcar que tenemos dos modos de trabajo en Jupyter: \n",
    "- edición, que permite modificar el contenido de las celdas, como si fuera un editor de texto. La que tengamos seleccionada se muestra en verde. Podemos entrar en el mismo seleccionando una celda y pulsando _Enter_. \n",
    "<img src='https://imgur.com/burNHbh.png'>\n",
    "\n",
    "- mando, que nos permite ejecutar celdas o modificar el cuaderno y su estructura. La celda seleccionada se muestra en azul. Podemos volver al modo de mando pulsando _Esc_.\n",
    "<img src='https://imgur.com/b7I1thD.png'>\n",
    "\n",
    "Además, si ha habido un error en la ejecución de una celda, ésta aparece en color rojo.\n",
    "\n",
    "Para ejecutar una celda, haremos _Cmd + Enter_, o si queremos pasar automáticamente a la siguiente después de ejecutarla, podemos hacer _Shift + Enter_. Para saber cuándo una celda se ha ejecutado, está en ello o ya ha terminado, podemos mirar la cabecera de la celda:\n",
    "- Si solamente aparece In [ ], quiere decir que aún no se ha ejecutado.\n",
    "- Si lo que tenemos es In [\\*], entonces está en proceso de ejecución.\n",
    "- Si aparece un número entre los corchetes, ya ha terminado de ejecutar. La única _pega_ es que podemos haber hecho cambios posteriores a su ejecución, y esto no se indica de ninguna manera.\n",
    "\n",
    "\n",
    "Veamos un Ejemplo\n"
   ]
  },
  {
   "cell_type": "code",
   "execution_count": 1,
   "metadata": {},
   "outputs": [
    {
     "name": "stdout",
     "output_type": "stream",
     "text": [
      "Hola mundo\n"
     ]
    }
   ],
   "source": [
    "string = \"Hola mundo\"\n",
    "print(string)"
   ]
  },
  {
   "cell_type": "code",
   "execution_count": 2,
   "metadata": {},
   "outputs": [
    {
     "data": {
      "text/plain": [
       "('Hola mundo', 1234)"
      ]
     },
     "execution_count": 2,
     "metadata": {},
     "output_type": "execute_result"
    }
   ],
   "source": [
    "data = string, 1234\n",
    "data"
   ]
  },
  {
   "cell_type": "code",
   "execution_count": 3,
   "metadata": {},
   "outputs": [
    {
     "data": {
      "text/plain": [
       "'Hola mundo'"
      ]
     },
     "execution_count": 3,
     "metadata": {},
     "output_type": "execute_result"
    }
   ],
   "source": [
    "data[0]"
   ]
  },
  {
   "cell_type": "markdown",
   "metadata": {},
   "source": [
    "# Barra de herramientas\n",
    "\n",
    "En la Parte superior del notebook podéis encontrar la barra de herramientas. Cada uno de los botones ofrece acceso rápido a una funcionalidad diferente."
   ]
  },
  {
   "cell_type": "markdown",
   "metadata": {},
   "source": [
    "<div id=\"maintoolbar-container\" class=\"container toolbar\"><div class=\"btn-group\" id=\"save-notbook\"><button class=\"btn btn-default\" title=\"Save and Checkpoint\" data-jupyter-action=\"jupyter-notebook:save-notebook\"><i class=\"fa-save fa\"></i></button></div><div class=\"btn-group\" id=\"insert_above_below\"><button class=\"btn btn-default\" title=\"insert cell below\" data-jupyter-action=\"jupyter-notebook:insert-cell-below\"><i class=\"fa-plus fa\"></i></button></div><div class=\"btn-group\" id=\"cut_copy_paste\"><button class=\"btn btn-default\" title=\"cut selected cells\" data-jupyter-action=\"jupyter-notebook:cut-cell\"><i class=\"fa-cut fa\"></i></button><button class=\"btn btn-default\" title=\"copy selected cells\" data-jupyter-action=\"jupyter-notebook:copy-cell\"><i class=\"fa-copy fa\"></i></button><button class=\"btn btn-default\" title=\"paste cells below\" data-jupyter-action=\"jupyter-notebook:paste-cell-below\"><i class=\"fa-paste fa\"></i></button></div><div class=\"btn-group\" id=\"move_up_down\"><button class=\"btn btn-default\" title=\"move selected cells up\" data-jupyter-action=\"jupyter-notebook:move-cell-up\"><i class=\"fa-arrow-up fa\"></i></button><button class=\"btn btn-default\" title=\"move selected cells down\" data-jupyter-action=\"jupyter-notebook:move-cell-down\"><i class=\"fa-arrow-down fa\"></i></button></div><div class=\"btn-group\" id=\"run_int\"><button class=\"btn btn-default\" title=\"Run\" data-jupyter-action=\"jupyter-notebook:run-cell-and-select-next\"><i class=\"fa-step-forward fa\"></i><span class=\"toolbar-btn-label\">Run</span></button><button class=\"btn btn-default\" title=\"interrupt the kernel\" data-jupyter-action=\"jupyter-notebook:interrupt-kernel\"><i class=\"fa-stop fa\"></i></button><button class=\"btn btn-default\" title=\"restart the kernel (with dialog)\" data-jupyter-action=\"jupyter-notebook:confirm-restart-kernel\"><i class=\"fa-repeat fa\"></i></button><button class=\"btn btn-default\" title=\"restart the kernel, then re-run the whole notebook (with dialog)\" data-jupyter-action=\"jupyter-notebook:confirm-restart-kernel-and-run-all-cells\"><i class=\"fa-forward fa\"></i></button></div><select id=\"cell_type\" class=\"form-control select-xs\"><option value=\"code\">Code</option><option value=\"markdown\">Markdown</option><option value=\"raw\">Raw NBConvert</option><option value=\"heading\">Heading</option><option value=\"multiselect\" disabled=\"disabled\" style=\"display: none;\">-</option></select><div class=\"btn-group\"><button class=\"btn btn-default\" title=\"open the command palette\" data-jupyter-action=\"jupyter-notebook:show-command-palette\"><i class=\"fa-keyboard-o fa\"></i></button></div></div>"
   ]
  },
  {
   "cell_type": "markdown",
   "metadata": {},
   "source": [
    "* <button class=\"btn btn-default\" title=\"Save and Checkpoint\" data-jupyter-action=\"jupyter-notebook:save-notebook\"><i class=\"fa-save fa\"></i></button>  Guardar el notebook.\n",
    "\n",
    "* <button class=\"btn btn-default\" title=\"insert cell below\" data-jupyter-action=\"jupyter-notebook:insert-cell-below\"><i class=\"fa-plus fa\"></i></button> Añadir una celda nueva a continuación de la que se tiene seleccionada actualmente.\n",
    "\n",
    "* <button class=\"btn btn-default\" title=\"cut selected cells\" data-jupyter-action=\"jupyter-notebook:cut-cell\"><i class=\"fa-cut fa\"></i></button> Cortar celdas seleccionadas\n",
    "\n",
    "* <button class=\"btn btn-default\" title=\"copy selected cells\" data-jupyter-action=\"jupyter-notebook:copy-cell\"><i class=\"fa-copy fa\"></i></button> Copiar celdas seleccionadas\n",
    "\n",
    "* <button class=\"btn btn-default\" title=\"paste cells below\" data-jupyter-action=\"jupyter-notebook:paste-cell-below\"><i class=\"fa-paste fa\"></i></button> Pegar celdas a continuación de la celda seleccionada\n",
    "\n",
    "* <button class=\"btn btn-default\" title=\"move selected cells up\" data-jupyter-action=\"jupyter-notebook:move-cell-up\"><i class=\"fa-arrow-up fa\"></i></button> Desplazar celdas seleccionadas hacia arriba\n",
    "\n",
    "* <button class=\"btn btn-default\" title=\"move selected cells down\" data-jupyter-action=\"jupyter-notebook:move-cell-down\"><i class=\"fa-arrow-down fa\"></i></button> Desplazar celdas seleccionadas hacia abajo\n",
    "\n",
    "* <button class=\"btn btn-default\" title=\"Run\" data-jupyter-action=\"jupyter-notebook:run-cell-and-select-next\"><i class=\"fa-step-forward fa\"></i><span class=\"toolbar-btn-label\">Run</span></button> Ejecuta la celda seleccionada\n",
    "\n",
    "* <button class=\"btn btn-default\" title=\"interrupt the kernel\" data-jupyter-action=\"jupyter-notebook:interrupt-kernel\"><i class=\"fa-stop fa\"></i></button> Interrumpe la ejecución de código\n",
    "\n",
    "* <button class=\"btn btn-default\" title=\"restart the kernel (with dialog)\" data-jupyter-action=\"jupyter-notebook:confirm-restart-kernel\"><i class=\"fa-repeat fa\"></i></button> Reinicia el kernel del intérprete de código\n",
    "\n",
    "* <button class=\"btn btn-default\" title=\"restart the kernel, then re-run the whole notebook (with dialog)\" data-jupyter-action=\"jupyter-notebook:confirm-restart-kernel-and-run-all-cells\"><i class=\"fa-forward fa\"></i></button> Reinicia el kernel y ejecuta todas las celdas en orden\n",
    "\n",
    "\n",
    "\n",
    "* <select id=\"cell_type\" class=\"form-control select-xs\" style=\"width: 8em;\"><option value=\"code\">Code</option><option value=\"markdown\">Markdown</option><option value=\"raw\">Raw NBConvert</option><option value=\"heading\">Heading</option><option value=\"multiselect\" disabled=\"disabled\" style=\"display: none; width: 6em;\">-</option></select> \n",
    "\n",
    "Selecciona el tipo de celda"
   ]
  },
  {
   "cell_type": "markdown",
   "metadata": {},
   "source": [
    "### Atajos de teclado\n",
    "\n",
    "\n",
    "Todos los atajos de teclado disponibles están en el botón <img  src='https://imgur.com/Jc0uZWC.png'>\n",
    "\n",
    "\n",
    "Además, existen múltiples atajos de teclado para llevar a cabo las funciones más comunes. Se puede acceder a la lista completa de atajos en la pestaña `help` del menú superior, pero a continuación expondremos algunos de los más útiles.\n",
    "\n",
    "- `Shift + Enter`: Ejecutar celda.\n",
    "- `Alt + Enter`: Ejecutar celda y añadir una celda vacia a continuación de la celda actual.\n",
    "- `Esc`(en modo edición): Pasar a modo comando\n",
    "- `m`(en modo comando): Convertir la celda a tipo Markdown.\n",
    "- `y`(en modo comando): Convertir la celda a tipo código.\n",
    "- `Enter`(en modo comando): Pasar a modo edición."
   ]
  },
  {
   "cell_type": "markdown",
   "metadata": {},
   "source": [
    "## Escribiendo código\n",
    "\n",
    "Es importante, a la par que evidente, tener instalados los paquetes de Python que queramos utilizar. Una vez hecho, podemos importarlos al cuaderno. Para los ejemplos utilizados en este tutorial, será necesario instalar los paquetes matplotlib, numpy y emoji. Recuerdo que la instalación de los mismos se hace igual que instalamos jupyter al principio del tutorial, es decir:\n",
    "\n",
    "    pip3 install matplotlib\n",
    "                    \n",
    "Podemos escribir cualquier tipo de algoritmo, como podría ser una búsqueda binaria:     "
   ]
  },
  {
   "cell_type": "code",
   "execution_count": 4,
   "metadata": {},
   "outputs": [],
   "source": [
    "#!pip3 install matplotlib"
   ]
  },
  {
   "cell_type": "markdown",
   "metadata": {},
   "source": [
    "# Probemos con un código sencillo"
   ]
  },
  {
   "cell_type": "code",
   "execution_count": 5,
   "metadata": {},
   "outputs": [],
   "source": [
    "%matplotlib inline\n",
    "import numpy as np\n",
    "import matplotlib.pyplot as plt\n",
    "\n",
    "plt.rcParams['figure.figsize'] = (20,8)\n",
    "plt.style.use('ggplot')"
   ]
  },
  {
   "cell_type": "code",
   "execution_count": 6,
   "metadata": {},
   "outputs": [],
   "source": [
    "# !pip install matplotlib podemos instalar el paquete para grafica"
   ]
  },
  {
   "cell_type": "code",
   "execution_count": 7,
   "metadata": {},
   "outputs": [],
   "source": [
    "x = np.linspace(-np.pi, np.pi, 100)\n",
    "y1 = np.sin(x)\n",
    "y2 = np.cos(x)"
   ]
  },
  {
   "cell_type": "markdown",
   "metadata": {},
   "source": [
    "# Todo se queda en memoria\n",
    "\n",
    "mientras no se reinicie el kernel\n"
   ]
  },
  {
   "cell_type": "code",
   "execution_count": 8,
   "metadata": {},
   "outputs": [
    {
     "data": {
      "image/png": "[encoded data removed]",
      "text/plain": [
       "<Figure size 1440x576 with 1 Axes>"
      ]
     },
     "metadata": {},
     "output_type": "display_data"
    }
   ],
   "source": [
    "plt.plot(x, y1, label='sen(x)')\n",
    "plt.plot(x, y2, label='cos(x)')\n",
    "plt.title('Funciones de ejemplo')\n",
    "plt.xlabel('x')\n",
    "plt.ylabel('f(x)')\n",
    "plt.legend()\n",
    "plt.show()"
   ]
  },
  {
   "cell_type": "code",
   "execution_count": 9,
   "metadata": {},
   "outputs": [],
   "source": [
    "def busqueda_binaria(array, valor):\n",
    "    ary = array\n",
    "    a = 0\n",
    "    b = len(array)\n",
    "    \n",
    "    while a < b:\n",
    "        m = (a + b) // 2\n",
    "\n",
    "        if array[m] == valor:\n",
    "            return m\n",
    "        elif array[m] < valor:\n",
    "            a = m + 1\n",
    "        else:\n",
    "            b = m\n",
    "            \n",
    "    return None\n",
    "\n",
    "x1 = [0,1,2,3,4,5,6,7]\n",
    "x2 = [1,4,8,12,41]\n",
    "x3 = [0,1,2,4,8,16,32]"
   ]
  },
  {
   "cell_type": "code",
   "execution_count": 10,
   "metadata": {},
   "outputs": [
    {
     "data": {
      "text/plain": [
       "5"
      ]
     },
     "execution_count": 10,
     "metadata": {},
     "output_type": "execute_result"
    }
   ],
   "source": [
    "busqueda_binaria(x3,16)"
   ]
  },
  {
   "cell_type": "markdown",
   "metadata": {},
   "source": [
    "# Celdas de markdown\n",
    "\n",
    "Una de las mayores ventajas de Jupyter es la capacidad de escribir Markdown en las celdas para añadir explicaciones y comentarios a las celdas de código, pero también ecuaciones en latex y mucho más. Esto es una herramienta muy potente para explicar a alguien o a ti mismo lo que tu código hace, para hacer un informe, un trabajo, escribir en un blog...\n",
    "\n",
    "Markdown es un lenguaje aparte, no te preocupes por él demasiado ahora, irás aprendiendo sobre la marcha... Para cuando lo vayas necesitando, aquí tienes una [chuleta](https://github.com/adam-p/markdown-here/wiki/Markdown-Cheatsheet).\n"
   ]
  },
  {
   "cell_type": "markdown",
   "metadata": {},
   "source": [
    "<h1>Titulo</h1>\n",
    "\n",
    "* lista1\n",
    "\n",
    "* lista2\n",
    "\n",
    "`èsto es una pieza de código`\n",
    "\n",
    "```python\n",
    "\n",
    "def fn():\n",
    "    #esto es una funcion\n",
    "    pass\n",
    "```"
   ]
  },
  {
   "cell_type": "markdown",
   "metadata": {},
   "source": [
    "# Notación Matemática"
   ]
  },
  {
   "cell_type": "markdown",
   "metadata": {},
   "source": [
    "### LaTeX\n",
    "Para mostrar código $\\LaTeX$ en nuestro cuaderno, simplemente tenemos que escribir entre dólares (simples o dobles, según queramos), y marcar la celda como texto plano (Markdown).\n",
    "\n",
    "<img src='https://imgur.com/05KXWTj.png'>"
   ]
  },
  {
   "cell_type": "markdown",
   "metadata": {},
   "source": [
    "# Algunas ecuaciones\n",
    "\n",
    "\n",
    "```\n",
    "Podemos escribr cosas tanto en linea como $\\forall x \\in X, \\quad \\exists y \\leq \\epsilon$ que es muy práctico para calculo 1. Igualmente, se pueden escribir cosas como $\\cos (2\\theta) = \\cos^2 \\theta - \\sin^2 \\theta$ que es útil en trigonometría. O tambien podemos escribir\n",
    "$$\n",
    "\\frac{n!}{k!(n-k)!} = \\binom{n}{k},\n",
    "$$\n",
    "\n",
    "$$\n",
    "P\\left(A=2\\middle|\\frac{A^2}{B}>4\\right) = \\int_0^\\infty \\mathrm{e}^{-x}\\,\\mathrm{d}x\n",
    "$$\n",
    "\n",
    "```"
   ]
  },
  {
   "cell_type": "markdown",
   "metadata": {},
   "source": [
    "Podemos escribr cosas tanto en linea como $\\forall x \\in X, \\quad \\exists y \\leq \\epsilon$\n",
    "que es muy práctico para calculo 1. \n",
    "\n",
    "\n",
    "Igualmente se pueden escribir cosas como $\\cos (2\\theta) = \\cos^2 \\theta - \\sin^2 \\theta$ que\n",
    "es útil en trigonometría. O tambien podemos escribir\n",
    "\n",
    "\n",
    "$$\n",
    "\\frac{n!}{k!(n-k)!} = \\binom{n}{k},\n",
    "$$\n",
    "\n",
    "$$\n",
    "P\\left(A=2\\middle|\\frac{A^2}{B}>4\\right) = \\int_0^\\infty \\mathrm{e}^{-x}\\,\\mathrm{d}x\n",
    "$$"
   ]
  },
  {
   "cell_type": "markdown",
   "metadata": {},
   "source": [
    "# Cuadros\n",
    "\n",
    "- Debe haber al menos trés lineas para marcar una separación\n",
    "- Los delimitadores externos son opcionales\n",
    "\n",
    "```\n",
    "| Col 1         | Col 2         | Col 3  |\n",
    "| ------------- |:-------------:| ------:|\n",
    "| Esta          | Esta          | \\$1600 |\n",
    "| columna       | se encuentra  |   \\$12 |\n",
    "| a la derecha  | centrada      |    \\$1 |\n",
    "\n",
    "\n",
    "Markdown | bien | feo\n",
    "---|---|---\n",
    "*No se ve muy bien* | ~el código~ | **pero genera un cuadro decente**\n",
    "1 | 2 | 3\n",
    "```"
   ]
  },
  {
   "cell_type": "markdown",
   "metadata": {},
   "source": [
    "| Col 1         | Col 2         | Col 3  |\n",
    "| ------------- |:-------------:| ------:|\n",
    "| Esta          | Esta          | \\$1600 |\n",
    "| columna       | se encuentra  |   \\$12 |\n",
    "| a la derecha  | centrada      |    \\$1 |\n",
    "\n",
    "\n",
    "\n",
    "Markdown | bien | feo\n",
    "---|---|---\n",
    "*No se ve muy bien* | ~el código~ | **pero genera un cuadro decente**\n",
    "1 | 2 | 3"
   ]
  },
  {
   "cell_type": "markdown",
   "metadata": {},
   "source": [
    "# Comandos mágicos\n",
    "\n",
    "Existen diferentes tipos de comando mágicos en Jupyter. Los que empiezan por `%` se aplican solo a una linea de código, y los que empiezan por `%%` se aplican a la celda completa. \n",
    "\n",
    "Para más información sobre los comandos mágicos haz click [aquí](https://ipython.readthedocs.io/en/stable/interactive/magics.html)."
   ]
  },
  {
   "cell_type": "code",
   "execution_count": 11,
   "metadata": {},
   "outputs": [
    {
     "name": "stdout",
     "output_type": "stream",
     "text": [
      "CPU times: user 65 µs, sys: 19 µs, total: 84 µs\n",
      "Wall time: 88.7 µs\n"
     ]
    }
   ],
   "source": [
    "%%time\n",
    "var = [1+i for i in range(1000)]"
   ]
  },
  {
   "cell_type": "code",
   "execution_count": 12,
   "metadata": {},
   "outputs": [
    {
     "name": "stdout",
     "output_type": "stream",
     "text": [
      "87.3 µs ± 14.9 µs per loop (mean ± std. dev. of 7 runs, 100 loops each)\n"
     ]
    }
   ],
   "source": [
    "%timeit -n 100 var = [1+i for i in range(1000)]"
   ]
  },
  {
   "cell_type": "markdown",
   "metadata": {},
   "source": [
    "# Tambien existe la biblioteca de Ipython"
   ]
  },
  {
   "cell_type": "code",
   "execution_count": 13,
   "metadata": {},
   "outputs": [
    {
     "data": {
      "image/jpeg": "[encoded data removed]",
      "text/html": [
       "\n",
       "        <iframe\n",
       "            width=\"400\"\n",
       "            height=\"300\"\n",
       "            src=\"https://www.youtube.com/embed/HW29067qVWk\"\n",
       "            frameborder=\"0\"\n",
       "            allowfullscreen\n",
       "            \n",
       "        ></iframe>\n",
       "        "
      ],
      "text/plain": [
       "<IPython.lib.display.YouTubeVideo at 0x7fc73c6a9a90>"
      ]
     },
     "execution_count": 13,
     "metadata": {},
     "output_type": "execute_result"
    }
   ],
   "source": [
    "from IPython.display import YouTubeVideo\n",
    "# a talk about IPython at Sage Days at U. Washington, Seattle.\n",
    "# Video credit: William Stein.\n",
    "YouTubeVideo('HW29067qVWk')\n",
    "#https://www.youtube.com/watch?v=HW29067qVWk"
   ]
  },
  {
   "cell_type": "markdown",
   "metadata": {},
   "source": [
    "## Interacción con Widges\n",
    "\n",
    "### ¿Qué son los widgets?\n",
    "\n",
    "Los *widgets* son objetos de python llenos de acciones que tienen una representación en el navegador, a menudo como un control como un control deslizante, un cuadro de texto, etc.\n",
    "\n",
    "\n",
    "## ¿Para qué se pueden usar?\n",
    "Puede usar widgets para construir **GUIs interactivas** para sus computadoras portátiles.\n",
    "También puede usar widgets para **sincronizar información con estado y sin estado** entre Python y JavaScript.\n",
    "\n",
    "## Usando widgets\n",
    "\n",
    "Para usar el framework de widgets, debe importar `ipywidgets`."
   ]
  },
  {
   "cell_type": "code",
   "execution_count": 14,
   "metadata": {},
   "outputs": [],
   "source": [
    "import ipywidgets as widgets"
   ]
  },
  {
   "cell_type": "markdown",
   "metadata": {},
   "source": [
    "\n",
    "Los widgets tienen su propia reproducción de pantalla que les permite mostrarse utilizando el marco de visualización de IPython. La construcción y devolución de un IntSlider muestra automáticamente el widget (como se ve a continuación). Los widgets se muestran dentro del área de salida debajo de la celda de código. Borrar la salida de la celda también eliminará el widget."
   ]
  },
  {
   "cell_type": "code",
   "execution_count": 15,
   "metadata": {},
   "outputs": [
    {
     "data": {
      "application/vnd.jupyter.widget-view+json": {
       "model_id": "c31af9aaa2034191b31fe154aa63988e",
       "version_major": 2,
       "version_minor": 0
      },
      "text/plain": [
       "IntSlider(value=0)"
      ]
     },
     "metadata": {},
     "output_type": "display_data"
    }
   ],
   "source": [
    "widgets.IntSlider()"
   ]
  },
  {
   "cell_type": "markdown",
   "metadata": {},
   "source": [
    "**display()**\n",
    "\n",
    "También puede mostrar explícitamente el widget usando display (...)."
   ]
  },
  {
   "cell_type": "code",
   "execution_count": 16,
   "metadata": {},
   "outputs": [
    {
     "data": {
      "application/vnd.jupyter.widget-view+json": {
       "model_id": "",
       "version_major": 2,
       "version_minor": 0
      },
      "text/plain": [
       "IntSlider(value=0)"
      ]
     },
     "metadata": {},
     "output_type": "display_data"
    }
   ],
   "source": [
    "from IPython.display import display\n",
    "w = widgets.IntSlider()\n",
    "display(w)"
   ]
  },
  {
   "cell_type": "markdown",
   "metadata": {},
   "source": [
    "### Multiple display() calls\n",
    "\n",
    "Si muestra el mismo widget dos veces, las instancias mostradas en el front-end permanecerán sincronizadas entre sí. Intenta arrastrar el control deslizante de abajo y mira el control deslizante de arriba."
   ]
  },
  {
   "cell_type": "code",
   "execution_count": 38,
   "metadata": {},
   "outputs": [
    {
     "data": {
      "application/vnd.jupyter.widget-view+json": {
       "model_id": "177811b7153c4c28b7100979ef506573",
       "version_major": 2,
       "version_minor": 0
      },
      "text/plain": [
       "IntSlider(value=100)"
      ]
     },
     "metadata": {},
     "output_type": "display_data"
    }
   ],
   "source": [
    "display(w)"
   ]
  },
  {
   "cell_type": "markdown",
   "metadata": {},
   "source": [
    "usamos el método close para cerrar."
   ]
  },
  {
   "cell_type": "code",
   "execution_count": 39,
   "metadata": {},
   "outputs": [
    {
     "data": {
      "application/vnd.jupyter.widget-view+json": {
       "model_id": "177811b7153c4c28b7100979ef506573",
       "version_major": 2,
       "version_minor": 0
      },
      "text/plain": [
       "IntSlider(value=100)"
      ]
     },
     "metadata": {},
     "output_type": "display_data"
    }
   ],
   "source": [
    "display(w)"
   ]
  },
  {
   "cell_type": "code",
   "execution_count": 19,
   "metadata": {},
   "outputs": [],
   "source": [
    "w.close()"
   ]
  },
  {
   "cell_type": "markdown",
   "metadata": {},
   "source": [
    "### Propiedades\n",
    "\n",
    "Todos los widgets de IPython comparten un esquema de nombres similar. Para leer el valor de un widget, puede consultar su propiedad de valor."
   ]
  },
  {
   "cell_type": "code",
   "execution_count": 40,
   "metadata": {},
   "outputs": [
    {
     "data": {
      "application/vnd.jupyter.widget-view+json": {
       "model_id": "46e677bc3629487c85aebfb14c431cb9",
       "version_major": 2,
       "version_minor": 0
      },
      "text/plain": [
       "IntSlider(value=0)"
      ]
     },
     "metadata": {},
     "output_type": "display_data"
    }
   ],
   "source": [
    "w = widgets.IntSlider()\n",
    "display(w)"
   ]
  },
  {
   "cell_type": "code",
   "execution_count": 21,
   "metadata": {},
   "outputs": [
    {
     "data": {
      "text/plain": [
       "0"
      ]
     },
     "execution_count": 21,
     "metadata": {},
     "output_type": "execute_result"
    }
   ],
   "source": [
    "w.value"
   ]
  },
  {
   "cell_type": "code",
   "execution_count": 22,
   "metadata": {},
   "outputs": [],
   "source": [
    "w.value = 100"
   ]
  },
  {
   "cell_type": "markdown",
   "metadata": {},
   "source": [
    "### Key\n",
    "\n",
    "Además del valor, la mayoría de los widgets comparten claves (key), descripción y están deshabilitados. Para ver la lista completa de propiedades sincronizadas y con estado de cualquier widget específico, puede consultar la propiedad key."
   ]
  },
  {
   "cell_type": "code",
   "execution_count": 23,
   "metadata": {},
   "outputs": [
    {
     "data": {
      "text/plain": [
       "['_dom_classes',\n",
       " '_model_module',\n",
       " '_model_module_version',\n",
       " '_model_name',\n",
       " '_view_count',\n",
       " '_view_module',\n",
       " '_view_module_version',\n",
       " '_view_name',\n",
       " 'continuous_update',\n",
       " 'description',\n",
       " 'description_tooltip',\n",
       " 'disabled',\n",
       " 'layout',\n",
       " 'max',\n",
       " 'min',\n",
       " 'orientation',\n",
       " 'readout',\n",
       " 'readout_format',\n",
       " 'step',\n",
       " 'style',\n",
       " 'value']"
      ]
     },
     "execution_count": 23,
     "metadata": {},
     "output_type": "execute_result"
    }
   ],
   "source": [
    "w.keys"
   ]
  },
  {
   "cell_type": "code",
   "execution_count": 24,
   "metadata": {},
   "outputs": [
    {
     "data": {
      "application/vnd.jupyter.widget-view+json": {
       "model_id": "f4c11298c8fa4920be27fa19085a2867",
       "version_major": 2,
       "version_minor": 0
      },
      "text/plain": [
       "FloatText(value=0.0)"
      ]
     },
     "metadata": {},
     "output_type": "display_data"
    },
    {
     "data": {
      "application/vnd.jupyter.widget-view+json": {
       "model_id": "f9ad022535a0412a8a758050dafd670e",
       "version_major": 2,
       "version_minor": 0
      },
      "text/plain": [
       "FloatSlider(value=0.0)"
      ]
     },
     "metadata": {},
     "output_type": "display_data"
    }
   ],
   "source": [
    "a = widgets.FloatText()\n",
    "b = widgets.FloatSlider()\n",
    "display(a,b)\n",
    "\n",
    "mylink = widgets.jslink((a, 'value'), (b, 'value'))"
   ]
  },
  {
   "cell_type": "markdown",
   "metadata": {},
   "source": [
    "### Abreviatura para establecer los valores iniciales de las propiedades del widget\n",
    "\n",
    "\n",
    "Al crear un widget, puede establecer algunos o todos los valores iniciales de ese widget definiéndolos como argumentos de palabras clave en el constructor del widget (como se ve a continuación).\n"
   ]
  },
  {
   "cell_type": "code",
   "execution_count": 25,
   "metadata": {},
   "outputs": [
    {
     "data": {
      "application/vnd.jupyter.widget-view+json": {
       "model_id": "5c34abcf790e4f3d89369cbe0a76ac8d",
       "version_major": 2,
       "version_minor": 0
      },
      "text/plain": [
       "Text(value='Hello World!', disabled=True)"
      ]
     },
     "metadata": {},
     "output_type": "display_data"
    }
   ],
   "source": [
    "texto = widgets.Text(value='Hello World!', disabled=True)\n",
    "texto"
   ]
  },
  {
   "cell_type": "code",
   "execution_count": 26,
   "metadata": {},
   "outputs": [
    {
     "data": {
      "text/plain": [
       "'Hello World!'"
      ]
     },
     "execution_count": 26,
     "metadata": {},
     "output_type": "execute_result"
    }
   ],
   "source": [
    "texto.value"
   ]
  },
  {
   "cell_type": "markdown",
   "metadata": {},
   "source": [
    "## Más Combinaciones"
   ]
  },
  {
   "cell_type": "code",
   "execution_count": 27,
   "metadata": {},
   "outputs": [
    {
     "data": {
      "application/vnd.jupyter.widget-view+json": {
       "model_id": "9d5c942849b54cb1adadeefb5ee0cda8",
       "version_major": 2,
       "version_minor": 0
      },
      "text/plain": [
       "Text(value='My Text', description='Title')"
      ]
     },
     "metadata": {},
     "output_type": "display_data"
    }
   ],
   "source": [
    "# defining some widgets\n",
    "text = widgets.Text(\n",
    "       value='My Text',\n",
    "       description='Title', )\n",
    "text"
   ]
  },
  {
   "cell_type": "code",
   "execution_count": 28,
   "metadata": {},
   "outputs": [
    {
     "data": {
      "application/vnd.jupyter.widget-view+json": {
       "model_id": "87c1a88d693f4352a621614bf6f87e09",
       "version_major": 2,
       "version_minor": 0
      },
      "text/plain": [
       "DatePicker(value=None, description='In')"
      ]
     },
     "metadata": {},
     "output_type": "display_data"
    }
   ],
   "source": [
    "calendar1 = widgets.DatePicker(\n",
    "           description='In')\n",
    "calendar1"
   ]
  },
  {
   "cell_type": "code",
   "execution_count": 29,
   "metadata": {},
   "outputs": [],
   "source": [
    "calendar1.value"
   ]
  },
  {
   "cell_type": "code",
   "execution_count": 30,
   "metadata": {},
   "outputs": [
    {
     "data": {
      "application/vnd.jupyter.widget-view+json": {
       "model_id": "1dd66a578c8942fdb0c1829390c33041",
       "version_major": 2,
       "version_minor": 0
      },
      "text/plain": [
       "DatePicker(value=None, description='Out')"
      ]
     },
     "metadata": {},
     "output_type": "display_data"
    }
   ],
   "source": [
    "calendar2 = widgets.DatePicker(\n",
    "           description='Out')\n",
    "calendar2"
   ]
  },
  {
   "cell_type": "code",
   "execution_count": 31,
   "metadata": {},
   "outputs": [],
   "source": [
    "calendar2.value"
   ]
  },
  {
   "cell_type": "code",
   "execution_count": 32,
   "metadata": {},
   "outputs": [
    {
     "data": {
      "application/vnd.jupyter.widget-view+json": {
       "model_id": "ab5a05e09c92466a901ad5635ce0d832",
       "version_major": 2,
       "version_minor": 0
      },
      "text/plain": [
       "FloatSlider(value=1.0, max=10.0)"
      ]
     },
     "metadata": {},
     "output_type": "display_data"
    }
   ],
   "source": [
    "slider = widgets.FloatSlider(\n",
    "         value=1,\n",
    "         min=0,\n",
    "         max=10.0,\n",
    "         step=0.1,)\n",
    "slider"
   ]
  },
  {
   "cell_type": "code",
   "execution_count": 33,
   "metadata": {},
   "outputs": [
    {
     "data": {
      "application/vnd.jupyter.widget-view+json": {
       "model_id": "b7dad20ca09944ba8039a864b029cea2",
       "version_major": 2,
       "version_minor": 0
      },
      "text/plain": [
       "Dropdown(description='Color:', options=('red', 'blue', 'green'), value='red')"
      ]
     },
     "metadata": {},
     "output_type": "display_data"
    }
   ],
   "source": [
    "menu = widgets.Dropdown(\n",
    "       options=['red', 'blue', 'green'],\n",
    "       value='red',\n",
    "       description='Color:')\n",
    "menu"
   ]
  },
  {
   "cell_type": "code",
   "execution_count": 34,
   "metadata": {},
   "outputs": [
    {
     "data": {
      "application/vnd.jupyter.widget-view+json": {
       "model_id": "93e279361d22497c8efad1bf34b62cd3",
       "version_major": 2,
       "version_minor": 0
      },
      "text/plain": [
       "Checkbox(value=False, description='Check to invert')"
      ]
     },
     "metadata": {},
     "output_type": "display_data"
    }
   ],
   "source": [
    "checkbox = widgets.Checkbox(\n",
    "           description='Check to invert',)\n",
    "checkbox"
   ]
  },
  {
   "cell_type": "code",
   "execution_count": 35,
   "metadata": {},
   "outputs": [
    {
     "data": {
      "application/vnd.jupyter.widget-view+json": {
       "model_id": "eb74611ec3a648c6ae91e3711293b92c",
       "version_major": 2,
       "version_minor": 0
      },
      "text/plain": [
       "VBox(children=(Text(value='My Text', description='Title'), FloatSlider(value=1.0, max=10.0), Dropdown(descript…"
      ]
     },
     "metadata": {},
     "output_type": "display_data"
    }
   ],
   "source": [
    "box = widgets.VBox([text, slider, menu, calendar1, calendar2,checkbox ])\n",
    "box"
   ]
  },
  {
   "cell_type": "code",
   "execution_count": 36,
   "metadata": {},
   "outputs": [
    {
     "name": "stdout",
     "output_type": "stream",
     "text": [
      "My Text\n",
      "1.0\n",
      "red\n",
      "None\n",
      "None\n",
      "False\n"
     ]
    }
   ],
   "source": [
    "print(text.value)\n",
    "print(slider.value)\n",
    "print(menu.value)\n",
    "print(calendar1.value)\n",
    "print(calendar2.value)\n",
    "print(checkbox.value)"
   ]
  },
  {
   "cell_type": "code",
   "execution_count": 37,
   "metadata": {},
   "outputs": [
    {
     "data": {
      "text/html": [
       "<script>jQuery(function() {if (jQuery(\"body.notebook_app\").length == 0) { jQuery(\".input_area\").toggle(); jQuery(\".prompt\").toggle();}});</script>"
      ]
     },
     "metadata": {},
     "output_type": "display_data"
    },
    {
     "data": {
      "text/html": [
       "<button onclick=\"jQuery('.input_area').toggle(); jQuery('.prompt').toggle();\">Toggle code</button>"
      ]
     },
     "metadata": {},
     "output_type": "display_data"
    }
   ],
   "source": [
    "from IPython.display import display\n",
    "from IPython.display import HTML\n",
    "import IPython.core.display as di # Example: di.display_html('<h3>%s:</h3>' % str, raw=True)\n",
    "\n",
    "# This line will hide code by default when the notebook is exported as HTML\n",
    "di.display_html('<script>jQuery(function() {if (jQuery(\"body.notebook_app\").length == 0) { jQuery(\".input_area\").toggle(); jQuery(\".prompt\").toggle();}});</script>', raw=True)\n",
    "\n",
    "# This line will add a button to toggle visibility of code blocks, for use with the HTML export version\n",
    "di.display_html('''<button onclick=\"jQuery('.input_area').toggle(); jQuery('.prompt').toggle();\">Toggle code</button>''', raw=True)\n",
    "\n",
    "##---------------------------------------------------------------------------------------------------------------------\n"
   ]
  },
  {
   "cell_type": "code",
   "execution_count": null,
   "metadata": {},
   "outputs": [],
   "source": []
  },
  {
   "cell_type": "code",
   "execution_count": null,
   "metadata": {},
   "outputs": [],
   "source": []
  }
 ],
 "metadata": {
  "kernelspec": {
   "display_name": "Python 3 (ipykernel)",
   "language": "python",
   "name": "python3"
  },
  "language_info": {
   "codemirror_mode": {
    "name": "ipython",
    "version": 3
   },
   "file_extension": ".py",
   "mimetype": "text/x-python",
   "name": "python",
   "nbconvert_exporter": "python",
   "pygments_lexer": "ipython3",
   "version": "3.8.0"
  }
 },
 "nbformat": 4,
 "nbformat_minor": 4
}
